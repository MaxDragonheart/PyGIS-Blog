{
 "cells": [
  {
   "cell_type": "markdown",
   "source": [
    "Un po' di tempo fa ho effettuato un'analisi finalizzata a stimare il [potenziale fotovoltaico](https://massimilianomoraca.it/blog/gis/fotovoltaico-e-gis-come-individuare-lutilizzabilita-di-un-tetto/) di un tetto usando QGIS. Con questo articolo voglio ripercorrere lo stesso flusso di lavoro usando però Python!"
   ],
   "metadata": {
    "collapsed": false
   }
  },
  {
   "cell_type": "markdown",
   "source": [
    "## Prima di iniziare"
   ],
   "metadata": {
    "collapsed": false
   }
  },
  {
   "cell_type": "markdown",
   "source": [
    "\n",
    "### Librerie\n",
    "Per raggiungere l'obiettivo userò le librerie che seguono:"
   ],
   "metadata": {
    "collapsed": false
   }
  },
  {
   "cell_type": "code",
   "execution_count": 1,
   "outputs": [],
   "source": [
    "from pathlib import Path\n",
    "import geopandas as gpd\n",
    "import rioxarray as rxr\n",
    "import contextily as cx\n",
    "import matplotlib.pyplot as plt\n",
    "from xrspatial.aspect import aspect\n",
    "from xrspatial.slope import slope\n",
    "\n",
    "import warnings\n",
    "warnings.filterwarnings('ignore')\n",
    "warnings.simplefilter('ignore')"
   ],
   "metadata": {
    "collapsed": false,
    "ExecuteTime": {
     "end_time": "2023-08-19T12:04:02.290876674Z",
     "start_time": "2023-08-19T12:04:00.869528905Z"
    }
   }
  },
  {
   "cell_type": "markdown",
   "source": [
    "### Fonti dati"
   ],
   "metadata": {
    "collapsed": false
   }
  },
  {
   "cell_type": "code",
   "execution_count": 2,
   "outputs": [],
   "source": [
    "sample_data = Path.cwd().parent.parent.joinpath('sample_data/photovoltaic_potential_analysis')\n",
    "dsm = sample_data.joinpath('dsm.tif')\n",
    "buildings = sample_data.joinpath('buildings_footprint.shp')"
   ],
   "metadata": {
    "collapsed": false,
    "ExecuteTime": {
     "end_time": "2023-08-19T12:04:02.339461430Z",
     "start_time": "2023-08-19T12:04:02.294714512Z"
    }
   }
  },
  {
   "cell_type": "markdown",
   "source": [
    "## Contenuti\n",
    "- [1. Lettura dei dati](#1.-Lettura-dei-dati)\n",
    "- [2. Analisi dell'inclinazione dei tetti](#2.-Analisi-dell-inclinazione-dei-tetti)\n",
    "- [3. Analisi dell'orientamento dei tetti](#3.-Analisi-dell'orientamento-dei-tetti)\n",
    "- [4. Produzione energetica stimata](#4.-Produzione-energetica-stimata)\n",
    "- [Conclusione](#Conclusione)"
   ],
   "metadata": {
    "collapsed": false
   }
  },
  {
   "cell_type": "markdown",
   "source": [
    "# 1. Lettura dei dati"
   ],
   "metadata": {
    "collapsed": false
   }
  },
  {
   "cell_type": "code",
   "execution_count": 3,
   "outputs": [
    {
     "ename": "RasterioIOError",
     "evalue": "/media/max/Windows11/DEV/MIO/sample_data/photovoltaic_potential_analysis/dsm.tif: No such file or directory",
     "output_type": "error",
     "traceback": [
      "\u001B[0;31m---------------------------------------------------------------------------\u001B[0m",
      "\u001B[0;31mKeyError\u001B[0m                                  Traceback (most recent call last)",
      "File \u001B[0;32m~/.cache/pypoetry/virtualenvs/pygis_blog-iPs2SW5R-py3.10/lib/python3.10/site-packages/xarray/backends/file_manager.py:211\u001B[0m, in \u001B[0;36mCachingFileManager._acquire_with_cache_info\u001B[0;34m(self, needs_lock)\u001B[0m\n\u001B[1;32m    210\u001B[0m \u001B[38;5;28;01mtry\u001B[39;00m:\n\u001B[0;32m--> 211\u001B[0m     file \u001B[38;5;241m=\u001B[39m \u001B[38;5;28;43mself\u001B[39;49m\u001B[38;5;241;43m.\u001B[39;49m\u001B[43m_cache\u001B[49m\u001B[43m[\u001B[49m\u001B[38;5;28;43mself\u001B[39;49m\u001B[38;5;241;43m.\u001B[39;49m\u001B[43m_key\u001B[49m\u001B[43m]\u001B[49m\n\u001B[1;32m    212\u001B[0m \u001B[38;5;28;01mexcept\u001B[39;00m \u001B[38;5;167;01mKeyError\u001B[39;00m:\n",
      "File \u001B[0;32m~/.cache/pypoetry/virtualenvs/pygis_blog-iPs2SW5R-py3.10/lib/python3.10/site-packages/xarray/backends/lru_cache.py:56\u001B[0m, in \u001B[0;36mLRUCache.__getitem__\u001B[0;34m(self, key)\u001B[0m\n\u001B[1;32m     55\u001B[0m \u001B[38;5;28;01mwith\u001B[39;00m \u001B[38;5;28mself\u001B[39m\u001B[38;5;241m.\u001B[39m_lock:\n\u001B[0;32m---> 56\u001B[0m     value \u001B[38;5;241m=\u001B[39m \u001B[38;5;28;43mself\u001B[39;49m\u001B[38;5;241;43m.\u001B[39;49m\u001B[43m_cache\u001B[49m\u001B[43m[\u001B[49m\u001B[43mkey\u001B[49m\u001B[43m]\u001B[49m\n\u001B[1;32m     57\u001B[0m     \u001B[38;5;28mself\u001B[39m\u001B[38;5;241m.\u001B[39m_cache\u001B[38;5;241m.\u001B[39mmove_to_end(key)\n",
      "\u001B[0;31mKeyError\u001B[0m: [<function open at 0x7fdc9b6adcf0>, (PosixPath('/media/max/Windows11/DEV/MIO/sample_data/photovoltaic_potential_analysis/dsm.tif'),), 'r', (('sharing', False),), '71b62f32-0b28-4b61-8cfc-7b2079e9dd73']",
      "\nDuring handling of the above exception, another exception occurred:\n",
      "\u001B[0;31mCPLE_OpenFailedError\u001B[0m                      Traceback (most recent call last)",
      "File \u001B[0;32mrasterio/_base.pyx:310\u001B[0m, in \u001B[0;36mrasterio._base.DatasetBase.__init__\u001B[0;34m()\u001B[0m\n",
      "File \u001B[0;32mrasterio/_base.pyx:221\u001B[0m, in \u001B[0;36mrasterio._base.open_dataset\u001B[0;34m()\u001B[0m\n",
      "File \u001B[0;32mrasterio/_err.pyx:221\u001B[0m, in \u001B[0;36mrasterio._err.exc_wrap_pointer\u001B[0;34m()\u001B[0m\n",
      "\u001B[0;31mCPLE_OpenFailedError\u001B[0m: /media/max/Windows11/DEV/MIO/sample_data/photovoltaic_potential_analysis/dsm.tif: No such file or directory",
      "\nDuring handling of the above exception, another exception occurred:\n",
      "\u001B[0;31mRasterioIOError\u001B[0m                           Traceback (most recent call last)",
      "Cell \u001B[0;32mIn[3], line 1\u001B[0m\n\u001B[0;32m----> 1\u001B[0m raster \u001B[38;5;241m=\u001B[39m \u001B[43mrxr\u001B[49m\u001B[38;5;241;43m.\u001B[39;49m\u001B[43mopen_rasterio\u001B[49m\u001B[43m(\u001B[49m\u001B[43mdsm\u001B[49m\u001B[43m,\u001B[49m\u001B[43m \u001B[49m\u001B[43mmasked\u001B[49m\u001B[38;5;241;43m=\u001B[39;49m\u001B[38;5;28;43;01mTrue\u001B[39;49;00m\u001B[43m)\u001B[49m\u001B[38;5;241m.\u001B[39msqueeze()\n\u001B[1;32m      2\u001B[0m raster\n",
      "File \u001B[0;32m~/.cache/pypoetry/virtualenvs/pygis_blog-iPs2SW5R-py3.10/lib/python3.10/site-packages/rioxarray/_io.py:1124\u001B[0m, in \u001B[0;36mopen_rasterio\u001B[0;34m(filename, parse_coordinates, chunks, cache, lock, masked, mask_and_scale, variable, group, default_name, decode_times, decode_timedelta, band_as_variable, **open_kwargs)\u001B[0m\n\u001B[1;32m   1122\u001B[0m     \u001B[38;5;28;01melse\u001B[39;00m:\n\u001B[1;32m   1123\u001B[0m         manager \u001B[38;5;241m=\u001B[39m URIManager(file_opener, filename, mode\u001B[38;5;241m=\u001B[39m\u001B[38;5;124m\"\u001B[39m\u001B[38;5;124mr\u001B[39m\u001B[38;5;124m\"\u001B[39m, kwargs\u001B[38;5;241m=\u001B[39mopen_kwargs)\n\u001B[0;32m-> 1124\u001B[0m     riods \u001B[38;5;241m=\u001B[39m \u001B[43mmanager\u001B[49m\u001B[38;5;241;43m.\u001B[39;49m\u001B[43macquire\u001B[49m\u001B[43m(\u001B[49m\u001B[43m)\u001B[49m\n\u001B[1;32m   1125\u001B[0m     captured_warnings \u001B[38;5;241m=\u001B[39m rio_warnings\u001B[38;5;241m.\u001B[39mcopy()\n\u001B[1;32m   1127\u001B[0m \u001B[38;5;66;03m# raise the NotGeoreferencedWarning if applicable\u001B[39;00m\n",
      "File \u001B[0;32m~/.cache/pypoetry/virtualenvs/pygis_blog-iPs2SW5R-py3.10/lib/python3.10/site-packages/xarray/backends/file_manager.py:193\u001B[0m, in \u001B[0;36mCachingFileManager.acquire\u001B[0;34m(self, needs_lock)\u001B[0m\n\u001B[1;32m    178\u001B[0m \u001B[38;5;28;01mdef\u001B[39;00m \u001B[38;5;21macquire\u001B[39m(\u001B[38;5;28mself\u001B[39m, needs_lock\u001B[38;5;241m=\u001B[39m\u001B[38;5;28;01mTrue\u001B[39;00m):\n\u001B[1;32m    179\u001B[0m \u001B[38;5;250m    \u001B[39m\u001B[38;5;124;03m\"\"\"Acquire a file object from the manager.\u001B[39;00m\n\u001B[1;32m    180\u001B[0m \n\u001B[1;32m    181\u001B[0m \u001B[38;5;124;03m    A new file is only opened if it has expired from the\u001B[39;00m\n\u001B[0;32m   (...)\u001B[0m\n\u001B[1;32m    191\u001B[0m \u001B[38;5;124;03m        An open file object, as returned by ``opener(*args, **kwargs)``.\u001B[39;00m\n\u001B[1;32m    192\u001B[0m \u001B[38;5;124;03m    \"\"\"\u001B[39;00m\n\u001B[0;32m--> 193\u001B[0m     file, _ \u001B[38;5;241m=\u001B[39m \u001B[38;5;28;43mself\u001B[39;49m\u001B[38;5;241;43m.\u001B[39;49m\u001B[43m_acquire_with_cache_info\u001B[49m\u001B[43m(\u001B[49m\u001B[43mneeds_lock\u001B[49m\u001B[43m)\u001B[49m\n\u001B[1;32m    194\u001B[0m     \u001B[38;5;28;01mreturn\u001B[39;00m file\n",
      "File \u001B[0;32m~/.cache/pypoetry/virtualenvs/pygis_blog-iPs2SW5R-py3.10/lib/python3.10/site-packages/xarray/backends/file_manager.py:217\u001B[0m, in \u001B[0;36mCachingFileManager._acquire_with_cache_info\u001B[0;34m(self, needs_lock)\u001B[0m\n\u001B[1;32m    215\u001B[0m     kwargs \u001B[38;5;241m=\u001B[39m kwargs\u001B[38;5;241m.\u001B[39mcopy()\n\u001B[1;32m    216\u001B[0m     kwargs[\u001B[38;5;124m\"\u001B[39m\u001B[38;5;124mmode\u001B[39m\u001B[38;5;124m\"\u001B[39m] \u001B[38;5;241m=\u001B[39m \u001B[38;5;28mself\u001B[39m\u001B[38;5;241m.\u001B[39m_mode\n\u001B[0;32m--> 217\u001B[0m file \u001B[38;5;241m=\u001B[39m \u001B[38;5;28;43mself\u001B[39;49m\u001B[38;5;241;43m.\u001B[39;49m\u001B[43m_opener\u001B[49m\u001B[43m(\u001B[49m\u001B[38;5;241;43m*\u001B[39;49m\u001B[38;5;28;43mself\u001B[39;49m\u001B[38;5;241;43m.\u001B[39;49m\u001B[43m_args\u001B[49m\u001B[43m,\u001B[49m\u001B[43m \u001B[49m\u001B[38;5;241;43m*\u001B[39;49m\u001B[38;5;241;43m*\u001B[39;49m\u001B[43mkwargs\u001B[49m\u001B[43m)\u001B[49m\n\u001B[1;32m    218\u001B[0m \u001B[38;5;28;01mif\u001B[39;00m \u001B[38;5;28mself\u001B[39m\u001B[38;5;241m.\u001B[39m_mode \u001B[38;5;241m==\u001B[39m \u001B[38;5;124m\"\u001B[39m\u001B[38;5;124mw\u001B[39m\u001B[38;5;124m\"\u001B[39m:\n\u001B[1;32m    219\u001B[0m     \u001B[38;5;66;03m# ensure file doesn't get overridden when opened again\u001B[39;00m\n\u001B[1;32m    220\u001B[0m     \u001B[38;5;28mself\u001B[39m\u001B[38;5;241m.\u001B[39m_mode \u001B[38;5;241m=\u001B[39m \u001B[38;5;124m\"\u001B[39m\u001B[38;5;124ma\u001B[39m\u001B[38;5;124m\"\u001B[39m\n",
      "File \u001B[0;32m~/.cache/pypoetry/virtualenvs/pygis_blog-iPs2SW5R-py3.10/lib/python3.10/site-packages/rasterio/env.py:451\u001B[0m, in \u001B[0;36mensure_env_with_credentials.<locals>.wrapper\u001B[0;34m(*args, **kwds)\u001B[0m\n\u001B[1;32m    448\u001B[0m     session \u001B[38;5;241m=\u001B[39m DummySession()\n\u001B[1;32m    450\u001B[0m \u001B[38;5;28;01mwith\u001B[39;00m env_ctor(session\u001B[38;5;241m=\u001B[39msession):\n\u001B[0;32m--> 451\u001B[0m     \u001B[38;5;28;01mreturn\u001B[39;00m \u001B[43mf\u001B[49m\u001B[43m(\u001B[49m\u001B[38;5;241;43m*\u001B[39;49m\u001B[43margs\u001B[49m\u001B[43m,\u001B[49m\u001B[43m \u001B[49m\u001B[38;5;241;43m*\u001B[39;49m\u001B[38;5;241;43m*\u001B[39;49m\u001B[43mkwds\u001B[49m\u001B[43m)\u001B[49m\n",
      "File \u001B[0;32m~/.cache/pypoetry/virtualenvs/pygis_blog-iPs2SW5R-py3.10/lib/python3.10/site-packages/rasterio/__init__.py:304\u001B[0m, in \u001B[0;36mopen\u001B[0;34m(fp, mode, driver, width, height, count, crs, transform, dtype, nodata, sharing, **kwargs)\u001B[0m\n\u001B[1;32m    301\u001B[0m path \u001B[38;5;241m=\u001B[39m _parse_path(raw_dataset_path)\n\u001B[1;32m    303\u001B[0m \u001B[38;5;28;01mif\u001B[39;00m mode \u001B[38;5;241m==\u001B[39m \u001B[38;5;124m\"\u001B[39m\u001B[38;5;124mr\u001B[39m\u001B[38;5;124m\"\u001B[39m:\n\u001B[0;32m--> 304\u001B[0m     dataset \u001B[38;5;241m=\u001B[39m \u001B[43mDatasetReader\u001B[49m\u001B[43m(\u001B[49m\u001B[43mpath\u001B[49m\u001B[43m,\u001B[49m\u001B[43m \u001B[49m\u001B[43mdriver\u001B[49m\u001B[38;5;241;43m=\u001B[39;49m\u001B[43mdriver\u001B[49m\u001B[43m,\u001B[49m\u001B[43m \u001B[49m\u001B[43msharing\u001B[49m\u001B[38;5;241;43m=\u001B[39;49m\u001B[43msharing\u001B[49m\u001B[43m,\u001B[49m\u001B[43m \u001B[49m\u001B[38;5;241;43m*\u001B[39;49m\u001B[38;5;241;43m*\u001B[39;49m\u001B[43mkwargs\u001B[49m\u001B[43m)\u001B[49m\n\u001B[1;32m    305\u001B[0m \u001B[38;5;28;01melif\u001B[39;00m mode \u001B[38;5;241m==\u001B[39m \u001B[38;5;124m\"\u001B[39m\u001B[38;5;124mr+\u001B[39m\u001B[38;5;124m\"\u001B[39m:\n\u001B[1;32m    306\u001B[0m     dataset \u001B[38;5;241m=\u001B[39m get_writer_for_path(path, driver\u001B[38;5;241m=\u001B[39mdriver)(\n\u001B[1;32m    307\u001B[0m         path, mode, driver\u001B[38;5;241m=\u001B[39mdriver, sharing\u001B[38;5;241m=\u001B[39msharing, \u001B[38;5;241m*\u001B[39m\u001B[38;5;241m*\u001B[39mkwargs\n\u001B[1;32m    308\u001B[0m     )\n",
      "File \u001B[0;32mrasterio/_base.pyx:312\u001B[0m, in \u001B[0;36mrasterio._base.DatasetBase.__init__\u001B[0;34m()\u001B[0m\n",
      "\u001B[0;31mRasterioIOError\u001B[0m: /media/max/Windows11/DEV/MIO/sample_data/photovoltaic_potential_analysis/dsm.tif: No such file or directory"
     ]
    }
   ],
   "source": [
    "raster = rxr.open_rasterio(dsm, masked=True).squeeze()\n",
    "raster"
   ],
   "metadata": {
    "collapsed": false,
    "ExecuteTime": {
     "end_time": "2023-08-19T12:04:02.781700704Z",
     "start_time": "2023-08-19T12:04:02.297631430Z"
    }
   }
  },
  {
   "cell_type": "code",
   "execution_count": null,
   "outputs": [],
   "source": [
    "vector = gpd.read_file(buildings)\n",
    "vector"
   ],
   "metadata": {
    "collapsed": false,
    "ExecuteTime": {
     "end_time": "2023-08-19T12:04:02.784835400Z",
     "start_time": "2023-08-19T12:04:02.784582593Z"
    }
   }
  },
  {
   "cell_type": "markdown",
   "source": [
    "## 1.1 Visualizzazione dei dati grezzi"
   ],
   "metadata": {
    "collapsed": false
   }
  },
  {
   "cell_type": "code",
   "execution_count": null,
   "outputs": [],
   "source": [
    "fig, ax = plt.subplots(figsize=(10, 10))\n",
    "raster.plot.imshow(\n",
    "    cmap='Blues',\n",
    ")\n",
    "plt.title(\"DSM\")\n",
    "plt.ylabel(\"Y coordinates (meters)\")\n",
    "plt.xlabel(\"X coordinates (meters)\")"
   ],
   "metadata": {
    "collapsed": false,
    "ExecuteTime": {
     "start_time": "2023-08-19T12:04:02.826760086Z"
    }
   }
  },
  {
   "cell_type": "code",
   "execution_count": null,
   "outputs": [],
   "source": [
    "aoi = vector.plot(alpha=0.75, color=\"blue\", figsize=(10, 10))\n",
    "cx.add_basemap(aoi, crs=vector.crs.to_string(), source=cx.providers.OpenStreetMap.Mapnik)\n",
    "aoi.set_title(\"Area of Interest\")"
   ],
   "metadata": {
    "collapsed": false,
    "ExecuteTime": {
     "start_time": "2023-08-19T12:04:02.827114177Z"
    }
   }
  },
  {
   "cell_type": "markdown",
   "source": [
    "# 2. Analisi dell'inclinazione dei tetti\n",
    "\n",
    "Come primo passo in questa analisi estrarrò dal DSM i soli edifici."
   ],
   "metadata": {
    "collapsed": false
   }
  },
  {
   "cell_type": "code",
   "execution_count": null,
   "outputs": [],
   "source": [
    "raster_clipped = raster.rio.clip(\n",
    "    geometries=vector.geometry, crs=raster.rio.crs, all_touched=True, drop=True\n",
    ").squeeze()\n",
    "\n",
    "fig, ax = plt.subplots(figsize=(10, 10))\n",
    "\n",
    "raster_clipped.plot.imshow(\n",
    "    cmap='Blues',\n",
    ")\n",
    "plt.title(\"DEM of buildings footprint\")\n",
    "plt.ylabel(\"Y coordinates (meters)\")\n",
    "plt.xlabel(\"X coordinates (meters)\")"
   ],
   "metadata": {
    "collapsed": false,
    "ExecuteTime": {
     "end_time": "2023-08-19T12:04:02.865793346Z",
     "start_time": "2023-08-19T12:04:02.827320829Z"
    }
   }
  },
  {
   "cell_type": "markdown",
   "source": [
    "A questo punto posso concentrarmi solo sui tetti calcolando la loro pendenza."
   ],
   "metadata": {
    "collapsed": false
   }
  },
  {
   "cell_type": "code",
   "execution_count": null,
   "outputs": [],
   "source": [
    "rooftop_slope = slope(raster_clipped)\n",
    "\n",
    "fig, ax = plt.subplots(figsize=(10, 10))\n",
    "colormap = plt.cm.get_cmap('RdYlGn')\n",
    "\n",
    "rooftop_slope.plot.imshow(\n",
    "    cmap=colormap.reversed(),\n",
    ")\n",
    "plt.title(\"Rooftop's slope\")\n",
    "plt.ylabel(\"Y coordinates (meters)\")\n",
    "plt.xlabel(\"X coordinates (meters)\")"
   ],
   "metadata": {
    "collapsed": false,
    "ExecuteTime": {
     "start_time": "2023-08-19T12:04:02.827559084Z"
    }
   }
  },
  {
   "cell_type": "markdown",
   "source": [
    "Le pendenze fanno riferimento al piano cartografico. Quindi 0° fa riferimento ad un tetto piano, con 85.8° di pendenza abbiamo un tetto quasi verticale e quindi ortogonale al piano cartografico."
   ],
   "metadata": {
    "collapsed": false
   }
  },
  {
   "cell_type": "markdown",
   "source": [
    "La resa di un pannello fotovoltaico varia in base all'inclinazione rispetto ai raggi solari. Alle latitudini italiane la resa ottimale in fase di produzione di energia si ha quando i pannelli sono installati con una pendenza che varia tra i 30° ed i 40°. La pendenza ottimale è direttamente proporzionale alla [latitudine](https://it.wikipedia.org/wiki/Latitudine); più ci allontaniamo dall'equatore, più essa aumenta. Quindi nel sud Italia la pendenza ottimale si aggira intorno ai 30° mentre nel nord è intorno ai 40°. Non mi interessa entrare troppo nel dettaglio tecnico legato all'installazione di un impianto fotovoltaico ma dare una stima, una indicazione di produzione energetica, ma il passaggio sull'inclinazione è importante perchè con queste informazioni andrò ad effettuare le analisi successive suddividendo le pendenze dei tetti in tre classi:\n",
    "- 0 - 3°\n",
    "- 3° - 40°\n",
    "- 40° - 90°\n",
    "\n",
    "Questa suddivisione mi consentirà di individuare sia i tetti piani(quelli che rientrano nella prima classe) che i tetti con la giusta inclinazione per una installazione in pendenza ottimale dell'impianto, consentendomi di escludere quelli con pendenze non ottimali(terza ed ultima classe).\n",
    "\n",
    "Qui magari, con questa esclusione, storce il naso un installatore di impianti fotovoltaici perchè ci sono soluzioni tecniche che consentono di ovviare il problema della pendenza eccessiva del tetto. Conosco questi aspetti ma a me interessa dare una visione di metodologia di analisi con questo articolo."
   ],
   "metadata": {
    "collapsed": false
   }
  },
  {
   "cell_type": "markdown",
   "source": [
    "## 2.1 Tetti piani"
   ],
   "metadata": {
    "collapsed": false
   }
  },
  {
   "cell_type": "code",
   "execution_count": null,
   "outputs": [],
   "source": [
    "plane_rooftop = rooftop_slope.where(rooftop_slope <= 3)\n",
    "\n",
    "fig, ax = plt.subplots(figsize=(10, 10))\n",
    "colormap = plt.cm.get_cmap('RdYlGn')\n",
    "\n",
    "plane_rooftop.plot.imshow(\n",
    "    cmap=colormap.reversed(),\n",
    ")\n",
    "plt.title(\"Plane rooftops\")\n",
    "plt.ylabel(\"Y coordinates (meters)\")\n",
    "plt.xlabel(\"X coordinates (meters)\")"
   ],
   "metadata": {
    "collapsed": false,
    "ExecuteTime": {
     "start_time": "2023-08-19T12:04:02.827780426Z"
    }
   }
  },
  {
   "cell_type": "markdown",
   "source": [
    "## 2.2 Tetti con inclinazione ottimale"
   ],
   "metadata": {
    "collapsed": false
   }
  },
  {
   "cell_type": "code",
   "execution_count": null,
   "outputs": [],
   "source": [
    "optimum_rooftop_inclination = rooftop_slope.where((rooftop_slope > 3) & (rooftop_slope <= 40))\n",
    "\n",
    "fig, ax = plt.subplots(figsize=(10, 10))\n",
    "colormap = plt.cm.get_cmap('RdYlGn')\n",
    "\n",
    "optimum_rooftop_inclination.plot.imshow(\n",
    "    cmap=colormap.reversed(),\n",
    ")\n",
    "plt.title(\"Rooftops with slope between 3° and 40°\")\n",
    "plt.ylabel(\"Y coordinates (meters)\")\n",
    "plt.xlabel(\"X coordinates (meters)\")"
   ],
   "metadata": {
    "collapsed": false,
    "ExecuteTime": {
     "start_time": "2023-08-19T12:04:02.827980171Z"
    }
   }
  },
  {
   "cell_type": "markdown",
   "source": [
    "# 3. Analisi dell'orientamento dei tetti\n",
    "\n",
    "Individuate le pendenze del tetto, passiamo a considerare l'aspetto relativo all'esposizione, o orientamento, del tetto."
   ],
   "metadata": {
    "collapsed": false
   }
  },
  {
   "cell_type": "markdown",
   "source": [
    "Per il discorso lagato alla resa migliore in fase di produzione di energia, anche l'orientamento del tetto è un fattore chiave. Per un tetto piano è insignificante parlare di esposizione, concetto che diventa fondamentale per un tetto inclinato. Anche qui ci sono soluzioni tecniche che possono risolvere problemi di esposizione ma, come scritto poco sopra, non è questo il luogo per approfondire questi aspetti."
   ],
   "metadata": {
    "collapsed": false
   }
  },
  {
   "cell_type": "code",
   "execution_count": null,
   "outputs": [],
   "source": [
    "rooftop_aspect = aspect(raster_clipped)\n",
    "\n",
    "fig, ax = plt.subplots(figsize=(10, 10))\n",
    "\n",
    "rooftop_aspect.plot.imshow(\n",
    "    cmap='Set2',\n",
    ")\n",
    "plt.title(\"Rooftop's aspect\")\n",
    "plt.ylabel(\"Y coordinates (meters)\")\n",
    "plt.xlabel(\"X coordinates (meters)\")"
   ],
   "metadata": {
    "collapsed": false,
    "ExecuteTime": {
     "start_time": "2023-08-19T12:04:02.828387871Z"
    }
   }
  },
  {
   "cell_type": "markdown",
   "source": [
    "L'esposizione ottimale è il SUD(*tra 135° e 225°*), quella sicuramente da scartare è il NORD(*tra 0° e 45°, tra 315° e 360°*).\n",
    "![Rosa dei venti](https://as1.ftcdn.net/v2/jpg/01/74/27/88/500_F_174278831_b9BzZLu9tZNFKyT72vxL4TQuuEXmc7e4.jpg \"Rosa dei venti | Immagine concessa con Licenza Standard Adobe\")"
   ],
   "metadata": {
    "collapsed": false
   }
  },
  {
   "cell_type": "markdown",
   "source": [
    "Io andrò ad estrarre solo i tetti con esposizione da **EST** a **SUD-EST**, da **SUD-EST** a **SUD-OVEST** ad **OVEST**, quindi:\n",
    "- 90° - 135°\n",
    "- 135° - 225°\n",
    "- 225° - 270°"
   ],
   "metadata": {
    "collapsed": false
   }
  },
  {
   "cell_type": "markdown",
   "source": [
    "## 3.1 Tetti esposti a SUD"
   ],
   "metadata": {
    "collapsed": false
   }
  },
  {
   "cell_type": "code",
   "execution_count": null,
   "outputs": [],
   "source": [
    "sud_rooftop_aspect = rooftop_aspect.where((rooftop_aspect >= 135) & (rooftop_aspect <= 225))\n",
    "\n",
    "fig, ax = plt.subplots(figsize=(10, 10))\n",
    "\n",
    "sud_rooftop_aspect.plot.imshow(\n",
    "    cmap='Set2',\n",
    ")\n",
    "plt.title(\"Rooftops facing to SUD\")\n",
    "plt.ylabel(\"Y coordinates (meters)\")\n",
    "plt.xlabel(\"X coordinates (meters)\")"
   ],
   "metadata": {
    "collapsed": false,
    "ExecuteTime": {
     "start_time": "2023-08-19T12:04:02.828568025Z"
    }
   }
  },
  {
   "cell_type": "markdown",
   "source": [
    "## 3.2 Tetti esposti ad EST"
   ],
   "metadata": {
    "collapsed": false
   }
  },
  {
   "cell_type": "code",
   "execution_count": null,
   "outputs": [],
   "source": [
    "est_rooftop_aspect = rooftop_aspect.where((rooftop_aspect >= 90) & (rooftop_aspect < 135))\n",
    "\n",
    "fig, ax = plt.subplots(figsize=(10, 10))\n",
    "\n",
    "est_rooftop_aspect.plot.imshow(\n",
    "    cmap='Set2',\n",
    ")\n",
    "plt.title(\"Rooftops facing to EST\")\n",
    "plt.ylabel(\"Y coordinates (meters)\")\n",
    "plt.xlabel(\"X coordinates (meters)\")"
   ],
   "metadata": {
    "collapsed": false,
    "ExecuteTime": {
     "start_time": "2023-08-19T12:04:02.828726378Z"
    }
   }
  },
  {
   "cell_type": "markdown",
   "source": [
    "## 3.2 Tetti esposti ad OVEST"
   ],
   "metadata": {
    "collapsed": false
   }
  },
  {
   "cell_type": "code",
   "execution_count": null,
   "outputs": [],
   "source": [
    "ovest_rooftop_aspect = rooftop_aspect.where((rooftop_aspect > 225) & (rooftop_aspect <= 270))\n",
    "\n",
    "fig, ax = plt.subplots(figsize=(10, 10))\n",
    "\n",
    "ovest_rooftop_aspect.plot.imshow(\n",
    "    cmap='Set2',\n",
    ")\n",
    "plt.title(\"Rooftops facing to OVEST\")\n",
    "plt.ylabel(\"Y coordinates (meters)\")\n",
    "plt.xlabel(\"X coordinates (meters)\")"
   ],
   "metadata": {
    "collapsed": false,
    "ExecuteTime": {
     "start_time": "2023-08-19T12:04:02.828886200Z"
    }
   }
  },
  {
   "cell_type": "markdown",
   "source": [
    "# 4. Produzione energetica stimata\n",
    "\n",
    "Ora che ho una chiara idea delle aree di intervento procederò a stimare la produzione energetica dei tetti presenti nell'area in esame. Prima però è necessario affinare ulteriormente i dati."
   ],
   "metadata": {
    "collapsed": false
   }
  },
  {
   "cell_type": "markdown",
   "source": [
    "## 4.1 Put them all togheter"
   ],
   "metadata": {
    "collapsed": false
   }
  },
  {
   "cell_type": "code",
   "execution_count": null,
   "outputs": [],
   "source": [
    "target_slope_rooftop = rooftop_slope.where(rooftop_slope <= 40)\n",
    "\n",
    "fig, axs = plt.subplots(1, 2, figsize=(20, 10))\n",
    "colormap = plt.cm.get_cmap('RdYlGn')\n",
    "\n",
    "target_slope_rooftop.plot.imshow(\n",
    "    cmap=colormap.reversed(),\n",
    "    ax=axs[0],\n",
    ")\n",
    "axs[0].set_title(\"Target rooftops based on slope\")\n",
    "\n",
    "rooftop_slope.plot.imshow(\n",
    "    cmap=colormap.reversed(),\n",
    "    ax=axs[1]\n",
    ")\n",
    "axs[1].set_title(\"Rooftop's slope\")"
   ],
   "metadata": {
    "collapsed": false,
    "ExecuteTime": {
     "start_time": "2023-08-19T12:04:02.829011409Z"
    }
   }
  },
  {
   "cell_type": "code",
   "execution_count": null,
   "outputs": [],
   "source": [
    "target_aspect_rooftop = rooftop_aspect.where((rooftop_aspect >= 90) & (rooftop_aspect <= 270))\n",
    "\n",
    "fig, axs = plt.subplots(1, 2, figsize=(20, 10))\n",
    "\n",
    "target_aspect_rooftop.plot.imshow(\n",
    "    cmap='Set2',\n",
    "    ax=axs[0]\n",
    ")\n",
    "axs[0].set_title(\"Target rooftops based on aspect\")\n",
    "\n",
    "rooftop_aspect.plot.imshow(\n",
    "    cmap='Set2',\n",
    "    ax=axs[1]\n",
    ")\n",
    "axs[1].set_title(\"Rooftop's aspect\")"
   ],
   "metadata": {
    "collapsed": false,
    "ExecuteTime": {
     "start_time": "2023-08-19T12:04:02.829252294Z"
    }
   }
  },
  {
   "cell_type": "markdown",
   "source": [
    "## 4.2 Individuazione dei tetti con pendenza ed esposizione ottimali"
   ],
   "metadata": {
    "collapsed": false
   }
  },
  {
   "cell_type": "code",
   "execution_count": null,
   "outputs": [],
   "source": [
    "target_slope_rooftop_mask = ((target_slope_rooftop / target_slope_rooftop) >= 1).astype('uint8')\n",
    "target_aspect_rooftop_mask = ((target_aspect_rooftop / target_aspect_rooftop) >= 1).astype('uint8')\n",
    "\n",
    "fig, axs = plt.subplots(1, 2, figsize=(20, 10))\n",
    "\n",
    "target_slope_rooftop_mask.plot.imshow(\n",
    "    cmap=\"gray\",\n",
    "    ax=axs[0],\n",
    "\n",
    ")\n",
    "axs[0].set_title(\"Target rooftops based on slope\")\n",
    "\n",
    "target_aspect_rooftop_mask.plot.imshow(\n",
    "    cmap=\"gray\",\n",
    "    ax=axs[1]\n",
    ")\n",
    "axs[1].set_title(\"Target rooftops based on aspect\")"
   ],
   "metadata": {
    "collapsed": false,
    "ExecuteTime": {
     "start_time": "2023-08-19T12:04:02.829400435Z"
    }
   }
  },
  {
   "cell_type": "code",
   "execution_count": null,
   "outputs": [],
   "source": [
    "target_rooftop = target_slope_rooftop_mask * target_aspect_rooftop_mask\n",
    "\n",
    "fig, ax = plt.subplots(figsize=(10, 10))\n",
    "\n",
    "target_rooftop.plot.imshow(\n",
    "    cmap='gray',\n",
    ")\n",
    "plt.title(\"Target rooftops\")"
   ],
   "metadata": {
    "collapsed": false,
    "ExecuteTime": {
     "start_time": "2023-08-19T12:04:02.829535388Z"
    }
   }
  },
  {
   "cell_type": "markdown",
   "source": [
    "## 4.3 Stima del potenziale produttivo\n",
    "\n",
    "Ora che è chiaro quali sono i tetti potenzialmente utilizzabili è possibile calcolarne la produzione."
   ],
   "metadata": {
    "collapsed": false
   }
  },
  {
   "cell_type": "markdown",
   "source": [
    "Il primo passo da seguire è convertire il `DataArray` creato in precedenza in un `DataFrame`."
   ],
   "metadata": {
    "collapsed": false
   }
  },
  {
   "cell_type": "code",
   "execution_count": null,
   "outputs": [],
   "source": [
    "target_rooftop_df = target_rooftop.to_dataframe(name=\"value\").reset_index()\n",
    "target_rooftop_df = target_rooftop_df[target_rooftop_df['value'] == 1]\n",
    "target_rooftop_df = target_rooftop_df[['x', 'y', 'value']]\n",
    "target_rooftop_df"
   ],
   "metadata": {
    "collapsed": false,
    "ExecuteTime": {
     "start_time": "2023-08-19T12:04:02.829671808Z"
    }
   }
  },
  {
   "cell_type": "markdown",
   "source": [
    "In questo modo si è ottenuto un oggetto che contiene i centroidi dei pixel del raster precedente, con i soli valori di interesse. Il passo successivo è convertire in `GeoDataFrame` il dataset ottenuto in precedenza."
   ],
   "metadata": {
    "collapsed": false
   }
  },
  {
   "cell_type": "code",
   "execution_count": null,
   "outputs": [],
   "source": [
    "gdf_point = gpd.GeoDataFrame(\n",
    "    target_rooftop_df.value,\n",
    "    geometry=gpd.points_from_xy(target_rooftop_df.x,target_rooftop_df.y),\n",
    "    crs=raster.rio.crs.to_string()\n",
    ")\n",
    "gdf_point"
   ],
   "metadata": {
    "collapsed": false,
    "ExecuteTime": {
     "start_time": "2023-08-19T12:04:02.829864289Z"
    }
   }
  },
  {
   "cell_type": "markdown",
   "source": [
    "Si è ottenuto un GeoDataFrame di punti, ma a me interessano i poligoni, quindi creo un buffer intorno ai punti in modo da riprodurre i pixel del raster con cui ho iniziato l'analisi. Quindi devo andare ad individuare la risoluzione del mio raster di partenza:"
   ],
   "metadata": {
    "collapsed": false
   }
  },
  {
   "cell_type": "code",
   "execution_count": null,
   "outputs": [],
   "source": [
    "x, y = raster.rio.resolution()\n",
    "print(f\"Il raster di partenza ha una risoluzione di {x} x {y*-1} metri\")"
   ],
   "metadata": {
    "collapsed": false,
    "ExecuteTime": {
     "start_time": "2023-08-19T12:04:02.830026218Z"
    }
   }
  },
  {
   "cell_type": "markdown",
   "source": [
    "Ora posso creare i miei poligoni."
   ],
   "metadata": {
    "collapsed": false
   }
  },
  {
   "cell_type": "code",
   "execution_count": null,
   "outputs": [],
   "source": [
    "gdf_polygon = gdf_point.buffer(distance=0.5, cap_style=3)\n",
    "polygons = gdf_polygon.unary_union\n",
    "\n",
    "gdf = gpd.GeoDataFrame(geometry=gpd.GeoSeries(polygons), crs=gdf_polygon.crs).explode(index_parts=True)\n",
    "gdf.insert(loc=1, column=\"superficie_mq\", value=gdf.geometry.area)\n",
    "gdf"
   ],
   "metadata": {
    "collapsed": false,
    "ExecuteTime": {
     "start_time": "2023-08-19T12:04:02.830269754Z"
    }
   }
  },
  {
   "cell_type": "markdown",
   "source": [
    "Ho ottenuto un GeoDataFrame con i dati di mio interesse. Quando scrissi l'articolo del [blog](https://massimilianomoraca.it/blog/gis/fotovoltaico-e-gis-come-individuare-lutilizzabilita-di-un-tetto/), oramai 6 annifa, 1 kwp occupava 7 metri quadri in media; non conosco i risvolti del mercato attuale ma ricordo che con la miniaturizzazione si andava verso la riduzione della superficie utile per produrre 1 kWp. Anche per questo articolo mi atterrò al dato del 2018 ma, prima di calcolare la produzione potenziale di energia dell'are in esame, andrò a filtrare tutto ciò che è inferiore a 7 metri quadri."
   ],
   "metadata": {
    "collapsed": false
   }
  },
  {
   "cell_type": "code",
   "execution_count": null,
   "outputs": [],
   "source": [
    "final_analysis = gdf[gdf.superficie_mq >= 7].reset_index()\n",
    "final_analysis = final_analysis[['geometry', 'superficie_mq']]\n",
    "final_analysis.insert(loc=2, column=\"potential_production_kw\", value=final_analysis.superficie_mq*7)\n",
    "final_analysis"
   ],
   "metadata": {
    "collapsed": false,
    "ExecuteTime": {
     "start_time": "2023-08-19T12:04:02.833137115Z"
    }
   }
  },
  {
   "cell_type": "code",
   "execution_count": null,
   "outputs": [],
   "source": [
    "fig, ax = plt.subplots(figsize=(10, 10))\n",
    "\n",
    "final_view = final_analysis.plot(column=\"potential_production_kw\", cmap=\"gnuplot\", ax=ax, legend=True)\n",
    "cx.add_basemap(final_view, crs=final_analysis.crs.to_string(), source=cx.providers.OpenStreetMap.Mapnik)\n",
    "final_view.set_title(\"Energy production map kWp\")"
   ],
   "metadata": {
    "collapsed": false,
    "ExecuteTime": {
     "start_time": "2023-08-19T12:04:02.874184035Z"
    }
   }
  },
  {
   "cell_type": "markdown",
   "source": [
    "# Conclusione"
   ],
   "metadata": {
    "collapsed": false
   }
  },
  {
   "cell_type": "markdown",
   "source": [
    "La stima del potenziale produttivo di un tetto è sicuramente un passo fondamentale per capire se il tetto in esame è da considerare per una analisi più approfondita o meno. Nel processo di analisi che ho esposto ho volutamente evitato di scendere troppo nel dettaglio di analisi proprio perchè:\n",
    "1. avevo interesse ad esporre un flusso di analisi;\n",
    "2. avevo interesse a stimare dei valori.\n",
    "\n",
    "Ad esempio un aspetto su cui ho volutamente sorvolato è il calcolo delle superfici inclinate che mi avrebbe restituito un valore di produttività per tetto differente."
   ],
   "metadata": {
    "collapsed": false
   }
  }
 ],
 "metadata": {
  "kernelspec": {
   "display_name": "Python 3",
   "language": "python",
   "name": "python3"
  },
  "language_info": {
   "codemirror_mode": {
    "name": "ipython",
    "version": 2
   },
   "file_extension": ".py",
   "mimetype": "text/x-python",
   "name": "python",
   "nbconvert_exporter": "python",
   "pygments_lexer": "ipython2",
   "version": "2.7.6"
  }
 },
 "nbformat": 4,
 "nbformat_minor": 0
}
