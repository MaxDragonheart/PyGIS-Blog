{
 "cells": [
  {
   "metadata": {},
   "cell_type": "markdown",
   "source": "Con questo Jupyter Notebook voglio mostrare come ho elaborato i dati CAMS relativi al PM10 di cui ho parlato in [questo articolo](https://massimilianomoraca.me/blog/gis/pm10-nord-italia/). I dati grezzi sono in formato NetCDF e di come gestire questo particolare formato dati ne ho parlato in un [altro articolo](https://massimilianomoraca.me/blog/pygis-blog/gestione-di-un-file-netcdf/) che, nemmeno a farlo apposta, è incentrato sui dati CAMS.",
   "id": "4b0b529ee109fcdd"
  },
  {
   "metadata": {},
   "cell_type": "markdown",
   "source": "# Prima di iniziare",
   "id": "a63d24fb8b5762a"
  },
  {
   "metadata": {},
   "cell_type": "markdown",
   "source": "## Librerie",
   "id": "ea23d15630ea1ee0"
  },
  {
   "metadata": {},
   "cell_type": "markdown",
   "source": "Le librerie Python usate per raggiungere lo scopo sono state diverse e le vedrete di seguito. Una però deve essere menzionata tra tutte [Dask](https://www.dask.org/); senza l'uso di questa librerie non mi sarebbe stato possibile velocizzare i processamenti che, nonostante tutto, sono durati ore.",
   "id": "7f921df49fd23e55"
  },
  {
   "metadata": {
    "ExecuteTime": {
     "end_time": "2024-04-28T20:22:02.833411Z",
     "start_time": "2024-04-28T20:22:01.818086Z"
    }
   },
   "cell_type": "code",
   "source": [
    "from pathlib import Path\n",
    "import geopandas as gpd\n",
    "import matplotlib.pyplot as plt\n",
    "import xarray as xr\n",
    "from geocube.api.core import make_geocube\n",
    "from xrspatial.zonal import stats\n",
    "import pandas as pd\n",
    "import dask.dataframe as dd\n",
    "\n",
    "from pandas import DataFrame\n",
    "from xarray import Dataset, DataArray\n",
    "from geopandas import GeoDataFrame\n",
    "from typing import Union"
   ],
   "id": "baaea5cb592a30a4",
   "outputs": [],
   "execution_count": 1
  },
  {
   "metadata": {},
   "cell_type": "markdown",
   "source": "## Fonti dati",
   "id": "2500e12e88e0876"
  },
  {
   "metadata": {},
   "cell_type": "markdown",
   "source": "I dati del PM10 dal 2013 allo scorso marzo sono il perno di questa analisi a cui ho associato i dati vettoriali dell'ISTAT delle province target(quelle che ricadono nelle regioni con codice da 1 a 11) e sulla popolazione per cella censuaria. Dopo aver scaricato i dati CAMS li ho preprocessati in modo da avere un file `.nc` per anno.",
   "id": "9b6a9254ea2e200"
  },
  {
   "metadata": {
    "ExecuteTime": {
     "end_time": "2024-04-28T20:22:02.839244Z",
     "start_time": "2024-04-28T20:22:02.834729Z"
    }
   },
   "cell_type": "code",
   "source": [
    "nc_data_path = Path(\"/home/max/Desktop/pianura_padana/processed/netcdf\")\n",
    "\n",
    "nc_files = list(nc_data_path.glob(\"*.nc\"))\n",
    "\n",
    "nc_files"
   ],
   "id": "2764ba1e774322e8",
   "outputs": [
    {
     "data": {
      "text/plain": [
       "[PosixPath('/home/max/Desktop/pianura_padana/processed/netcdf/particulate_matter_10um-2021-forecasts.nc'),\n",
       " PosixPath('/home/max/Desktop/pianura_padana/processed/netcdf/particulate_matter_10um-2017-reanalyses.nc'),\n",
       " PosixPath('/home/max/Desktop/pianura_padana/processed/netcdf/particulate_matter_10um-2020-reanalyses.nc'),\n",
       " PosixPath('/home/max/Desktop/pianura_padana/processed/netcdf/particulate_matter_10um-2014-reanalyses.nc'),\n",
       " PosixPath('/home/max/Desktop/pianura_padana/processed/netcdf/particulate_matter_10um-2013-reanalyses.nc'),\n",
       " PosixPath('/home/max/Desktop/pianura_padana/processed/netcdf/particulate_matter_10um-2016-reanalyses.nc'),\n",
       " PosixPath('/home/max/Desktop/pianura_padana/processed/netcdf/particulate_matter_10um-2023-forecasts.nc'),\n",
       " PosixPath('/home/max/Desktop/pianura_padana/processed/netcdf/particulate_matter_10um-2019-reanalyses.nc'),\n",
       " PosixPath('/home/max/Desktop/pianura_padana/processed/netcdf/particulate_matter_10um-2015-reanalyses.nc'),\n",
       " PosixPath('/home/max/Desktop/pianura_padana/processed/netcdf/particulate_matter_10um-2018-reanalyses.nc'),\n",
       " PosixPath('/home/max/Desktop/pianura_padana/processed/netcdf/particulate_matter_10um-2022-forecasts.nc'),\n",
       " PosixPath('/home/max/Desktop/pianura_padana/processed/netcdf/particulate_matter_10um-2024-forecasts.nc')]"
      ]
     },
     "execution_count": 2,
     "metadata": {},
     "output_type": "execute_result"
    }
   ],
   "execution_count": 2
  },
  {
   "metadata": {
    "ExecuteTime": {
     "end_time": "2024-04-28T20:22:02.976658Z",
     "start_time": "2024-04-28T20:22:02.840016Z"
    }
   },
   "cell_type": "code",
   "source": [
    "target_zones_boundaries = Path(\"/home/max/Desktop/DEV/DrakoNotebook/open_dataset/Limiti01012023_g/ProvCM01012023_g/ProvCM01012023_g_WGS84.shp\")\n",
    "\n",
    "target_zones = gpd.read_file(target_zones_boundaries)\n",
    "target_zones = target_zones[target_zones['COD_REG'].isin(list(range(1, 12)))]\n",
    "target_zones = target_zones.to_crs(4326).sort_values('DEN_UTS')\n",
    "\n",
    "target_zones"
   ],
   "id": "810ef946770fba9a",
   "outputs": [
    {
     "data": {
      "text/plain": [
       "    COD_RIP  COD_REG  COD_PROV  COD_CM  COD_UTS DEN_PROV DEN_CM  DEN_UTS  \\\n",
       "20        2        4        21       0       21  Bolzano      -  Bolzano   \n",
       "\n",
       "   SIGLA            TIPO_UTS    Shape_Area  \\\n",
       "20    BZ  Provincia autonoma  7.399378e+09   \n",
       "\n",
       "                                             geometry  \n",
       "20  POLYGON ((12.20511 47.08653, 12.20668 47.08627...  "
      ],
      "text/html": [
       "<div>\n",
       "<style scoped>\n",
       "    .dataframe tbody tr th:only-of-type {\n",
       "        vertical-align: middle;\n",
       "    }\n",
       "\n",
       "    .dataframe tbody tr th {\n",
       "        vertical-align: top;\n",
       "    }\n",
       "\n",
       "    .dataframe thead th {\n",
       "        text-align: right;\n",
       "    }\n",
       "</style>\n",
       "<table border=\"1\" class=\"dataframe\">\n",
       "  <thead>\n",
       "    <tr style=\"text-align: right;\">\n",
       "      <th></th>\n",
       "      <th>COD_RIP</th>\n",
       "      <th>COD_REG</th>\n",
       "      <th>COD_PROV</th>\n",
       "      <th>COD_CM</th>\n",
       "      <th>COD_UTS</th>\n",
       "      <th>DEN_PROV</th>\n",
       "      <th>DEN_CM</th>\n",
       "      <th>DEN_UTS</th>\n",
       "      <th>SIGLA</th>\n",
       "      <th>TIPO_UTS</th>\n",
       "      <th>Shape_Area</th>\n",
       "      <th>geometry</th>\n",
       "    </tr>\n",
       "  </thead>\n",
       "  <tbody>\n",
       "    <tr>\n",
       "      <th>20</th>\n",
       "      <td>2</td>\n",
       "      <td>4</td>\n",
       "      <td>21</td>\n",
       "      <td>0</td>\n",
       "      <td>21</td>\n",
       "      <td>Bolzano</td>\n",
       "      <td>-</td>\n",
       "      <td>Bolzano</td>\n",
       "      <td>BZ</td>\n",
       "      <td>Provincia autonoma</td>\n",
       "      <td>7.399378e+09</td>\n",
       "      <td>POLYGON ((12.20511 47.08653, 12.20668 47.08627...</td>\n",
       "    </tr>\n",
       "  </tbody>\n",
       "</table>\n",
       "</div>"
      ]
     },
     "execution_count": 3,
     "metadata": {},
     "output_type": "execute_result"
    }
   ],
   "execution_count": 3
  },
  {
   "metadata": {
    "ExecuteTime": {
     "end_time": "2024-04-28T20:22:03.050268Z",
     "start_time": "2024-04-28T20:22:02.978008Z"
    }
   },
   "cell_type": "code",
   "source": [
    "fig, ax = plt.subplots(figsize=(10, 10))\n",
    "\n",
    "target_zones.plot(\n",
    "    ax=ax,\n",
    "    column='COD_REG',\n",
    ")\n",
    "plt.title(\"Regioni interessate dall'analisi sul PM10\")\n",
    "plt.axis('off')\n",
    "plt.show()"
   ],
   "id": "ca0c9518def4cbf6",
   "outputs": [
    {
     "data": {
      "text/plain": [
       "<Figure size 1000x1000 with 1 Axes>"
      ],
      "image/png": "[encoded data removed]"
     },
     "metadata": {},
     "output_type": "display_data"
    }
   ],
   "execution_count": 4
  },
  {
   "metadata": {},
   "cell_type": "markdown",
   "source": [
    "## Contenuti\n",
    "- [Aggregazione dei dati](#Aggregazione-dei-dati)\n",
    "- \n",
    "- [Conclusione](#Conclusione)"
   ],
   "id": "c991bf2abddf1a46"
  },
  {
   "metadata": {},
   "cell_type": "markdown",
   "source": "# Aggregazione dei dati",
   "id": "7960f7ef4f06fbd"
  },
  {
   "metadata": {},
   "cell_type": "markdown",
   "source": "Lo scopo di questa attività è stato quello di aggregare i dati su base provinciale e di generare un `.csv` per Provincia. I tempi di calcolo sono davvero lunghi, notate la funzione `%%time` cosa stampa. ",
   "id": "53c4b4534579233f"
  },
  {
   "metadata": {
    "ExecuteTime": {
     "end_time": "2024-04-28T20:22:03.052855Z",
     "start_time": "2024-04-28T20:22:03.051099Z"
    }
   },
   "cell_type": "code",
   "source": "csv_folder = Path(\"/home/max/Desktop/pianura_padana/processed/target_zones\")",
   "id": "30526912eea3b3dc",
   "outputs": [],
   "execution_count": 5
  },
  {
   "metadata": {
    "ExecuteTime": {
     "end_time": "2024-04-28T20:22:05.609246Z",
     "start_time": "2024-04-28T20:22:03.053528Z"
    }
   },
   "cell_type": "code",
   "source": [
    "%%time\n",
    "\n",
    "# Analisi per Provincia\n",
    "for _index, _row in target_zones.iterrows():\n",
    "    zone_gdf = target_zones[target_zones['COD_PROV'] == _row['COD_PROV']]\n",
    "    \n",
    "    zone_data = []\n",
    "    \n",
    "    # Lettura dei singoli `.nc`\n",
    "    for file in nc_files:\n",
    "        year_data = xr.open_dataset(\n",
    "            filename_or_obj=file,\n",
    "            engine=\"netcdf4\",\n",
    "            decode_coords=\"all\",\n",
    "        )\n",
    "        \n",
    "        # Riordinamento delle coordinate per evitare problemi di dimensione\n",
    "        year_data = year_data.transpose('lat', 'lon', 'time')[['lat', 'lon', 'time', 'particulate_matter_10um']]\n",
    "        \n",
    "        time_coords = year_data['time'].values\n",
    "        \n",
    "        # Calcolo delle zonal statistic\n",
    "        for time in time_coords:\n",
    "            sensing_date = time.astype('datetime64[s]').item()\n",
    "\n",
    "            time_data = year_data.sel(time=time).to_dataarray().squeeze()\n",
    "            \n",
    "            # Definizione delle dimensioni spaziali\n",
    "            time_data = time_data.rio.set_spatial_dims(x_dim='lon', y_dim='lat')\n",
    "            \n",
    "            # Rasterizzazione del poligono della Provincia\n",
    "            rasterized_vector = make_geocube(\n",
    "                vector_data=zone_gdf,\n",
    "                measurements=['COD_PROV'],\n",
    "                like=time_data,\n",
    "            )\n",
    "            vector_dataarray = rasterized_vector['COD_PROV']\n",
    "            \n",
    "            zonal_statistics = stats(\n",
    "                zones=vector_dataarray,\n",
    "                values=time_data,\n",
    "                stats_funcs=[\"mean\", \"max\", \"min\", \"sum\", \"std\", \"count\", \"var\"]\n",
    "            )\n",
    "            zonal_statistics.rename(columns={\"zone\": 'COD_PROV'}, inplace=True)\n",
    "\n",
    "            zs_merged = pd.merge(\n",
    "                left=zonal_statistics,\n",
    "                right=zone_gdf,\n",
    "                how='left',\n",
    "                on='COD_PROV'\n",
    "            )\n",
    "            zs_merged = zs_merged[['COD_PROV', 'DEN_UTS', 'mean', 'max', 'min', 'sum', 'std', 'count', 'var']]\n",
    "            zs_merged['sensing_date'] = sensing_date\n",
    "\n",
    "            zone_data.append(zs_merged)\n",
    "            #break\n",
    "        \n",
    "        \n",
    "        #break\n",
    "    # Aggregazione e generazione del csv\n",
    "    zone_ddf = dd.concat(zone_data)\n",
    "    zone_df = zone_ddf.compute()\n",
    "\n",
    "    zone_df.to_csv(csv_folder.joinpath(f\"zs_{_row['COD_PROV']}_{_row['DEN_UTS']}.csv\"))\n",
    "    \n",
    "    \n",
    "    #break"
   ],
   "id": "5f59e668cfb62a72",
   "outputs": [
    {
     "name": "stdout",
     "output_type": "stream",
     "text": [
      "['2021-01-01T00:00:00.000000000' '2021-01-01T01:00:00.000000000'\n",
      " '2021-01-01T02:00:00.000000000' '2021-01-01T03:00:00.000000000'\n",
      " '2021-01-01T04:00:00.000000000' '2021-01-01T05:00:00.000000000'\n",
      " '2021-01-01T06:00:00.000000000' '2021-01-01T07:00:00.000000000'\n",
      " '2021-01-01T08:00:00.000000000' '2021-01-01T09:00:00.000000000']\n",
      "['2017-01-01T00:00:00.000000000' '2017-01-01T01:00:00.000000000'\n",
      " '2017-01-01T02:00:00.000000000' '2017-01-01T03:00:00.000000000'\n",
      " '2017-01-01T04:00:00.000000000' '2017-01-01T05:00:00.000000000'\n",
      " '2017-01-01T06:00:00.000000000' '2017-01-01T07:00:00.000000000'\n",
      " '2017-01-01T08:00:00.000000000' '2017-01-01T09:00:00.000000000']\n",
      "['2020-01-01T00:00:00.000000000' '2020-01-01T01:00:00.000000000'\n",
      " '2020-01-01T02:00:00.000000000' '2020-01-01T03:00:00.000000000'\n",
      " '2020-01-01T04:00:00.000000000' '2020-01-01T05:00:00.000000000'\n",
      " '2020-01-01T06:00:00.000000000' '2020-01-01T07:00:00.000000000'\n",
      " '2020-01-01T08:00:00.000000000' '2020-01-01T09:00:00.000000000']\n",
      "['2014-01-01T00:00:00.000000000' '2014-01-01T01:00:00.000000000'\n",
      " '2014-01-01T02:00:00.000000000' '2014-01-01T03:00:00.000000000'\n",
      " '2014-01-01T04:00:00.000000000' '2014-01-01T05:00:00.000000000'\n",
      " '2014-01-01T06:00:00.000000000' '2014-01-01T07:00:00.000000000'\n",
      " '2014-01-01T08:00:00.000000000' '2014-01-01T09:00:00.000000000']\n",
      "['2013-01-01T00:00:00.000000000' '2013-01-01T01:00:00.000000000'\n",
      " '2013-01-01T02:00:00.000000000' '2013-01-01T03:00:00.000000000'\n",
      " '2013-01-01T04:00:00.000000000' '2013-01-01T05:00:00.000000000'\n",
      " '2013-01-01T06:00:00.000000000' '2013-01-01T07:00:00.000000000'\n",
      " '2013-01-01T08:00:00.000000000' '2013-01-01T09:00:00.000000000']\n",
      "['2016-01-01T00:00:00.000000000' '2016-01-01T01:00:00.000000000'\n",
      " '2016-01-01T02:00:00.000000000' '2016-01-01T03:00:00.000000000'\n",
      " '2016-01-01T04:00:00.000000000' '2016-01-01T05:00:00.000000000'\n",
      " '2016-01-01T06:00:00.000000000' '2016-01-01T07:00:00.000000000'\n",
      " '2016-01-01T08:00:00.000000000' '2016-01-01T09:00:00.000000000']\n",
      "['2023-01-01T00:00:00.000000000' '2023-01-01T01:00:00.000000000'\n",
      " '2023-01-01T02:00:00.000000000' '2023-01-01T03:00:00.000000000'\n",
      " '2023-01-01T04:00:00.000000000' '2023-01-01T05:00:00.000000000'\n",
      " '2023-01-01T06:00:00.000000000' '2023-01-01T07:00:00.000000000'\n",
      " '2023-01-01T08:00:00.000000000' '2023-01-01T09:00:00.000000000']\n",
      "['2019-01-01T00:00:00.000000000' '2019-01-01T01:00:00.000000000'\n",
      " '2019-01-01T02:00:00.000000000' '2019-01-01T03:00:00.000000000'\n",
      " '2019-01-01T04:00:00.000000000' '2019-01-01T05:00:00.000000000'\n",
      " '2019-01-01T06:00:00.000000000' '2019-01-01T07:00:00.000000000'\n",
      " '2019-01-01T08:00:00.000000000' '2019-01-01T09:00:00.000000000']\n",
      "['2015-01-01T00:00:00.000000000' '2015-01-01T01:00:00.000000000'\n",
      " '2015-01-01T02:00:00.000000000' '2015-01-01T03:00:00.000000000'\n",
      " '2015-01-01T04:00:00.000000000' '2015-01-01T05:00:00.000000000'\n",
      " '2015-01-01T06:00:00.000000000' '2015-01-01T07:00:00.000000000'\n",
      " '2015-01-01T08:00:00.000000000' '2015-01-01T09:00:00.000000000']\n",
      "['2018-01-01T00:00:00.000000000' '2018-01-01T01:00:00.000000000'\n",
      " '2018-01-01T02:00:00.000000000' '2018-01-01T03:00:00.000000000'\n",
      " '2018-01-01T04:00:00.000000000' '2018-01-01T05:00:00.000000000'\n",
      " '2018-01-01T06:00:00.000000000' '2018-01-01T07:00:00.000000000'\n",
      " '2018-01-01T08:00:00.000000000' '2018-01-01T09:00:00.000000000']\n",
      "['2022-01-01T00:00:00.000000000' '2022-01-01T01:00:00.000000000'\n",
      " '2022-01-01T02:00:00.000000000' '2022-01-01T03:00:00.000000000'\n",
      " '2022-01-01T04:00:00.000000000' '2022-01-01T05:00:00.000000000'\n",
      " '2022-01-01T06:00:00.000000000' '2022-01-01T07:00:00.000000000'\n",
      " '2022-01-01T08:00:00.000000000' '2022-01-01T09:00:00.000000000']\n",
      "['2024-01-01T00:00:00.000000000' '2024-01-01T01:00:00.000000000'\n",
      " '2024-01-01T02:00:00.000000000' '2024-01-01T03:00:00.000000000'\n",
      " '2024-01-01T04:00:00.000000000' '2024-01-01T05:00:00.000000000'\n",
      " '2024-01-01T06:00:00.000000000' '2024-01-01T07:00:00.000000000'\n",
      " '2024-01-01T08:00:00.000000000' '2024-01-01T09:00:00.000000000']\n",
      "<class 'pandas.core.frame.DataFrame'>\n",
      "   COD_PROV  DEN_UTS       mean        max        min          sum       std  count        var        sensing_date\n",
      "0      21.0  Bolzano  12.091875  25.537441   3.553974  1088.268799  5.170796   90.0  26.737129 2021-01-01 00:00:00\n",
      "0      21.0  Bolzano  11.876575  24.205067   3.463046  1068.891724  4.942211   90.0  24.425446 2021-01-01 01:00:00\n",
      "0      21.0  Bolzano  11.599857  22.793728   3.417042  1043.987183  4.722321   90.0  22.300318 2021-01-01 02:00:00\n",
      "0      21.0  Bolzano  11.224388  22.242388   3.427841  1010.194946  4.548800   90.0  20.691580 2021-01-01 03:00:00\n",
      "0      21.0  Bolzano  11.103639  22.130793   3.713881   999.327515  4.490603   90.0  20.165520 2021-01-01 04:00:00\n",
      "0      21.0  Bolzano  11.124743  22.853994   3.918072  1001.226868  4.525095   90.0  20.476484 2021-01-01 05:00:00\n",
      "0      21.0  Bolzano  11.533560  23.584023   4.249146  1038.020386  4.849919   90.0  23.521711 2021-01-01 06:00:00\n",
      "0      21.0  Bolzano  11.793556  24.209911   4.372660  1061.420044  5.009516   90.0  25.095255 2021-01-01 07:00:00\n",
      "0      21.0  Bolzano  11.899547  25.804749   4.475463  1070.959229  5.189188   90.0  26.927670 2021-01-01 08:00:00\n",
      "0      21.0  Bolzano  11.809381  26.456877   3.990112  1062.844360  5.174883   90.0  26.779413 2021-01-01 09:00:00\n",
      "0      21.0  Bolzano   7.262553  13.172815   4.821234   624.579529  1.702595   86.0   2.898831 2017-01-01 00:00:00\n",
      "0      21.0  Bolzano  15.384507  28.233330   4.663889  1323.067627  7.868976   86.0  61.920784 2017-01-01 01:00:00\n",
      "0      21.0  Bolzano  19.444311  33.311817   4.908646  1672.210815  9.067140   86.0  82.213013 2017-01-01 02:00:00\n",
      "0      21.0  Bolzano  16.468952  25.591162   6.028062  1416.329834  5.887401   86.0  34.661488 2017-01-01 03:00:00\n",
      "0      21.0  Bolzano  14.441302  21.324038   5.421546  1241.952026  4.775743   86.0  22.807720 2017-01-01 04:00:00\n",
      "0      21.0  Bolzano  13.221078  19.850891   5.065942  1137.012695  4.375089   86.0  19.141399 2017-01-01 05:00:00\n",
      "0      21.0  Bolzano  12.135864  18.444859   4.803382  1043.684326  3.736062   86.0  13.958158 2017-01-01 06:00:00\n",
      "0      21.0  Bolzano  12.538790  18.458546   4.676344  1078.335938  3.723763   86.0  13.866406 2017-01-01 07:00:00\n",
      "0      21.0  Bolzano  13.069188  19.578247   5.002335  1123.950195  3.933624   86.0  15.473394 2017-01-01 08:00:00\n",
      "0      21.0  Bolzano  13.846952  24.174198   5.108234  1190.837891  4.683319   86.0  21.933474 2017-01-01 09:00:00\n",
      "0      21.0  Bolzano  17.298351  35.000000   8.109375  1556.851562  5.421007   90.0  29.387316 2020-01-01 00:00:00\n",
      "0      21.0  Bolzano  16.303905  22.835938   8.273438  1467.351562  3.984538   90.0  15.876543 2020-01-01 01:00:00\n",
      "0      21.0  Bolzano  15.058919  22.601562   6.287109  1355.302734  4.078448   90.0  16.633738 2020-01-01 02:00:00\n",
      "0      21.0  Bolzano  13.571072  23.156250   4.607422  1221.396484  4.223263   90.0  17.835947 2020-01-01 03:00:00\n",
      "0      21.0  Bolzano  13.027388  24.882812   4.968750  1172.464844  4.176097   90.0  17.439791 2020-01-01 04:00:00\n",
      "0      21.0  Bolzano  13.437369  27.828125   6.109375  1209.363281  4.675831   90.0  21.863400 2020-01-01 05:00:00\n",
      "0      21.0  Bolzano  13.780838  34.265625   4.406250  1240.275391  5.740108   90.0  32.948845 2020-01-01 06:00:00\n",
      "0      21.0  Bolzano  14.547852  34.578125   4.863281  1309.306641  6.595823   90.0  43.504887 2020-01-01 07:00:00\n",
      "0      21.0  Bolzano  15.656641  37.093750   6.025391  1409.097656  6.781494   90.0  45.988655 2020-01-01 08:00:00\n",
      "0      21.0  Bolzano  16.529688  39.859375   5.851562  1487.671875  7.231580   90.0  52.295753 2020-01-01 09:00:00\n",
      "0      21.0  Bolzano   3.185946   6.216242   1.697679   273.991333  1.156242   86.0   1.336896 2014-01-01 00:00:00\n",
      "0      21.0  Bolzano   4.404743  14.337472   1.767503   378.807861  2.342784   86.0   5.488636 2014-01-01 01:00:00\n",
      "0      21.0  Bolzano   4.026227  13.207884   1.690060   346.255463  2.028020   86.0   4.112866 2014-01-01 02:00:00\n",
      "0      21.0  Bolzano   3.692275  11.095850   1.660070   317.535614  1.621635   86.0   2.629702 2014-01-01 03:00:00\n",
      "0      21.0  Bolzano   3.449440   8.863818   1.647866   296.651886  1.264464   86.0   1.598868 2014-01-01 04:00:00\n",
      "0      21.0  Bolzano   3.257793   7.064600   1.633582   280.170227  1.005230   86.0   1.010488 2014-01-01 05:00:00\n",
      "0      21.0  Bolzano   3.339231   6.204113   1.656636   287.173859  0.995815   86.0   0.991648 2014-01-01 06:00:00\n",
      "0      21.0  Bolzano   3.696896   8.217050   1.828565   317.933075  1.177041   86.0   1.385426 2014-01-01 07:00:00\n",
      "0      21.0  Bolzano   3.982920   9.430432   2.022319   342.531158  1.367849   86.0   1.871010 2014-01-01 08:00:00\n",
      "0      21.0  Bolzano   4.223838   9.203305   2.115111   363.250092  1.427807   86.0   2.038634 2014-01-01 09:00:00\n",
      "0      21.0  Bolzano   7.007940  16.737164   2.445462   602.682861  3.582263   86.0  12.832612 2013-01-01 00:00:00\n",
      "0      21.0  Bolzano  12.496612  23.687757   5.704143  1074.708618  3.547010   86.0  12.581281 2013-01-01 01:00:00\n",
      "0      21.0  Bolzano  13.529967  25.305733   6.234498  1163.577148  3.554625   86.0  12.635355 2013-01-01 02:00:00\n",
      "0      21.0  Bolzano  13.878916  23.660597   6.585797  1193.586792  3.455327   86.0  11.939281 2013-01-01 03:00:00\n",
      "0      21.0  Bolzano  14.454769  21.747517   7.205826  1243.110107  3.240115   86.0  10.498345 2013-01-01 04:00:00\n",
      "0      21.0  Bolzano  10.631529  22.035095   3.618273   914.311462  4.777403   86.0  22.823578 2013-01-01 05:00:00\n",
      "0      21.0  Bolzano  10.166229  21.866758   3.248381   874.295715  5.107778   86.0  26.089390 2013-01-01 06:00:00\n",
      "0      21.0  Bolzano  10.649622  25.892080   3.832418   915.867493  5.210042   86.0  27.144533 2013-01-01 07:00:00\n",
      "0      21.0  Bolzano  11.338779  28.931751   4.633515   975.135010  5.128340   86.0  26.299873 2013-01-01 08:00:00\n",
      "0      21.0  Bolzano  11.822783  27.548449   4.130927  1016.759277  5.399031   86.0  29.149536 2013-01-01 09:00:00\n",
      "0      21.0  Bolzano  21.873920  45.264061   5.709674  1881.157104  8.873318   86.0  78.735771 2016-01-01 00:00:00\n",
      "0      21.0  Bolzano  21.626358  43.225887   4.995239  1859.866821  7.995583   86.0  63.929340 2016-01-01 01:00:00\n",
      "0      21.0  Bolzano  25.045485  50.744747  13.357970  2153.911621  8.045473   86.0  64.729645 2016-01-01 02:00:00\n",
      "0      21.0  Bolzano  23.839170  49.199120  12.455446  2050.168701  7.785703   86.0  60.617176 2016-01-01 03:00:00\n",
      "0      21.0  Bolzano  21.711252  46.494659  10.763721  1867.167725  7.719608   86.0  59.592342 2016-01-01 04:00:00\n",
      "0      21.0  Bolzano  19.863630  45.150581   8.067851  1708.272217  7.731584   86.0  59.777393 2016-01-01 05:00:00\n",
      "0      21.0  Bolzano  19.733912  46.642986   7.813734  1697.116333  7.860583   86.0  61.788773 2016-01-01 06:00:00\n",
      "0      21.0  Bolzano  19.233961  46.062225   7.357144  1654.120605  8.138186   86.0  66.230080 2016-01-01 07:00:00\n",
      "0      21.0  Bolzano  17.556347  42.838799   6.049316  1509.845825  8.538916   86.0  72.913078 2016-01-01 08:00:00\n",
      "0      21.0  Bolzano  16.042685  43.012409   5.870850  1379.670898  8.260839   86.0  68.241447 2016-01-01 09:00:00\n",
      "0      21.0  Bolzano  13.644862  39.985023   2.631054  1228.037598  6.995739   90.0  48.940365 2023-01-01 00:00:00\n",
      "0      21.0  Bolzano  13.474796  37.858128   2.995677  1212.731689  6.388755   90.0  40.816189 2023-01-01 01:00:00\n",
      "0      21.0  Bolzano  14.629011  35.366184   3.798746  1316.610962  5.260891   90.0  27.676981 2023-01-01 02:00:00\n",
      "0      21.0  Bolzano  14.495240  37.107811   3.908966  1304.571655  5.551257   90.0  30.816452 2023-01-01 03:00:00\n",
      "0      21.0  Bolzano  14.417082  37.649899   3.241951  1297.537354  5.294727   90.0  28.034134 2023-01-01 04:00:00\n",
      "0      21.0  Bolzano  13.637364  37.155586   2.691308  1227.362793  5.687260   90.0  32.344929 2023-01-01 05:00:00\n",
      "0      21.0  Bolzano  13.779323  36.307030   2.776687  1240.139038  6.090352   90.0  37.092384 2023-01-01 06:00:00\n",
      "0      21.0  Bolzano  14.710198  36.987331   2.983938  1323.917847  6.964627   90.0  48.506035 2023-01-01 07:00:00\n",
      "0      21.0  Bolzano  14.377354  35.288395   3.945559  1293.961792  6.120421   90.0  37.459553 2023-01-01 08:00:00\n",
      "0      21.0  Bolzano  13.707719  33.571262   4.177078  1233.694702  5.835937   90.0  34.058159 2023-01-01 09:00:00\n",
      "0      21.0  Bolzano   8.468512  21.117188   2.061523   728.291992  4.269690   86.0  18.230247 2019-01-01 00:00:00\n",
      "0      21.0  Bolzano  12.443973  28.539062   4.380859  1070.181641  5.405095   86.0  29.215052 2019-01-01 01:00:00\n",
      "0      21.0  Bolzano  14.152775  32.546875   5.673828  1217.138672  6.430618   86.0  41.352844 2019-01-01 02:00:00\n",
      "0      21.0  Bolzano  15.041288  37.796875   5.302734  1293.550781  6.965626   86.0  48.519939 2019-01-01 03:00:00\n",
      "0      21.0  Bolzano  15.569132  41.109375   4.822266  1338.945312  7.220431   86.0  52.134624 2019-01-01 04:00:00\n",
      "0      21.0  Bolzano  15.542129  44.265625   5.808594  1336.623047  7.797285   86.0  60.797653 2019-01-01 05:00:00\n",
      "0      21.0  Bolzano  15.430687  51.515625   4.919922  1327.039062  8.928801   86.0  79.723473 2019-01-01 06:00:00\n",
      "0      21.0  Bolzano  15.738441  51.750000   4.597656  1353.505859  8.741134   86.0  76.407417 2019-01-01 07:00:00\n",
      "0      21.0  Bolzano  16.962755  53.312500   5.470703  1458.796875  8.936671   86.0  79.864098 2019-01-01 08:00:00\n",
      "0      21.0  Bolzano  15.786837  41.234375   6.277344  1357.667969  7.259879   86.0  52.705845 2019-01-01 09:00:00\n",
      "0      21.0  Bolzano   3.828206   6.432890   1.838283   329.225708  0.901833   86.0   0.813303 2015-01-01 00:00:00\n",
      "0      21.0  Bolzano  20.383217  35.246628   6.403221  1752.956665  6.797518   86.0  46.206253 2015-01-01 01:00:00\n",
      "0      21.0  Bolzano  21.248377  30.837358   8.346404  1827.360352  6.078997   86.0  36.954205 2015-01-01 02:00:00\n",
      "0      21.0  Bolzano  21.111076  30.845261  10.040588  1815.552490  5.554998   86.0  30.858004 2015-01-01 03:00:00\n",
      "0      21.0  Bolzano  20.827063  29.811754   9.375366  1791.127441  4.629803   86.0  21.435076 2015-01-01 04:00:00\n",
      "0      21.0  Bolzano  18.267454  29.046450   8.073700  1571.001099  4.072859   86.0  16.588182 2015-01-01 05:00:00\n",
      "0      21.0  Bolzano  18.009497  33.981174   7.947958  1548.816650  4.093228   86.0  16.754515 2015-01-01 06:00:00\n",
      "0      21.0  Bolzano  16.863920  38.421871   6.931770  1450.297119  4.408608   86.0  19.435829 2015-01-01 07:00:00\n",
      "0      21.0  Bolzano  14.508920  35.656246   5.341200  1247.767090  4.716558   86.0  22.245916 2015-01-01 08:00:00\n",
      "0      21.0  Bolzano  15.752198  39.968746  10.545852  1354.689087  4.350907   86.0  18.930391 2015-01-01 09:00:00\n",
      "0      21.0  Bolzano   8.350098  14.757812   3.518554   718.108398  2.775400   86.0   7.702844 2018-01-01 00:00:00\n",
      "0      21.0  Bolzano  10.963844  19.492186   4.009766   942.890625  4.234241   86.0  17.928797 2018-01-01 01:00:00\n",
      "0      21.0  Bolzano  12.610079  20.664062   4.468750  1084.466797  4.211354   86.0  17.735506 2018-01-01 02:00:00\n",
      "0      21.0  Bolzano  13.395054  20.320311   6.177734  1151.974609  3.739786   86.0  13.985999 2018-01-01 03:00:00\n",
      "0      21.0  Bolzano  14.527684  21.773436   7.355469  1249.380859  3.791712   86.0  14.377079 2018-01-01 04:00:00\n",
      "0      21.0  Bolzano  14.394668  24.156250   5.720703  1237.941406  4.641373   86.0  21.542339 2018-01-01 05:00:00\n",
      "0      21.0  Bolzano  15.243323  30.570311   4.511719  1310.925781  6.401109   86.0  40.974201 2018-01-01 06:00:00\n",
      "0      21.0  Bolzano  15.497093  33.593746   4.375000  1332.750000  7.588428   86.0  57.584232 2018-01-01 07:00:00\n",
      "0      21.0  Bolzano  14.757540  34.296871   4.138671  1269.148438  7.806887   86.0  60.947487 2018-01-01 08:00:00\n",
      "0      21.0  Bolzano  13.093943  32.437500   2.882812  1126.079102  7.464456   86.0  55.718102 2018-01-01 09:00:00\n",
      "0      21.0  Bolzano   5.948267  14.835684   2.496512   535.343994  2.808218   90.0   7.886086 2022-01-01 00:00:00\n",
      "0      21.0  Bolzano   6.470805  15.053956   3.139874   582.372437  2.944684   90.0   8.671165 2022-01-01 01:00:00\n",
      "0      21.0  Bolzano   6.926725  16.156466   3.107774   623.405273  3.520152   90.0  12.391471 2022-01-01 02:00:00\n",
      "0      21.0  Bolzano   7.060172  17.864979   3.564056   635.415466  3.436535   90.0  11.809773 2022-01-01 03:00:00\n",
      "0      21.0  Bolzano   6.761189  13.729505   3.506670   608.506958  2.941129   90.0   8.650239 2022-01-01 04:00:00\n",
      "0      21.0  Bolzano   6.253847  11.546068   2.672441   562.846191  2.084761   90.0   4.346229 2022-01-01 05:00:00\n",
      "0      21.0  Bolzano   5.857891  11.356084   2.542640   527.210205  2.055606   90.0   4.225518 2022-01-01 06:00:00\n",
      "0      21.0  Bolzano   6.985225  15.330854   2.590951   628.670227  2.717595   90.0   7.385322 2022-01-01 07:00:00\n",
      "0      21.0  Bolzano   6.580632  12.405763   2.455990   592.256897  2.309484   90.0   5.333716 2022-01-01 08:00:00\n",
      "0      21.0  Bolzano   7.370605  14.720527   2.242331   663.354431  2.807169   90.0   7.880200 2022-01-01 09:00:00\n",
      "0      21.0  Bolzano   9.923965  27.058838   1.152592   893.156921  6.106731   90.0  37.292164 2024-01-01 00:00:00\n",
      "0      21.0  Bolzano   9.812534  24.807381   2.052291   883.128113  5.711003   90.0  32.615551 2024-01-01 01:00:00\n",
      "0      21.0  Bolzano   9.145234  27.036606   1.957005   823.071106  5.685853   90.0  32.328926 2024-01-01 02:00:00\n",
      "0      21.0  Bolzano   7.755931  23.483150   1.831720   698.033813  5.099255   90.0  26.002398 2024-01-01 03:00:00\n",
      "0      21.0  Bolzano   6.854888  20.740118   2.023171   616.939941  4.661858   90.0  21.732922 2024-01-01 04:00:00\n",
      "0      21.0  Bolzano   7.017793  20.514364   2.185516   631.601379  4.665426   90.0  21.766201 2024-01-01 05:00:00\n",
      "0      21.0  Bolzano   7.134868  21.587311   2.221441   642.138123  4.368915   90.0  19.087414 2024-01-01 06:00:00\n",
      "0      21.0  Bolzano   7.755597  23.733265   1.972644   698.003723  4.901574   90.0  24.025431 2024-01-01 07:00:00\n",
      "0      21.0  Bolzano   8.113527  23.562336   2.187335   730.217468  4.804283   90.0  23.081131 2024-01-01 08:00:00\n",
      "0      21.0  Bolzano   8.068154  21.375399   2.854186   726.133911  4.095960   90.0  16.776890 2024-01-01 09:00:00\n",
      "CPU times: user 2.45 s, sys: 141 ms, total: 2.59 s\n",
      "Wall time: 2.55 s\n"
     ]
    }
   ],
   "execution_count": 6
  },
  {
   "metadata": {},
   "cell_type": "markdown",
   "source": "La configurazione dell'hardware che ho usato per questa analisi è quella di un **Dell XPS15 9530 con CPU i7-13700H, RAM 64GB DDR5, GPU NVIDIA GeForce RTX4050 con 6GB GDDR6**.",
   "id": "e5755060c6435773"
  },
  {
   "metadata": {},
   "cell_type": "code",
   "outputs": [],
   "execution_count": null,
   "source": "",
   "id": "b453c95338e89a6f"
  }
 ],
 "metadata": {
  "kernelspec": {
   "display_name": "Python 3",
   "language": "python",
   "name": "python3"
  },
  "language_info": {
   "codemirror_mode": {
    "name": "ipython",
    "version": 2
   },
   "file_extension": ".py",
   "mimetype": "text/x-python",
   "name": "python",
   "nbconvert_exporter": "python",
   "pygments_lexer": "ipython2",
   "version": "2.7.6"
  }
 },
 "nbformat": 4,
 "nbformat_minor": 5
}
