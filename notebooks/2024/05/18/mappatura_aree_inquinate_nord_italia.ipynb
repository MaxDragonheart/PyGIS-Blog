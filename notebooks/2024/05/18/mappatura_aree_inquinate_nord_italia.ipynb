{
 "cells": [
  {
   "metadata": {},
   "cell_type": "markdown",
   "source": [
    "Qui troverai l'ultimo passo \"dell'avventura\" iniziata con [questo articolo](https://massimilianomoraca.me/blog/gis/pm10-nord-italia/) in cui riporto l'andamento del PM10 nel nord Italia nell'ultimo decennio. Il come ho proceduto all'analisi è riportato in [quest'altro articolo](https://massimilianomoraca.me/blog/pygis-blog/analisi-dellandamento-del-pm10-nel-nord-italia/).\n",
    "\n",
    "Lo scopo dell'articolo che stai per leggere è visualizzare su mappa le aree di analisi, cosa che fino ad ora non avevo mostrato.\n",
    "\n",
    "Tutto l'iter è stato bello lungo ed è per questo che l'ho dovuto suddividere in ben tre differenti articoli."
   ]
  },
  {
   "metadata": {},
   "cell_type": "markdown",
   "source": "# Prima di iniziare"
  },
  {
   "metadata": {},
   "cell_type": "markdown",
   "source": "## Librerie"
  },
  {
   "metadata": {},
   "cell_type": "markdown",
   "source": [
    "Come per tutti gli [articoli di PyGIS-Blog](https://massimilianomoraca.me/blog/pygis-blog/) inizio con l'elenco delle librerie usate. Una menzione speciale è per la funzione `xarray.open_mfdataset` perchè mi ha consentito di velocizzare tantissimo la lettura di tutti i file `.nc` grazie al nativo supporto a `dask.delayed`. \n",
    "\n",
    "Devo approfondire Dask appena ho tempo e [Dask Delayed](https://docs.dask.org/en/stable/delayed.html) sembra un buon punto di partenza pratico su cui lavorare per il mio solito training on the job :)"
   ]
  },
  {
   "metadata": {},
   "cell_type": "code",
   "source": [
    "from pathlib import Path\n",
    "import xarray as xr\n",
    "import geopandas as gpd\n",
    "import matplotlib.pyplot as plt\n",
    "from matplotlib import patheffects"
   ],
   "outputs": [],
   "execution_count": null
  },
  {
   "metadata": {},
   "cell_type": "markdown",
   "source": "## Fonti dati"
  },
  {
   "metadata": {},
   "cell_type": "markdown",
   "source": "Come già spiegato nei precedenti articoli di questa involontaria miniserie, i dati usati sono quelli distributi dal Copernicus Atmosphere Monitoring Service. In particolare ho usato dati con una copertura temporale che va dal 2013 a marzo 2024."
  },
  {
   "metadata": {},
   "cell_type": "code",
   "source": [
    "nc_data_path = Path(\"/home/max/Desktop/pianura_padana/processed/netcdf\")\n",
    "\n",
    "nc_files = list(nc_data_path.glob(\"*.nc\"))\n",
    "\n",
    "nc_files"
   ],
   "outputs": [],
   "execution_count": null
  },
  {
   "metadata": {},
   "cell_type": "markdown",
   "source": "L'area geografica è sempre quella dei precedenti due articoli, la riporto comunque di seguito per completezza."
  },
  {
   "metadata": {},
   "cell_type": "code",
   "source": [
    "main_city_path = Path.cwd().joinpath('data', 'citta_significative.shp')\n",
    "main_city = gpd.read_file(main_city_path)\n",
    "\n",
    "target_zones_boundaries = Path.cwd().parent.parent.parent.parent.joinpath('sample_data').joinpath('ProvCM01012023_g').joinpath('ProvCM01012023_g_WGS84.shp')\n",
    "\n",
    "target_zones = gpd.read_file(target_zones_boundaries)\n",
    "target_zones = target_zones[target_zones['COD_REG'].isin(list(range(1, 12)))]\n",
    "target_zones = target_zones.to_crs(4326).sort_values('DEN_UTS')\n",
    "\n",
    "\n",
    "fig1, ax1 = plt.subplots(figsize=(10, 10))\n",
    "target_zones.plot(\n",
    "    ax=ax1,\n",
    "    facecolor=\"none\", \n",
    "    edgecolor=\"black\",\n",
    "    linewidth=2.0\n",
    ")\n",
    "for _index, _row in main_city.iterrows():\n",
    "    coordinates = _row.geometry.xy\n",
    "    ax1.scatter(\n",
    "        *coordinates,\n",
    "        s=250,\n",
    "        marker=\"*\",\n",
    "        facecolor='red',\n",
    "        edgecolor='black'\n",
    "    )\n",
    "    plt.text(\n",
    "        x=coordinates[0][0],\n",
    "        y=coordinates[1][0],\n",
    "        s=_row.citta,\n",
    "        fontdict=dict(color='black', size=8),\n",
    "        bbox=dict(facecolor='white', alpha=0.75)\n",
    "    )\n",
    "plt.show()"
   ],
   "outputs": [],
   "execution_count": null
  },
  {
   "metadata": {},
   "cell_type": "markdown",
   "source": "# Singolo file"
  },
  {
   "metadata": {},
   "cell_type": "markdown",
   "source": "## Lettura del `.nc`"
  },
  {
   "metadata": {},
   "cell_type": "markdown",
   "source": "Prima di iterare tutto il processo sull'intero arco temporale ho preferito effettuare delle verifiche su un solo anno, anche per prendere meglio confidenza con i dati."
  },
  {
   "metadata": {},
   "cell_type": "code",
   "source": [
    "single_dataset = xr.open_dataset(\n",
    "    filename_or_obj='/home/max/Desktop/pianura_padana/processed/netcdf/particulate_matter_10um-2013-reanalyses.nc',\n",
    "    engine=\"netcdf4\",\n",
    "    decode_coords=\"all\",\n",
    ")\n",
    "\n",
    "single_dataset"
   ],
   "outputs": [],
   "execution_count": null
  },
  {
   "metadata": {},
   "cell_type": "markdown",
   "source": "Come si può vedere, il Dataset del 2013 è composto da 8760 ore (24h x 365d) per un peso di ben 163MB. Ricordo che la risoluzione spaziale di questi dati è circa 7.5km x 7.5km."
  },
  {
   "metadata": {},
   "cell_type": "markdown",
   "source": "### Analisi sul singolo giorno"
  },
  {
   "metadata": {},
   "cell_type": "markdown",
   "source": "Di seguito punto all'estrazione e visualizzazione di una singola ora di un singolo giorno."
  },
  {
   "metadata": {},
   "cell_type": "code",
   "source": [
    "target_test_time = '2013-07-09T13:00:00'\n",
    "\n",
    "target_hour_selection = single_dataset.sel(time=target_test_time).to_array().squeeze()\n",
    "#target_hour_sel = target_hour_sel.rename({'lon': 'x', 'lat': 'y'})\n",
    "\n",
    "target_hour_selection"
   ],
   "outputs": [],
   "execution_count": null
  },
  {
   "metadata": {},
   "cell_type": "code",
   "source": [
    "s_min = target_hour_selection.min().values.round(2)\n",
    "s_max = target_hour_selection.max().values.round(2)\n",
    "\n",
    "print(f\"Nell'ora presa in considerazione si nota che il PM10 minimo era pari a {s_min} µg/m3 ed il massimo era {s_max} µg/m3\")"
   ],
   "outputs": [],
   "execution_count": null
  },
  {
   "metadata": {},
   "cell_type": "code",
   "source": [
    "fig2, ax2 = plt.subplots(figsize=(10, 10))\n",
    "target_zones.plot(\n",
    "    ax=ax2,\n",
    "    facecolor=\"none\", \n",
    "    edgecolor=\"black\",\n",
    "    linewidth=2.0\n",
    ")\n",
    "target_hour_selection.plot.imshow(\n",
    "    ax=ax2,\n",
    "    cmap='inferno',\n",
    ")\n",
    "for _index, _row in main_city.iterrows():\n",
    "    coordinates = _row.geometry.xy\n",
    "    ax2.scatter(\n",
    "        *coordinates,\n",
    "        s=250,\n",
    "        marker=\"*\",\n",
    "        facecolor='red',\n",
    "        edgecolor='black'\n",
    "    )\n",
    "    plt.text(\n",
    "        x=coordinates[0][0],\n",
    "        y=coordinates[1][0],\n",
    "        s=_row.citta,\n",
    "        fontdict=dict(color='black', size=8),\n",
    "        bbox=dict(facecolor='white', alpha=0.75)\n",
    "    )\n",
    "plt.title(f\"Distribuzione del PM10 per il {target_test_time}\")\n",
    "plt.show()"
   ],
   "outputs": [],
   "execution_count": null
  },
  {
   "metadata": {},
   "cell_type": "markdown",
   "source": "## Conteggio degli sforamenti in un anno"
  },
  {
   "metadata": {},
   "cell_type": "markdown",
   "source": "Di seguito calcolo la media giornaliera per tutto l'anno in esame."
  },
  {
   "metadata": {},
   "cell_type": "code",
   "source": [
    "daily_data = single_dataset.resample(time='D').mean('time')  \n",
    "\n",
    "daily_data"
   ],
   "outputs": [],
   "execution_count": null
  },
  {
   "metadata": {},
   "cell_type": "markdown",
   "source": "Quindi seleziono le sole celle che sforano il limite di 50 µg/m3 previsti dalla normativa."
  },
  {
   "metadata": {},
   "cell_type": "code",
   "source": [
    "daily_data_target = daily_data.copy()\n",
    "daily_data_target['particulate_matter_10um'] = xr.where(daily_data['particulate_matter_10um'] >= 50, 1, 0)\n",
    "\n",
    "daily_data_target"
   ],
   "outputs": [],
   "execution_count": null
  },
  {
   "metadata": {},
   "cell_type": "markdown",
   "source": "I pixel che sforano il limite li ho sostituiti con il valore 1 e gli altri con 0, in questo modo con il passaggio successivo ho potuto calcolare quante volte viene sforato il limite."
  },
  {
   "metadata": {},
   "cell_type": "code",
   "source": [
    "year_data = daily_data_target.resample(time='YE').sum('time')  \n",
    "\n",
    "year_data"
   ],
   "outputs": [],
   "execution_count": null
  },
  {
   "metadata": {},
   "cell_type": "code",
   "source": [
    "y_min = year_data.min().to_array().values[0]\n",
    "y_max = year_data.max().to_array().values[0]\n",
    "law_limit = 35\n",
    "\n",
    "print(f\"Nell'anno preso in considerazione i valori di PM10 limite previsti dalla normativa sono stati sforati per un massimo di {y_max} volte. Il limite normativo è {law_limit}.\")"
   ],
   "outputs": [],
   "execution_count": null
  },
  {
   "metadata": {},
   "cell_type": "code",
   "source": [
    "fig3, ax3 = plt.subplots(figsize=(10, 10))\n",
    "target_zones.plot(\n",
    "    ax=ax3,\n",
    "    facecolor=\"none\", \n",
    "    edgecolor=\"black\",\n",
    "    linewidth=2.0\n",
    ")\n",
    "year_data_img = year_data.to_array().squeeze().plot.imshow(\n",
    "    ax=ax3,\n",
    "    cmap='inferno',\n",
    "    vmin=y_min,\n",
    "    vmax=y_max,\n",
    "    add_colorbar=False,\n",
    ")\n",
    "cbar_ax3 = plt.colorbar(\n",
    "    year_data_img, \n",
    "    ax=ax3,\n",
    "    orientation='horizontal',\n",
    "    fraction=0.046, \n",
    "    pad=0.07,\n",
    ")\n",
    "cbar_ax3.set_label('Conteggio sforamenti')\n",
    "cbar_ax3.set_ticks([y_min, law_limit, y_max])\n",
    "cbar_ax3.set_ticklabels([str(y_min), str(law_limit), str(y_max)])\n",
    "for _index, _row in main_city.iterrows():\n",
    "    coordinates = _row.geometry.xy\n",
    "    ax3.scatter(\n",
    "        *coordinates,\n",
    "        s=250,\n",
    "        marker=\"*\",\n",
    "        facecolor='red',\n",
    "        edgecolor='black'\n",
    "    )\n",
    "    plt.text(\n",
    "        x=coordinates[0][0],\n",
    "        y=coordinates[1][0],\n",
    "        s=_row.citta,\n",
    "        fontdict=dict(color='black', size=8),\n",
    "        bbox=dict(facecolor='white', alpha=0.75)\n",
    "    )\n",
    "plt.title(\"Mappatura degli sforamenti del limite normativo di PM10 per l'anno preso in considerazione.\")\n",
    "plt.show()"
   ],
   "outputs": [],
   "execution_count": null
  },
  {
   "metadata": {},
   "cell_type": "markdown",
   "source": "Ora voglio visualizzare solo le aree che hanno effettivamente sforato il limite normativo di 35 sforamenti annui."
  },
  {
   "metadata": {},
   "cell_type": "code",
   "source": [
    "year_data_limit = year_data.where(year_data >= 35)\n",
    "\n",
    "fig4, ax4 = plt.subplots(figsize=(10, 10))\n",
    "target_zones.plot(\n",
    "    ax=ax4,\n",
    "    facecolor=\"none\", \n",
    "    edgecolor=\"black\",\n",
    "    linewidth=2.0\n",
    ")\n",
    "year_data_img_limit = year_data_limit.to_array().squeeze().plot.imshow(\n",
    "    ax=ax4,\n",
    "    cmap='inferno',\n",
    "    vmin=law_limit,\n",
    "    vmax=y_max,\n",
    "    add_colorbar=False,\n",
    ")\n",
    "cbar_ax4 = plt.colorbar(\n",
    "    year_data_img_limit, \n",
    "    ax=ax4,\n",
    "    orientation='horizontal',\n",
    "    fraction=0.046, \n",
    "    pad=0.07,\n",
    ")\n",
    "cbar_ax4.set_label('Conteggio sforamenti')\n",
    "cbar_ax4.set_ticks([law_limit, y_max])\n",
    "cbar_ax4.set_ticklabels([str(law_limit), str(y_max)])\n",
    "for _index, _row in main_city.iterrows():\n",
    "    coordinates = _row.geometry.xy\n",
    "    ax4.scatter(\n",
    "        *coordinates,\n",
    "        s=250,\n",
    "        marker=\"*\",\n",
    "        facecolor='red',\n",
    "        edgecolor='black'\n",
    "    )\n",
    "    plt.text(\n",
    "        x=coordinates[0][0],\n",
    "        y=coordinates[1][0],\n",
    "        s=_row.citta,\n",
    "        fontdict=dict(color='black', size=8),\n",
    "        bbox=dict(facecolor='white', alpha=0.75)\n",
    "    )\n",
    "plt.title(\"Mappatura degli sforamenti del limite normativo di PM10 per l'anno preso in considerazione.\")\n",
    "plt.show()"
   ],
   "outputs": [],
   "execution_count": null
  },
  {
   "metadata": {},
   "cell_type": "markdown",
   "source": "# Analisi di tutti i file"
  },
  {
   "metadata": {},
   "cell_type": "markdown",
   "source": "Ora che ho familiarizzato con il dato del singolo anno procedo ad analizzare tutto in una unica volta."
  },
  {
   "metadata": {},
   "cell_type": "code",
   "source": [
    "%%time\n",
    "\n",
    "complete_dataset = []\n",
    "\n",
    "for nc_file in nc_files:\n",
    "    dataset = xr.open_mfdataset(\n",
    "        paths=nc_file,\n",
    "        engine=\"netcdf4\",\n",
    "        decode_coords=\"all\",\n",
    "        parallel=True,\n",
    "        chunks={'time': 24},\n",
    "    )\n",
    "    complete_dataset.append(dataset)\n",
    "\n",
    "full_dataset = xr.concat(complete_dataset, dim=\"time\")\n",
    "full_dataset = full_dataset.sortby('time')\n",
    "\n",
    "full_dataset"
   ],
   "outputs": [],
   "execution_count": null
  },
  {
   "metadata": {},
   "cell_type": "markdown",
   "source": "Da notare che l'intero dataset pesa 20GB!"
  },
  {
   "metadata": {},
   "cell_type": "markdown",
   "source": "Procedo con il calcolo della media giornaliera e la sostituzione dei valori di sforamento con 1."
  },
  {
   "metadata": {},
   "cell_type": "code",
   "source": [
    "%%time\n",
    "\n",
    "full_dataset_daily_data = full_dataset.resample(time='D').mean('time')  \n",
    "\n",
    "full_dataset_daily_data"
   ],
   "outputs": [],
   "execution_count": null
  },
  {
   "metadata": {},
   "cell_type": "code",
   "source": [
    "%%time\n",
    "\n",
    "full_dataset_daily_data_target = full_dataset_daily_data.copy()\n",
    "full_dataset_daily_data_target['particulate_matter_10um'] = xr.where(full_dataset_daily_data_target['particulate_matter_10um'] > 50, 1, 0)\n",
    "\n",
    "full_dataset_daily_data_target"
   ],
   "outputs": [],
   "execution_count": null
  },
  {
   "metadata": {},
   "cell_type": "markdown",
   "source": "A questo punto posso conteggiare gli sforamenti per tutto il dataset"
  },
  {
   "metadata": {},
   "cell_type": "code",
   "source": [
    "full_dataset_year_data = full_dataset_daily_data_target.resample(time='YE').sum('time')  \n",
    "full_dataset_year_data = full_dataset_year_data.where(full_dataset_year_data >= 35)\n",
    "full_dataset_year_data"
   ],
   "outputs": [],
   "execution_count": null
  },
  {
   "metadata": {},
   "cell_type": "markdown",
   "source": "Il dataset a questo punto si è ridotto tantissimo in peso."
  },
  {
   "metadata": {},
   "cell_type": "code",
   "source": [
    "full_max = full_dataset_year_data.max().to_array().values[0]\n",
    "full_max\n",
    "print(f\"Nell'anno preso in considerazione i valori di PM10 limite previsti dalla normativa sono stati sforati per un massimo di {y_max} volte\")"
   ],
   "outputs": [],
   "execution_count": null
  },
  {
   "metadata": {},
   "cell_type": "code",
   "source": [
    "%%time\n",
    "\n",
    "\n",
    "dataset_list = []\n",
    "variable = 'particulate_matter_10um'\n",
    "target_shape = (50, 90)\n",
    "img_folder = Path.cwd().joinpath('img')\n",
    "final_main_city = main_city[~main_city['citta'].isin(['Ginevra', 'Monaco'])]\n",
    "x_offset = 0.05\n",
    "y_offset = -0.05\n",
    "\n",
    "for nc_file in nc_files:\n",
    "    dataset = xr.open_mfdataset(\n",
    "        paths=nc_file,\n",
    "        engine=\"netcdf4\",\n",
    "        decode_coords=\"all\",\n",
    "        parallel=True,\n",
    "        chunks={'time': 24},\n",
    "    )\n",
    "    dataset = dataset.sortby('time')\n",
    "    \n",
    "    daily_mean = dataset.resample(time='D').mean('time')  \n",
    "\n",
    "    anomaly = daily_mean.copy()\n",
    "    anomaly[variable] = xr.where(daily_mean[variable] >= 50, 1, 0)\n",
    "    \n",
    "    out_layer = anomaly.resample(time='YE').sum('time')  \n",
    "    out_layer = out_layer.where(out_layer >= 35)\n",
    "    year = str(out_layer['time'].values[0])[:4]\n",
    "\n",
    "    fig5, ax5 = plt.subplots(figsize=(10, 10))\n",
    "    target_zones.plot(\n",
    "        ax=ax5,\n",
    "        facecolor=\"none\", \n",
    "        edgecolor=\"black\",\n",
    "        linewidth=1.5\n",
    "    )\n",
    "    year_data_img_limit = out_layer.to_array().squeeze().plot.imshow(\n",
    "        ax=ax5,\n",
    "        cmap='autumn',\n",
    "        vmin=law_limit,\n",
    "        vmax=full_max,\n",
    "        add_colorbar=False,\n",
    "    )\n",
    "    cbar_ax5 = plt.colorbar(\n",
    "        year_data_img_limit, \n",
    "        ax=ax5,\n",
    "        orientation='horizontal',\n",
    "        fraction=0.046, \n",
    "        pad=0.07,\n",
    "    )\n",
    "    cbar_ax5.set_label('Conteggio sforamenti')\n",
    "    cbar_ax5.set_ticks([law_limit, 40, 45, 50, 55, 60, 65, 70,  full_max])\n",
    "    cbar_ax5.set_ticklabels([str(law_limit), str(40), str(45), str(50), str(55), str(60), str(65), str(70), str(full_max)])\n",
    "    for _index, _row in final_main_city.iterrows():\n",
    "        coordinates = _row.geometry.xy\n",
    "        label = plt.text(\n",
    "            x=coordinates[0][0] + x_offset,\n",
    "            y=coordinates[1][0] + y_offset,\n",
    "            s=_row.citta,\n",
    "            fontdict=dict(color='black', size=8),\n",
    "            path_effects=[patheffects.withStroke(linewidth=3, foreground='white')]\n",
    "        )\n",
    "        label.set_path_effects([patheffects.withStroke(linewidth=3, foreground='white')])\n",
    "    plt.title(f\"Mappatura degli sforamenti del limite normativo di PM10 per l'anno {year}\")\n",
    "    \n",
    "    # Save chart\n",
    "    chart_name = f'anno_{year}.jpg'\n",
    "    plt.savefig(img_folder.joinpath(chart_name))\n"
   ],
   "outputs": [],
   "execution_count": null
  },
  {
   "metadata": {},
   "cell_type": "code",
   "source": "",
   "outputs": [],
   "execution_count": null
  }
 ],
 "metadata": {
  "kernelspec": {
   "display_name": "Python 3",
   "language": "python",
   "name": "python3"
  },
  "language_info": {
   "codemirror_mode": {
    "name": "ipython",
    "version": 2
   },
   "file_extension": ".py",
   "mimetype": "text/x-python",
   "name": "python",
   "nbconvert_exporter": "python",
   "pygments_lexer": "ipython2",
   "version": "2.7.6"
  }
 },
 "nbformat": 4,
 "nbformat_minor": 0
}
