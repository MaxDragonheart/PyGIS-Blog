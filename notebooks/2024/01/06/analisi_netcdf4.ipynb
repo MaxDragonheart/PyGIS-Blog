{
 "cells": [
  {
   "cell_type": "markdown",
   "id": "2acd72c7",
   "metadata": {},
   "source": [
    "Comprendiamo insieme cosa possono contenere i file NetCDF e come possono essere gestiti con Python"
   ]
  },
  {
   "cell_type": "markdown",
   "id": "5d9f136d",
   "metadata": {},
   "source": [
    "## Prima di iniziare"
   ]
  },
  {
   "cell_type": "markdown",
   "id": "b43ac340",
   "metadata": {},
   "source": [
    "\n",
    "### Librerie\n",
    "Per raggiungere l'obiettivo userò principalmente `xarray`. In aggiunta userò `geopandas`, `datetime`, `pathlib` e `matplotlib`; quest'ultima per motivi di rappresentazione grafica dei dati."
   ]
  },
  {
   "cell_type": "code",
   "execution_count": null,
   "id": "initial_id",
   "metadata": {
    "ExecuteTime": {
     "end_time": "2024-01-05T17:51:07.703289094Z",
     "start_time": "2024-01-05T17:51:07.206930817Z"
    },
    "collapsed": true
   },
   "outputs": [],
   "source": [
    "from pathlib import Path\n",
    "from datetime import datetime\n",
    "import xarray as xr\n",
    "import geopandas as gpd\n",
    "import matplotlib.pyplot as plt"
   ]
  },
  {
   "cell_type": "markdown",
   "id": "1f1c0b23",
   "metadata": {},
   "source": [
    "### Fonti dati"
   ]
  },
  {
   "cell_type": "markdown",
   "id": "0c18a155",
   "metadata": {},
   "source": [
    "Per questa attività userò i dati prelavati dal CAMS - [Copernicus Atmosphere Monitoring Service](https://atmosphere.copernicus.eu/) e da ISTAT. Come vedremo, i dati ISTAT li ho usati per riuscire ad orientarmi meglio con le mappe prodotte.\n"
   ]
  },
  {
   "cell_type": "code",
   "execution_count": null,
   "id": "e75af693136fa7a3",
   "metadata": {
    "ExecuteTime": {
     "end_time": "2024-01-05T17:51:07.746802562Z",
     "start_time": "2024-01-05T17:51:07.745928753Z"
    },
    "collapsed": false
   },
   "outputs": [],
   "source": [
    "main_path = Path.cwd()\n",
    "netcdf_path = main_path.joinpath('adaptor.cams_regional_fc.retrieve-1704441246.9534526-29460-11-5d3bb664-261d-4612-a637-a64b63cffaeb.nc')\n",
    "boundaries_path = main_path.joinpath('Reg01012023_g').joinpath('Reg01012023_g_WGS84.shp')\n",
    "pm10_img = main_path.joinpath('img_pm10')\n"
   ]
  },
  {
   "cell_type": "markdown",
   "id": "bf4bfbb8",
   "metadata": {},
   "source": [
    "## Contenuti\n",
    "- [Il formato NetCDF](#il-formato-netcdf)\n",
    "- [Workaround](#workaround)\n",
    "- [PM10](#pm10)\n",
    "- [Analisi delle 48h](#analisi-delle-48h)\n",
    "- [Animazione dei dati](#animazione-dei-dati)\n",
    "- [Conclusione](#conclusione)"
   ]
  },
  {
   "cell_type": "markdown",
   "id": "865261e5",
   "metadata": {},
   "source": [
    "## Il formato NetCDF"
   ]
  },
  {
   "cell_type": "markdown",
   "id": "388b23c4",
   "metadata": {},
   "source": [
    "Il NetCDF è un formato file *array-oriented* spesso usato in campo scientifico, climatologico ed oceanografico. La particolarità di questo formato file sta nel fatto che i dati in esso contenuti, disposti sotto forma di matrici, riproducono sia la natura del fenomeno osservato che la sua temporalità. E' possibile storare in questo particolare tipo di formato file più fenomeni. Nel caso che andremo a vedere a breve, ad esempio, utilizzeremo un file `.nc` che contiene dati sia sul PM10 che sul SO2; entrambe le informazioni fanno riferimento allo stesso periodo temporale.\n",
    "\n",
    "Per un approfondimento ulteriore ti rimando a [questa](https://confluence.ecmwf.int/display/CKB/What+are+NetCDF+files+and+how+can+I+read+them) pagina.\n",
    "\n",
    "Di seguito utilizzerò `xarray` per leggere un NetCDF."
   ]
  },
  {
   "cell_type": "code",
   "execution_count": null,
   "id": "820f968f3f212c18",
   "metadata": {
    "ExecuteTime": {
     "end_time": "2024-01-05T17:51:07.902736025Z",
     "start_time": "2024-01-05T17:51:07.746096588Z"
    },
    "collapsed": false
   },
   "outputs": [],
   "source": [
    "netcdf_data = xr.open_dataset(netcdf_path)\n",
    "\n",
    "netcdf_data"
   ]
  },
  {
   "cell_type": "markdown",
   "id": "0b4b60f5",
   "metadata": {},
   "source": [
    "Il campo *Dimensions* contiene al suo interno il posizionamento geografico del dato, il riferimento temporale, che in questo caso corrisponde a 48h ed il `level` inteso come la quota di misurazione. Il dato che ho scaricato dal CAMS ha quindi una particolarità in più rispetto a quello che ho indicato in precedenza, oltre alla temporalità dello stesso c'è anche la quota altimetrica di misurazione(0, 50 e 100 metri). Come ho detto in precedenza, il formato NetCDF è *array-oriented*, può quindi gestire più domini purchè facciano riferimento alla stessa area geografica ed alla stessa temporalità.\n",
    "\n",
    "Gli array li vediamo nel campo *Coordinates* e, in questo caso, vanno a definire il dominio spazio-temporale del dato.\n",
    "\n",
    "Il dato in se, la concentrazione di inquinante, lo vediamo in *Data variables*.\n",
    "\n",
    "*Indexes* ci mostra quali sono gli indici a cui possiamo fare riferimento per le nostre query.\n",
    "\n",
    "*Attributes* è un campo abbastanza autoesplicativo."
   ]
  },
  {
   "cell_type": "markdown",
   "id": "d4af7d48",
   "metadata": {},
   "source": [
    "## Workaround"
   ]
  },
  {
   "cell_type": "markdown",
   "id": "c2dbe29d",
   "metadata": {},
   "source": [
    "Il periodo temporale di riferimento del dato che ho [scaricato](https://ads.atmosphere.copernicus.eu/cdsapp#!/search?type=dataset) è quello che va dal 31-12-2023 al 01-01-2024, le 48h riportate in *Dimensions*.\n",
    "\n",
    "La variable temporale nel campo *Coordinates* è salvata come `timedelta64[ns]`, cioè un time delta in nanosecondi."
   ]
  },
  {
   "cell_type": "code",
   "execution_count": null,
   "id": "07540f49",
   "metadata": {},
   "outputs": [],
   "source": [
    "netcdf_date_range = netcdf_data.coords['time']\n",
    "\n",
    "netcdf_date_range"
   ]
  },
  {
   "cell_type": "markdown",
   "id": "7dacba45",
   "metadata": {},
   "source": [
    "Ho dovuto quindi preventivamente convertirlo in un formato più comprensibile, il `datetime64`."
   ]
  },
  {
   "cell_type": "code",
   "execution_count": null,
   "id": "fdfbe2e9",
   "metadata": {},
   "outputs": [],
   "source": [
    "netcdf_date_range = netcdf_date_range.values.astype('datetime64')\n",
    "\n",
    "netcdf_date_range"
   ]
  },
  {
   "cell_type": "markdown",
   "id": "0fdd668f",
   "metadata": {},
   "source": [
    "Questo però ancora non è sufficiente ai miei scopi ed ho quindi creato una funzione che elimina i nanosecondi e mi restituisce la data e l'ora legata alla singola variabile. E' da notare che purtroppo questa tipologia di dato, nonostante il periodo temporale di riferimento fosse stato definito nel momento della ricerca dello stesso, parte dal 1 gennaio 1970."
   ]
  },
  {
   "cell_type": "code",
   "execution_count": null,
   "id": "3200e840ca5055da",
   "metadata": {
    "ExecuteTime": {
     "end_time": "2024-01-05T17:51:07.908815278Z",
     "start_time": "2024-01-05T17:51:07.903292508Z"
    },
    "collapsed": false
   },
   "outputs": [],
   "source": [
    "def from_datetime64_to_datetime(input_value) -> datetime:\n",
    "    to_string = str(input_value)\n",
    "    drop_nanoseconds = to_string.split('.')[0]\n",
    "\n",
    "    output_value = datetime.strptime(drop_nanoseconds, \"%Y-%m-%dT%H:%M:%S\")\n",
    "\n",
    "    return output_value\n"
   ]
  },
  {
   "cell_type": "code",
   "execution_count": null,
   "id": "cc89564a",
   "metadata": {},
   "outputs": [],
   "source": [
    "min_date = from_datetime64_to_datetime(netcdf_date_range.min())\n",
    "max_date = from_datetime64_to_datetime(netcdf_date_range.max())\n",
    "\n",
    "min_date.date(), max_date.date()"
   ]
  },
  {
   "cell_type": "markdown",
   "id": "eaddceac",
   "metadata": {},
   "source": [
    "Sono costretto quindi a crearmi una variabile `date_difference` che andrò ad usare per ottenere data ed ora di mio interesse grazie a `sensing_date`."
   ]
  },
  {
   "cell_type": "code",
   "execution_count": null,
   "id": "b3cf927ba6a66a90",
   "metadata": {
    "ExecuteTime": {
     "end_time": "2024-01-05T17:51:07.913748832Z",
     "start_time": "2024-01-05T17:51:07.907346304Z"
    },
    "collapsed": false
   },
   "outputs": [],
   "source": [
    "sensing_date = datetime.strptime(\"2023-12-31\", \"%Y-%m-%d\")\n",
    "\n",
    "date_difference = sensing_date - min_date\n",
    "\n",
    "date_difference"
   ]
  },
  {
   "cell_type": "code",
   "execution_count": null,
   "id": "77604c39809a78e",
   "metadata": {
    "ExecuteTime": {
     "end_time": "2024-01-05T17:51:07.941167515Z",
     "start_time": "2024-01-05T17:51:07.911197606Z"
    },
    "collapsed": false
   },
   "outputs": [],
   "source": [
    "date_range = []\n",
    "for x in netcdf_date_range:\n",
    "    to_datetime = from_datetime64_to_datetime(x)\n",
    "    target_date = to_datetime + date_difference\n",
    "\n",
    "    date_range.append(target_date)\n",
    "    \n",
    "    \n",
    "date_range"
   ]
  },
  {
   "cell_type": "markdown",
   "id": "53e68558",
   "metadata": {},
   "source": [
    "Grazie a questo workaround posso finalmente vedere nel NetCDF il periodo temporale di mio interesse andando a sostituire quello calcolato con quello esistente nel file."
   ]
  },
  {
   "cell_type": "code",
   "execution_count": null,
   "id": "3b872607f1e6b82b",
   "metadata": {
    "ExecuteTime": {
     "end_time": "2024-01-05T17:51:07.943063870Z",
     "start_time": "2024-01-05T17:51:07.929066874Z"
    },
    "collapsed": false
   },
   "outputs": [],
   "source": [
    "new_netcdf_data = netcdf_data.assign_coords({'time': date_range})\n",
    "\n",
    "new_netcdf_data"
   ]
  },
  {
   "cell_type": "markdown",
   "id": "064894d9",
   "metadata": {},
   "source": [
    "## PM10"
   ]
  },
  {
   "cell_type": "markdown",
   "id": "82c2df0d",
   "metadata": {},
   "source": [
    "Abbiamo in precedenza detto che il formato file in questione può contenere diverse variabili a cui possono essere collegate diverse quote e tempi.\n",
    "\n",
    "Di seguito estrarrò i dati della sola PM10 per la prima ora di misurazione a quota 0 metri."
   ]
  },
  {
   "cell_type": "code",
   "execution_count": null,
   "id": "e551ce848cebd7cf",
   "metadata": {
    "ExecuteTime": {
     "end_time": "2024-01-05T17:51:07.945333933Z",
     "start_time": "2024-01-05T17:51:07.940507562Z"
    },
    "collapsed": false
   },
   "outputs": [],
   "source": [
    "single_data = new_netcdf_data[dict(level=[0], time=[0])]\n",
    "single_data = single_data['pm10_conc']\n",
    "\n",
    "single_data"
   ]
  },
  {
   "cell_type": "code",
   "execution_count": null,
   "id": "82d0f9a019cf3672",
   "metadata": {
    "ExecuteTime": {
     "end_time": "2024-01-05T17:51:08.162129978Z",
     "start_time": "2024-01-05T17:51:07.943851138Z"
    },
    "collapsed": false
   },
   "outputs": [],
   "source": [
    "fig1, ax1 = plt.subplots(figsize=(10, 10))\n",
    "\n",
    "single_data.plot(\n",
    "    ax=ax1,\n",
    "    cmap='jet',\n",
    "    robust=True\n",
    ")\n",
    "\n",
    "plt.show()"
   ]
  },
  {
   "cell_type": "markdown",
   "id": "9664e1bd",
   "metadata": {},
   "source": [
    "Per orientarmi meglio aggiungerò i confini regionali di [ISTAT al 2023](https://www.istat.it/it/archivio/222527) che essendo in 32632 devo riproiettare in 4326 per poterli vedere su mappa insieme con dato sulla PM10."
   ]
  },
  {
   "cell_type": "code",
   "execution_count": null,
   "id": "d8b4b875b2e22cc8",
   "metadata": {
    "ExecuteTime": {
     "end_time": "2024-01-05T17:51:08.415130536Z",
     "start_time": "2024-01-05T17:51:08.162281757Z"
    },
    "collapsed": false
   },
   "outputs": [],
   "source": [
    "boundaries_data = gpd.read_file(boundaries_path).to_crs('EPSG:4326')\n",
    "\n",
    "boundaries_data"
   ]
  },
  {
   "cell_type": "code",
   "execution_count": null,
   "id": "b308a769734144b2",
   "metadata": {
    "ExecuteTime": {
     "end_time": "2024-01-05T17:51:08.867982855Z",
     "start_time": "2024-01-05T17:51:08.543598270Z"
    },
    "collapsed": false
   },
   "outputs": [],
   "source": [
    "fig2, ax2 = plt.subplots(figsize=(10, 10))\n",
    "plt.title(\"Concentrazione di pm10\")\n",
    "\n",
    "single_data.plot(\n",
    "    ax=ax2,\n",
    "    cmap='jet',\n",
    ")\n",
    "boundaries_data.boundary.plot(\n",
    "    ax=ax2,\n",
    "    edgecolor='white',\n",
    "    linewidth=0.75\n",
    ")\n",
    "\n",
    "plt.show()"
   ]
  },
  {
   "cell_type": "markdown",
   "id": "1c98a0c3",
   "metadata": {},
   "source": [
    "L'immagine ci dice che all'1 di notte di sabato 31 dicembre 2023 in Pianura Padana si producevano più di 100 µg/m3 di PM10."
   ]
  },
  {
   "cell_type": "markdown",
   "id": "f6b111de",
   "metadata": {},
   "source": [
    "## Analisi delle 48h"
   ]
  },
  {
   "cell_type": "markdown",
   "id": "211874b2",
   "metadata": {},
   "source": [
    "In precedenza abbiamo capito come interagire con un NetCDF e coome estrarre i dati di nostro insteresse. Di seguito andrò a lavorare sul livello 0 metri e sull'intera temporalità del dato andando a generare una immagine per ora."
   ]
  },
  {
   "cell_type": "code",
   "execution_count": null,
   "id": "81517e6e7788bcc5",
   "metadata": {
    "ExecuteTime": {
     "end_time": "2024-01-05T17:51:08.954098383Z",
     "start_time": "2024-01-05T17:51:08.760106391Z"
    },
    "collapsed": false
   },
   "outputs": [],
   "source": [
    "netcdf_lvl0 = new_netcdf_data[dict(level=[0])]\n",
    "\n",
    "pm10 = netcdf_lvl0['pm10_conc']\n",
    "\n",
    "pm10"
   ]
  },
  {
   "cell_type": "code",
   "execution_count": null,
   "id": "ed948358f747a47c",
   "metadata": {
    "ExecuteTime": {
     "end_time": "2024-01-05T17:51:08.954711685Z",
     "start_time": "2024-01-05T17:51:08.802113384Z"
    },
    "collapsed": false
   },
   "outputs": [],
   "source": [
    "min_pm10 = round(float(pm10.min().values), 2)\n",
    "max_pm10 = round(float(pm10.max().values), 2)\n",
    "mean_pm10 = round(float(pm10.mean().values), 2)\n",
    "std_pm10 = round(float(pm10.std().values), 2)\n",
    "\n",
    "f\"Concentrazioni di PM10[µg/m3] min: {min_pm10}, max: {max_pm10}, mean: {mean_pm10}, std: {std_pm10}\""
   ]
  },
  {
   "cell_type": "code",
   "execution_count": null,
   "id": "c40cac122546d9d",
   "metadata": {
    "ExecuteTime": {
     "end_time": "2024-01-05T17:51:23.617379877Z",
     "start_time": "2024-01-05T17:51:08.802228549Z"
    },
    "collapsed": false
   },
   "outputs": [],
   "source": [
    "for single_object in pm10:\n",
    "    object_date = from_datetime64_to_datetime(single_object.coords['time'].values)\n",
    "    map_title = f\"Concentrazione di {single_object.attrs['species'].split(' ')[0]} a 0m di quota | {object_date}\"\n",
    "    map_subtitle = f\"Tra il 31-12-2023 e 01-01-2024\\n la concentrazione massima è stata {max_pm10} µg/m3\\n e la minima {min_pm10} µg/m3\"\n",
    "\n",
    "    fig4, ax4 = plt.subplots(figsize=(10, 10))\n",
    "    \n",
    "    single_object.plot(\n",
    "        ax=ax4,\n",
    "        cmap='jet',\n",
    "        vmin=min_pm10,\n",
    "        vmax=max_pm10,\n",
    "        #robust=True,\n",
    "    )\n",
    "    boundaries_data.boundary.plot(\n",
    "        ax=ax4,\n",
    "        edgecolor='white',\n",
    "        linewidth=0.75\n",
    "    )\n",
    "    \n",
    "    plt.title(map_subtitle)\n",
    "    plt.suptitle(map_title)\n",
    "    plt.savefig(pm10_img.joinpath(f\"pm10_{object_date}.png\"))\n",
    "    plt.close()\n"
   ]
  },
  {
   "cell_type": "markdown",
   "id": "d039339d",
   "metadata": {},
   "source": [
    "## Animazione dei dati"
   ]
  },
  {
   "cell_type": "markdown",
   "id": "65c4d4de",
   "metadata": {},
   "source": [
    "In precedenza ho estratto e salvato in una apposita cartella le immagini orarie che riproducono la diffusione di PM10 sul territorio italiano nel periodo temporale di riferimento.\n",
    "\n",
    "Mi è sembrato interessante fare uno step in più che esula dalla comprensione su come si gestisce un `.nc` e cioè provare ad animare le immagini creando una [GIF](https://it.wikipedia.org/wiki/Graphics_Interchange_Format). Per fare ciò mi servirà `Pillow` ed in particolare la funzione `save`; [qui](https://pillow.readthedocs.io/en/stable/handbook/image-file-formats.html#gif) il link alla documentazione ufficiale."
   ]
  },
  {
   "cell_type": "code",
   "execution_count": null,
   "id": "d4213c8fb1e5eb0a",
   "metadata": {
    "ExecuteTime": {
     "start_time": "2024-01-05T17:51:23.842791378Z"
    },
    "collapsed": false
   },
   "outputs": [],
   "source": [
    "pm10_images = [img for img in pm10_img.glob(pattern='*.png')]\n",
    "\n",
    "pm10_images"
   ]
  },
  {
   "cell_type": "code",
   "execution_count": null,
   "id": "4198ab2a",
   "metadata": {},
   "outputs": [],
   "source": [
    "print(f\"Immagini totali: {len(pm10_images)}\")"
   ]
  },
  {
   "cell_type": "code",
   "execution_count": null,
   "id": "285ecf21",
   "metadata": {},
   "outputs": [],
   "source": [
    "from PIL import Image\n",
    "\n",
    "def build_gif(imgs_folder, duration: int = 100):\n",
    "    frame_list = [Image.open(img) for img in imgs_folder.glob(pattern='*.png')]\n",
    "\n",
    "    duration_frame = [duration for frame in range(0, len(frame_list))]\n",
    "    \n",
    "    first_frame = frame_list[0]\n",
    "    \n",
    "    first_frame.save(\n",
    "        fp=imgs_folder.joinpath('pm10.gif'), \n",
    "        save_all=True,\n",
    "        append_images=frame_list[1:],\n",
    "        duration=duration_frame,\n",
    "        loop=None,\n",
    "    )"
   ]
  },
  {
   "cell_type": "code",
   "execution_count": null,
   "id": "863b6bc3",
   "metadata": {},
   "outputs": [],
   "source": [
    "build_gif(\n",
    "    imgs_folder=pm10_img,\n",
    "    duration=500\n",
    "    )"
   ]
  },
  {
   "cell_type": "code",
   "execution_count": null,
   "id": "ce560896",
   "metadata": {},
   "outputs": [],
   "source": [
    "from IPython.display import Image as img_open\n",
    "\n",
    "img_open(open(pm10_img.joinpath('pm10.gif'), 'rb').read())"
   ]
  },
  {
   "cell_type": "markdown",
   "id": "aaa723de",
   "metadata": {},
   "source": [
    "## Conclusione"
   ]
  },
  {
   "cell_type": "markdown",
   "id": "b4a17113",
   "metadata": {},
   "source": [
    "Abbiamo visto non solo come poter leggere e gestire un file `.nc` ma anche come animare le immagini che eventualmente estraiamo dal file. Come abbiamo visto, la gestione di una file di questa tipologia non è immediata e spesso dobbiamo inventarci degli stratagemmi per poter ottenere in output quello che a noi interessa."
   ]
  }
 ],
 "metadata": {
  "kernelspec": {
   "display_name": "Python 3",
   "language": "python",
   "name": "python3"
  },
  "language_info": {
   "codemirror_mode": {
    "name": "ipython",
    "version": 3
   },
   "file_extension": ".py",
   "mimetype": "text/x-python",
   "name": "python",
   "nbconvert_exporter": "python",
   "pygments_lexer": "ipython3",
   "version": "3.10.12"
  }
 },
 "nbformat": 4,
 "nbformat_minor": 5
}
