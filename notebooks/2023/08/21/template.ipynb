{
 "cells": [
  {
   "cell_type": "markdown",
   "source": [
    "Quante evidenze archeologiche di epoca romana sono presenti in Italia?"
   ],
   "metadata": {
    "collapsed": false
   }
  },
  {
   "cell_type": "markdown",
   "source": [
    "Curiosando sul [Catalogo generale dei Beni Culturali](https://catalogo.beniculturali.it/) mi aspettavo di trovare una risposta ma non è stato così. Già solo accedendo al portale, senza applicare nessun tipo di filtro, effettuando uno zoom sull'area dei Campi Flegrei mi ritrovo nella situazione che segue."
   ],
   "metadata": {
    "collapsed": false
   }
  },
  {
   "cell_type": "markdown",
   "source": [
    "<p align=\"center\">\n",
    "  <img width=\"100%\" height=\"800px\" src=\"zoom_campi_flegrei.png\">\n",
    "</p>"
   ],
   "metadata": {
    "collapsed": false
   }
  },
  {
   "cell_type": "markdown",
   "source": [
    "E' presente il solo [Castello di Baia](https://www.campiflegreionline.it/Castello_di_Baia.html) in questa area, secondo il catalogo, ma nella realtà in quest'area possiamo trovare:\n",
    "- la [Piscina Mirabilis](https://piscinamirabilisbacoli.it/it)\n",
    "- la [Casina Vanvitelliana](https://www.prolococittadibacoli.it/casina-vanvitelliana/)\n",
    "- [Baia sommersa](https://www.baiasommersa.it/)\n",
    "- il [Tempio di Serapide](http://www.pafleg.it/it/4388/localita/67/macellum-tempio-di-serapide)\n",
    "- il [Parco archeologico del Pausilypon](https://www.areamarinaprotettagaiola.it/pausilypon)\n",
    "\n",
    "Solo per citare i luoghi che conosco per averli visitati direttamente, ma ce ne sono tanti altri."
   ],
   "metadata": {
    "collapsed": false
   }
  },
  {
   "cell_type": "markdown",
   "source": [
    "Così ho deciso di usare i superpoteri di Python e [OpenStreetMap](https://www.openstreetmap.org/) per darmi una risposta."
   ],
   "metadata": {
    "collapsed": false
   }
  },
  {
   "cell_type": "markdown",
   "source": [
    "## Prima di iniziare"
   ],
   "metadata": {
    "collapsed": false
   }
  },
  {
   "cell_type": "markdown",
   "metadata": {},
   "source": [
    "\n",
    "### Librerie\n",
    "Per raggiungere l'obiettivo userò le librerie che seguono."
   ]
  },
  {
   "cell_type": "code",
   "execution_count": 8,
   "metadata": {
    "ExecuteTime": {
     "end_time": "2023-08-20T15:38:40.792715254Z",
     "start_time": "2023-08-20T15:38:40.768413796Z"
    }
   },
   "outputs": [],
   "source": [
    "from pathlib import Path\n",
    "import geopandas as gpd\n",
    "from matplotlib import pyplot as plt\n",
    "import osmnx as ox"
   ]
  },
  {
   "cell_type": "markdown",
   "metadata": {},
   "source": [
    "### Fonti dati\n",
    "Oltre ai dati di OpenStreetMap userò i confini comunali generalizzati 2023 rilasciati da ISTAT.\n"
   ]
  },
  {
   "cell_type": "code",
   "execution_count": 9,
   "metadata": {
    "ExecuteTime": {
     "end_time": "2023-08-20T15:38:43.421168127Z",
     "start_time": "2023-08-20T15:38:40.779565247Z"
    }
   },
   "outputs": [
    {
     "data": {
      "text/plain": "      COD_RIP  COD_REG  COD_PROV  COD_CM  COD_UTS  PRO_COM PRO_COM_T  \\\n4951        4       15        61       0       61    61001    061001   \n4952        4       15        61       0       61    61002    061002   \n4953        4       15        61       0       61    61003    061003   \n4954        4       15        61       0       61    61004    061004   \n4955        4       15        61       0       61    61005    061005   \n...       ...      ...       ...     ...      ...      ...       ...   \n5496        4       15        65       0       65    65154    065154   \n5497        4       15        65       0       65    65155    065155   \n5498        4       15        65       0       65    65156    065156   \n5499        4       15        65       0       65    65157    065157   \n5500        4       15        65       0       65    65158    065158   \n\n                   COMUNE COMUNE_A  CC_UTS    Shape_Leng  \\\n4951               Ailano      NaN       0  20581.746400   \n4952                Alife      NaN       0  40841.207949   \n4953            Alvignano      NaN       0  28587.631245   \n4954              Arienzo      NaN       0  17505.659927   \n4955               Aversa      NaN       0  16771.036732   \n...                   ...      ...     ...           ...   \n5496  Vallo della Lucania      NaN       0  30456.305184   \n5497                Valva      NaN       0  22401.620108   \n5498             Vibonati      NaN       0  22995.407185   \n5499      Vietri sul Mare      NaN       0  15182.573826   \n5500             Bellizzi      NaN       0  17172.398345   \n\n                                               geometry  \n4951  POLYGON ((935884.250 4596523.358, 935960.562 4...  \n4952  POLYGON ((943908.260 4595263.359, 944155.758 4...  \n4953  POLYGON ((948082.841 4583741.452, 948152.277 4...  \n4954  POLYGON ((963485.135 4558861.149, 963848.883 4...  \n4955  POLYGON ((938147.678 4550291.193, 938711.915 4...  \n...                                                 ...  \n5496  POLYGON ((1030315.533 4474665.799, 1030374.783...  \n5497  POLYGON ((1028982.017 4534178.208, 1029020.017...  \n5498  POLYGON ((1061095.377 4462832.928, 1061652.873...  \n5499  POLYGON ((983686.245 4519627.329, 983692.046 4...  \n5500  POLYGON ((1005209.301 4516389.950, 1005337.230...  \n\n[550 rows x 12 columns]",
      "text/html": "<div>\n<style scoped>\n    .dataframe tbody tr th:only-of-type {\n        vertical-align: middle;\n    }\n\n    .dataframe tbody tr th {\n        vertical-align: top;\n    }\n\n    .dataframe thead th {\n        text-align: right;\n    }\n</style>\n<table border=\"1\" class=\"dataframe\">\n  <thead>\n    <tr style=\"text-align: right;\">\n      <th></th>\n      <th>COD_RIP</th>\n      <th>COD_REG</th>\n      <th>COD_PROV</th>\n      <th>COD_CM</th>\n      <th>COD_UTS</th>\n      <th>PRO_COM</th>\n      <th>PRO_COM_T</th>\n      <th>COMUNE</th>\n      <th>COMUNE_A</th>\n      <th>CC_UTS</th>\n      <th>Shape_Leng</th>\n      <th>geometry</th>\n    </tr>\n  </thead>\n  <tbody>\n    <tr>\n      <th>4951</th>\n      <td>4</td>\n      <td>15</td>\n      <td>61</td>\n      <td>0</td>\n      <td>61</td>\n      <td>61001</td>\n      <td>061001</td>\n      <td>Ailano</td>\n      <td>NaN</td>\n      <td>0</td>\n      <td>20581.746400</td>\n      <td>POLYGON ((935884.250 4596523.358, 935960.562 4...</td>\n    </tr>\n    <tr>\n      <th>4952</th>\n      <td>4</td>\n      <td>15</td>\n      <td>61</td>\n      <td>0</td>\n      <td>61</td>\n      <td>61002</td>\n      <td>061002</td>\n      <td>Alife</td>\n      <td>NaN</td>\n      <td>0</td>\n      <td>40841.207949</td>\n      <td>POLYGON ((943908.260 4595263.359, 944155.758 4...</td>\n    </tr>\n    <tr>\n      <th>4953</th>\n      <td>4</td>\n      <td>15</td>\n      <td>61</td>\n      <td>0</td>\n      <td>61</td>\n      <td>61003</td>\n      <td>061003</td>\n      <td>Alvignano</td>\n      <td>NaN</td>\n      <td>0</td>\n      <td>28587.631245</td>\n      <td>POLYGON ((948082.841 4583741.452, 948152.277 4...</td>\n    </tr>\n    <tr>\n      <th>4954</th>\n      <td>4</td>\n      <td>15</td>\n      <td>61</td>\n      <td>0</td>\n      <td>61</td>\n      <td>61004</td>\n      <td>061004</td>\n      <td>Arienzo</td>\n      <td>NaN</td>\n      <td>0</td>\n      <td>17505.659927</td>\n      <td>POLYGON ((963485.135 4558861.149, 963848.883 4...</td>\n    </tr>\n    <tr>\n      <th>4955</th>\n      <td>4</td>\n      <td>15</td>\n      <td>61</td>\n      <td>0</td>\n      <td>61</td>\n      <td>61005</td>\n      <td>061005</td>\n      <td>Aversa</td>\n      <td>NaN</td>\n      <td>0</td>\n      <td>16771.036732</td>\n      <td>POLYGON ((938147.678 4550291.193, 938711.915 4...</td>\n    </tr>\n    <tr>\n      <th>...</th>\n      <td>...</td>\n      <td>...</td>\n      <td>...</td>\n      <td>...</td>\n      <td>...</td>\n      <td>...</td>\n      <td>...</td>\n      <td>...</td>\n      <td>...</td>\n      <td>...</td>\n      <td>...</td>\n      <td>...</td>\n    </tr>\n    <tr>\n      <th>5496</th>\n      <td>4</td>\n      <td>15</td>\n      <td>65</td>\n      <td>0</td>\n      <td>65</td>\n      <td>65154</td>\n      <td>065154</td>\n      <td>Vallo della Lucania</td>\n      <td>NaN</td>\n      <td>0</td>\n      <td>30456.305184</td>\n      <td>POLYGON ((1030315.533 4474665.799, 1030374.783...</td>\n    </tr>\n    <tr>\n      <th>5497</th>\n      <td>4</td>\n      <td>15</td>\n      <td>65</td>\n      <td>0</td>\n      <td>65</td>\n      <td>65155</td>\n      <td>065155</td>\n      <td>Valva</td>\n      <td>NaN</td>\n      <td>0</td>\n      <td>22401.620108</td>\n      <td>POLYGON ((1028982.017 4534178.208, 1029020.017...</td>\n    </tr>\n    <tr>\n      <th>5498</th>\n      <td>4</td>\n      <td>15</td>\n      <td>65</td>\n      <td>0</td>\n      <td>65</td>\n      <td>65156</td>\n      <td>065156</td>\n      <td>Vibonati</td>\n      <td>NaN</td>\n      <td>0</td>\n      <td>22995.407185</td>\n      <td>POLYGON ((1061095.377 4462832.928, 1061652.873...</td>\n    </tr>\n    <tr>\n      <th>5499</th>\n      <td>4</td>\n      <td>15</td>\n      <td>65</td>\n      <td>0</td>\n      <td>65</td>\n      <td>65157</td>\n      <td>065157</td>\n      <td>Vietri sul Mare</td>\n      <td>NaN</td>\n      <td>0</td>\n      <td>15182.573826</td>\n      <td>POLYGON ((983686.245 4519627.329, 983692.046 4...</td>\n    </tr>\n    <tr>\n      <th>5500</th>\n      <td>4</td>\n      <td>15</td>\n      <td>65</td>\n      <td>0</td>\n      <td>65</td>\n      <td>65158</td>\n      <td>065158</td>\n      <td>Bellizzi</td>\n      <td>NaN</td>\n      <td>0</td>\n      <td>17172.398345</td>\n      <td>POLYGON ((1005209.301 4516389.950, 1005337.230...</td>\n    </tr>\n  </tbody>\n</table>\n<p>550 rows × 12 columns</p>\n</div>"
     },
     "execution_count": 9,
     "metadata": {},
     "output_type": "execute_result"
    }
   ],
   "source": [
    "main_folder = Path.cwd().parent.parent.parent.parent.joinpath('sample_data')\n",
    "municipalities = main_folder.joinpath('Com01012023_g').joinpath('Com01012023_g_WGS84.shp')\n",
    "\n",
    "municipalities_gdf = gpd.read_file(municipalities)\n",
    "target_region = municipalities_gdf[municipalities_gdf['COD_REG']==15]\n",
    "\n",
    "target_region"
   ]
  },
  {
   "cell_type": "markdown",
   "source": [
    "## Contenuti\n",
    "- [Misurare](#Misurare)\n",
    "- [Conclusione](#Conclusione)"
   ],
   "metadata": {
    "collapsed": false
   }
  },
  {
   "cell_type": "code",
   "execution_count": 9,
   "outputs": [],
   "source": [],
   "metadata": {
    "collapsed": false,
    "ExecuteTime": {
     "end_time": "2023-08-20T15:38:43.461633506Z",
     "start_time": "2023-08-20T15:38:43.416780189Z"
    }
   }
  },
  {
   "cell_type": "markdown",
   "source": [
    "# Conclusione"
   ],
   "metadata": {
    "collapsed": false
   }
  },
  {
   "cell_type": "markdown",
   "metadata": {},
   "source": [
    "Ora noi sappiamo che è la linea in posizione 0, della nuova lista riordinata, ad essere quella meno lunga. Quello che hai visto è uno dei metodi per arrivare all'obiettivo, ce ne saranno sicuramente altri."
   ]
  }
 ],
 "metadata": {
  "kernelspec": {
   "display_name": "Python 3 (ipykernel)",
   "language": "python",
   "name": "python3"
  },
  "language_info": {
   "codemirror_mode": {
    "name": "ipython",
    "version": 3
   },
   "file_extension": ".py",
   "mimetype": "text/x-python",
   "name": "python",
   "nbconvert_exporter": "python",
   "pygments_lexer": "ipython3",
   "version": "3.8.10"
  }
 },
 "nbformat": 4,
 "nbformat_minor": 1
}
