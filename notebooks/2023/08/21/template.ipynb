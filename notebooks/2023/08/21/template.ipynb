{
 "cells": [
  {
   "cell_type": "markdown",
   "source": [
    "Quante evidenze archeologiche di epoca romana sono presenti in Italia?"
   ],
   "metadata": {
    "collapsed": false
   }
  },
  {
   "cell_type": "markdown",
   "source": [
    "Curiosando sul [Catalogo generale dei Beni Culturali](https://catalogo.beniculturali.it/) mi aspettavo di trovare una risposta ma non è stato così. Già solo accedendo al portale, senza applicare nessun tipo di filtro, effettuando uno zoom sull'area dei Campi Flegrei mi ritrovo nella situazione che segue."
   ],
   "metadata": {
    "collapsed": false
   }
  },
  {
   "cell_type": "markdown",
   "source": [
    "<p align=\"center\">\n",
    "  <img width=\"100%\" height=\"800px\" src=\"zoom_campi_flegrei.png\">\n",
    "</p>"
   ],
   "metadata": {
    "collapsed": false
   }
  },
  {
   "cell_type": "markdown",
   "source": [
    "E' presente il solo [Castello di Baia](https://www.campiflegreionline.it/Castello_di_Baia.html) in questa area, secondo il catalogo, ma nella realtà in quest'area possiamo trovare:\n",
    "- la [Piscina Mirabilis](https://piscinamirabilisbacoli.it/it)\n",
    "- la [Casina Vanvitelliana](https://www.prolococittadibacoli.it/casina-vanvitelliana/)\n",
    "- [Baia sommersa](https://www.baiasommersa.it/)\n",
    "- il [Tempio di Serapide](http://www.pafleg.it/it/4388/localita/67/macellum-tempio-di-serapide)\n",
    "- il [Parco archeologico del Pausilypon](https://www.areamarinaprotettagaiola.it/pausilypon)\n",
    "\n",
    "Solo per citare i luoghi che conosco per averli visitati direttamente, ma ce ne sono tanti altri."
   ],
   "metadata": {
    "collapsed": false
   }
  },
  {
   "cell_type": "markdown",
   "source": [
    "Così ho deciso di usare i superpoteri di Python e [OpenStreetMap](https://www.openstreetmap.org/) per darmi una risposta."
   ],
   "metadata": {
    "collapsed": false
   }
  },
  {
   "cell_type": "markdown",
   "source": [
    "## Prima di iniziare"
   ],
   "metadata": {
    "collapsed": false
   }
  },
  {
   "cell_type": "markdown",
   "metadata": {},
   "source": [
    "\n",
    "### Librerie\n",
    "Per raggiungere l'obiettivo userò le librerie che seguono."
   ]
  },
  {
   "cell_type": "code",
   "execution_count": 1,
   "metadata": {
    "ExecuteTime": {
     "end_time": "2023-08-20T17:59:23.746749428Z",
     "start_time": "2023-08-20T17:59:22.237067333Z"
    }
   },
   "outputs": [],
   "source": [
    "from pathlib import Path\n",
    "import geopandas as gpd\n",
    "import pandas as pd\n",
    "from matplotlib import pyplot as plt\n",
    "import cartopy.crs as ccrs\n",
    "from cartopy.io.img_tiles import OSM\n",
    "import osmnx as ox"
   ]
  },
  {
   "cell_type": "markdown",
   "metadata": {},
   "source": [
    "### Fonti dati\n",
    "Oltre ai dati di OpenStreetMap userò i confini comunali generalizzati 2023 rilasciati da ISTAT.\n"
   ]
  },
  {
   "cell_type": "code",
   "execution_count": 2,
   "metadata": {
    "ExecuteTime": {
     "end_time": "2023-08-20T17:59:27.481221531Z",
     "start_time": "2023-08-20T17:59:23.735171747Z"
    }
   },
   "outputs": [
    {
     "data": {
      "text/plain": "      COD_RIP  COD_REG  COD_PROV  COD_CM  COD_UTS  PRO_COM PRO_COM_T  \\\n4951        4       15        61       0       61    61001    061001   \n4952        4       15        61       0       61    61002    061002   \n4953        4       15        61       0       61    61003    061003   \n4954        4       15        61       0       61    61004    061004   \n4955        4       15        61       0       61    61005    061005   \n...       ...      ...       ...     ...      ...      ...       ...   \n5496        4       15        65       0       65    65154    065154   \n5497        4       15        65       0       65    65155    065155   \n5498        4       15        65       0       65    65156    065156   \n5499        4       15        65       0       65    65157    065157   \n5500        4       15        65       0       65    65158    065158   \n\n                   COMUNE COMUNE_A  CC_UTS    Shape_Leng  \\\n4951               Ailano      NaN       0  20581.746400   \n4952                Alife      NaN       0  40841.207949   \n4953            Alvignano      NaN       0  28587.631245   \n4954              Arienzo      NaN       0  17505.659927   \n4955               Aversa      NaN       0  16771.036732   \n...                   ...      ...     ...           ...   \n5496  Vallo della Lucania      NaN       0  30456.305184   \n5497                Valva      NaN       0  22401.620108   \n5498             Vibonati      NaN       0  22995.407185   \n5499      Vietri sul Mare      NaN       0  15182.573826   \n5500             Bellizzi      NaN       0  17172.398345   \n\n                                               geometry  \n4951  POLYGON ((14.21374 41.40203, 14.21459 41.40122...  \n4952  POLYGON ((14.30840 41.38635, 14.31128 41.38539...  \n4953  POLYGON ((14.34963 41.28071, 14.35018 41.27727...  \n4954  POLYGON ((14.51392 41.04895, 14.51823 41.04876...  \n4955  POLYGON ((14.20764 40.98608, 14.21433 40.98588...  \n...                                                 ...  \n5496  POLYGON ((15.23387 40.25431, 15.23454 40.25401...  \n5497  POLYGON ((15.26793 40.78811, 15.26828 40.78707...  \n5498  POLYGON ((15.58320 40.12839, 15.58939 40.12482...  \n5499  POLYGON ((14.72267 40.68556, 14.72256 40.68349...  \n5500  POLYGON ((14.97343 40.64367, 14.97490 40.64327...  \n\n[550 rows x 12 columns]",
      "text/html": "<div>\n<style scoped>\n    .dataframe tbody tr th:only-of-type {\n        vertical-align: middle;\n    }\n\n    .dataframe tbody tr th {\n        vertical-align: top;\n    }\n\n    .dataframe thead th {\n        text-align: right;\n    }\n</style>\n<table border=\"1\" class=\"dataframe\">\n  <thead>\n    <tr style=\"text-align: right;\">\n      <th></th>\n      <th>COD_RIP</th>\n      <th>COD_REG</th>\n      <th>COD_PROV</th>\n      <th>COD_CM</th>\n      <th>COD_UTS</th>\n      <th>PRO_COM</th>\n      <th>PRO_COM_T</th>\n      <th>COMUNE</th>\n      <th>COMUNE_A</th>\n      <th>CC_UTS</th>\n      <th>Shape_Leng</th>\n      <th>geometry</th>\n    </tr>\n  </thead>\n  <tbody>\n    <tr>\n      <th>4951</th>\n      <td>4</td>\n      <td>15</td>\n      <td>61</td>\n      <td>0</td>\n      <td>61</td>\n      <td>61001</td>\n      <td>061001</td>\n      <td>Ailano</td>\n      <td>NaN</td>\n      <td>0</td>\n      <td>20581.746400</td>\n      <td>POLYGON ((14.21374 41.40203, 14.21459 41.40122...</td>\n    </tr>\n    <tr>\n      <th>4952</th>\n      <td>4</td>\n      <td>15</td>\n      <td>61</td>\n      <td>0</td>\n      <td>61</td>\n      <td>61002</td>\n      <td>061002</td>\n      <td>Alife</td>\n      <td>NaN</td>\n      <td>0</td>\n      <td>40841.207949</td>\n      <td>POLYGON ((14.30840 41.38635, 14.31128 41.38539...</td>\n    </tr>\n    <tr>\n      <th>4953</th>\n      <td>4</td>\n      <td>15</td>\n      <td>61</td>\n      <td>0</td>\n      <td>61</td>\n      <td>61003</td>\n      <td>061003</td>\n      <td>Alvignano</td>\n      <td>NaN</td>\n      <td>0</td>\n      <td>28587.631245</td>\n      <td>POLYGON ((14.34963 41.28071, 14.35018 41.27727...</td>\n    </tr>\n    <tr>\n      <th>4954</th>\n      <td>4</td>\n      <td>15</td>\n      <td>61</td>\n      <td>0</td>\n      <td>61</td>\n      <td>61004</td>\n      <td>061004</td>\n      <td>Arienzo</td>\n      <td>NaN</td>\n      <td>0</td>\n      <td>17505.659927</td>\n      <td>POLYGON ((14.51392 41.04895, 14.51823 41.04876...</td>\n    </tr>\n    <tr>\n      <th>4955</th>\n      <td>4</td>\n      <td>15</td>\n      <td>61</td>\n      <td>0</td>\n      <td>61</td>\n      <td>61005</td>\n      <td>061005</td>\n      <td>Aversa</td>\n      <td>NaN</td>\n      <td>0</td>\n      <td>16771.036732</td>\n      <td>POLYGON ((14.20764 40.98608, 14.21433 40.98588...</td>\n    </tr>\n    <tr>\n      <th>...</th>\n      <td>...</td>\n      <td>...</td>\n      <td>...</td>\n      <td>...</td>\n      <td>...</td>\n      <td>...</td>\n      <td>...</td>\n      <td>...</td>\n      <td>...</td>\n      <td>...</td>\n      <td>...</td>\n      <td>...</td>\n    </tr>\n    <tr>\n      <th>5496</th>\n      <td>4</td>\n      <td>15</td>\n      <td>65</td>\n      <td>0</td>\n      <td>65</td>\n      <td>65154</td>\n      <td>065154</td>\n      <td>Vallo della Lucania</td>\n      <td>NaN</td>\n      <td>0</td>\n      <td>30456.305184</td>\n      <td>POLYGON ((15.23387 40.25431, 15.23454 40.25401...</td>\n    </tr>\n    <tr>\n      <th>5497</th>\n      <td>4</td>\n      <td>15</td>\n      <td>65</td>\n      <td>0</td>\n      <td>65</td>\n      <td>65155</td>\n      <td>065155</td>\n      <td>Valva</td>\n      <td>NaN</td>\n      <td>0</td>\n      <td>22401.620108</td>\n      <td>POLYGON ((15.26793 40.78811, 15.26828 40.78707...</td>\n    </tr>\n    <tr>\n      <th>5498</th>\n      <td>4</td>\n      <td>15</td>\n      <td>65</td>\n      <td>0</td>\n      <td>65</td>\n      <td>65156</td>\n      <td>065156</td>\n      <td>Vibonati</td>\n      <td>NaN</td>\n      <td>0</td>\n      <td>22995.407185</td>\n      <td>POLYGON ((15.58320 40.12839, 15.58939 40.12482...</td>\n    </tr>\n    <tr>\n      <th>5499</th>\n      <td>4</td>\n      <td>15</td>\n      <td>65</td>\n      <td>0</td>\n      <td>65</td>\n      <td>65157</td>\n      <td>065157</td>\n      <td>Vietri sul Mare</td>\n      <td>NaN</td>\n      <td>0</td>\n      <td>15182.573826</td>\n      <td>POLYGON ((14.72267 40.68556, 14.72256 40.68349...</td>\n    </tr>\n    <tr>\n      <th>5500</th>\n      <td>4</td>\n      <td>15</td>\n      <td>65</td>\n      <td>0</td>\n      <td>65</td>\n      <td>65158</td>\n      <td>065158</td>\n      <td>Bellizzi</td>\n      <td>NaN</td>\n      <td>0</td>\n      <td>17172.398345</td>\n      <td>POLYGON ((14.97343 40.64367, 14.97490 40.64327...</td>\n    </tr>\n  </tbody>\n</table>\n<p>550 rows × 12 columns</p>\n</div>"
     },
     "execution_count": 2,
     "metadata": {},
     "output_type": "execute_result"
    }
   ],
   "source": [
    "main_folder = Path.cwd().parent.parent.parent.parent.joinpath('sample_data')\n",
    "municipalities = main_folder.joinpath('Com01012023_g').joinpath('Com01012023_g_WGS84.shp')\n",
    "\n",
    "municipalities_gdf = gpd.read_file(municipalities).to_crs(4326)\n",
    "\n",
    "# Comuni campani\n",
    "target_region = municipalities_gdf[municipalities_gdf['COD_REG']==15]\n",
    "\n",
    "target_region"
   ]
  },
  {
   "cell_type": "markdown",
   "source": [
    "Come vedremo in seguito tornerà molto utile conoscere la tassonomia di OpenStreetMap, tassonomia disponibile [qui](https://wiki.openstreetmap.org/wiki/Map_features)."
   ],
   "metadata": {
    "collapsed": false
   }
  },
  {
   "cell_type": "markdown",
   "source": [
    "## Rimozione dei warnings\n",
    "Il codice che segue serve solo per eliminare i messaggi di warning che renderebbero antiestetico l'articolo. **Attenzione ad ignorarli però!** Vanno ben approfonditi e non ignorati alla leggera. Io lo faccio solo perchè questo è un articolo dimostrativo."
   ],
   "metadata": {
    "collapsed": false
   }
  },
  {
   "cell_type": "code",
   "execution_count": 3,
   "outputs": [],
   "source": [
    "# import warnings\n",
    "# warnings.filterwarnings('ignore')\n",
    "# warnings.simplefilter('ignore')"
   ],
   "metadata": {
    "collapsed": false,
    "ExecuteTime": {
     "end_time": "2023-08-20T17:59:27.485115751Z",
     "start_time": "2023-08-20T17:59:27.479748212Z"
    }
   }
  },
  {
   "cell_type": "markdown",
   "source": [
    "## Contenuti\n",
    "- [1. Lavoriamo in piccolo: Bacoli](#1.-Lavoriamo-in-piccolo:-Bacoli)\n",
    "- [Conclusione](#Conclusione)"
   ],
   "metadata": {
    "collapsed": false
   }
  },
  {
   "cell_type": "markdown",
   "source": [
    "# 1. Lavoriamo in piccolo: Bacoli\n",
    "Partiremo con l'analizzare l'area di Bacoli. "
   ],
   "metadata": {
    "collapsed": false
   }
  },
  {
   "cell_type": "code",
   "execution_count": 4,
   "outputs": [
    {
     "data": {
      "text/plain": "COD_RIP                                                       4\nCOD_REG                                                      15\nCOD_PROV                                                     63\nCOD_CM                                                      263\nCOD_UTS                                                     263\nPRO_COM                                                   63006\nPRO_COM_T                                                063006\nCOMUNE                                                   Bacoli\nCOMUNE_A                                                    NaN\nCC_UTS                                                        0\nShape_Leng                                         20303.054123\ngeometry      POLYGON ((14.06724657892957 40.842943679557926...\nName: 5138, dtype: object"
     },
     "execution_count": 4,
     "metadata": {},
     "output_type": "execute_result"
    }
   ],
   "source": [
    "bacoli = target_region[target_region['COMUNE']=='Bacoli'].squeeze()\n",
    "bacoli"
   ],
   "metadata": {
    "collapsed": false,
    "ExecuteTime": {
     "end_time": "2023-08-20T17:59:27.499755464Z",
     "start_time": "2023-08-20T17:59:27.483769640Z"
    }
   }
  },
  {
   "cell_type": "markdown",
   "source": [
    "Interrogheremo il database di OpenStreetMap usando [OSMnx](https://osmnx.readthedocs.io/en/stable/index.html) libreria che (cito dal sito del progetto) *is a Python package to download, model, analyze, and visualize street networks and other geospatial features from OpenStreetMap*. Andremo in particolare ad usare il TAG **historic** con alcune eccezioni che vedremo."
   ],
   "metadata": {
    "collapsed": false
   }
  },
  {
   "cell_type": "code",
   "execution_count": 5,
   "outputs": [
    {
     "data": {
      "text/plain": "                                    historic  \\\nelement_type osmid                             \nnode         1045290525  archaeological_site   \n             1104926219  archaeological_site   \n             1139094827  archaeological_site   \n             1139094838  archaeological_site   \n             1706624371  archaeological_site   \n             2235447677                ruins   \n             2235447711             memorial   \n             2235447893             memorial   \n             8755033944                ruins   \n             9060732167                ruins   \nway          124092891   archaeological_site   \n             124093354   archaeological_site   \n             144917231                castle   \n             240100401   archaeological_site   \n             323122081              building   \n             406222066   archaeological_site   \n             429218964   archaeological_site   \n             429324871   archaeological_site   \n             429338160   archaeological_site   \n             429339087   archaeological_site   \n             429340403   archaeological_site   \n             429341185   archaeological_site   \n             429341186   archaeological_site   \n             429341188   archaeological_site   \n             429341189   archaeological_site   \n             429341190   archaeological_site   \n             736686146              building   \n             736686737   archaeological_site   \n             736690821   archaeological_site   \n             1154634667  archaeological_site   \n\n                                                     name   wikidata  \\\nelement_type osmid                                                     \nnode         1045290525                 Piscina Mirabilis    Q222410   \n             1104926219   Grotte dell'Acqua - Lago Fusaro        NaN   \n             1139094827            Grotta della Dragonara  Q55673920   \n             1139094838           Sacello degli Augustali   Q3944423   \n             1706624371                 Grotta di Cocceio    Q518104   \n             2235447677                               NaN        NaN   \n             2235447711                            Bunker        NaN   \n             2235447893                            Bunker        NaN   \n             8755033944                    Tempo di Iside        NaN   \n             9060732167                               NaN        NaN   \nway          124092891   Parco Archeologico Terme di Baia   Q3685188   \n             124093354                 Anfiteatro di Cuma  Q93976746   \n             144917231         Castello Aragonese di Baia   Q3662303   \n             240100401                 Tomba di Agrippina        NaN   \n             323122081               Casina Vanvitelliana    Q958152   \n             406222066                    Tempio di Diana        NaN   \n             429218964                          Columbari        NaN   \n             429324871            Monumental Park of Baia        NaN   \n             429338160                 Tempio di Mercurio        NaN   \n             429339087                   Tempio di Venere  Q96694237   \n             429340403                                NaN        NaN   \n             429341185                                NaN        NaN   \n             429341186                                NaN        NaN   \n             429341188                                NaN        NaN   \n             429341189                                NaN        NaN   \n             429341190                                NaN        NaN   \n             736686146                                NaN        NaN   \n             736686737                                NaN        NaN   \n             736690821                                NaN        NaN   \n             1154634667          Teatro romano di Misenum  Q55685837   \n\n                                                 wikipedia  \\\nelement_type osmid                                           \nnode         1045290525               en:Piscina Mirabilis   \n             1104926219                                NaN   \n             1139094827                                NaN   \n             1139094838         it:Sacello degli Augustali   \n             1706624371                                NaN   \n             2235447677                                NaN   \n             2235447711                                NaN   \n             2235447893                                NaN   \n             8755033944                                NaN   \n             9060732167                                NaN   \nway          124092891   it:Complesso archeologico di Baia   \n             124093354                                 NaN   \n             144917231        it:Castello Aragonese (Baia)   \n             240100401                                 NaN   \n             323122081             it:Casina Vanvitelliana   \n             406222066                                 NaN   \n             429218964                                 NaN   \n             429324871                                 NaN   \n             429338160                                 NaN   \n             429339087                                 NaN   \n             429340403                                 NaN   \n             429341185                                 NaN   \n             429341186                                 NaN   \n             429341188                                 NaN   \n             429341189                                 NaN   \n             429341190                                 NaN   \n             736686146                                 NaN   \n             736686737                                 NaN   \n             736690821                                 NaN   \n             1154634667                                NaN   \n\n                                                                  geometry  \\\nelement_type osmid                                                           \nnode         1045290525                          POINT (14.08028 40.79519)   \n             1104926219                          POINT (14.05955 40.82506)   \n             1139094827                          POINT (14.08506 40.78477)   \n             1139094838                          POINT (14.08460 40.78747)   \n             1706624371                          POINT (14.06211 40.84534)   \n             2235447677                          POINT (14.06509 40.82330)   \n             2235447711                          POINT (14.06457 40.82321)   \n             2235447893                          POINT (14.06555 40.82358)   \n             8755033944                          POINT (14.05002 40.84415)   \n             9060732167                          POINT (14.06845 40.81674)   \nway          124092891   POLYGON ((14.07084 40.81923, 14.07072 40.81929...   \n             124093354   POLYGON ((14.05636 40.84248, 14.05598 40.84255...   \n             144917231   POLYGON ((14.08025 40.81003, 14.08046 40.81018...   \n             240100401   POLYGON ((14.08145 40.80291, 14.08133 40.80294...   \n             323122081   POLYGON ((14.05844 40.81979, 14.05847 40.81983...   \n             406222066   POLYGON ((14.07065 40.81926, 14.07043 40.81923...   \n             429218964   POLYGON ((14.06482 40.81952, 14.06543 40.81914...   \n             429324871   POLYGON ((14.07125 40.81337, 14.07098 40.81320...   \n             429338160   POLYGON ((14.06978 40.81790, 14.06982 40.81792...   \n             429339087   POLYGON ((14.07139 40.81624, 14.07152 40.81627...   \n             429340403   POLYGON ((14.06974 40.81769, 14.06978 40.81770...   \n             429341185   POLYGON ((14.06991 40.81750, 14.06992 40.81745...   \n             429341186   POLYGON ((14.06997 40.81712, 14.07006 40.81679...   \n             429341188   POLYGON ((14.07011 40.81672, 14.07006 40.81670...   \n             429341189   POLYGON ((14.06979 40.81670, 14.06990 40.81672...   \n             429341190   POLYGON ((14.06992 40.81624, 14.06989 40.81630...   \n             736686146   POLYGON ((14.07068 40.82155, 14.07062 40.82149...   \n             736686737   POLYGON ((14.06929 40.81767, 14.06939 40.81727...   \n             736690821   POLYGON ((14.06999 40.81713, 14.07037 40.81721...   \n             1154634667  POLYGON ((14.08315 40.78788, 14.08303 40.78776...   \n\n                            tourism  \\\nelement_type osmid                    \nnode         1045290525         NaN   \n             1104926219         NaN   \n             1139094827  attraction   \n             1139094838         NaN   \n             1706624371         NaN   \n             2235447677         NaN   \n             2235447711         NaN   \n             2235447893         NaN   \n             8755033944         NaN   \n             9060732167         NaN   \nway          124092891          NaN   \n             124093354          NaN   \n             144917231          NaN   \n             240100401   attraction   \n             323122081          NaN   \n             406222066          NaN   \n             429218964          NaN   \n             429324871          NaN   \n             429338160          NaN   \n             429339087          NaN   \n             429340403          NaN   \n             429341185          NaN   \n             429341186          NaN   \n             429341188          NaN   \n             429341189          NaN   \n             429341190          NaN   \n             736686146          NaN   \n             736686737          NaN   \n             736690821          NaN   \n             1154634667         NaN   \n\n                                             historic:civilization length  \\\nelement_type osmid                                                          \nnode         1045290525                                        NaN    NaN   \n             1104926219                                        NaN    NaN   \n             1139094827                                        NaN    NaN   \n             1139094838                                        NaN    NaN   \n             1706624371  ancient_roman_-_Augustus_Emperator_period   1 km   \n             2235447677                                        NaN    NaN   \n             2235447711                                        NaN    NaN   \n             2235447893                                        NaN    NaN   \n             8755033944                                        NaN    NaN   \n             9060732167                                        NaN    NaN   \nway          124092891                               ancient_roman    NaN   \n             124093354                               ancient_roman    NaN   \n             144917231                                         NaN    NaN   \n             240100401                                         NaN    NaN   \n             323122081                                         NaN    NaN   \n             406222066                                         NaN    NaN   \n             429218964                                         NaN    NaN   \n             429324871                                         NaN    NaN   \n             429338160                                         NaN    NaN   \n             429339087                                         NaN    NaN   \n             429340403                                         NaN    NaN   \n             429341185                                         NaN    NaN   \n             429341186                                         NaN    NaN   \n             429341188                                         NaN    NaN   \n             429341189                                         NaN    NaN   \n             429341190                                         NaN    NaN   \n             736686146                                         NaN    NaN   \n             736686737                                         NaN    NaN   \n             736690821                                         NaN    NaN   \n             1154634667                              ancient_roman    NaN   \n\n                               natural  \\\nelement_type osmid                       \nnode         1045290525            NaN   \n             1104926219            NaN   \n             1139094827            NaN   \n             1139094838            NaN   \n             1706624371  cave_entrance   \n             2235447677            NaN   \n             2235447711            NaN   \n             2235447893            NaN   \n             8755033944            NaN   \n             9060732167            NaN   \nway          124092891             NaN   \n             124093354             NaN   \n             144917231             NaN   \n             240100401             NaN   \n             323122081             NaN   \n             406222066             NaN   \n             429218964             NaN   \n             429324871             NaN   \n             429338160             NaN   \n             429339087             NaN   \n             429340403             NaN   \n             429341185             NaN   \n             429341186             NaN   \n             429341188             NaN   \n             429341189             NaN   \n             429341190             NaN   \n             736686146             NaN   \n             736686737             NaN   \n             736690821             NaN   \n             1154634667            NaN   \n\n                                                                     nodes  \\\nelement_type osmid                                                           \nnode         1045290525                                                NaN   \n             1104926219                                                NaN   \n             1139094827                                                NaN   \n             1139094838                                                NaN   \n             1706624371                                                NaN   \n             2235447677                                                NaN   \n             2235447711                                                NaN   \n             2235447893                                                NaN   \n             8755033944                                                NaN   \n             9060732167                                                NaN   \nway          124092891   [1382052835, 4083235857, 1382052825, 408323585...   \n             124093354   [1382055624, 1382055618, 1382055628, 138205562...   \n             144917231   [1583990045, 1583990048, 1583990061, 158399006...   \n             240100401   [2478723947, 2478723948, 2478723949, 247872395...   \n             323122081   [3299164580, 6897303092, 6897328941, 689731239...   \n             406222066   [4083235856, 4083235855, 4083235852, 408323584...   \n             429218964   [4283467129, 4283467130, 4283467131, 428346713...   \n             429324871   [4284413253, 4284413254, 4284413255, 428441325...   \n             429338160   [4284599234, 4284599235, 4284599236, 428459923...   \n             429339087   [4284611823, 4284611824, 4284611825, 428461182...   \n             429340403   [4284609514, 4284609515, 4284609516, 428460951...   \n             429341185   [4284609519, 4284631813, 4284631814, 428463181...   \n             429341186   [4284631827, 4284631828, 4284631829, 428463183...   \n             429341188   [4284631843, 4284631844, 4284631845, 428463184...   \n             429341189   [4083235569, 4284631859, 4284631860, 428463186...   \n             429341190   [4284631863, 4284631864, 4284631865, 906085113...   \n             736686146   [6897279565, 6897310515, 6897272664, 689731985...   \n             736686737   [6897334201, 6897298978, 6897296141, 689732206...   \n             736690821   [6897281438, 6897326113, 6897290885, 689733550...   \n             1154634667  [10738232596, 10738232597, 10738232598, 107382...   \n\n                         ...           name:ru                  opening_hours  \\\nelement_type osmid       ...                                                    \nnode         1045290525  ...               NaN                            NaN   \n             1104926219  ...               NaN                            NaN   \n             1139094827  ...               NaN                            NaN   \n             1139094838  ...               NaN                            NaN   \n             1706624371  ...               NaN                            NaN   \n             2235447677  ...               NaN                            NaN   \n             2235447711  ...               NaN                            NaN   \n             2235447893  ...               NaN                            NaN   \n             8755033944  ...               NaN                            NaN   \n             9060732167  ...               NaN                            NaN   \nway          124092891   ...               NaN                            NaN   \n             124093354   ...               NaN                            NaN   \n             144917231   ...               NaN                            NaN   \n             240100401   ...               NaN                            NaN   \n             323122081   ...  Домик Ванвителли  Sa,Su 10:00-14:00,16:00-19:00   \n             406222066   ...               NaN                            NaN   \n             429218964   ...               NaN                            NaN   \n             429324871   ...               NaN                            NaN   \n             429338160   ...               NaN                            NaN   \n             429339087   ...               NaN                            NaN   \n             429340403   ...               NaN                            NaN   \n             429341185   ...               NaN                            NaN   \n             429341186   ...               NaN                            NaN   \n             429341188   ...               NaN                            NaN   \n             429341189   ...               NaN                            NaN   \n             429341190   ...               NaN                            NaN   \n             736686146   ...               NaN                            NaN   \n             736686737   ...               NaN                            NaN   \n             736690821   ...               NaN                            NaN   \n             1154634667  ...               NaN                            NaN   \n\n                                                         opening_hours:url  \\\nelement_type osmid                                                           \nnode         1045290525                                                NaN   \n             1104926219                                                NaN   \n             1139094827                                                NaN   \n             1139094838                                                NaN   \n             1706624371                                                NaN   \n             2235447677                                                NaN   \n             2235447711                                                NaN   \n             2235447893                                                NaN   \n             8755033944                                                NaN   \n             9060732167                                                NaN   \nway          124092891                                                 NaN   \n             124093354                                                 NaN   \n             144917231                                                 NaN   \n             240100401                                                 NaN   \n             323122081   http://www.prolococittadibacoli.it/casina-vanv...   \n             406222066                                                 NaN   \n             429218964                                                 NaN   \n             429324871                                                 NaN   \n             429338160                                                 NaN   \n             429339087                                                 NaN   \n             429340403                                                 NaN   \n             429341185                                                 NaN   \n             429341186                                                 NaN   \n             429341188                                                 NaN   \n             429341189                                                 NaN   \n             429341190                                                 NaN   \n             736686146                                                 NaN   \n             736686737                                                 NaN   \n             736690821                                                 NaN   \n             1154634667                                                NaN   \n\n                                         operator            phone  \\\nelement_type osmid                                                   \nnode         1045290525                       NaN              NaN   \n             1104926219                       NaN              NaN   \n             1139094827                       NaN              NaN   \n             1139094838                       NaN              NaN   \n             1706624371                       NaN              NaN   \n             2235447677                       NaN              NaN   \n             2235447711                       NaN              NaN   \n             2235447893                       NaN              NaN   \n             8755033944                       NaN              NaN   \n             9060732167                       NaN              NaN   \nway          124092891                        NaN              NaN   \n             124093354                        NaN              NaN   \n             144917231                        NaN              NaN   \n             240100401                        NaN              NaN   \n             323122081   Pro Loco Città di Bacoli  +39 379 1030885   \n             406222066                        NaN              NaN   \n             429218964                        NaN              NaN   \n             429324871                        NaN              NaN   \n             429338160                        NaN              NaN   \n             429339087                        NaN              NaN   \n             429340403                        NaN              NaN   \n             429341185                        NaN              NaN   \n             429341186                        NaN              NaN   \n             429341188                        NaN              NaN   \n             429341189                        NaN              NaN   \n             429341190                        NaN              NaN   \n             736686146                        NaN              NaN   \n             736686737                        NaN              NaN   \n             736690821                        NaN              NaN   \n             1154634667                       NaN              NaN   \n\n                         reservation start_date  \\\nelement_type osmid                                \nnode         1045290525          NaN        NaN   \n             1104926219          NaN        NaN   \n             1139094827          NaN        NaN   \n             1139094838          NaN        NaN   \n             1706624371          NaN        NaN   \n             2235447677          NaN        NaN   \n             2235447711          NaN        NaN   \n             2235447893          NaN        NaN   \n             8755033944          NaN        NaN   \n             9060732167          NaN        NaN   \nway          124092891           NaN        NaN   \n             124093354           NaN        NaN   \n             144917231           NaN        NaN   \n             240100401           NaN        NaN   \n             323122081   recommended       1782   \n             406222066           NaN        NaN   \n             429218964           NaN        NaN   \n             429324871           NaN        NaN   \n             429338160           NaN        NaN   \n             429339087           NaN        NaN   \n             429340403           NaN        NaN   \n             429341185           NaN        NaN   \n             429341186           NaN        NaN   \n             429341188           NaN        NaN   \n             429341189           NaN        NaN   \n             429341190           NaN        NaN   \n             736686146           NaN        NaN   \n             736686737           NaN        NaN   \n             736690821           NaN        NaN   \n             1154634667          NaN        NaN   \n\n                                                  dataset  \\\nelement_type osmid                                          \nnode         1045290525                               NaN   \n             1104926219                               NaN   \n             1139094827                               NaN   \n             1139094838                               NaN   \n             1706624371                               NaN   \n             2235447677                               NaN   \n             2235447711                               NaN   \n             2235447893                               NaN   \n             8755033944                               NaN   \n             9060732167                               NaN   \nway          124092891                                NaN   \n             124093354                                NaN   \n             144917231                                NaN   \n             240100401                                NaN   \n             323122081                                NaN   \n             406222066   primo quarto del III secolo d.C.   \n             429218964                                NaN   \n             429324871                                NaN   \n             429338160                                NaN   \n             429339087                                NaN   \n             429340403                                NaN   \n             429341185                                NaN   \n             429341186                                NaN   \n             429341188                                NaN   \n             429341189                                NaN   \n             429341190                                NaN   \n             736686146                                NaN   \n             736686737                                NaN   \n             736690821                                NaN   \n             1154634667                               NaN   \n\n                                                               description  \\\nelement_type osmid                                                           \nnode         1045290525                                                NaN   \n             1104926219                                                NaN   \n             1139094827                                                NaN   \n             1139094838                                                NaN   \n             1706624371                                                NaN   \n             2235447677                                                NaN   \n             2235447711                                                NaN   \n             2235447893                                                NaN   \n             8755033944                                                NaN   \n             9060732167                                                NaN   \nway          124092891                                                 NaN   \n             124093354                                                 NaN   \n             144917231                                                 NaN   \n             240100401                                                 NaN   \n             323122081                                                 NaN   \n             406222066                                 antica aula termale   \n             429218964                                                 NaN   \n             429324871                                                 NaN   \n             429338160   l'edificio era un frigidarium. La volta circol...   \n             429339087                                    edificio termale   \n             429340403                                                 NaN   \n             429341185                                                 NaN   \n             429341186                                                 NaN   \n             429341188                                                 NaN   \n             429341189                                                 NaN   \n             429341190                                                 NaN   \n             736686146                                                 NaN   \n             736686737                                                 NaN   \n             736690821                                                 NaN   \n             1154634667                                                NaN   \n\n                                               data  \nelement_type osmid                                   \nnode         1045290525                         NaN  \n             1104926219                         NaN  \n             1139094827                         NaN  \n             1139094838                         NaN  \n             1706624371                         NaN  \n             2235447677                         NaN  \n             2235447711                         NaN  \n             2235447893                         NaN  \n             8755033944                         NaN  \n             9060732167                         NaN  \nway          124092891                          NaN  \n             124093354                          NaN  \n             144917231                          NaN  \n             240100401                          NaN  \n             323122081                          NaN  \n             406222066                          NaN  \n             429218964                          NaN  \n             429324871                          NaN  \n             429338160   prima metà del I sec. d.C.  \n             429339087                          NaN  \n             429340403                          NaN  \n             429341185                          NaN  \n             429341186                          NaN  \n             429341188                          NaN  \n             429341189                          NaN  \n             429341190                          NaN  \n             736686146                          NaN  \n             736686737                          NaN  \n             736690821                          NaN  \n             1154634667                         NaN  \n\n[30 rows x 35 columns]",
      "text/html": "<div>\n<style scoped>\n    .dataframe tbody tr th:only-of-type {\n        vertical-align: middle;\n    }\n\n    .dataframe tbody tr th {\n        vertical-align: top;\n    }\n\n    .dataframe thead th {\n        text-align: right;\n    }\n</style>\n<table border=\"1\" class=\"dataframe\">\n  <thead>\n    <tr style=\"text-align: right;\">\n      <th></th>\n      <th></th>\n      <th>historic</th>\n      <th>name</th>\n      <th>wikidata</th>\n      <th>wikipedia</th>\n      <th>geometry</th>\n      <th>tourism</th>\n      <th>historic:civilization</th>\n      <th>length</th>\n      <th>natural</th>\n      <th>nodes</th>\n      <th>...</th>\n      <th>name:ru</th>\n      <th>opening_hours</th>\n      <th>opening_hours:url</th>\n      <th>operator</th>\n      <th>phone</th>\n      <th>reservation</th>\n      <th>start_date</th>\n      <th>dataset</th>\n      <th>description</th>\n      <th>data</th>\n    </tr>\n    <tr>\n      <th>element_type</th>\n      <th>osmid</th>\n      <th></th>\n      <th></th>\n      <th></th>\n      <th></th>\n      <th></th>\n      <th></th>\n      <th></th>\n      <th></th>\n      <th></th>\n      <th></th>\n      <th></th>\n      <th></th>\n      <th></th>\n      <th></th>\n      <th></th>\n      <th></th>\n      <th></th>\n      <th></th>\n      <th></th>\n      <th></th>\n      <th></th>\n    </tr>\n  </thead>\n  <tbody>\n    <tr>\n      <th rowspan=\"10\" valign=\"top\">node</th>\n      <th>1045290525</th>\n      <td>archaeological_site</td>\n      <td>Piscina Mirabilis</td>\n      <td>Q222410</td>\n      <td>en:Piscina Mirabilis</td>\n      <td>POINT (14.08028 40.79519)</td>\n      <td>NaN</td>\n      <td>NaN</td>\n      <td>NaN</td>\n      <td>NaN</td>\n      <td>NaN</td>\n      <td>...</td>\n      <td>NaN</td>\n      <td>NaN</td>\n      <td>NaN</td>\n      <td>NaN</td>\n      <td>NaN</td>\n      <td>NaN</td>\n      <td>NaN</td>\n      <td>NaN</td>\n      <td>NaN</td>\n      <td>NaN</td>\n    </tr>\n    <tr>\n      <th>1104926219</th>\n      <td>archaeological_site</td>\n      <td>Grotte dell'Acqua - Lago Fusaro</td>\n      <td>NaN</td>\n      <td>NaN</td>\n      <td>POINT (14.05955 40.82506)</td>\n      <td>NaN</td>\n      <td>NaN</td>\n      <td>NaN</td>\n      <td>NaN</td>\n      <td>NaN</td>\n      <td>...</td>\n      <td>NaN</td>\n      <td>NaN</td>\n      <td>NaN</td>\n      <td>NaN</td>\n      <td>NaN</td>\n      <td>NaN</td>\n      <td>NaN</td>\n      <td>NaN</td>\n      <td>NaN</td>\n      <td>NaN</td>\n    </tr>\n    <tr>\n      <th>1139094827</th>\n      <td>archaeological_site</td>\n      <td>Grotta della Dragonara</td>\n      <td>Q55673920</td>\n      <td>NaN</td>\n      <td>POINT (14.08506 40.78477)</td>\n      <td>attraction</td>\n      <td>NaN</td>\n      <td>NaN</td>\n      <td>NaN</td>\n      <td>NaN</td>\n      <td>...</td>\n      <td>NaN</td>\n      <td>NaN</td>\n      <td>NaN</td>\n      <td>NaN</td>\n      <td>NaN</td>\n      <td>NaN</td>\n      <td>NaN</td>\n      <td>NaN</td>\n      <td>NaN</td>\n      <td>NaN</td>\n    </tr>\n    <tr>\n      <th>1139094838</th>\n      <td>archaeological_site</td>\n      <td>Sacello degli Augustali</td>\n      <td>Q3944423</td>\n      <td>it:Sacello degli Augustali</td>\n      <td>POINT (14.08460 40.78747)</td>\n      <td>NaN</td>\n      <td>NaN</td>\n      <td>NaN</td>\n      <td>NaN</td>\n      <td>NaN</td>\n      <td>...</td>\n      <td>NaN</td>\n      <td>NaN</td>\n      <td>NaN</td>\n      <td>NaN</td>\n      <td>NaN</td>\n      <td>NaN</td>\n      <td>NaN</td>\n      <td>NaN</td>\n      <td>NaN</td>\n      <td>NaN</td>\n    </tr>\n    <tr>\n      <th>1706624371</th>\n      <td>archaeological_site</td>\n      <td>Grotta di Cocceio</td>\n      <td>Q518104</td>\n      <td>NaN</td>\n      <td>POINT (14.06211 40.84534)</td>\n      <td>NaN</td>\n      <td>ancient_roman_-_Augustus_Emperator_period</td>\n      <td>1 km</td>\n      <td>cave_entrance</td>\n      <td>NaN</td>\n      <td>...</td>\n      <td>NaN</td>\n      <td>NaN</td>\n      <td>NaN</td>\n      <td>NaN</td>\n      <td>NaN</td>\n      <td>NaN</td>\n      <td>NaN</td>\n      <td>NaN</td>\n      <td>NaN</td>\n      <td>NaN</td>\n    </tr>\n    <tr>\n      <th>2235447677</th>\n      <td>ruins</td>\n      <td>NaN</td>\n      <td>NaN</td>\n      <td>NaN</td>\n      <td>POINT (14.06509 40.82330)</td>\n      <td>NaN</td>\n      <td>NaN</td>\n      <td>NaN</td>\n      <td>NaN</td>\n      <td>NaN</td>\n      <td>...</td>\n      <td>NaN</td>\n      <td>NaN</td>\n      <td>NaN</td>\n      <td>NaN</td>\n      <td>NaN</td>\n      <td>NaN</td>\n      <td>NaN</td>\n      <td>NaN</td>\n      <td>NaN</td>\n      <td>NaN</td>\n    </tr>\n    <tr>\n      <th>2235447711</th>\n      <td>memorial</td>\n      <td>Bunker</td>\n      <td>NaN</td>\n      <td>NaN</td>\n      <td>POINT (14.06457 40.82321)</td>\n      <td>NaN</td>\n      <td>NaN</td>\n      <td>NaN</td>\n      <td>NaN</td>\n      <td>NaN</td>\n      <td>...</td>\n      <td>NaN</td>\n      <td>NaN</td>\n      <td>NaN</td>\n      <td>NaN</td>\n      <td>NaN</td>\n      <td>NaN</td>\n      <td>NaN</td>\n      <td>NaN</td>\n      <td>NaN</td>\n      <td>NaN</td>\n    </tr>\n    <tr>\n      <th>2235447893</th>\n      <td>memorial</td>\n      <td>Bunker</td>\n      <td>NaN</td>\n      <td>NaN</td>\n      <td>POINT (14.06555 40.82358)</td>\n      <td>NaN</td>\n      <td>NaN</td>\n      <td>NaN</td>\n      <td>NaN</td>\n      <td>NaN</td>\n      <td>...</td>\n      <td>NaN</td>\n      <td>NaN</td>\n      <td>NaN</td>\n      <td>NaN</td>\n      <td>NaN</td>\n      <td>NaN</td>\n      <td>NaN</td>\n      <td>NaN</td>\n      <td>NaN</td>\n      <td>NaN</td>\n    </tr>\n    <tr>\n      <th>8755033944</th>\n      <td>ruins</td>\n      <td>Tempo di Iside</td>\n      <td>NaN</td>\n      <td>NaN</td>\n      <td>POINT (14.05002 40.84415)</td>\n      <td>NaN</td>\n      <td>NaN</td>\n      <td>NaN</td>\n      <td>NaN</td>\n      <td>NaN</td>\n      <td>...</td>\n      <td>NaN</td>\n      <td>NaN</td>\n      <td>NaN</td>\n      <td>NaN</td>\n      <td>NaN</td>\n      <td>NaN</td>\n      <td>NaN</td>\n      <td>NaN</td>\n      <td>NaN</td>\n      <td>NaN</td>\n    </tr>\n    <tr>\n      <th>9060732167</th>\n      <td>ruins</td>\n      <td>NaN</td>\n      <td>NaN</td>\n      <td>NaN</td>\n      <td>POINT (14.06845 40.81674)</td>\n      <td>NaN</td>\n      <td>NaN</td>\n      <td>NaN</td>\n      <td>NaN</td>\n      <td>NaN</td>\n      <td>...</td>\n      <td>NaN</td>\n      <td>NaN</td>\n      <td>NaN</td>\n      <td>NaN</td>\n      <td>NaN</td>\n      <td>NaN</td>\n      <td>NaN</td>\n      <td>NaN</td>\n      <td>NaN</td>\n      <td>NaN</td>\n    </tr>\n    <tr>\n      <th rowspan=\"20\" valign=\"top\">way</th>\n      <th>124092891</th>\n      <td>archaeological_site</td>\n      <td>Parco Archeologico Terme di Baia</td>\n      <td>Q3685188</td>\n      <td>it:Complesso archeologico di Baia</td>\n      <td>POLYGON ((14.07084 40.81923, 14.07072 40.81929...</td>\n      <td>NaN</td>\n      <td>ancient_roman</td>\n      <td>NaN</td>\n      <td>NaN</td>\n      <td>[1382052835, 4083235857, 1382052825, 408323585...</td>\n      <td>...</td>\n      <td>NaN</td>\n      <td>NaN</td>\n      <td>NaN</td>\n      <td>NaN</td>\n      <td>NaN</td>\n      <td>NaN</td>\n      <td>NaN</td>\n      <td>NaN</td>\n      <td>NaN</td>\n      <td>NaN</td>\n    </tr>\n    <tr>\n      <th>124093354</th>\n      <td>archaeological_site</td>\n      <td>Anfiteatro di Cuma</td>\n      <td>Q93976746</td>\n      <td>NaN</td>\n      <td>POLYGON ((14.05636 40.84248, 14.05598 40.84255...</td>\n      <td>NaN</td>\n      <td>ancient_roman</td>\n      <td>NaN</td>\n      <td>NaN</td>\n      <td>[1382055624, 1382055618, 1382055628, 138205562...</td>\n      <td>...</td>\n      <td>NaN</td>\n      <td>NaN</td>\n      <td>NaN</td>\n      <td>NaN</td>\n      <td>NaN</td>\n      <td>NaN</td>\n      <td>NaN</td>\n      <td>NaN</td>\n      <td>NaN</td>\n      <td>NaN</td>\n    </tr>\n    <tr>\n      <th>144917231</th>\n      <td>castle</td>\n      <td>Castello Aragonese di Baia</td>\n      <td>Q3662303</td>\n      <td>it:Castello Aragonese (Baia)</td>\n      <td>POLYGON ((14.08025 40.81003, 14.08046 40.81018...</td>\n      <td>NaN</td>\n      <td>NaN</td>\n      <td>NaN</td>\n      <td>NaN</td>\n      <td>[1583990045, 1583990048, 1583990061, 158399006...</td>\n      <td>...</td>\n      <td>NaN</td>\n      <td>NaN</td>\n      <td>NaN</td>\n      <td>NaN</td>\n      <td>NaN</td>\n      <td>NaN</td>\n      <td>NaN</td>\n      <td>NaN</td>\n      <td>NaN</td>\n      <td>NaN</td>\n    </tr>\n    <tr>\n      <th>240100401</th>\n      <td>archaeological_site</td>\n      <td>Tomba di Agrippina</td>\n      <td>NaN</td>\n      <td>NaN</td>\n      <td>POLYGON ((14.08145 40.80291, 14.08133 40.80294...</td>\n      <td>attraction</td>\n      <td>NaN</td>\n      <td>NaN</td>\n      <td>NaN</td>\n      <td>[2478723947, 2478723948, 2478723949, 247872395...</td>\n      <td>...</td>\n      <td>NaN</td>\n      <td>NaN</td>\n      <td>NaN</td>\n      <td>NaN</td>\n      <td>NaN</td>\n      <td>NaN</td>\n      <td>NaN</td>\n      <td>NaN</td>\n      <td>NaN</td>\n      <td>NaN</td>\n    </tr>\n    <tr>\n      <th>323122081</th>\n      <td>building</td>\n      <td>Casina Vanvitelliana</td>\n      <td>Q958152</td>\n      <td>it:Casina Vanvitelliana</td>\n      <td>POLYGON ((14.05844 40.81979, 14.05847 40.81983...</td>\n      <td>NaN</td>\n      <td>NaN</td>\n      <td>NaN</td>\n      <td>NaN</td>\n      <td>[3299164580, 6897303092, 6897328941, 689731239...</td>\n      <td>...</td>\n      <td>Домик Ванвителли</td>\n      <td>Sa,Su 10:00-14:00,16:00-19:00</td>\n      <td>http://www.prolococittadibacoli.it/casina-vanv...</td>\n      <td>Pro Loco Città di Bacoli</td>\n      <td>+39 379 1030885</td>\n      <td>recommended</td>\n      <td>1782</td>\n      <td>NaN</td>\n      <td>NaN</td>\n      <td>NaN</td>\n    </tr>\n    <tr>\n      <th>406222066</th>\n      <td>archaeological_site</td>\n      <td>Tempio di Diana</td>\n      <td>NaN</td>\n      <td>NaN</td>\n      <td>POLYGON ((14.07065 40.81926, 14.07043 40.81923...</td>\n      <td>NaN</td>\n      <td>NaN</td>\n      <td>NaN</td>\n      <td>NaN</td>\n      <td>[4083235856, 4083235855, 4083235852, 408323584...</td>\n      <td>...</td>\n      <td>NaN</td>\n      <td>NaN</td>\n      <td>NaN</td>\n      <td>NaN</td>\n      <td>NaN</td>\n      <td>NaN</td>\n      <td>NaN</td>\n      <td>primo quarto del III secolo d.C.</td>\n      <td>antica aula termale</td>\n      <td>NaN</td>\n    </tr>\n    <tr>\n      <th>429218964</th>\n      <td>archaeological_site</td>\n      <td>Columbari</td>\n      <td>NaN</td>\n      <td>NaN</td>\n      <td>POLYGON ((14.06482 40.81952, 14.06543 40.81914...</td>\n      <td>NaN</td>\n      <td>NaN</td>\n      <td>NaN</td>\n      <td>NaN</td>\n      <td>[4283467129, 4283467130, 4283467131, 428346713...</td>\n      <td>...</td>\n      <td>NaN</td>\n      <td>NaN</td>\n      <td>NaN</td>\n      <td>NaN</td>\n      <td>NaN</td>\n      <td>NaN</td>\n      <td>NaN</td>\n      <td>NaN</td>\n      <td>NaN</td>\n      <td>NaN</td>\n    </tr>\n    <tr>\n      <th>429324871</th>\n      <td>archaeological_site</td>\n      <td>Monumental Park of Baia</td>\n      <td>NaN</td>\n      <td>NaN</td>\n      <td>POLYGON ((14.07125 40.81337, 14.07098 40.81320...</td>\n      <td>NaN</td>\n      <td>NaN</td>\n      <td>NaN</td>\n      <td>NaN</td>\n      <td>[4284413253, 4284413254, 4284413255, 428441325...</td>\n      <td>...</td>\n      <td>NaN</td>\n      <td>NaN</td>\n      <td>NaN</td>\n      <td>NaN</td>\n      <td>NaN</td>\n      <td>NaN</td>\n      <td>NaN</td>\n      <td>NaN</td>\n      <td>NaN</td>\n      <td>NaN</td>\n    </tr>\n    <tr>\n      <th>429338160</th>\n      <td>archaeological_site</td>\n      <td>Tempio di Mercurio</td>\n      <td>NaN</td>\n      <td>NaN</td>\n      <td>POLYGON ((14.06978 40.81790, 14.06982 40.81792...</td>\n      <td>NaN</td>\n      <td>NaN</td>\n      <td>NaN</td>\n      <td>NaN</td>\n      <td>[4284599234, 4284599235, 4284599236, 428459923...</td>\n      <td>...</td>\n      <td>NaN</td>\n      <td>NaN</td>\n      <td>NaN</td>\n      <td>NaN</td>\n      <td>NaN</td>\n      <td>NaN</td>\n      <td>NaN</td>\n      <td>NaN</td>\n      <td>l'edificio era un frigidarium. La volta circol...</td>\n      <td>prima metà del I sec. d.C.</td>\n    </tr>\n    <tr>\n      <th>429339087</th>\n      <td>archaeological_site</td>\n      <td>Tempio di Venere</td>\n      <td>Q96694237</td>\n      <td>NaN</td>\n      <td>POLYGON ((14.07139 40.81624, 14.07152 40.81627...</td>\n      <td>NaN</td>\n      <td>NaN</td>\n      <td>NaN</td>\n      <td>NaN</td>\n      <td>[4284611823, 4284611824, 4284611825, 428461182...</td>\n      <td>...</td>\n      <td>NaN</td>\n      <td>NaN</td>\n      <td>NaN</td>\n      <td>NaN</td>\n      <td>NaN</td>\n      <td>NaN</td>\n      <td>NaN</td>\n      <td>NaN</td>\n      <td>edificio termale</td>\n      <td>NaN</td>\n    </tr>\n    <tr>\n      <th>429340403</th>\n      <td>archaeological_site</td>\n      <td>NaN</td>\n      <td>NaN</td>\n      <td>NaN</td>\n      <td>POLYGON ((14.06974 40.81769, 14.06978 40.81770...</td>\n      <td>NaN</td>\n      <td>NaN</td>\n      <td>NaN</td>\n      <td>NaN</td>\n      <td>[4284609514, 4284609515, 4284609516, 428460951...</td>\n      <td>...</td>\n      <td>NaN</td>\n      <td>NaN</td>\n      <td>NaN</td>\n      <td>NaN</td>\n      <td>NaN</td>\n      <td>NaN</td>\n      <td>NaN</td>\n      <td>NaN</td>\n      <td>NaN</td>\n      <td>NaN</td>\n    </tr>\n    <tr>\n      <th>429341185</th>\n      <td>archaeological_site</td>\n      <td>NaN</td>\n      <td>NaN</td>\n      <td>NaN</td>\n      <td>POLYGON ((14.06991 40.81750, 14.06992 40.81745...</td>\n      <td>NaN</td>\n      <td>NaN</td>\n      <td>NaN</td>\n      <td>NaN</td>\n      <td>[4284609519, 4284631813, 4284631814, 428463181...</td>\n      <td>...</td>\n      <td>NaN</td>\n      <td>NaN</td>\n      <td>NaN</td>\n      <td>NaN</td>\n      <td>NaN</td>\n      <td>NaN</td>\n      <td>NaN</td>\n      <td>NaN</td>\n      <td>NaN</td>\n      <td>NaN</td>\n    </tr>\n    <tr>\n      <th>429341186</th>\n      <td>archaeological_site</td>\n      <td>NaN</td>\n      <td>NaN</td>\n      <td>NaN</td>\n      <td>POLYGON ((14.06997 40.81712, 14.07006 40.81679...</td>\n      <td>NaN</td>\n      <td>NaN</td>\n      <td>NaN</td>\n      <td>NaN</td>\n      <td>[4284631827, 4284631828, 4284631829, 428463183...</td>\n      <td>...</td>\n      <td>NaN</td>\n      <td>NaN</td>\n      <td>NaN</td>\n      <td>NaN</td>\n      <td>NaN</td>\n      <td>NaN</td>\n      <td>NaN</td>\n      <td>NaN</td>\n      <td>NaN</td>\n      <td>NaN</td>\n    </tr>\n    <tr>\n      <th>429341188</th>\n      <td>archaeological_site</td>\n      <td>NaN</td>\n      <td>NaN</td>\n      <td>NaN</td>\n      <td>POLYGON ((14.07011 40.81672, 14.07006 40.81670...</td>\n      <td>NaN</td>\n      <td>NaN</td>\n      <td>NaN</td>\n      <td>NaN</td>\n      <td>[4284631843, 4284631844, 4284631845, 428463184...</td>\n      <td>...</td>\n      <td>NaN</td>\n      <td>NaN</td>\n      <td>NaN</td>\n      <td>NaN</td>\n      <td>NaN</td>\n      <td>NaN</td>\n      <td>NaN</td>\n      <td>NaN</td>\n      <td>NaN</td>\n      <td>NaN</td>\n    </tr>\n    <tr>\n      <th>429341189</th>\n      <td>archaeological_site</td>\n      <td>NaN</td>\n      <td>NaN</td>\n      <td>NaN</td>\n      <td>POLYGON ((14.06979 40.81670, 14.06990 40.81672...</td>\n      <td>NaN</td>\n      <td>NaN</td>\n      <td>NaN</td>\n      <td>NaN</td>\n      <td>[4083235569, 4284631859, 4284631860, 428463186...</td>\n      <td>...</td>\n      <td>NaN</td>\n      <td>NaN</td>\n      <td>NaN</td>\n      <td>NaN</td>\n      <td>NaN</td>\n      <td>NaN</td>\n      <td>NaN</td>\n      <td>NaN</td>\n      <td>NaN</td>\n      <td>NaN</td>\n    </tr>\n    <tr>\n      <th>429341190</th>\n      <td>archaeological_site</td>\n      <td>NaN</td>\n      <td>NaN</td>\n      <td>NaN</td>\n      <td>POLYGON ((14.06992 40.81624, 14.06989 40.81630...</td>\n      <td>NaN</td>\n      <td>NaN</td>\n      <td>NaN</td>\n      <td>NaN</td>\n      <td>[4284631863, 4284631864, 4284631865, 906085113...</td>\n      <td>...</td>\n      <td>NaN</td>\n      <td>NaN</td>\n      <td>NaN</td>\n      <td>NaN</td>\n      <td>NaN</td>\n      <td>NaN</td>\n      <td>NaN</td>\n      <td>NaN</td>\n      <td>NaN</td>\n      <td>NaN</td>\n    </tr>\n    <tr>\n      <th>736686146</th>\n      <td>building</td>\n      <td>NaN</td>\n      <td>NaN</td>\n      <td>NaN</td>\n      <td>POLYGON ((14.07068 40.82155, 14.07062 40.82149...</td>\n      <td>NaN</td>\n      <td>NaN</td>\n      <td>NaN</td>\n      <td>NaN</td>\n      <td>[6897279565, 6897310515, 6897272664, 689731985...</td>\n      <td>...</td>\n      <td>NaN</td>\n      <td>NaN</td>\n      <td>NaN</td>\n      <td>NaN</td>\n      <td>NaN</td>\n      <td>NaN</td>\n      <td>NaN</td>\n      <td>NaN</td>\n      <td>NaN</td>\n      <td>NaN</td>\n    </tr>\n    <tr>\n      <th>736686737</th>\n      <td>archaeological_site</td>\n      <td>NaN</td>\n      <td>NaN</td>\n      <td>NaN</td>\n      <td>POLYGON ((14.06929 40.81767, 14.06939 40.81727...</td>\n      <td>NaN</td>\n      <td>NaN</td>\n      <td>NaN</td>\n      <td>NaN</td>\n      <td>[6897334201, 6897298978, 6897296141, 689732206...</td>\n      <td>...</td>\n      <td>NaN</td>\n      <td>NaN</td>\n      <td>NaN</td>\n      <td>NaN</td>\n      <td>NaN</td>\n      <td>NaN</td>\n      <td>NaN</td>\n      <td>NaN</td>\n      <td>NaN</td>\n      <td>NaN</td>\n    </tr>\n    <tr>\n      <th>736690821</th>\n      <td>archaeological_site</td>\n      <td>NaN</td>\n      <td>NaN</td>\n      <td>NaN</td>\n      <td>POLYGON ((14.06999 40.81713, 14.07037 40.81721...</td>\n      <td>NaN</td>\n      <td>NaN</td>\n      <td>NaN</td>\n      <td>NaN</td>\n      <td>[6897281438, 6897326113, 6897290885, 689733550...</td>\n      <td>...</td>\n      <td>NaN</td>\n      <td>NaN</td>\n      <td>NaN</td>\n      <td>NaN</td>\n      <td>NaN</td>\n      <td>NaN</td>\n      <td>NaN</td>\n      <td>NaN</td>\n      <td>NaN</td>\n      <td>NaN</td>\n    </tr>\n    <tr>\n      <th>1154634667</th>\n      <td>archaeological_site</td>\n      <td>Teatro romano di Misenum</td>\n      <td>Q55685837</td>\n      <td>NaN</td>\n      <td>POLYGON ((14.08315 40.78788, 14.08303 40.78776...</td>\n      <td>NaN</td>\n      <td>ancient_roman</td>\n      <td>NaN</td>\n      <td>NaN</td>\n      <td>[10738232596, 10738232597, 10738232598, 107382...</td>\n      <td>...</td>\n      <td>NaN</td>\n      <td>NaN</td>\n      <td>NaN</td>\n      <td>NaN</td>\n      <td>NaN</td>\n      <td>NaN</td>\n      <td>NaN</td>\n      <td>NaN</td>\n      <td>NaN</td>\n      <td>NaN</td>\n    </tr>\n  </tbody>\n</table>\n<p>30 rows × 35 columns</p>\n</div>"
     },
     "execution_count": 5,
     "metadata": {},
     "output_type": "execute_result"
    }
   ],
   "source": [
    "bacoli_data = ox.features_from_polygon(\n",
    "    polygon=bacoli.geometry,\n",
    "    tags={'historic': True}\n",
    ")\n",
    "\n",
    "bacoli_data"
   ],
   "metadata": {
    "collapsed": false,
    "ExecuteTime": {
     "end_time": "2023-08-20T17:59:27.900841432Z",
     "start_time": "2023-08-20T17:59:27.510384373Z"
    }
   }
  },
  {
   "cell_type": "markdown",
   "source": [
    "Come si può vedere in quest'area ci sono ben 35 siti di interesse archeologico, molti più dei tre che conosco che fanno parte dell'elenco di inizio articolo.\n",
    "\n",
    "Ma veniamo ai TAG di nostro interesse. Analizzando l'elenco delle [chiavi](https://wiki.openstreetmap.org/wiki/Map_features#Historic) ce ne sono alcune che non mi interessano e le inserirò nella viriabile che segue perchè a me interessano solo le strutture o i resti di strutture."
   ],
   "metadata": {
    "collapsed": false
   }
  },
  {
   "cell_type": "code",
   "execution_count": 6,
   "outputs": [
    {
     "data": {
      "text/plain": "['aircraft',\n 'anchor',\n 'battlefield',\n 'bomb_crater',\n 'boundary_stone',\n 'cannon',\n 'cattle_crush',\n 'district',\n 'highwater_mark',\n 'locomotive',\n 'ogham_stone',\n 'railway_car',\n 'road',\n 'shieling',\n 'ship',\n 'tank',\n 'vehicle',\n 'wayside_cross',\n 'wayside_shrine',\n 'wreck']"
     },
     "execution_count": 6,
     "metadata": {},
     "output_type": "execute_result"
    }
   ],
   "source": [
    "excluded_keys = ['aircraft', 'anchor', 'battlefield', 'bomb_crater', 'boundary_stone', 'cannon', 'cattle_crush', 'district', 'highwater_mark', 'locomotive', 'ogham_stone', 'railway_car', 'road', 'shieling', 'ship', 'tank', 'vehicle', 'wayside_cross', 'wayside_shrine', 'wreck']\n",
    "\n",
    "excluded_keys"
   ],
   "metadata": {
    "collapsed": false,
    "ExecuteTime": {
     "end_time": "2023-08-20T17:59:27.902525118Z",
     "start_time": "2023-08-20T17:59:27.677284328Z"
    }
   }
  },
  {
   "cell_type": "markdown",
   "source": [
    "Inoltre escluderò anche alcune colonne dal dataset primario in modo da restringere ulteriormente il campo."
   ],
   "metadata": {
    "collapsed": false
   }
  },
  {
   "cell_type": "code",
   "execution_count": 7,
   "outputs": [
    {
     "data": {
      "text/plain": "   element_type       osmid             historic  \\\n0          node  1045290525  archaeological_site   \n1          node  1104926219  archaeological_site   \n2          node  1139094827  archaeological_site   \n3          node  1139094838  archaeological_site   \n4          node  1706624371  archaeological_site   \n5          node  2235447711             memorial   \n6          node  2235447893             memorial   \n7          node  8755033944                ruins   \n8           way   124092891  archaeological_site   \n9           way   124093354  archaeological_site   \n10          way   144917231               castle   \n11          way   240100401  archaeological_site   \n12          way   323122081             building   \n13          way   406222066  archaeological_site   \n14          way   429218964  archaeological_site   \n15          way   429324871  archaeological_site   \n16          way   429338160  archaeological_site   \n17          way   429339087  archaeological_site   \n18          way  1154634667  archaeological_site   \n\n                                name  \\\n0                  Piscina Mirabilis   \n1    Grotte dell'Acqua - Lago Fusaro   \n2             Grotta della Dragonara   \n3            Sacello degli Augustali   \n4                  Grotta di Cocceio   \n5                             Bunker   \n6                             Bunker   \n7                     Tempo di Iside   \n8   Parco Archeologico Terme di Baia   \n9                 Anfiteatro di Cuma   \n10        Castello Aragonese di Baia   \n11                Tomba di Agrippina   \n12              Casina Vanvitelliana   \n13                   Tempio di Diana   \n14                         Columbari   \n15           Monumental Park of Baia   \n16                Tempio di Mercurio   \n17                  Tempio di Venere   \n18          Teatro romano di Misenum   \n\n                        historic:civilization  \\\n0                                         NaN   \n1                                         NaN   \n2                                         NaN   \n3                                         NaN   \n4   ancient_roman_-_Augustus_Emperator_period   \n5                                         NaN   \n6                                         NaN   \n7                                         NaN   \n8                               ancient_roman   \n9                               ancient_roman   \n10                                        NaN   \n11                                        NaN   \n12                                        NaN   \n13                                        NaN   \n14                                        NaN   \n15                                        NaN   \n16                                        NaN   \n17                                        NaN   \n18                              ancient_roman   \n\n                                             geometry  \n0                           POINT (14.08028 40.79519)  \n1                           POINT (14.05955 40.82506)  \n2                           POINT (14.08506 40.78477)  \n3                           POINT (14.08460 40.78747)  \n4                           POINT (14.06211 40.84534)  \n5                           POINT (14.06457 40.82321)  \n6                           POINT (14.06555 40.82358)  \n7                           POINT (14.05002 40.84415)  \n8   POLYGON ((14.07084 40.81923, 14.07072 40.81929...  \n9   POLYGON ((14.05636 40.84248, 14.05598 40.84255...  \n10  POLYGON ((14.08025 40.81003, 14.08046 40.81018...  \n11  POLYGON ((14.08145 40.80291, 14.08133 40.80294...  \n12  POLYGON ((14.05844 40.81979, 14.05847 40.81983...  \n13  POLYGON ((14.07065 40.81926, 14.07043 40.81923...  \n14  POLYGON ((14.06482 40.81952, 14.06543 40.81914...  \n15  POLYGON ((14.07125 40.81337, 14.07098 40.81320...  \n16  POLYGON ((14.06978 40.81790, 14.06982 40.81792...  \n17  POLYGON ((14.07139 40.81624, 14.07152 40.81627...  \n18  POLYGON ((14.08315 40.78788, 14.08303 40.78776...  ",
      "text/html": "<div>\n<style scoped>\n    .dataframe tbody tr th:only-of-type {\n        vertical-align: middle;\n    }\n\n    .dataframe tbody tr th {\n        vertical-align: top;\n    }\n\n    .dataframe thead th {\n        text-align: right;\n    }\n</style>\n<table border=\"1\" class=\"dataframe\">\n  <thead>\n    <tr style=\"text-align: right;\">\n      <th></th>\n      <th>element_type</th>\n      <th>osmid</th>\n      <th>historic</th>\n      <th>name</th>\n      <th>historic:civilization</th>\n      <th>geometry</th>\n    </tr>\n  </thead>\n  <tbody>\n    <tr>\n      <th>0</th>\n      <td>node</td>\n      <td>1045290525</td>\n      <td>archaeological_site</td>\n      <td>Piscina Mirabilis</td>\n      <td>NaN</td>\n      <td>POINT (14.08028 40.79519)</td>\n    </tr>\n    <tr>\n      <th>1</th>\n      <td>node</td>\n      <td>1104926219</td>\n      <td>archaeological_site</td>\n      <td>Grotte dell'Acqua - Lago Fusaro</td>\n      <td>NaN</td>\n      <td>POINT (14.05955 40.82506)</td>\n    </tr>\n    <tr>\n      <th>2</th>\n      <td>node</td>\n      <td>1139094827</td>\n      <td>archaeological_site</td>\n      <td>Grotta della Dragonara</td>\n      <td>NaN</td>\n      <td>POINT (14.08506 40.78477)</td>\n    </tr>\n    <tr>\n      <th>3</th>\n      <td>node</td>\n      <td>1139094838</td>\n      <td>archaeological_site</td>\n      <td>Sacello degli Augustali</td>\n      <td>NaN</td>\n      <td>POINT (14.08460 40.78747)</td>\n    </tr>\n    <tr>\n      <th>4</th>\n      <td>node</td>\n      <td>1706624371</td>\n      <td>archaeological_site</td>\n      <td>Grotta di Cocceio</td>\n      <td>ancient_roman_-_Augustus_Emperator_period</td>\n      <td>POINT (14.06211 40.84534)</td>\n    </tr>\n    <tr>\n      <th>5</th>\n      <td>node</td>\n      <td>2235447711</td>\n      <td>memorial</td>\n      <td>Bunker</td>\n      <td>NaN</td>\n      <td>POINT (14.06457 40.82321)</td>\n    </tr>\n    <tr>\n      <th>6</th>\n      <td>node</td>\n      <td>2235447893</td>\n      <td>memorial</td>\n      <td>Bunker</td>\n      <td>NaN</td>\n      <td>POINT (14.06555 40.82358)</td>\n    </tr>\n    <tr>\n      <th>7</th>\n      <td>node</td>\n      <td>8755033944</td>\n      <td>ruins</td>\n      <td>Tempo di Iside</td>\n      <td>NaN</td>\n      <td>POINT (14.05002 40.84415)</td>\n    </tr>\n    <tr>\n      <th>8</th>\n      <td>way</td>\n      <td>124092891</td>\n      <td>archaeological_site</td>\n      <td>Parco Archeologico Terme di Baia</td>\n      <td>ancient_roman</td>\n      <td>POLYGON ((14.07084 40.81923, 14.07072 40.81929...</td>\n    </tr>\n    <tr>\n      <th>9</th>\n      <td>way</td>\n      <td>124093354</td>\n      <td>archaeological_site</td>\n      <td>Anfiteatro di Cuma</td>\n      <td>ancient_roman</td>\n      <td>POLYGON ((14.05636 40.84248, 14.05598 40.84255...</td>\n    </tr>\n    <tr>\n      <th>10</th>\n      <td>way</td>\n      <td>144917231</td>\n      <td>castle</td>\n      <td>Castello Aragonese di Baia</td>\n      <td>NaN</td>\n      <td>POLYGON ((14.08025 40.81003, 14.08046 40.81018...</td>\n    </tr>\n    <tr>\n      <th>11</th>\n      <td>way</td>\n      <td>240100401</td>\n      <td>archaeological_site</td>\n      <td>Tomba di Agrippina</td>\n      <td>NaN</td>\n      <td>POLYGON ((14.08145 40.80291, 14.08133 40.80294...</td>\n    </tr>\n    <tr>\n      <th>12</th>\n      <td>way</td>\n      <td>323122081</td>\n      <td>building</td>\n      <td>Casina Vanvitelliana</td>\n      <td>NaN</td>\n      <td>POLYGON ((14.05844 40.81979, 14.05847 40.81983...</td>\n    </tr>\n    <tr>\n      <th>13</th>\n      <td>way</td>\n      <td>406222066</td>\n      <td>archaeological_site</td>\n      <td>Tempio di Diana</td>\n      <td>NaN</td>\n      <td>POLYGON ((14.07065 40.81926, 14.07043 40.81923...</td>\n    </tr>\n    <tr>\n      <th>14</th>\n      <td>way</td>\n      <td>429218964</td>\n      <td>archaeological_site</td>\n      <td>Columbari</td>\n      <td>NaN</td>\n      <td>POLYGON ((14.06482 40.81952, 14.06543 40.81914...</td>\n    </tr>\n    <tr>\n      <th>15</th>\n      <td>way</td>\n      <td>429324871</td>\n      <td>archaeological_site</td>\n      <td>Monumental Park of Baia</td>\n      <td>NaN</td>\n      <td>POLYGON ((14.07125 40.81337, 14.07098 40.81320...</td>\n    </tr>\n    <tr>\n      <th>16</th>\n      <td>way</td>\n      <td>429338160</td>\n      <td>archaeological_site</td>\n      <td>Tempio di Mercurio</td>\n      <td>NaN</td>\n      <td>POLYGON ((14.06978 40.81790, 14.06982 40.81792...</td>\n    </tr>\n    <tr>\n      <th>17</th>\n      <td>way</td>\n      <td>429339087</td>\n      <td>archaeological_site</td>\n      <td>Tempio di Venere</td>\n      <td>NaN</td>\n      <td>POLYGON ((14.07139 40.81624, 14.07152 40.81627...</td>\n    </tr>\n    <tr>\n      <th>18</th>\n      <td>way</td>\n      <td>1154634667</td>\n      <td>archaeological_site</td>\n      <td>Teatro romano di Misenum</td>\n      <td>ancient_roman</td>\n      <td>POLYGON ((14.08315 40.78788, 14.08303 40.78776...</td>\n    </tr>\n  </tbody>\n</table>\n</div>"
     },
     "execution_count": 7,
     "metadata": {},
     "output_type": "execute_result"
    }
   ],
   "source": [
    "bacoli_data = bacoli_data[['historic', 'name', 'historic:civilization', 'geometry']]\n",
    "bacoli_data = bacoli_data[~bacoli_data['historic'].isin(excluded_keys)]\n",
    "bacoli_data = bacoli_data[bacoli_data['name'].notna()]\n",
    "bacoli_data.reset_index(inplace=True)\n",
    "\n",
    "bacoli_data"
   ],
   "metadata": {
    "collapsed": false,
    "ExecuteTime": {
     "end_time": "2023-08-20T17:59:27.904758632Z",
     "start_time": "2023-08-20T17:59:27.725274833Z"
    }
   }
  },
  {
   "cell_type": "markdown",
   "source": [
    "Purtroppo a causa del fatto che la colonna *historic:civilization* non è corrattamente campita non riuscirò a sfruttare correttamente i dati a disposizione per rispondere alla mia domanda iniziale, ma meglio di niente. "
   ],
   "metadata": {
    "collapsed": false
   }
  },
  {
   "cell_type": "markdown",
   "source": [
    "Come avrete sicuramente notato, il dataset ha geometrie miste. Di seguito lo normalizzerò per fare in modo da avere solo punti."
   ],
   "metadata": {
    "collapsed": false
   }
  },
  {
   "cell_type": "code",
   "execution_count": 8,
   "outputs": [
    {
     "data": {
      "text/plain": "   element_type       osmid             historic  \\\n8           way   124092891  archaeological_site   \n9           way   124093354  archaeological_site   \n10          way   144917231               castle   \n11          way   240100401  archaeological_site   \n12          way   323122081             building   \n13          way   406222066  archaeological_site   \n14          way   429218964  archaeological_site   \n15          way   429324871  archaeological_site   \n16          way   429338160  archaeological_site   \n17          way   429339087  archaeological_site   \n18          way  1154634667  archaeological_site   \n\n                                name historic:civilization  \\\n8   Parco Archeologico Terme di Baia         ancient_roman   \n9                 Anfiteatro di Cuma         ancient_roman   \n10        Castello Aragonese di Baia                   NaN   \n11                Tomba di Agrippina                   NaN   \n12              Casina Vanvitelliana                   NaN   \n13                   Tempio di Diana                   NaN   \n14                         Columbari                   NaN   \n15           Monumental Park of Baia                   NaN   \n16                Tempio di Mercurio                   NaN   \n17                  Tempio di Venere                   NaN   \n18          Teatro romano di Misenum         ancient_roman   \n\n                                             geometry  \n8   POLYGON ((14.07084 40.81923, 14.07072 40.81929...  \n9   POLYGON ((14.05636 40.84248, 14.05598 40.84255...  \n10  POLYGON ((14.08025 40.81003, 14.08046 40.81018...  \n11  POLYGON ((14.08145 40.80291, 14.08133 40.80294...  \n12  POLYGON ((14.05844 40.81979, 14.05847 40.81983...  \n13  POLYGON ((14.07065 40.81926, 14.07043 40.81923...  \n14  POLYGON ((14.06482 40.81952, 14.06543 40.81914...  \n15  POLYGON ((14.07125 40.81337, 14.07098 40.81320...  \n16  POLYGON ((14.06978 40.81790, 14.06982 40.81792...  \n17  POLYGON ((14.07139 40.81624, 14.07152 40.81627...  \n18  POLYGON ((14.08315 40.78788, 14.08303 40.78776...  ",
      "text/html": "<div>\n<style scoped>\n    .dataframe tbody tr th:only-of-type {\n        vertical-align: middle;\n    }\n\n    .dataframe tbody tr th {\n        vertical-align: top;\n    }\n\n    .dataframe thead th {\n        text-align: right;\n    }\n</style>\n<table border=\"1\" class=\"dataframe\">\n  <thead>\n    <tr style=\"text-align: right;\">\n      <th></th>\n      <th>element_type</th>\n      <th>osmid</th>\n      <th>historic</th>\n      <th>name</th>\n      <th>historic:civilization</th>\n      <th>geometry</th>\n    </tr>\n  </thead>\n  <tbody>\n    <tr>\n      <th>8</th>\n      <td>way</td>\n      <td>124092891</td>\n      <td>archaeological_site</td>\n      <td>Parco Archeologico Terme di Baia</td>\n      <td>ancient_roman</td>\n      <td>POLYGON ((14.07084 40.81923, 14.07072 40.81929...</td>\n    </tr>\n    <tr>\n      <th>9</th>\n      <td>way</td>\n      <td>124093354</td>\n      <td>archaeological_site</td>\n      <td>Anfiteatro di Cuma</td>\n      <td>ancient_roman</td>\n      <td>POLYGON ((14.05636 40.84248, 14.05598 40.84255...</td>\n    </tr>\n    <tr>\n      <th>10</th>\n      <td>way</td>\n      <td>144917231</td>\n      <td>castle</td>\n      <td>Castello Aragonese di Baia</td>\n      <td>NaN</td>\n      <td>POLYGON ((14.08025 40.81003, 14.08046 40.81018...</td>\n    </tr>\n    <tr>\n      <th>11</th>\n      <td>way</td>\n      <td>240100401</td>\n      <td>archaeological_site</td>\n      <td>Tomba di Agrippina</td>\n      <td>NaN</td>\n      <td>POLYGON ((14.08145 40.80291, 14.08133 40.80294...</td>\n    </tr>\n    <tr>\n      <th>12</th>\n      <td>way</td>\n      <td>323122081</td>\n      <td>building</td>\n      <td>Casina Vanvitelliana</td>\n      <td>NaN</td>\n      <td>POLYGON ((14.05844 40.81979, 14.05847 40.81983...</td>\n    </tr>\n    <tr>\n      <th>13</th>\n      <td>way</td>\n      <td>406222066</td>\n      <td>archaeological_site</td>\n      <td>Tempio di Diana</td>\n      <td>NaN</td>\n      <td>POLYGON ((14.07065 40.81926, 14.07043 40.81923...</td>\n    </tr>\n    <tr>\n      <th>14</th>\n      <td>way</td>\n      <td>429218964</td>\n      <td>archaeological_site</td>\n      <td>Columbari</td>\n      <td>NaN</td>\n      <td>POLYGON ((14.06482 40.81952, 14.06543 40.81914...</td>\n    </tr>\n    <tr>\n      <th>15</th>\n      <td>way</td>\n      <td>429324871</td>\n      <td>archaeological_site</td>\n      <td>Monumental Park of Baia</td>\n      <td>NaN</td>\n      <td>POLYGON ((14.07125 40.81337, 14.07098 40.81320...</td>\n    </tr>\n    <tr>\n      <th>16</th>\n      <td>way</td>\n      <td>429338160</td>\n      <td>archaeological_site</td>\n      <td>Tempio di Mercurio</td>\n      <td>NaN</td>\n      <td>POLYGON ((14.06978 40.81790, 14.06982 40.81792...</td>\n    </tr>\n    <tr>\n      <th>17</th>\n      <td>way</td>\n      <td>429339087</td>\n      <td>archaeological_site</td>\n      <td>Tempio di Venere</td>\n      <td>NaN</td>\n      <td>POLYGON ((14.07139 40.81624, 14.07152 40.81627...</td>\n    </tr>\n    <tr>\n      <th>18</th>\n      <td>way</td>\n      <td>1154634667</td>\n      <td>archaeological_site</td>\n      <td>Teatro romano di Misenum</td>\n      <td>ancient_roman</td>\n      <td>POLYGON ((14.08315 40.78788, 14.08303 40.78776...</td>\n    </tr>\n  </tbody>\n</table>\n</div>"
     },
     "execution_count": 8,
     "metadata": {},
     "output_type": "execute_result"
    }
   ],
   "source": [
    "bacoli_polygons = bacoli_data[bacoli_data['element_type']=='way']\n",
    "\n",
    "bacoli_polygons"
   ],
   "metadata": {
    "collapsed": false,
    "ExecuteTime": {
     "end_time": "2023-08-20T17:59:28.045503574Z",
     "start_time": "2023-08-20T17:59:27.725869889Z"
    }
   }
  },
  {
   "cell_type": "code",
   "execution_count": 9,
   "outputs": [
    {
     "name": "stderr",
     "output_type": "stream",
     "text": [
      "/tmp/ipykernel_24721/311082464.py:1: UserWarning: Geometry is in a geographic CRS. Results from 'centroid' are likely incorrect. Use 'GeoSeries.to_crs()' to re-project geometries to a projected CRS before this operation.\n",
      "\n",
      "  bacoli_polygons['centroid'] = bacoli_polygons.geometry.centroid\n",
      "/home/max/.cache/pypoetry/virtualenvs/pygis_blog-iPs2SW5R-py3.10/lib/python3.10/site-packages/geopandas/geodataframe.py:1538: SettingWithCopyWarning: \n",
      "A value is trying to be set on a copy of a slice from a DataFrame.\n",
      "Try using .loc[row_indexer,col_indexer] = value instead\n",
      "\n",
      "See the caveats in the documentation: https://pandas.pydata.org/pandas-docs/stable/user_guide/indexing.html#returning-a-view-versus-a-copy\n",
      "  super().__setitem__(key, value)\n",
      "/tmp/ipykernel_24721/311082464.py:2: SettingWithCopyWarning: \n",
      "A value is trying to be set on a copy of a slice from a DataFrame\n",
      "\n",
      "See the caveats in the documentation: https://pandas.pydata.org/pandas-docs/stable/user_guide/indexing.html#returning-a-view-versus-a-copy\n",
      "  bacoli_polygons.drop(columns={'geometry'}, inplace=True)\n",
      "/tmp/ipykernel_24721/311082464.py:3: SettingWithCopyWarning: \n",
      "A value is trying to be set on a copy of a slice from a DataFrame\n",
      "\n",
      "See the caveats in the documentation: https://pandas.pydata.org/pandas-docs/stable/user_guide/indexing.html#returning-a-view-versus-a-copy\n",
      "  bacoli_polygons.rename(columns={'centroid': 'geometry'}, inplace=True)\n"
     ]
    },
    {
     "data": {
      "text/plain": "   element_type       osmid             historic  \\\n8           way   124092891  archaeological_site   \n9           way   124093354  archaeological_site   \n10          way   144917231               castle   \n11          way   240100401  archaeological_site   \n12          way   323122081             building   \n13          way   406222066  archaeological_site   \n14          way   429218964  archaeological_site   \n15          way   429324871  archaeological_site   \n16          way   429338160  archaeological_site   \n17          way   429339087  archaeological_site   \n18          way  1154634667  archaeological_site   \n\n                                name historic:civilization  \\\n8   Parco Archeologico Terme di Baia         ancient_roman   \n9                 Anfiteatro di Cuma         ancient_roman   \n10        Castello Aragonese di Baia                   NaN   \n11                Tomba di Agrippina                   NaN   \n12              Casina Vanvitelliana                   NaN   \n13                   Tempio di Diana                   NaN   \n14                         Columbari                   NaN   \n15           Monumental Park of Baia                   NaN   \n16                Tempio di Mercurio                   NaN   \n17                  Tempio di Venere                   NaN   \n18          Teatro romano di Misenum         ancient_roman   \n\n                     geometry  \n8   POINT (14.07024 40.81724)  \n9   POINT (14.05604 40.84199)  \n10  POINT (14.08032 40.81106)  \n11  POINT (14.08128 40.80285)  \n12  POINT (14.05842 40.81971)  \n13  POINT (14.07056 40.81914)  \n14  POINT (14.06500 40.81928)  \n15  POINT (14.07141 40.81283)  \n16  POINT (14.06987 40.81782)  \n17  POINT (14.07152 40.81612)  \n18  POINT (14.08313 40.78778)  ",
      "text/html": "<div>\n<style scoped>\n    .dataframe tbody tr th:only-of-type {\n        vertical-align: middle;\n    }\n\n    .dataframe tbody tr th {\n        vertical-align: top;\n    }\n\n    .dataframe thead th {\n        text-align: right;\n    }\n</style>\n<table border=\"1\" class=\"dataframe\">\n  <thead>\n    <tr style=\"text-align: right;\">\n      <th></th>\n      <th>element_type</th>\n      <th>osmid</th>\n      <th>historic</th>\n      <th>name</th>\n      <th>historic:civilization</th>\n      <th>geometry</th>\n    </tr>\n  </thead>\n  <tbody>\n    <tr>\n      <th>8</th>\n      <td>way</td>\n      <td>124092891</td>\n      <td>archaeological_site</td>\n      <td>Parco Archeologico Terme di Baia</td>\n      <td>ancient_roman</td>\n      <td>POINT (14.07024 40.81724)</td>\n    </tr>\n    <tr>\n      <th>9</th>\n      <td>way</td>\n      <td>124093354</td>\n      <td>archaeological_site</td>\n      <td>Anfiteatro di Cuma</td>\n      <td>ancient_roman</td>\n      <td>POINT (14.05604 40.84199)</td>\n    </tr>\n    <tr>\n      <th>10</th>\n      <td>way</td>\n      <td>144917231</td>\n      <td>castle</td>\n      <td>Castello Aragonese di Baia</td>\n      <td>NaN</td>\n      <td>POINT (14.08032 40.81106)</td>\n    </tr>\n    <tr>\n      <th>11</th>\n      <td>way</td>\n      <td>240100401</td>\n      <td>archaeological_site</td>\n      <td>Tomba di Agrippina</td>\n      <td>NaN</td>\n      <td>POINT (14.08128 40.80285)</td>\n    </tr>\n    <tr>\n      <th>12</th>\n      <td>way</td>\n      <td>323122081</td>\n      <td>building</td>\n      <td>Casina Vanvitelliana</td>\n      <td>NaN</td>\n      <td>POINT (14.05842 40.81971)</td>\n    </tr>\n    <tr>\n      <th>13</th>\n      <td>way</td>\n      <td>406222066</td>\n      <td>archaeological_site</td>\n      <td>Tempio di Diana</td>\n      <td>NaN</td>\n      <td>POINT (14.07056 40.81914)</td>\n    </tr>\n    <tr>\n      <th>14</th>\n      <td>way</td>\n      <td>429218964</td>\n      <td>archaeological_site</td>\n      <td>Columbari</td>\n      <td>NaN</td>\n      <td>POINT (14.06500 40.81928)</td>\n    </tr>\n    <tr>\n      <th>15</th>\n      <td>way</td>\n      <td>429324871</td>\n      <td>archaeological_site</td>\n      <td>Monumental Park of Baia</td>\n      <td>NaN</td>\n      <td>POINT (14.07141 40.81283)</td>\n    </tr>\n    <tr>\n      <th>16</th>\n      <td>way</td>\n      <td>429338160</td>\n      <td>archaeological_site</td>\n      <td>Tempio di Mercurio</td>\n      <td>NaN</td>\n      <td>POINT (14.06987 40.81782)</td>\n    </tr>\n    <tr>\n      <th>17</th>\n      <td>way</td>\n      <td>429339087</td>\n      <td>archaeological_site</td>\n      <td>Tempio di Venere</td>\n      <td>NaN</td>\n      <td>POINT (14.07152 40.81612)</td>\n    </tr>\n    <tr>\n      <th>18</th>\n      <td>way</td>\n      <td>1154634667</td>\n      <td>archaeological_site</td>\n      <td>Teatro romano di Misenum</td>\n      <td>ancient_roman</td>\n      <td>POINT (14.08313 40.78778)</td>\n    </tr>\n  </tbody>\n</table>\n</div>"
     },
     "execution_count": 9,
     "metadata": {},
     "output_type": "execute_result"
    }
   ],
   "source": [
    "bacoli_polygons['centroid'] = bacoli_polygons.geometry.centroid\n",
    "bacoli_polygons.drop(columns={'geometry'}, inplace=True)\n",
    "bacoli_polygons.rename(columns={'centroid': 'geometry'}, inplace=True)\n",
    "\n",
    "bacoli_polygons"
   ],
   "metadata": {
    "collapsed": false,
    "ExecuteTime": {
     "end_time": "2023-08-20T17:59:28.194534091Z",
     "start_time": "2023-08-20T17:59:27.772970452Z"
    }
   }
  },
  {
   "cell_type": "code",
   "execution_count": 10,
   "outputs": [
    {
     "data": {
      "text/plain": "         osmid             historic                              name  \\\n9    124093354  archaeological_site                Anfiteatro di Cuma   \n5   2235447711             memorial                            Bunker   \n6   2235447893             memorial                            Bunker   \n12   323122081             building              Casina Vanvitelliana   \n10   144917231               castle        Castello Aragonese di Baia   \n14   429218964  archaeological_site                         Columbari   \n2   1139094827  archaeological_site            Grotta della Dragonara   \n4   1706624371  archaeological_site                 Grotta di Cocceio   \n1   1104926219  archaeological_site   Grotte dell'Acqua - Lago Fusaro   \n15   429324871  archaeological_site           Monumental Park of Baia   \n8    124092891  archaeological_site  Parco Archeologico Terme di Baia   \n0   1045290525  archaeological_site                 Piscina Mirabilis   \n3   1139094838  archaeological_site           Sacello degli Augustali   \n18  1154634667  archaeological_site          Teatro romano di Misenum   \n13   406222066  archaeological_site                   Tempio di Diana   \n16   429338160  archaeological_site                Tempio di Mercurio   \n17   429339087  archaeological_site                  Tempio di Venere   \n7   8755033944                ruins                    Tempo di Iside   \n11   240100401  archaeological_site                Tomba di Agrippina   \n\n                        historic:civilization                   geometry  \n9                               ancient_roman  POINT (14.05604 40.84199)  \n5                                         NaN  POINT (14.06457 40.82321)  \n6                                         NaN  POINT (14.06555 40.82358)  \n12                                        NaN  POINT (14.05842 40.81971)  \n10                                        NaN  POINT (14.08032 40.81106)  \n14                                        NaN  POINT (14.06500 40.81928)  \n2                                         NaN  POINT (14.08506 40.78477)  \n4   ancient_roman_-_Augustus_Emperator_period  POINT (14.06211 40.84534)  \n1                                         NaN  POINT (14.05955 40.82506)  \n15                                        NaN  POINT (14.07141 40.81283)  \n8                               ancient_roman  POINT (14.07024 40.81724)  \n0                                         NaN  POINT (14.08028 40.79519)  \n3                                         NaN  POINT (14.08460 40.78747)  \n18                              ancient_roman  POINT (14.08313 40.78778)  \n13                                        NaN  POINT (14.07056 40.81914)  \n16                                        NaN  POINT (14.06987 40.81782)  \n17                                        NaN  POINT (14.07152 40.81612)  \n7                                         NaN  POINT (14.05002 40.84415)  \n11                                        NaN  POINT (14.08128 40.80285)  ",
      "text/html": "<div>\n<style scoped>\n    .dataframe tbody tr th:only-of-type {\n        vertical-align: middle;\n    }\n\n    .dataframe tbody tr th {\n        vertical-align: top;\n    }\n\n    .dataframe thead th {\n        text-align: right;\n    }\n</style>\n<table border=\"1\" class=\"dataframe\">\n  <thead>\n    <tr style=\"text-align: right;\">\n      <th></th>\n      <th>osmid</th>\n      <th>historic</th>\n      <th>name</th>\n      <th>historic:civilization</th>\n      <th>geometry</th>\n    </tr>\n  </thead>\n  <tbody>\n    <tr>\n      <th>9</th>\n      <td>124093354</td>\n      <td>archaeological_site</td>\n      <td>Anfiteatro di Cuma</td>\n      <td>ancient_roman</td>\n      <td>POINT (14.05604 40.84199)</td>\n    </tr>\n    <tr>\n      <th>5</th>\n      <td>2235447711</td>\n      <td>memorial</td>\n      <td>Bunker</td>\n      <td>NaN</td>\n      <td>POINT (14.06457 40.82321)</td>\n    </tr>\n    <tr>\n      <th>6</th>\n      <td>2235447893</td>\n      <td>memorial</td>\n      <td>Bunker</td>\n      <td>NaN</td>\n      <td>POINT (14.06555 40.82358)</td>\n    </tr>\n    <tr>\n      <th>12</th>\n      <td>323122081</td>\n      <td>building</td>\n      <td>Casina Vanvitelliana</td>\n      <td>NaN</td>\n      <td>POINT (14.05842 40.81971)</td>\n    </tr>\n    <tr>\n      <th>10</th>\n      <td>144917231</td>\n      <td>castle</td>\n      <td>Castello Aragonese di Baia</td>\n      <td>NaN</td>\n      <td>POINT (14.08032 40.81106)</td>\n    </tr>\n    <tr>\n      <th>14</th>\n      <td>429218964</td>\n      <td>archaeological_site</td>\n      <td>Columbari</td>\n      <td>NaN</td>\n      <td>POINT (14.06500 40.81928)</td>\n    </tr>\n    <tr>\n      <th>2</th>\n      <td>1139094827</td>\n      <td>archaeological_site</td>\n      <td>Grotta della Dragonara</td>\n      <td>NaN</td>\n      <td>POINT (14.08506 40.78477)</td>\n    </tr>\n    <tr>\n      <th>4</th>\n      <td>1706624371</td>\n      <td>archaeological_site</td>\n      <td>Grotta di Cocceio</td>\n      <td>ancient_roman_-_Augustus_Emperator_period</td>\n      <td>POINT (14.06211 40.84534)</td>\n    </tr>\n    <tr>\n      <th>1</th>\n      <td>1104926219</td>\n      <td>archaeological_site</td>\n      <td>Grotte dell'Acqua - Lago Fusaro</td>\n      <td>NaN</td>\n      <td>POINT (14.05955 40.82506)</td>\n    </tr>\n    <tr>\n      <th>15</th>\n      <td>429324871</td>\n      <td>archaeological_site</td>\n      <td>Monumental Park of Baia</td>\n      <td>NaN</td>\n      <td>POINT (14.07141 40.81283)</td>\n    </tr>\n    <tr>\n      <th>8</th>\n      <td>124092891</td>\n      <td>archaeological_site</td>\n      <td>Parco Archeologico Terme di Baia</td>\n      <td>ancient_roman</td>\n      <td>POINT (14.07024 40.81724)</td>\n    </tr>\n    <tr>\n      <th>0</th>\n      <td>1045290525</td>\n      <td>archaeological_site</td>\n      <td>Piscina Mirabilis</td>\n      <td>NaN</td>\n      <td>POINT (14.08028 40.79519)</td>\n    </tr>\n    <tr>\n      <th>3</th>\n      <td>1139094838</td>\n      <td>archaeological_site</td>\n      <td>Sacello degli Augustali</td>\n      <td>NaN</td>\n      <td>POINT (14.08460 40.78747)</td>\n    </tr>\n    <tr>\n      <th>18</th>\n      <td>1154634667</td>\n      <td>archaeological_site</td>\n      <td>Teatro romano di Misenum</td>\n      <td>ancient_roman</td>\n      <td>POINT (14.08313 40.78778)</td>\n    </tr>\n    <tr>\n      <th>13</th>\n      <td>406222066</td>\n      <td>archaeological_site</td>\n      <td>Tempio di Diana</td>\n      <td>NaN</td>\n      <td>POINT (14.07056 40.81914)</td>\n    </tr>\n    <tr>\n      <th>16</th>\n      <td>429338160</td>\n      <td>archaeological_site</td>\n      <td>Tempio di Mercurio</td>\n      <td>NaN</td>\n      <td>POINT (14.06987 40.81782)</td>\n    </tr>\n    <tr>\n      <th>17</th>\n      <td>429339087</td>\n      <td>archaeological_site</td>\n      <td>Tempio di Venere</td>\n      <td>NaN</td>\n      <td>POINT (14.07152 40.81612)</td>\n    </tr>\n    <tr>\n      <th>7</th>\n      <td>8755033944</td>\n      <td>ruins</td>\n      <td>Tempo di Iside</td>\n      <td>NaN</td>\n      <td>POINT (14.05002 40.84415)</td>\n    </tr>\n    <tr>\n      <th>11</th>\n      <td>240100401</td>\n      <td>archaeological_site</td>\n      <td>Tomba di Agrippina</td>\n      <td>NaN</td>\n      <td>POINT (14.08128 40.80285)</td>\n    </tr>\n  </tbody>\n</table>\n</div>"
     },
     "execution_count": 10,
     "metadata": {},
     "output_type": "execute_result"
    }
   ],
   "source": [
    "bacoli_final = pd.concat([bacoli_polygons, bacoli_data[bacoli_data['element_type']=='node']])\n",
    "bacoli_final.drop(columns={'element_type'}, inplace=True)\n",
    "bacoli_final.sort_values(by='name', inplace=True)\n",
    "bacoli_final = gpd.GeoDataFrame(bacoli_final, geometry='geometry')\n",
    "\n",
    "bacoli_final"
   ],
   "metadata": {
    "collapsed": false,
    "ExecuteTime": {
     "end_time": "2023-08-20T17:59:28.197059504Z",
     "start_time": "2023-08-20T17:59:27.980899591Z"
    }
   }
  },
  {
   "cell_type": "code",
   "execution_count": 11,
   "outputs": [
    {
     "data": {
      "text/plain": "geopandas.geodataframe.GeoDataFrame"
     },
     "execution_count": 11,
     "metadata": {},
     "output_type": "execute_result"
    }
   ],
   "source": [
    "type(bacoli_final)"
   ],
   "metadata": {
    "collapsed": false,
    "ExecuteTime": {
     "end_time": "2023-08-20T17:59:28.240115034Z",
     "start_time": "2023-08-20T17:59:28.022812619Z"
    }
   }
  },
  {
   "cell_type": "markdown",
   "source": [
    "Ora che il dataset è di soli punti cerchiamo di rispondere a qualche domanda."
   ],
   "metadata": {
    "collapsed": false
   }
  },
  {
   "cell_type": "markdown",
   "source": [
    "## 1.1. Come sono raggruppati i siti?"
   ],
   "metadata": {
    "collapsed": false
   }
  },
  {
   "cell_type": "code",
   "execution_count": 12,
   "outputs": [
    {
     "data": {
      "text/plain": "                     count\nhistoric                  \narchaeological_site     14\nmemorial                 2\nbuilding                 1\ncastle                   1\nruins                    1",
      "text/html": "<div>\n<style scoped>\n    .dataframe tbody tr th:only-of-type {\n        vertical-align: middle;\n    }\n\n    .dataframe tbody tr th {\n        vertical-align: top;\n    }\n\n    .dataframe thead th {\n        text-align: right;\n    }\n</style>\n<table border=\"1\" class=\"dataframe\">\n  <thead>\n    <tr style=\"text-align: right;\">\n      <th></th>\n      <th>count</th>\n    </tr>\n    <tr>\n      <th>historic</th>\n      <th></th>\n    </tr>\n  </thead>\n  <tbody>\n    <tr>\n      <th>archaeological_site</th>\n      <td>14</td>\n    </tr>\n    <tr>\n      <th>memorial</th>\n      <td>2</td>\n    </tr>\n    <tr>\n      <th>building</th>\n      <td>1</td>\n    </tr>\n    <tr>\n      <th>castle</th>\n      <td>1</td>\n    </tr>\n    <tr>\n      <th>ruins</th>\n      <td>1</td>\n    </tr>\n  </tbody>\n</table>\n</div>"
     },
     "execution_count": 12,
     "metadata": {},
     "output_type": "execute_result"
    }
   ],
   "source": [
    "bacoli_group = bacoli_final.groupby(by='historic').count()\n",
    "bacoli_group.drop(columns={'name', 'historic:civilization', 'geometry'}, inplace=True)\n",
    "bacoli_group.rename(columns={'osmid': 'count'}, inplace=True)\n",
    "bacoli_group.sort_values(by='count', ascending=False, inplace=True)\n",
    "\n",
    "bacoli_group"
   ],
   "metadata": {
    "collapsed": false,
    "ExecuteTime": {
     "end_time": "2023-08-20T17:59:28.454138688Z",
     "start_time": "2023-08-20T17:59:28.034535892Z"
    }
   }
  },
  {
   "cell_type": "markdown",
   "source": [
    "## 1.2. Dove sono localizzati?\n",
    "\n",
    "http://scitools.org.uk/cartopy/docs/latest/\n",
    "https://scitools.org.uk/cartopy/docs/v0.15/examples/tube_stations.html"
   ],
   "metadata": {
    "collapsed": false
   }
  },
  {
   "cell_type": "code",
   "execution_count": null,
   "outputs": [],
   "source": [
    "#fig, ax = plt.subplots(figsize=(10, 10))\n",
    "b_minx, b_miny, b_maxx, b_maxy = bacoli_final.total_bounds\n",
    "\n",
    "imagery = OSM()\n",
    "ax = plt.axes(projection=imagery.crs)\n",
    "ax.set_extent((b_minx, b_miny, b_maxx, b_maxy))\n",
    "ax.add_image(imagery, 12)\n",
    "\n",
    "# for bacoli_index, bacoli_row in bacoli_final.iterrows():\n",
    "#     coordinates = bacoli_row.geometry.xy\n",
    "#     ax.scatter(\n",
    "#         *coordinates,\n",
    "#         s=50,\n",
    "#         marker=\"o\",\n",
    "#         facecolor='red',\n",
    "#         edgecolor='black'\n",
    "#     )\n",
    "#     # plt.text(\n",
    "#     #     x=coordinates[0][0],\n",
    "#     #     y=coordinates[1][0],\n",
    "#     #     s=bacoli_row.name,\n",
    "#     #     fontdict=dict(color='black', size=10),\n",
    "#     #     bbox=dict(facecolor='white', alpha=0.75)\n",
    "#     # )\n",
    "# \n",
    "# plt.show()"
   ],
   "metadata": {
    "collapsed": false,
    "is_executing": true,
    "ExecuteTime": {
     "start_time": "2023-08-20T17:59:28.081136281Z"
    }
   }
  },
  {
   "cell_type": "markdown",
   "source": [
    "# Conclusione"
   ],
   "metadata": {
    "collapsed": false
   }
  },
  {
   "cell_type": "markdown",
   "metadata": {},
   "source": [
    "Ora noi sappiamo che è la linea in posizione 0, della nuova lista riordinata, ad essere quella meno lunga. Quello che hai visto è uno dei metodi per arrivare all'obiettivo, ce ne saranno sicuramente altri."
   ]
  }
 ],
 "metadata": {
  "kernelspec": {
   "display_name": "Python 3 (ipykernel)",
   "language": "python",
   "name": "python3"
  },
  "language_info": {
   "codemirror_mode": {
    "name": "ipython",
    "version": 3
   },
   "file_extension": ".py",
   "mimetype": "text/x-python",
   "name": "python",
   "nbconvert_exporter": "python",
   "pygments_lexer": "ipython3",
   "version": "3.8.10"
  }
 },
 "nbformat": 4,
 "nbformat_minor": 1
}
