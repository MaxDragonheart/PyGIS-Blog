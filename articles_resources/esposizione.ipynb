{
 "cells": [
  {
   "cell_type": "code",
   "execution_count": 1,
   "id": "initial_id",
   "metadata": {
    "collapsed": true,
    "ExecuteTime": {
     "end_time": "2023-08-28T11:20:28.927988904Z",
     "start_time": "2023-08-28T11:20:28.264147282Z"
    }
   },
   "outputs": [],
   "source": [
    "from pathlib import Path\n",
    "\n",
    "main_path = Path('/home/max/Desktop')\n",
    "\n",
    "#dem_path = main_path.joinpath('dem.tif')\n",
    "#dem_path = main_path.joinpath('tinitaly_1_1.tif')\n",
    "dem_path = main_path.joinpath('campania_tinitaly_1_1.tif')"
   ]
  },
  {
   "cell_type": "code",
   "execution_count": 2,
   "outputs": [
    {
     "name": "stdout",
     "output_type": "stream",
     "text": [
      "CPU times: user 1.5 s, sys: 2.67 s, total: 4.18 s\n",
      "Wall time: 1.09 s\n"
     ]
    },
    {
     "name": "stderr",
     "output_type": "stream",
     "text": [
      "/home/max/.cache/pypoetry/virtualenvs/pygis_blog-iPs2SW5R-py3.10/lib/python3.10/site-packages/xarray/core/dataset.py:269: UserWarning: The specified chunks separate the stored chunks along dimension \"x\" starting at index 1000. This could degrade performance. Instead, consider rechunking after loading.\n",
      "  warnings.warn(\n"
     ]
    },
    {
     "data": {
      "text/plain": "<xarray.Dataset>\nDimensions:      (elevation: 1, x: 17977, y: 16370)\nCoordinates:\n  * band         (elevation) int64 1\n  * x            (x) float64 8.992e+05 8.992e+05 ... 1.079e+06 1.079e+06\n  * y            (y) float64 4.61e+06 4.61e+06 4.61e+06 ... 4.447e+06 4.447e+06\n    spatial_ref  int64 ...\nDimensions without coordinates: elevation\nData variables:\n    dem          (elevation, y, x) float32 dask.array<chunksize=(1, 1000, 1000), meta=np.ndarray>",
      "text/html": "<div><svg style=\"position: absolute; width: 0; height: 0; overflow: hidden\">\n<defs>\n<symbol id=\"icon-database\" viewBox=\"0 0 32 32\">\n<path d=\"M16 0c-8.837 0-16 2.239-16 5v4c0 2.761 7.163 5 16 5s16-2.239 16-5v-4c0-2.761-7.163-5-16-5z\"></path>\n<path d=\"M16 17c-8.837 0-16-2.239-16-5v6c0 2.761 7.163 5 16 5s16-2.239 16-5v-6c0 2.761-7.163 5-16 5z\"></path>\n<path d=\"M16 26c-8.837 0-16-2.239-16-5v6c0 2.761 7.163 5 16 5s16-2.239 16-5v-6c0 2.761-7.163 5-16 5z\"></path>\n</symbol>\n<symbol id=\"icon-file-text2\" viewBox=\"0 0 32 32\">\n<path d=\"M28.681 7.159c-0.694-0.947-1.662-2.053-2.724-3.116s-2.169-2.030-3.116-2.724c-1.612-1.182-2.393-1.319-2.841-1.319h-15.5c-1.378 0-2.5 1.121-2.5 2.5v27c0 1.378 1.122 2.5 2.5 2.5h23c1.378 0 2.5-1.122 2.5-2.5v-19.5c0-0.448-0.137-1.23-1.319-2.841zM24.543 5.457c0.959 0.959 1.712 1.825 2.268 2.543h-4.811v-4.811c0.718 0.556 1.584 1.309 2.543 2.268zM28 29.5c0 0.271-0.229 0.5-0.5 0.5h-23c-0.271 0-0.5-0.229-0.5-0.5v-27c0-0.271 0.229-0.5 0.5-0.5 0 0 15.499-0 15.5 0v7c0 0.552 0.448 1 1 1h7v19.5z\"></path>\n<path d=\"M23 26h-14c-0.552 0-1-0.448-1-1s0.448-1 1-1h14c0.552 0 1 0.448 1 1s-0.448 1-1 1z\"></path>\n<path d=\"M23 22h-14c-0.552 0-1-0.448-1-1s0.448-1 1-1h14c0.552 0 1 0.448 1 1s-0.448 1-1 1z\"></path>\n<path d=\"M23 18h-14c-0.552 0-1-0.448-1-1s0.448-1 1-1h14c0.552 0 1 0.448 1 1s-0.448 1-1 1z\"></path>\n</symbol>\n</defs>\n</svg>\n<style>/* CSS stylesheet for displaying xarray objects in jupyterlab.\n *\n */\n\n:root {\n  --xr-font-color0: var(--jp-content-font-color0, rgba(0, 0, 0, 1));\n  --xr-font-color2: var(--jp-content-font-color2, rgba(0, 0, 0, 0.54));\n  --xr-font-color3: var(--jp-content-font-color3, rgba(0, 0, 0, 0.38));\n  --xr-border-color: var(--jp-border-color2, #e0e0e0);\n  --xr-disabled-color: var(--jp-layout-color3, #bdbdbd);\n  --xr-background-color: var(--jp-layout-color0, white);\n  --xr-background-color-row-even: var(--jp-layout-color1, white);\n  --xr-background-color-row-odd: var(--jp-layout-color2, #eeeeee);\n}\n\nhtml[theme=dark],\nbody[data-theme=dark],\nbody.vscode-dark {\n  --xr-font-color0: rgba(255, 255, 255, 1);\n  --xr-font-color2: rgba(255, 255, 255, 0.54);\n  --xr-font-color3: rgba(255, 255, 255, 0.38);\n  --xr-border-color: #1F1F1F;\n  --xr-disabled-color: #515151;\n  --xr-background-color: #111111;\n  --xr-background-color-row-even: #111111;\n  --xr-background-color-row-odd: #313131;\n}\n\n.xr-wrap {\n  display: block !important;\n  min-width: 300px;\n  max-width: 700px;\n}\n\n.xr-text-repr-fallback {\n  /* fallback to plain text repr when CSS is not injected (untrusted notebook) */\n  display: none;\n}\n\n.xr-header {\n  padding-top: 6px;\n  padding-bottom: 6px;\n  margin-bottom: 4px;\n  border-bottom: solid 1px var(--xr-border-color);\n}\n\n.xr-header > div,\n.xr-header > ul {\n  display: inline;\n  margin-top: 0;\n  margin-bottom: 0;\n}\n\n.xr-obj-type,\n.xr-array-name {\n  margin-left: 2px;\n  margin-right: 10px;\n}\n\n.xr-obj-type {\n  color: var(--xr-font-color2);\n}\n\n.xr-sections {\n  padding-left: 0 !important;\n  display: grid;\n  grid-template-columns: 150px auto auto 1fr 20px 20px;\n}\n\n.xr-section-item {\n  display: contents;\n}\n\n.xr-section-item input {\n  display: none;\n}\n\n.xr-section-item input + label {\n  color: var(--xr-disabled-color);\n}\n\n.xr-section-item input:enabled + label {\n  cursor: pointer;\n  color: var(--xr-font-color2);\n}\n\n.xr-section-item input:enabled + label:hover {\n  color: var(--xr-font-color0);\n}\n\n.xr-section-summary {\n  grid-column: 1;\n  color: var(--xr-font-color2);\n  font-weight: 500;\n}\n\n.xr-section-summary > span {\n  display: inline-block;\n  padding-left: 0.5em;\n}\n\n.xr-section-summary-in:disabled + label {\n  color: var(--xr-font-color2);\n}\n\n.xr-section-summary-in + label:before {\n  display: inline-block;\n  content: '►';\n  font-size: 11px;\n  width: 15px;\n  text-align: center;\n}\n\n.xr-section-summary-in:disabled + label:before {\n  color: var(--xr-disabled-color);\n}\n\n.xr-section-summary-in:checked + label:before {\n  content: '▼';\n}\n\n.xr-section-summary-in:checked + label > span {\n  display: none;\n}\n\n.xr-section-summary,\n.xr-section-inline-details {\n  padding-top: 4px;\n  padding-bottom: 4px;\n}\n\n.xr-section-inline-details {\n  grid-column: 2 / -1;\n}\n\n.xr-section-details {\n  display: none;\n  grid-column: 1 / -1;\n  margin-bottom: 5px;\n}\n\n.xr-section-summary-in:checked ~ .xr-section-details {\n  display: contents;\n}\n\n.xr-array-wrap {\n  grid-column: 1 / -1;\n  display: grid;\n  grid-template-columns: 20px auto;\n}\n\n.xr-array-wrap > label {\n  grid-column: 1;\n  vertical-align: top;\n}\n\n.xr-preview {\n  color: var(--xr-font-color3);\n}\n\n.xr-array-preview,\n.xr-array-data {\n  padding: 0 5px !important;\n  grid-column: 2;\n}\n\n.xr-array-data,\n.xr-array-in:checked ~ .xr-array-preview {\n  display: none;\n}\n\n.xr-array-in:checked ~ .xr-array-data,\n.xr-array-preview {\n  display: inline-block;\n}\n\n.xr-dim-list {\n  display: inline-block !important;\n  list-style: none;\n  padding: 0 !important;\n  margin: 0;\n}\n\n.xr-dim-list li {\n  display: inline-block;\n  padding: 0;\n  margin: 0;\n}\n\n.xr-dim-list:before {\n  content: '(';\n}\n\n.xr-dim-list:after {\n  content: ')';\n}\n\n.xr-dim-list li:not(:last-child):after {\n  content: ',';\n  padding-right: 5px;\n}\n\n.xr-has-index {\n  font-weight: bold;\n}\n\n.xr-var-list,\n.xr-var-item {\n  display: contents;\n}\n\n.xr-var-item > div,\n.xr-var-item label,\n.xr-var-item > .xr-var-name span {\n  background-color: var(--xr-background-color-row-even);\n  margin-bottom: 0;\n}\n\n.xr-var-item > .xr-var-name:hover span {\n  padding-right: 5px;\n}\n\n.xr-var-list > li:nth-child(odd) > div,\n.xr-var-list > li:nth-child(odd) > label,\n.xr-var-list > li:nth-child(odd) > .xr-var-name span {\n  background-color: var(--xr-background-color-row-odd);\n}\n\n.xr-var-name {\n  grid-column: 1;\n}\n\n.xr-var-dims {\n  grid-column: 2;\n}\n\n.xr-var-dtype {\n  grid-column: 3;\n  text-align: right;\n  color: var(--xr-font-color2);\n}\n\n.xr-var-preview {\n  grid-column: 4;\n}\n\n.xr-index-preview {\n  grid-column: 2 / 5;\n  color: var(--xr-font-color2);\n}\n\n.xr-var-name,\n.xr-var-dims,\n.xr-var-dtype,\n.xr-preview,\n.xr-attrs dt {\n  white-space: nowrap;\n  overflow: hidden;\n  text-overflow: ellipsis;\n  padding-right: 10px;\n}\n\n.xr-var-name:hover,\n.xr-var-dims:hover,\n.xr-var-dtype:hover,\n.xr-attrs dt:hover {\n  overflow: visible;\n  width: auto;\n  z-index: 1;\n}\n\n.xr-var-attrs,\n.xr-var-data,\n.xr-index-data {\n  display: none;\n  background-color: var(--xr-background-color) !important;\n  padding-bottom: 5px !important;\n}\n\n.xr-var-attrs-in:checked ~ .xr-var-attrs,\n.xr-var-data-in:checked ~ .xr-var-data,\n.xr-index-data-in:checked ~ .xr-index-data {\n  display: block;\n}\n\n.xr-var-data > table {\n  float: right;\n}\n\n.xr-var-name span,\n.xr-var-data,\n.xr-index-name div,\n.xr-index-data,\n.xr-attrs {\n  padding-left: 25px !important;\n}\n\n.xr-attrs,\n.xr-var-attrs,\n.xr-var-data,\n.xr-index-data {\n  grid-column: 1 / -1;\n}\n\ndl.xr-attrs {\n  padding: 0;\n  margin: 0;\n  display: grid;\n  grid-template-columns: 125px auto;\n}\n\n.xr-attrs dt,\n.xr-attrs dd {\n  padding: 0;\n  margin: 0;\n  float: left;\n  padding-right: 10px;\n  width: auto;\n}\n\n.xr-attrs dt {\n  font-weight: normal;\n  grid-column: 1;\n}\n\n.xr-attrs dt:hover span {\n  display: inline-block;\n  background: var(--xr-background-color);\n  padding-right: 10px;\n}\n\n.xr-attrs dd {\n  grid-column: 2;\n  white-space: pre-wrap;\n  word-break: break-all;\n}\n\n.xr-icon-database,\n.xr-icon-file-text2,\n.xr-no-icon {\n  display: inline-block;\n  vertical-align: middle;\n  width: 1em;\n  height: 1.5em !important;\n  stroke-width: 0;\n  stroke: currentColor;\n  fill: currentColor;\n}\n</style><pre class='xr-text-repr-fallback'>&lt;xarray.Dataset&gt;\nDimensions:      (elevation: 1, x: 17977, y: 16370)\nCoordinates:\n  * band         (elevation) int64 1\n  * x            (x) float64 8.992e+05 8.992e+05 ... 1.079e+06 1.079e+06\n  * y            (y) float64 4.61e+06 4.61e+06 4.61e+06 ... 4.447e+06 4.447e+06\n    spatial_ref  int64 ...\nDimensions without coordinates: elevation\nData variables:\n    dem          (elevation, y, x) float32 dask.array&lt;chunksize=(1, 1000, 1000), meta=np.ndarray&gt;</pre><div class='xr-wrap' style='display:none'><div class='xr-header'><div class='xr-obj-type'>xarray.Dataset</div></div><ul class='xr-sections'><li class='xr-section-item'><input id='section-cf3491dc-01a5-4b62-a170-c7e520b74073' class='xr-section-summary-in' type='checkbox' disabled ><label for='section-cf3491dc-01a5-4b62-a170-c7e520b74073' class='xr-section-summary'  title='Expand/collapse section'>Dimensions:</label><div class='xr-section-inline-details'><ul class='xr-dim-list'><li><span class='xr-has-index'>elevation</span>: 1</li><li><span class='xr-has-index'>x</span>: 17977</li><li><span class='xr-has-index'>y</span>: 16370</li></ul></div><div class='xr-section-details'></div></li><li class='xr-section-item'><input id='section-dd55a331-415f-4756-9380-3df65341894c' class='xr-section-summary-in' type='checkbox'  checked><label for='section-dd55a331-415f-4756-9380-3df65341894c' class='xr-section-summary' >Coordinates: <span>(4)</span></label><div class='xr-section-inline-details'></div><div class='xr-section-details'><ul class='xr-var-list'><li class='xr-var-item'><div class='xr-var-name'><span class='xr-has-index'>band</span></div><div class='xr-var-dims'>(elevation)</div><div class='xr-var-dtype'>int64</div><div class='xr-var-preview xr-preview'>1</div><input id='attrs-4da125af-98f0-4ab8-8eac-0384ac657cba' class='xr-var-attrs-in' type='checkbox' disabled><label for='attrs-4da125af-98f0-4ab8-8eac-0384ac657cba' title='Show/Hide attributes'><svg class='icon xr-icon-file-text2'><use xlink:href='#icon-file-text2'></use></svg></label><input id='data-147c0b37-9d1e-4ce5-8f48-1b48a5d25cdc' class='xr-var-data-in' type='checkbox'><label for='data-147c0b37-9d1e-4ce5-8f48-1b48a5d25cdc' title='Show/Hide data repr'><svg class='icon xr-icon-database'><use xlink:href='#icon-database'></use></svg></label><div class='xr-var-attrs'><dl class='xr-attrs'></dl></div><div class='xr-var-data'><pre>array([1])</pre></div></li><li class='xr-var-item'><div class='xr-var-name'><span class='xr-has-index'>x</span></div><div class='xr-var-dims'>(x)</div><div class='xr-var-dtype'>float64</div><div class='xr-var-preview xr-preview'>8.992e+05 8.992e+05 ... 1.079e+06</div><input id='attrs-f04319a7-2d2c-4f40-8d67-973df6789c43' class='xr-var-attrs-in' type='checkbox' disabled><label for='attrs-f04319a7-2d2c-4f40-8d67-973df6789c43' title='Show/Hide attributes'><svg class='icon xr-icon-file-text2'><use xlink:href='#icon-file-text2'></use></svg></label><input id='data-789e6047-55cb-4370-9ea5-7d729a4230d3' class='xr-var-data-in' type='checkbox'><label for='data-789e6047-55cb-4370-9ea5-7d729a4230d3' title='Show/Hide data repr'><svg class='icon xr-icon-database'><use xlink:href='#icon-database'></use></svg></label><div class='xr-var-attrs'><dl class='xr-attrs'></dl></div><div class='xr-var-data'><pre>array([ 899225.,  899235.,  899245., ..., 1078965., 1078975., 1078985.])</pre></div></li><li class='xr-var-item'><div class='xr-var-name'><span class='xr-has-index'>y</span></div><div class='xr-var-dims'>(y)</div><div class='xr-var-dtype'>float64</div><div class='xr-var-preview xr-preview'>4.61e+06 4.61e+06 ... 4.447e+06</div><input id='attrs-98d8fead-09ac-4305-8090-725aad60d275' class='xr-var-attrs-in' type='checkbox' disabled><label for='attrs-98d8fead-09ac-4305-8090-725aad60d275' title='Show/Hide attributes'><svg class='icon xr-icon-file-text2'><use xlink:href='#icon-file-text2'></use></svg></label><input id='data-70ab47bf-b0a3-4316-96aa-dbe85f449f6d' class='xr-var-data-in' type='checkbox'><label for='data-70ab47bf-b0a3-4316-96aa-dbe85f449f6d' title='Show/Hide data repr'><svg class='icon xr-icon-database'><use xlink:href='#icon-database'></use></svg></label><div class='xr-var-attrs'><dl class='xr-attrs'></dl></div><div class='xr-var-data'><pre>array([4610195., 4610185., 4610175., ..., 4446525., 4446515., 4446505.])</pre></div></li><li class='xr-var-item'><div class='xr-var-name'><span>spatial_ref</span></div><div class='xr-var-dims'>()</div><div class='xr-var-dtype'>int64</div><div class='xr-var-preview xr-preview'>...</div><input id='attrs-54ac46e6-06da-470b-8ee6-6bdf35bdfcca' class='xr-var-attrs-in' type='checkbox' ><label for='attrs-54ac46e6-06da-470b-8ee6-6bdf35bdfcca' title='Show/Hide attributes'><svg class='icon xr-icon-file-text2'><use xlink:href='#icon-file-text2'></use></svg></label><input id='data-8c49f24a-3341-4258-96c4-d1010c30dc65' class='xr-var-data-in' type='checkbox'><label for='data-8c49f24a-3341-4258-96c4-d1010c30dc65' title='Show/Hide data repr'><svg class='icon xr-icon-database'><use xlink:href='#icon-database'></use></svg></label><div class='xr-var-attrs'><dl class='xr-attrs'><dt><span>crs_wkt :</span></dt><dd>PROJCS[&quot;WGS 84 / UTM zone 32N&quot;,GEOGCS[&quot;WGS 84&quot;,DATUM[&quot;WGS_1984&quot;,SPHEROID[&quot;WGS 84&quot;,6378137,298.257223563,AUTHORITY[&quot;EPSG&quot;,&quot;7030&quot;]],AUTHORITY[&quot;EPSG&quot;,&quot;6326&quot;]],PRIMEM[&quot;Greenwich&quot;,0,AUTHORITY[&quot;EPSG&quot;,&quot;8901&quot;]],UNIT[&quot;degree&quot;,0.0174532925199433,AUTHORITY[&quot;EPSG&quot;,&quot;9122&quot;]],AUTHORITY[&quot;EPSG&quot;,&quot;4326&quot;]],PROJECTION[&quot;Transverse_Mercator&quot;],PARAMETER[&quot;latitude_of_origin&quot;,0],PARAMETER[&quot;central_meridian&quot;,9],PARAMETER[&quot;scale_factor&quot;,0.9996],PARAMETER[&quot;false_easting&quot;,500000],PARAMETER[&quot;false_northing&quot;,0],UNIT[&quot;metre&quot;,1,AUTHORITY[&quot;EPSG&quot;,&quot;9001&quot;]],AXIS[&quot;Easting&quot;,EAST],AXIS[&quot;Northing&quot;,NORTH],AUTHORITY[&quot;EPSG&quot;,&quot;32632&quot;]]</dd><dt><span>semi_major_axis :</span></dt><dd>6378137.0</dd><dt><span>semi_minor_axis :</span></dt><dd>6356752.314245179</dd><dt><span>inverse_flattening :</span></dt><dd>298.257223563</dd><dt><span>reference_ellipsoid_name :</span></dt><dd>WGS 84</dd><dt><span>longitude_of_prime_meridian :</span></dt><dd>0.0</dd><dt><span>prime_meridian_name :</span></dt><dd>Greenwich</dd><dt><span>geographic_crs_name :</span></dt><dd>WGS 84</dd><dt><span>horizontal_datum_name :</span></dt><dd>World Geodetic System 1984</dd><dt><span>projected_crs_name :</span></dt><dd>WGS 84 / UTM zone 32N</dd><dt><span>grid_mapping_name :</span></dt><dd>transverse_mercator</dd><dt><span>latitude_of_projection_origin :</span></dt><dd>0.0</dd><dt><span>longitude_of_central_meridian :</span></dt><dd>9.0</dd><dt><span>false_easting :</span></dt><dd>500000.0</dd><dt><span>false_northing :</span></dt><dd>0.0</dd><dt><span>scale_factor_at_central_meridian :</span></dt><dd>0.9996</dd><dt><span>spatial_ref :</span></dt><dd>PROJCS[&quot;WGS 84 / UTM zone 32N&quot;,GEOGCS[&quot;WGS 84&quot;,DATUM[&quot;WGS_1984&quot;,SPHEROID[&quot;WGS 84&quot;,6378137,298.257223563,AUTHORITY[&quot;EPSG&quot;,&quot;7030&quot;]],AUTHORITY[&quot;EPSG&quot;,&quot;6326&quot;]],PRIMEM[&quot;Greenwich&quot;,0,AUTHORITY[&quot;EPSG&quot;,&quot;8901&quot;]],UNIT[&quot;degree&quot;,0.0174532925199433,AUTHORITY[&quot;EPSG&quot;,&quot;9122&quot;]],AUTHORITY[&quot;EPSG&quot;,&quot;4326&quot;]],PROJECTION[&quot;Transverse_Mercator&quot;],PARAMETER[&quot;latitude_of_origin&quot;,0],PARAMETER[&quot;central_meridian&quot;,9],PARAMETER[&quot;scale_factor&quot;,0.9996],PARAMETER[&quot;false_easting&quot;,500000],PARAMETER[&quot;false_northing&quot;,0],UNIT[&quot;metre&quot;,1,AUTHORITY[&quot;EPSG&quot;,&quot;9001&quot;]],AXIS[&quot;Easting&quot;,EAST],AXIS[&quot;Northing&quot;,NORTH],AUTHORITY[&quot;EPSG&quot;,&quot;32632&quot;]]</dd><dt><span>GeoTransform :</span></dt><dd>899220.0 10.0 0.0 4610200.0 0.0 -10.0</dd></dl></div><div class='xr-var-data'><pre>[1 values with dtype=int64]</pre></div></li></ul></div></li><li class='xr-section-item'><input id='section-e9ef0527-98a7-47df-baf1-74b1da5e41a3' class='xr-section-summary-in' type='checkbox'  checked><label for='section-e9ef0527-98a7-47df-baf1-74b1da5e41a3' class='xr-section-summary' >Data variables: <span>(1)</span></label><div class='xr-section-inline-details'></div><div class='xr-section-details'><ul class='xr-var-list'><li class='xr-var-item'><div class='xr-var-name'><span>dem</span></div><div class='xr-var-dims'>(elevation, y, x)</div><div class='xr-var-dtype'>float32</div><div class='xr-var-preview xr-preview'>dask.array&lt;chunksize=(1, 1000, 1000), meta=np.ndarray&gt;</div><input id='attrs-c4c8326a-6ee9-4e09-88bc-1f92a97cf679' class='xr-var-attrs-in' type='checkbox' ><label for='attrs-c4c8326a-6ee9-4e09-88bc-1f92a97cf679' title='Show/Hide attributes'><svg class='icon xr-icon-file-text2'><use xlink:href='#icon-file-text2'></use></svg></label><input id='data-f38e9c8e-391b-49d4-86a8-50f760a4a946' class='xr-var-data-in' type='checkbox'><label for='data-f38e9c8e-391b-49d4-86a8-50f760a4a946' title='Show/Hide data repr'><svg class='icon xr-icon-database'><use xlink:href='#icon-database'></use></svg></label><div class='xr-var-attrs'><dl class='xr-attrs'><dt><span>AREA_OR_POINT :</span></dt><dd>Area</dd><dt><span>STATISTICS_APPROXIMATE :</span></dt><dd>YES</dd><dt><span>STATISTICS_MAXIMUM :</span></dt><dd>1904.0529785156</dd><dt><span>STATISTICS_MEAN :</span></dt><dd>434.61549420131</dd><dt><span>STATISTICS_MINIMUM :</span></dt><dd>0</dd><dt><span>STATISTICS_STDDEV :</span></dt><dd>346.04771759263</dd><dt><span>STATISTICS_VALID_PERCENT :</span></dt><dd>46.36</dd></dl></div><div class='xr-var-data'><table>\n    <tr>\n        <td>\n            <table style=\"border-collapse: collapse;\">\n                <thead>\n                    <tr>\n                        <td> </td>\n                        <th> Array </th>\n                        <th> Chunk </th>\n                    </tr>\n                </thead>\n                <tbody>\n                    \n                    <tr>\n                        <th> Bytes </th>\n                        <td> 1.10 GiB </td>\n                        <td> 3.81 MiB </td>\n                    </tr>\n                    \n                    <tr>\n                        <th> Shape </th>\n                        <td> (1, 16370, 17977) </td>\n                        <td> (1, 1000, 1000) </td>\n                    </tr>\n                    <tr>\n                        <th> Dask graph </th>\n                        <td colspan=\"2\"> 306 chunks in 2 graph layers </td>\n                    </tr>\n                    <tr>\n                        <th> Data type </th>\n                        <td colspan=\"2\"> float32 numpy.ndarray </td>\n                    </tr>\n                </tbody>\n            </table>\n        </td>\n        <td>\n        <svg width=\"194\" height=\"174\" style=\"stroke:rgb(0,0,0);stroke-width:1\" >\n\n  <!-- Horizontal lines -->\n  <line x1=\"10\" y1=\"0\" x2=\"24\" y2=\"14\" style=\"stroke-width:2\" />\n  <line x1=\"10\" y1=\"6\" x2=\"24\" y2=\"21\" />\n  <line x1=\"10\" y1=\"13\" x2=\"24\" y2=\"28\" />\n  <line x1=\"10\" y1=\"20\" x2=\"24\" y2=\"34\" />\n  <line x1=\"10\" y1=\"26\" x2=\"24\" y2=\"41\" />\n  <line x1=\"10\" y1=\"33\" x2=\"24\" y2=\"48\" />\n  <line x1=\"10\" y1=\"40\" x2=\"24\" y2=\"54\" />\n  <line x1=\"10\" y1=\"46\" x2=\"24\" y2=\"61\" />\n  <line x1=\"10\" y1=\"53\" x2=\"24\" y2=\"68\" />\n  <line x1=\"10\" y1=\"60\" x2=\"24\" y2=\"75\" />\n  <line x1=\"10\" y1=\"66\" x2=\"24\" y2=\"81\" />\n  <line x1=\"10\" y1=\"73\" x2=\"24\" y2=\"88\" />\n  <line x1=\"10\" y1=\"80\" x2=\"24\" y2=\"95\" />\n  <line x1=\"10\" y1=\"86\" x2=\"24\" y2=\"101\" />\n  <line x1=\"10\" y1=\"93\" x2=\"24\" y2=\"108\" />\n  <line x1=\"10\" y1=\"100\" x2=\"24\" y2=\"115\" />\n  <line x1=\"10\" y1=\"106\" x2=\"24\" y2=\"121\" />\n  <line x1=\"10\" y1=\"109\" x2=\"24\" y2=\"124\" style=\"stroke-width:2\" />\n\n  <!-- Vertical lines -->\n  <line x1=\"10\" y1=\"0\" x2=\"10\" y2=\"109\" style=\"stroke-width:2\" />\n  <line x1=\"24\" y1=\"14\" x2=\"24\" y2=\"124\" style=\"stroke-width:2\" />\n\n  <!-- Colored Rectangle -->\n  <polygon points=\"10.0,0.0 24.9485979497544,14.948597949754403 24.9485979497544,124.22155784295127 10.0,109.27295989319687\" style=\"fill:#ECB172A0;stroke-width:0\"/>\n\n  <!-- Horizontal lines -->\n  <line x1=\"10\" y1=\"0\" x2=\"130\" y2=\"0\" style=\"stroke-width:2\" />\n  <line x1=\"24\" y1=\"14\" x2=\"144\" y2=\"14\" style=\"stroke-width:2\" />\n\n  <!-- Vertical lines -->\n  <line x1=\"10\" y1=\"0\" x2=\"24\" y2=\"14\" style=\"stroke-width:2\" />\n  <line x1=\"16\" y1=\"0\" x2=\"31\" y2=\"14\" />\n  <line x1=\"23\" y1=\"0\" x2=\"38\" y2=\"14\" />\n  <line x1=\"30\" y1=\"0\" x2=\"44\" y2=\"14\" />\n  <line x1=\"36\" y1=\"0\" x2=\"51\" y2=\"14\" />\n  <line x1=\"43\" y1=\"0\" x2=\"58\" y2=\"14\" />\n  <line x1=\"50\" y1=\"0\" x2=\"64\" y2=\"14\" />\n  <line x1=\"56\" y1=\"0\" x2=\"71\" y2=\"14\" />\n  <line x1=\"63\" y1=\"0\" x2=\"78\" y2=\"14\" />\n  <line x1=\"70\" y1=\"0\" x2=\"85\" y2=\"14\" />\n  <line x1=\"76\" y1=\"0\" x2=\"91\" y2=\"14\" />\n  <line x1=\"83\" y1=\"0\" x2=\"98\" y2=\"14\" />\n  <line x1=\"90\" y1=\"0\" x2=\"105\" y2=\"14\" />\n  <line x1=\"96\" y1=\"0\" x2=\"111\" y2=\"14\" />\n  <line x1=\"103\" y1=\"0\" x2=\"118\" y2=\"14\" />\n  <line x1=\"110\" y1=\"0\" x2=\"125\" y2=\"14\" />\n  <line x1=\"116\" y1=\"0\" x2=\"131\" y2=\"14\" />\n  <line x1=\"123\" y1=\"0\" x2=\"138\" y2=\"14\" />\n  <line x1=\"130\" y1=\"0\" x2=\"144\" y2=\"14\" style=\"stroke-width:2\" />\n\n  <!-- Colored Rectangle -->\n  <polygon points=\"10.0,0.0 130.0,0.0 144.9485979497544,14.948597949754403 24.9485979497544,14.948597949754403\" style=\"fill:#ECB172A0;stroke-width:0\"/>\n\n  <!-- Horizontal lines -->\n  <line x1=\"24\" y1=\"14\" x2=\"144\" y2=\"14\" style=\"stroke-width:2\" />\n  <line x1=\"24\" y1=\"21\" x2=\"144\" y2=\"21\" />\n  <line x1=\"24\" y1=\"28\" x2=\"144\" y2=\"28\" />\n  <line x1=\"24\" y1=\"34\" x2=\"144\" y2=\"34\" />\n  <line x1=\"24\" y1=\"41\" x2=\"144\" y2=\"41\" />\n  <line x1=\"24\" y1=\"48\" x2=\"144\" y2=\"48\" />\n  <line x1=\"24\" y1=\"54\" x2=\"144\" y2=\"54\" />\n  <line x1=\"24\" y1=\"61\" x2=\"144\" y2=\"61\" />\n  <line x1=\"24\" y1=\"68\" x2=\"144\" y2=\"68\" />\n  <line x1=\"24\" y1=\"75\" x2=\"144\" y2=\"75\" />\n  <line x1=\"24\" y1=\"81\" x2=\"144\" y2=\"81\" />\n  <line x1=\"24\" y1=\"88\" x2=\"144\" y2=\"88\" />\n  <line x1=\"24\" y1=\"95\" x2=\"144\" y2=\"95\" />\n  <line x1=\"24\" y1=\"101\" x2=\"144\" y2=\"101\" />\n  <line x1=\"24\" y1=\"108\" x2=\"144\" y2=\"108\" />\n  <line x1=\"24\" y1=\"115\" x2=\"144\" y2=\"115\" />\n  <line x1=\"24\" y1=\"121\" x2=\"144\" y2=\"121\" />\n  <line x1=\"24\" y1=\"124\" x2=\"144\" y2=\"124\" style=\"stroke-width:2\" />\n\n  <!-- Vertical lines -->\n  <line x1=\"24\" y1=\"14\" x2=\"24\" y2=\"124\" style=\"stroke-width:2\" />\n  <line x1=\"31\" y1=\"14\" x2=\"31\" y2=\"124\" />\n  <line x1=\"38\" y1=\"14\" x2=\"38\" y2=\"124\" />\n  <line x1=\"44\" y1=\"14\" x2=\"44\" y2=\"124\" />\n  <line x1=\"51\" y1=\"14\" x2=\"51\" y2=\"124\" />\n  <line x1=\"58\" y1=\"14\" x2=\"58\" y2=\"124\" />\n  <line x1=\"64\" y1=\"14\" x2=\"64\" y2=\"124\" />\n  <line x1=\"71\" y1=\"14\" x2=\"71\" y2=\"124\" />\n  <line x1=\"78\" y1=\"14\" x2=\"78\" y2=\"124\" />\n  <line x1=\"85\" y1=\"14\" x2=\"85\" y2=\"124\" />\n  <line x1=\"91\" y1=\"14\" x2=\"91\" y2=\"124\" />\n  <line x1=\"98\" y1=\"14\" x2=\"98\" y2=\"124\" />\n  <line x1=\"105\" y1=\"14\" x2=\"105\" y2=\"124\" />\n  <line x1=\"111\" y1=\"14\" x2=\"111\" y2=\"124\" />\n  <line x1=\"118\" y1=\"14\" x2=\"118\" y2=\"124\" />\n  <line x1=\"125\" y1=\"14\" x2=\"125\" y2=\"124\" />\n  <line x1=\"131\" y1=\"14\" x2=\"131\" y2=\"124\" />\n  <line x1=\"138\" y1=\"14\" x2=\"138\" y2=\"124\" />\n  <line x1=\"144\" y1=\"14\" x2=\"144\" y2=\"124\" style=\"stroke-width:2\" />\n\n  <!-- Colored Rectangle -->\n  <polygon points=\"24.9485979497544,14.948597949754403 144.9485979497544,14.948597949754403 144.9485979497544,124.22155784295127 24.9485979497544,124.22155784295127\" style=\"fill:#ECB172A0;stroke-width:0\"/>\n\n  <!-- Text -->\n  <text x=\"84.948598\" y=\"144.221558\" font-size=\"1.0rem\" font-weight=\"100\" text-anchor=\"middle\" >17977</text>\n  <text x=\"164.948598\" y=\"69.585078\" font-size=\"1.0rem\" font-weight=\"100\" text-anchor=\"middle\" transform=\"rotate(-90,164.948598,69.585078)\">16370</text>\n  <text x=\"7.474299\" y=\"136.747259\" font-size=\"1.0rem\" font-weight=\"100\" text-anchor=\"middle\" transform=\"rotate(45,7.474299,136.747259)\">1</text>\n</svg>\n        </td>\n    </tr>\n</table></div></li></ul></div></li><li class='xr-section-item'><input id='section-0105447d-ccfc-44c4-9290-35bc45483633' class='xr-section-summary-in' type='checkbox'  ><label for='section-0105447d-ccfc-44c4-9290-35bc45483633' class='xr-section-summary' >Indexes: <span>(3)</span></label><div class='xr-section-inline-details'></div><div class='xr-section-details'><ul class='xr-var-list'><li class='xr-var-item'><div class='xr-index-name'><div>band</div></div><div class='xr-index-preview'>PandasIndex</div><div></div><input id='index-9163ea6f-9d2b-4c1d-adac-7c848a31d8a9' class='xr-index-data-in' type='checkbox'/><label for='index-9163ea6f-9d2b-4c1d-adac-7c848a31d8a9' title='Show/Hide index repr'><svg class='icon xr-icon-database'><use xlink:href='#icon-database'></use></svg></label><div class='xr-index-data'><pre>PandasIndex(Index([1], dtype=&#x27;int64&#x27;, name=&#x27;band&#x27;))</pre></div></li><li class='xr-var-item'><div class='xr-index-name'><div>x</div></div><div class='xr-index-preview'>PandasIndex</div><div></div><input id='index-725890b1-e0ac-4fbe-9fa4-76328a15d410' class='xr-index-data-in' type='checkbox'/><label for='index-725890b1-e0ac-4fbe-9fa4-76328a15d410' title='Show/Hide index repr'><svg class='icon xr-icon-database'><use xlink:href='#icon-database'></use></svg></label><div class='xr-index-data'><pre>PandasIndex(Index([ 899225.0,  899235.0,  899245.0,  899255.0,  899265.0,  899275.0,\n        899285.0,  899295.0,  899305.0,  899315.0,\n       ...\n       1078895.0, 1078905.0, 1078915.0, 1078925.0, 1078935.0, 1078945.0,\n       1078955.0, 1078965.0, 1078975.0, 1078985.0],\n      dtype=&#x27;float64&#x27;, name=&#x27;x&#x27;, length=17977))</pre></div></li><li class='xr-var-item'><div class='xr-index-name'><div>y</div></div><div class='xr-index-preview'>PandasIndex</div><div></div><input id='index-a1e710d4-d563-4ed8-b297-5c4ac9ba3420' class='xr-index-data-in' type='checkbox'/><label for='index-a1e710d4-d563-4ed8-b297-5c4ac9ba3420' title='Show/Hide index repr'><svg class='icon xr-icon-database'><use xlink:href='#icon-database'></use></svg></label><div class='xr-index-data'><pre>PandasIndex(Index([4610195.0, 4610185.0, 4610175.0, 4610165.0, 4610155.0, 4610145.0,\n       4610135.0, 4610125.0, 4610115.0, 4610105.0,\n       ...\n       4446595.0, 4446585.0, 4446575.0, 4446565.0, 4446555.0, 4446545.0,\n       4446535.0, 4446525.0, 4446515.0, 4446505.0],\n      dtype=&#x27;float64&#x27;, name=&#x27;y&#x27;, length=16370))</pre></div></li></ul></div></li><li class='xr-section-item'><input id='section-8251f4e3-41b6-4d39-8b48-376a35d2073e' class='xr-section-summary-in' type='checkbox' disabled ><label for='section-8251f4e3-41b6-4d39-8b48-376a35d2073e' class='xr-section-summary'  title='Expand/collapse section'>Attributes: <span>(0)</span></label><div class='xr-section-inline-details'></div><div class='xr-section-details'><dl class='xr-attrs'></dl></div></li></ul></div></div>"
     },
     "execution_count": 2,
     "metadata": {},
     "output_type": "execute_result"
    }
   ],
   "source": [
    "%%time\n",
    "\n",
    "import xarray as xr\n",
    "\n",
    "dem = xr.open_mfdataset(\n",
    "    paths=dem_path,\n",
    "    chunks={'x': 1000, 'y': 1000},\n",
    "    parallel=True,\n",
    ")\n",
    "dem = dem.rename_vars({'band_data': 'dem'})\n",
    "dem = dem.rename_dims({'band': 'elevation'})\n",
    "\n",
    "dem"
   ],
   "metadata": {
    "collapsed": false,
    "ExecuteTime": {
     "end_time": "2023-08-28T11:20:29.446026719Z",
     "start_time": "2023-08-28T11:20:28.310737746Z"
    }
   },
   "id": "b26805f0516f58c3"
  },
  {
   "cell_type": "code",
   "execution_count": 3,
   "outputs": [],
   "source": [
    "# %%time\n",
    "# \n",
    "# dem = dem.fillna(-9999.99)"
   ],
   "metadata": {
    "collapsed": false,
    "ExecuteTime": {
     "end_time": "2023-08-28T11:20:29.488646136Z",
     "start_time": "2023-08-28T11:20:29.408948312Z"
    }
   },
   "id": "63f7a4492875d6e5"
  },
  {
   "cell_type": "code",
   "execution_count": 4,
   "outputs": [
    {
     "data": {
      "text/plain": "xarray.core.dataset.Dataset"
     },
     "execution_count": 4,
     "metadata": {},
     "output_type": "execute_result"
    }
   ],
   "source": [
    "type(dem)"
   ],
   "metadata": {
    "collapsed": false,
    "ExecuteTime": {
     "end_time": "2023-08-28T11:20:29.489725796Z",
     "start_time": "2023-08-28T11:20:29.419222769Z"
    }
   },
   "id": "2e9ace0d73a55ab0"
  },
  {
   "cell_type": "code",
   "execution_count": 5,
   "outputs": [],
   "source": [
    "import matplotlib.pyplot as plt"
   ],
   "metadata": {
    "collapsed": false,
    "ExecuteTime": {
     "end_time": "2023-08-28T11:20:29.801898961Z",
     "start_time": "2023-08-28T11:20:29.466146320Z"
    }
   },
   "id": "107b0b6ffc3ac1a9"
  },
  {
   "cell_type": "code",
   "execution_count": 6,
   "outputs": [],
   "source": [
    "# %%time\n",
    "# \n",
    "# fig, ax = plt.subplots(figsize=(10, 10))\n",
    "# dem['dem'].squeeze().plot.imshow(\n",
    "#     cmap='Blues',\n",
    "# )\n",
    "# plt.title(\"DEM\")\n",
    "# plt.ylabel(\"Y coordinates (meters)\")\n",
    "# plt.xlabel(\"X coordinates (meters)\")"
   ],
   "metadata": {
    "collapsed": false,
    "ExecuteTime": {
     "end_time": "2023-08-28T11:20:29.823841432Z",
     "start_time": "2023-08-28T11:20:29.746933746Z"
    }
   },
   "id": "eb88b07baebd3352"
  },
  {
   "cell_type": "code",
   "execution_count": 7,
   "outputs": [
    {
     "name": "stdout",
     "output_type": "stream",
     "text": [
      "CPU times: user 450 ms, sys: 54.5 ms, total: 505 ms\n",
      "Wall time: 546 ms\n"
     ]
    },
    {
     "data": {
      "text/plain": "<xarray.DataArray 'aspect' (elevation: 1, y: 16370, x: 17977)>\ndask.array<_trim, shape=(1, 16370, 17977), dtype=float64, chunksize=(1, 1000, 1000), chunktype=numpy.ndarray>\nCoordinates:\n  * band         (elevation) int64 1\n  * x            (x) float64 8.992e+05 8.992e+05 ... 1.079e+06 1.079e+06\n  * y            (y) float64 4.61e+06 4.61e+06 4.61e+06 ... 4.447e+06 4.447e+06\n    spatial_ref  int64 ...\nDimensions without coordinates: elevation\nAttributes:\n    AREA_OR_POINT:             Area\n    STATISTICS_APPROXIMATE:    YES\n    STATISTICS_MAXIMUM:        1904.0529785156\n    STATISTICS_MEAN:           434.61549420131\n    STATISTICS_MINIMUM:        0\n    STATISTICS_STDDEV:         346.04771759263\n    STATISTICS_VALID_PERCENT:  46.36",
      "text/html": "<div><svg style=\"position: absolute; width: 0; height: 0; overflow: hidden\">\n<defs>\n<symbol id=\"icon-database\" viewBox=\"0 0 32 32\">\n<path d=\"M16 0c-8.837 0-16 2.239-16 5v4c0 2.761 7.163 5 16 5s16-2.239 16-5v-4c0-2.761-7.163-5-16-5z\"></path>\n<path d=\"M16 17c-8.837 0-16-2.239-16-5v6c0 2.761 7.163 5 16 5s16-2.239 16-5v-6c0 2.761-7.163 5-16 5z\"></path>\n<path d=\"M16 26c-8.837 0-16-2.239-16-5v6c0 2.761 7.163 5 16 5s16-2.239 16-5v-6c0 2.761-7.163 5-16 5z\"></path>\n</symbol>\n<symbol id=\"icon-file-text2\" viewBox=\"0 0 32 32\">\n<path d=\"M28.681 7.159c-0.694-0.947-1.662-2.053-2.724-3.116s-2.169-2.030-3.116-2.724c-1.612-1.182-2.393-1.319-2.841-1.319h-15.5c-1.378 0-2.5 1.121-2.5 2.5v27c0 1.378 1.122 2.5 2.5 2.5h23c1.378 0 2.5-1.122 2.5-2.5v-19.5c0-0.448-0.137-1.23-1.319-2.841zM24.543 5.457c0.959 0.959 1.712 1.825 2.268 2.543h-4.811v-4.811c0.718 0.556 1.584 1.309 2.543 2.268zM28 29.5c0 0.271-0.229 0.5-0.5 0.5h-23c-0.271 0-0.5-0.229-0.5-0.5v-27c0-0.271 0.229-0.5 0.5-0.5 0 0 15.499-0 15.5 0v7c0 0.552 0.448 1 1 1h7v19.5z\"></path>\n<path d=\"M23 26h-14c-0.552 0-1-0.448-1-1s0.448-1 1-1h14c0.552 0 1 0.448 1 1s-0.448 1-1 1z\"></path>\n<path d=\"M23 22h-14c-0.552 0-1-0.448-1-1s0.448-1 1-1h14c0.552 0 1 0.448 1 1s-0.448 1-1 1z\"></path>\n<path d=\"M23 18h-14c-0.552 0-1-0.448-1-1s0.448-1 1-1h14c0.552 0 1 0.448 1 1s-0.448 1-1 1z\"></path>\n</symbol>\n</defs>\n</svg>\n<style>/* CSS stylesheet for displaying xarray objects in jupyterlab.\n *\n */\n\n:root {\n  --xr-font-color0: var(--jp-content-font-color0, rgba(0, 0, 0, 1));\n  --xr-font-color2: var(--jp-content-font-color2, rgba(0, 0, 0, 0.54));\n  --xr-font-color3: var(--jp-content-font-color3, rgba(0, 0, 0, 0.38));\n  --xr-border-color: var(--jp-border-color2, #e0e0e0);\n  --xr-disabled-color: var(--jp-layout-color3, #bdbdbd);\n  --xr-background-color: var(--jp-layout-color0, white);\n  --xr-background-color-row-even: var(--jp-layout-color1, white);\n  --xr-background-color-row-odd: var(--jp-layout-color2, #eeeeee);\n}\n\nhtml[theme=dark],\nbody[data-theme=dark],\nbody.vscode-dark {\n  --xr-font-color0: rgba(255, 255, 255, 1);\n  --xr-font-color2: rgba(255, 255, 255, 0.54);\n  --xr-font-color3: rgba(255, 255, 255, 0.38);\n  --xr-border-color: #1F1F1F;\n  --xr-disabled-color: #515151;\n  --xr-background-color: #111111;\n  --xr-background-color-row-even: #111111;\n  --xr-background-color-row-odd: #313131;\n}\n\n.xr-wrap {\n  display: block !important;\n  min-width: 300px;\n  max-width: 700px;\n}\n\n.xr-text-repr-fallback {\n  /* fallback to plain text repr when CSS is not injected (untrusted notebook) */\n  display: none;\n}\n\n.xr-header {\n  padding-top: 6px;\n  padding-bottom: 6px;\n  margin-bottom: 4px;\n  border-bottom: solid 1px var(--xr-border-color);\n}\n\n.xr-header > div,\n.xr-header > ul {\n  display: inline;\n  margin-top: 0;\n  margin-bottom: 0;\n}\n\n.xr-obj-type,\n.xr-array-name {\n  margin-left: 2px;\n  margin-right: 10px;\n}\n\n.xr-obj-type {\n  color: var(--xr-font-color2);\n}\n\n.xr-sections {\n  padding-left: 0 !important;\n  display: grid;\n  grid-template-columns: 150px auto auto 1fr 20px 20px;\n}\n\n.xr-section-item {\n  display: contents;\n}\n\n.xr-section-item input {\n  display: none;\n}\n\n.xr-section-item input + label {\n  color: var(--xr-disabled-color);\n}\n\n.xr-section-item input:enabled + label {\n  cursor: pointer;\n  color: var(--xr-font-color2);\n}\n\n.xr-section-item input:enabled + label:hover {\n  color: var(--xr-font-color0);\n}\n\n.xr-section-summary {\n  grid-column: 1;\n  color: var(--xr-font-color2);\n  font-weight: 500;\n}\n\n.xr-section-summary > span {\n  display: inline-block;\n  padding-left: 0.5em;\n}\n\n.xr-section-summary-in:disabled + label {\n  color: var(--xr-font-color2);\n}\n\n.xr-section-summary-in + label:before {\n  display: inline-block;\n  content: '►';\n  font-size: 11px;\n  width: 15px;\n  text-align: center;\n}\n\n.xr-section-summary-in:disabled + label:before {\n  color: var(--xr-disabled-color);\n}\n\n.xr-section-summary-in:checked + label:before {\n  content: '▼';\n}\n\n.xr-section-summary-in:checked + label > span {\n  display: none;\n}\n\n.xr-section-summary,\n.xr-section-inline-details {\n  padding-top: 4px;\n  padding-bottom: 4px;\n}\n\n.xr-section-inline-details {\n  grid-column: 2 / -1;\n}\n\n.xr-section-details {\n  display: none;\n  grid-column: 1 / -1;\n  margin-bottom: 5px;\n}\n\n.xr-section-summary-in:checked ~ .xr-section-details {\n  display: contents;\n}\n\n.xr-array-wrap {\n  grid-column: 1 / -1;\n  display: grid;\n  grid-template-columns: 20px auto;\n}\n\n.xr-array-wrap > label {\n  grid-column: 1;\n  vertical-align: top;\n}\n\n.xr-preview {\n  color: var(--xr-font-color3);\n}\n\n.xr-array-preview,\n.xr-array-data {\n  padding: 0 5px !important;\n  grid-column: 2;\n}\n\n.xr-array-data,\n.xr-array-in:checked ~ .xr-array-preview {\n  display: none;\n}\n\n.xr-array-in:checked ~ .xr-array-data,\n.xr-array-preview {\n  display: inline-block;\n}\n\n.xr-dim-list {\n  display: inline-block !important;\n  list-style: none;\n  padding: 0 !important;\n  margin: 0;\n}\n\n.xr-dim-list li {\n  display: inline-block;\n  padding: 0;\n  margin: 0;\n}\n\n.xr-dim-list:before {\n  content: '(';\n}\n\n.xr-dim-list:after {\n  content: ')';\n}\n\n.xr-dim-list li:not(:last-child):after {\n  content: ',';\n  padding-right: 5px;\n}\n\n.xr-has-index {\n  font-weight: bold;\n}\n\n.xr-var-list,\n.xr-var-item {\n  display: contents;\n}\n\n.xr-var-item > div,\n.xr-var-item label,\n.xr-var-item > .xr-var-name span {\n  background-color: var(--xr-background-color-row-even);\n  margin-bottom: 0;\n}\n\n.xr-var-item > .xr-var-name:hover span {\n  padding-right: 5px;\n}\n\n.xr-var-list > li:nth-child(odd) > div,\n.xr-var-list > li:nth-child(odd) > label,\n.xr-var-list > li:nth-child(odd) > .xr-var-name span {\n  background-color: var(--xr-background-color-row-odd);\n}\n\n.xr-var-name {\n  grid-column: 1;\n}\n\n.xr-var-dims {\n  grid-column: 2;\n}\n\n.xr-var-dtype {\n  grid-column: 3;\n  text-align: right;\n  color: var(--xr-font-color2);\n}\n\n.xr-var-preview {\n  grid-column: 4;\n}\n\n.xr-index-preview {\n  grid-column: 2 / 5;\n  color: var(--xr-font-color2);\n}\n\n.xr-var-name,\n.xr-var-dims,\n.xr-var-dtype,\n.xr-preview,\n.xr-attrs dt {\n  white-space: nowrap;\n  overflow: hidden;\n  text-overflow: ellipsis;\n  padding-right: 10px;\n}\n\n.xr-var-name:hover,\n.xr-var-dims:hover,\n.xr-var-dtype:hover,\n.xr-attrs dt:hover {\n  overflow: visible;\n  width: auto;\n  z-index: 1;\n}\n\n.xr-var-attrs,\n.xr-var-data,\n.xr-index-data {\n  display: none;\n  background-color: var(--xr-background-color) !important;\n  padding-bottom: 5px !important;\n}\n\n.xr-var-attrs-in:checked ~ .xr-var-attrs,\n.xr-var-data-in:checked ~ .xr-var-data,\n.xr-index-data-in:checked ~ .xr-index-data {\n  display: block;\n}\n\n.xr-var-data > table {\n  float: right;\n}\n\n.xr-var-name span,\n.xr-var-data,\n.xr-index-name div,\n.xr-index-data,\n.xr-attrs {\n  padding-left: 25px !important;\n}\n\n.xr-attrs,\n.xr-var-attrs,\n.xr-var-data,\n.xr-index-data {\n  grid-column: 1 / -1;\n}\n\ndl.xr-attrs {\n  padding: 0;\n  margin: 0;\n  display: grid;\n  grid-template-columns: 125px auto;\n}\n\n.xr-attrs dt,\n.xr-attrs dd {\n  padding: 0;\n  margin: 0;\n  float: left;\n  padding-right: 10px;\n  width: auto;\n}\n\n.xr-attrs dt {\n  font-weight: normal;\n  grid-column: 1;\n}\n\n.xr-attrs dt:hover span {\n  display: inline-block;\n  background: var(--xr-background-color);\n  padding-right: 10px;\n}\n\n.xr-attrs dd {\n  grid-column: 2;\n  white-space: pre-wrap;\n  word-break: break-all;\n}\n\n.xr-icon-database,\n.xr-icon-file-text2,\n.xr-no-icon {\n  display: inline-block;\n  vertical-align: middle;\n  width: 1em;\n  height: 1.5em !important;\n  stroke-width: 0;\n  stroke: currentColor;\n  fill: currentColor;\n}\n</style><pre class='xr-text-repr-fallback'>&lt;xarray.DataArray &#x27;aspect&#x27; (elevation: 1, y: 16370, x: 17977)&gt;\ndask.array&lt;_trim, shape=(1, 16370, 17977), dtype=float64, chunksize=(1, 1000, 1000), chunktype=numpy.ndarray&gt;\nCoordinates:\n  * band         (elevation) int64 1\n  * x            (x) float64 8.992e+05 8.992e+05 ... 1.079e+06 1.079e+06\n  * y            (y) float64 4.61e+06 4.61e+06 4.61e+06 ... 4.447e+06 4.447e+06\n    spatial_ref  int64 ...\nDimensions without coordinates: elevation\nAttributes:\n    AREA_OR_POINT:             Area\n    STATISTICS_APPROXIMATE:    YES\n    STATISTICS_MAXIMUM:        1904.0529785156\n    STATISTICS_MEAN:           434.61549420131\n    STATISTICS_MINIMUM:        0\n    STATISTICS_STDDEV:         346.04771759263\n    STATISTICS_VALID_PERCENT:  46.36</pre><div class='xr-wrap' style='display:none'><div class='xr-header'><div class='xr-obj-type'>xarray.DataArray</div><div class='xr-array-name'>'aspect'</div><ul class='xr-dim-list'><li><span class='xr-has-index'>elevation</span>: 1</li><li><span class='xr-has-index'>y</span>: 16370</li><li><span class='xr-has-index'>x</span>: 17977</li></ul></div><ul class='xr-sections'><li class='xr-section-item'><div class='xr-array-wrap'><input id='section-1090be9c-9dd2-4dff-9fce-e10152fff7bf' class='xr-array-in' type='checkbox' checked><label for='section-1090be9c-9dd2-4dff-9fce-e10152fff7bf' title='Show/hide data repr'><svg class='icon xr-icon-database'><use xlink:href='#icon-database'></use></svg></label><div class='xr-array-preview xr-preview'><span>dask.array&lt;chunksize=(1, 1000, 1000), meta=np.ndarray&gt;</span></div><div class='xr-array-data'><table>\n    <tr>\n        <td>\n            <table style=\"border-collapse: collapse;\">\n                <thead>\n                    <tr>\n                        <td> </td>\n                        <th> Array </th>\n                        <th> Chunk </th>\n                    </tr>\n                </thead>\n                <tbody>\n                    \n                    <tr>\n                        <th> Bytes </th>\n                        <td> 2.19 GiB </td>\n                        <td> 7.63 MiB </td>\n                    </tr>\n                    \n                    <tr>\n                        <th> Shape </th>\n                        <td> (1, 16370, 17977) </td>\n                        <td> (1, 1000, 1000) </td>\n                    </tr>\n                    <tr>\n                        <th> Dask graph </th>\n                        <td colspan=\"2\"> 306 chunks in 11 graph layers </td>\n                    </tr>\n                    <tr>\n                        <th> Data type </th>\n                        <td colspan=\"2\"> float64 numpy.ndarray </td>\n                    </tr>\n                </tbody>\n            </table>\n        </td>\n        <td>\n        <svg width=\"194\" height=\"174\" style=\"stroke:rgb(0,0,0);stroke-width:1\" >\n\n  <!-- Horizontal lines -->\n  <line x1=\"10\" y1=\"0\" x2=\"24\" y2=\"14\" style=\"stroke-width:2\" />\n  <line x1=\"10\" y1=\"6\" x2=\"24\" y2=\"21\" />\n  <line x1=\"10\" y1=\"13\" x2=\"24\" y2=\"28\" />\n  <line x1=\"10\" y1=\"20\" x2=\"24\" y2=\"34\" />\n  <line x1=\"10\" y1=\"26\" x2=\"24\" y2=\"41\" />\n  <line x1=\"10\" y1=\"33\" x2=\"24\" y2=\"48\" />\n  <line x1=\"10\" y1=\"40\" x2=\"24\" y2=\"54\" />\n  <line x1=\"10\" y1=\"46\" x2=\"24\" y2=\"61\" />\n  <line x1=\"10\" y1=\"53\" x2=\"24\" y2=\"68\" />\n  <line x1=\"10\" y1=\"60\" x2=\"24\" y2=\"75\" />\n  <line x1=\"10\" y1=\"66\" x2=\"24\" y2=\"81\" />\n  <line x1=\"10\" y1=\"73\" x2=\"24\" y2=\"88\" />\n  <line x1=\"10\" y1=\"80\" x2=\"24\" y2=\"95\" />\n  <line x1=\"10\" y1=\"86\" x2=\"24\" y2=\"101\" />\n  <line x1=\"10\" y1=\"93\" x2=\"24\" y2=\"108\" />\n  <line x1=\"10\" y1=\"100\" x2=\"24\" y2=\"115\" />\n  <line x1=\"10\" y1=\"106\" x2=\"24\" y2=\"121\" />\n  <line x1=\"10\" y1=\"109\" x2=\"24\" y2=\"124\" style=\"stroke-width:2\" />\n\n  <!-- Vertical lines -->\n  <line x1=\"10\" y1=\"0\" x2=\"10\" y2=\"109\" style=\"stroke-width:2\" />\n  <line x1=\"24\" y1=\"14\" x2=\"24\" y2=\"124\" style=\"stroke-width:2\" />\n\n  <!-- Colored Rectangle -->\n  <polygon points=\"10.0,0.0 24.9485979497544,14.948597949754403 24.9485979497544,124.22155784295127 10.0,109.27295989319687\" style=\"fill:#ECB172A0;stroke-width:0\"/>\n\n  <!-- Horizontal lines -->\n  <line x1=\"10\" y1=\"0\" x2=\"130\" y2=\"0\" style=\"stroke-width:2\" />\n  <line x1=\"24\" y1=\"14\" x2=\"144\" y2=\"14\" style=\"stroke-width:2\" />\n\n  <!-- Vertical lines -->\n  <line x1=\"10\" y1=\"0\" x2=\"24\" y2=\"14\" style=\"stroke-width:2\" />\n  <line x1=\"16\" y1=\"0\" x2=\"31\" y2=\"14\" />\n  <line x1=\"23\" y1=\"0\" x2=\"38\" y2=\"14\" />\n  <line x1=\"30\" y1=\"0\" x2=\"44\" y2=\"14\" />\n  <line x1=\"36\" y1=\"0\" x2=\"51\" y2=\"14\" />\n  <line x1=\"43\" y1=\"0\" x2=\"58\" y2=\"14\" />\n  <line x1=\"50\" y1=\"0\" x2=\"64\" y2=\"14\" />\n  <line x1=\"56\" y1=\"0\" x2=\"71\" y2=\"14\" />\n  <line x1=\"63\" y1=\"0\" x2=\"78\" y2=\"14\" />\n  <line x1=\"70\" y1=\"0\" x2=\"85\" y2=\"14\" />\n  <line x1=\"76\" y1=\"0\" x2=\"91\" y2=\"14\" />\n  <line x1=\"83\" y1=\"0\" x2=\"98\" y2=\"14\" />\n  <line x1=\"90\" y1=\"0\" x2=\"105\" y2=\"14\" />\n  <line x1=\"96\" y1=\"0\" x2=\"111\" y2=\"14\" />\n  <line x1=\"103\" y1=\"0\" x2=\"118\" y2=\"14\" />\n  <line x1=\"110\" y1=\"0\" x2=\"125\" y2=\"14\" />\n  <line x1=\"116\" y1=\"0\" x2=\"131\" y2=\"14\" />\n  <line x1=\"123\" y1=\"0\" x2=\"138\" y2=\"14\" />\n  <line x1=\"130\" y1=\"0\" x2=\"144\" y2=\"14\" style=\"stroke-width:2\" />\n\n  <!-- Colored Rectangle -->\n  <polygon points=\"10.0,0.0 130.0,0.0 144.9485979497544,14.948597949754403 24.9485979497544,14.948597949754403\" style=\"fill:#ECB172A0;stroke-width:0\"/>\n\n  <!-- Horizontal lines -->\n  <line x1=\"24\" y1=\"14\" x2=\"144\" y2=\"14\" style=\"stroke-width:2\" />\n  <line x1=\"24\" y1=\"21\" x2=\"144\" y2=\"21\" />\n  <line x1=\"24\" y1=\"28\" x2=\"144\" y2=\"28\" />\n  <line x1=\"24\" y1=\"34\" x2=\"144\" y2=\"34\" />\n  <line x1=\"24\" y1=\"41\" x2=\"144\" y2=\"41\" />\n  <line x1=\"24\" y1=\"48\" x2=\"144\" y2=\"48\" />\n  <line x1=\"24\" y1=\"54\" x2=\"144\" y2=\"54\" />\n  <line x1=\"24\" y1=\"61\" x2=\"144\" y2=\"61\" />\n  <line x1=\"24\" y1=\"68\" x2=\"144\" y2=\"68\" />\n  <line x1=\"24\" y1=\"75\" x2=\"144\" y2=\"75\" />\n  <line x1=\"24\" y1=\"81\" x2=\"144\" y2=\"81\" />\n  <line x1=\"24\" y1=\"88\" x2=\"144\" y2=\"88\" />\n  <line x1=\"24\" y1=\"95\" x2=\"144\" y2=\"95\" />\n  <line x1=\"24\" y1=\"101\" x2=\"144\" y2=\"101\" />\n  <line x1=\"24\" y1=\"108\" x2=\"144\" y2=\"108\" />\n  <line x1=\"24\" y1=\"115\" x2=\"144\" y2=\"115\" />\n  <line x1=\"24\" y1=\"121\" x2=\"144\" y2=\"121\" />\n  <line x1=\"24\" y1=\"124\" x2=\"144\" y2=\"124\" style=\"stroke-width:2\" />\n\n  <!-- Vertical lines -->\n  <line x1=\"24\" y1=\"14\" x2=\"24\" y2=\"124\" style=\"stroke-width:2\" />\n  <line x1=\"31\" y1=\"14\" x2=\"31\" y2=\"124\" />\n  <line x1=\"38\" y1=\"14\" x2=\"38\" y2=\"124\" />\n  <line x1=\"44\" y1=\"14\" x2=\"44\" y2=\"124\" />\n  <line x1=\"51\" y1=\"14\" x2=\"51\" y2=\"124\" />\n  <line x1=\"58\" y1=\"14\" x2=\"58\" y2=\"124\" />\n  <line x1=\"64\" y1=\"14\" x2=\"64\" y2=\"124\" />\n  <line x1=\"71\" y1=\"14\" x2=\"71\" y2=\"124\" />\n  <line x1=\"78\" y1=\"14\" x2=\"78\" y2=\"124\" />\n  <line x1=\"85\" y1=\"14\" x2=\"85\" y2=\"124\" />\n  <line x1=\"91\" y1=\"14\" x2=\"91\" y2=\"124\" />\n  <line x1=\"98\" y1=\"14\" x2=\"98\" y2=\"124\" />\n  <line x1=\"105\" y1=\"14\" x2=\"105\" y2=\"124\" />\n  <line x1=\"111\" y1=\"14\" x2=\"111\" y2=\"124\" />\n  <line x1=\"118\" y1=\"14\" x2=\"118\" y2=\"124\" />\n  <line x1=\"125\" y1=\"14\" x2=\"125\" y2=\"124\" />\n  <line x1=\"131\" y1=\"14\" x2=\"131\" y2=\"124\" />\n  <line x1=\"138\" y1=\"14\" x2=\"138\" y2=\"124\" />\n  <line x1=\"144\" y1=\"14\" x2=\"144\" y2=\"124\" style=\"stroke-width:2\" />\n\n  <!-- Colored Rectangle -->\n  <polygon points=\"24.9485979497544,14.948597949754403 144.9485979497544,14.948597949754403 144.9485979497544,124.22155784295127 24.9485979497544,124.22155784295127\" style=\"fill:#ECB172A0;stroke-width:0\"/>\n\n  <!-- Text -->\n  <text x=\"84.948598\" y=\"144.221558\" font-size=\"1.0rem\" font-weight=\"100\" text-anchor=\"middle\" >17977</text>\n  <text x=\"164.948598\" y=\"69.585078\" font-size=\"1.0rem\" font-weight=\"100\" text-anchor=\"middle\" transform=\"rotate(-90,164.948598,69.585078)\">16370</text>\n  <text x=\"7.474299\" y=\"136.747259\" font-size=\"1.0rem\" font-weight=\"100\" text-anchor=\"middle\" transform=\"rotate(45,7.474299,136.747259)\">1</text>\n</svg>\n        </td>\n    </tr>\n</table></div></div></li><li class='xr-section-item'><input id='section-8a9ebe21-dd94-47b2-a2ed-d916db6f8195' class='xr-section-summary-in' type='checkbox'  checked><label for='section-8a9ebe21-dd94-47b2-a2ed-d916db6f8195' class='xr-section-summary' >Coordinates: <span>(4)</span></label><div class='xr-section-inline-details'></div><div class='xr-section-details'><ul class='xr-var-list'><li class='xr-var-item'><div class='xr-var-name'><span class='xr-has-index'>band</span></div><div class='xr-var-dims'>(elevation)</div><div class='xr-var-dtype'>int64</div><div class='xr-var-preview xr-preview'>1</div><input id='attrs-189ec179-8ab0-4711-9cb3-8f49094c7083' class='xr-var-attrs-in' type='checkbox' disabled><label for='attrs-189ec179-8ab0-4711-9cb3-8f49094c7083' title='Show/Hide attributes'><svg class='icon xr-icon-file-text2'><use xlink:href='#icon-file-text2'></use></svg></label><input id='data-9b2ffd63-3e55-4179-8c2d-8bc4f53132b4' class='xr-var-data-in' type='checkbox'><label for='data-9b2ffd63-3e55-4179-8c2d-8bc4f53132b4' title='Show/Hide data repr'><svg class='icon xr-icon-database'><use xlink:href='#icon-database'></use></svg></label><div class='xr-var-attrs'><dl class='xr-attrs'></dl></div><div class='xr-var-data'><pre>array([1])</pre></div></li><li class='xr-var-item'><div class='xr-var-name'><span class='xr-has-index'>x</span></div><div class='xr-var-dims'>(x)</div><div class='xr-var-dtype'>float64</div><div class='xr-var-preview xr-preview'>8.992e+05 8.992e+05 ... 1.079e+06</div><input id='attrs-76f1e547-70c4-43ec-8d5f-4cd2849ae69b' class='xr-var-attrs-in' type='checkbox' disabled><label for='attrs-76f1e547-70c4-43ec-8d5f-4cd2849ae69b' title='Show/Hide attributes'><svg class='icon xr-icon-file-text2'><use xlink:href='#icon-file-text2'></use></svg></label><input id='data-29e1e341-81f7-4565-b9a6-cf8fd047d3c6' class='xr-var-data-in' type='checkbox'><label for='data-29e1e341-81f7-4565-b9a6-cf8fd047d3c6' title='Show/Hide data repr'><svg class='icon xr-icon-database'><use xlink:href='#icon-database'></use></svg></label><div class='xr-var-attrs'><dl class='xr-attrs'></dl></div><div class='xr-var-data'><pre>array([ 899225.,  899235.,  899245., ..., 1078965., 1078975., 1078985.])</pre></div></li><li class='xr-var-item'><div class='xr-var-name'><span class='xr-has-index'>y</span></div><div class='xr-var-dims'>(y)</div><div class='xr-var-dtype'>float64</div><div class='xr-var-preview xr-preview'>4.61e+06 4.61e+06 ... 4.447e+06</div><input id='attrs-b5272377-7680-4bdd-aac0-0f3ff7633732' class='xr-var-attrs-in' type='checkbox' disabled><label for='attrs-b5272377-7680-4bdd-aac0-0f3ff7633732' title='Show/Hide attributes'><svg class='icon xr-icon-file-text2'><use xlink:href='#icon-file-text2'></use></svg></label><input id='data-b4715716-24b7-424d-aff8-8c2cafcb18fc' class='xr-var-data-in' type='checkbox'><label for='data-b4715716-24b7-424d-aff8-8c2cafcb18fc' title='Show/Hide data repr'><svg class='icon xr-icon-database'><use xlink:href='#icon-database'></use></svg></label><div class='xr-var-attrs'><dl class='xr-attrs'></dl></div><div class='xr-var-data'><pre>array([4610195., 4610185., 4610175., ..., 4446525., 4446515., 4446505.])</pre></div></li><li class='xr-var-item'><div class='xr-var-name'><span>spatial_ref</span></div><div class='xr-var-dims'>()</div><div class='xr-var-dtype'>int64</div><div class='xr-var-preview xr-preview'>...</div><input id='attrs-b06b89ab-a146-4938-aed9-ab401d7eb181' class='xr-var-attrs-in' type='checkbox' ><label for='attrs-b06b89ab-a146-4938-aed9-ab401d7eb181' title='Show/Hide attributes'><svg class='icon xr-icon-file-text2'><use xlink:href='#icon-file-text2'></use></svg></label><input id='data-f7a72d87-1481-4f4d-b5a7-40755069a005' class='xr-var-data-in' type='checkbox'><label for='data-f7a72d87-1481-4f4d-b5a7-40755069a005' title='Show/Hide data repr'><svg class='icon xr-icon-database'><use xlink:href='#icon-database'></use></svg></label><div class='xr-var-attrs'><dl class='xr-attrs'><dt><span>crs_wkt :</span></dt><dd>PROJCS[&quot;WGS 84 / UTM zone 32N&quot;,GEOGCS[&quot;WGS 84&quot;,DATUM[&quot;WGS_1984&quot;,SPHEROID[&quot;WGS 84&quot;,6378137,298.257223563,AUTHORITY[&quot;EPSG&quot;,&quot;7030&quot;]],AUTHORITY[&quot;EPSG&quot;,&quot;6326&quot;]],PRIMEM[&quot;Greenwich&quot;,0,AUTHORITY[&quot;EPSG&quot;,&quot;8901&quot;]],UNIT[&quot;degree&quot;,0.0174532925199433,AUTHORITY[&quot;EPSG&quot;,&quot;9122&quot;]],AUTHORITY[&quot;EPSG&quot;,&quot;4326&quot;]],PROJECTION[&quot;Transverse_Mercator&quot;],PARAMETER[&quot;latitude_of_origin&quot;,0],PARAMETER[&quot;central_meridian&quot;,9],PARAMETER[&quot;scale_factor&quot;,0.9996],PARAMETER[&quot;false_easting&quot;,500000],PARAMETER[&quot;false_northing&quot;,0],UNIT[&quot;metre&quot;,1,AUTHORITY[&quot;EPSG&quot;,&quot;9001&quot;]],AXIS[&quot;Easting&quot;,EAST],AXIS[&quot;Northing&quot;,NORTH],AUTHORITY[&quot;EPSG&quot;,&quot;32632&quot;]]</dd><dt><span>semi_major_axis :</span></dt><dd>6378137.0</dd><dt><span>semi_minor_axis :</span></dt><dd>6356752.314245179</dd><dt><span>inverse_flattening :</span></dt><dd>298.257223563</dd><dt><span>reference_ellipsoid_name :</span></dt><dd>WGS 84</dd><dt><span>longitude_of_prime_meridian :</span></dt><dd>0.0</dd><dt><span>prime_meridian_name :</span></dt><dd>Greenwich</dd><dt><span>geographic_crs_name :</span></dt><dd>WGS 84</dd><dt><span>horizontal_datum_name :</span></dt><dd>World Geodetic System 1984</dd><dt><span>projected_crs_name :</span></dt><dd>WGS 84 / UTM zone 32N</dd><dt><span>grid_mapping_name :</span></dt><dd>transverse_mercator</dd><dt><span>latitude_of_projection_origin :</span></dt><dd>0.0</dd><dt><span>longitude_of_central_meridian :</span></dt><dd>9.0</dd><dt><span>false_easting :</span></dt><dd>500000.0</dd><dt><span>false_northing :</span></dt><dd>0.0</dd><dt><span>scale_factor_at_central_meridian :</span></dt><dd>0.9996</dd><dt><span>spatial_ref :</span></dt><dd>PROJCS[&quot;WGS 84 / UTM zone 32N&quot;,GEOGCS[&quot;WGS 84&quot;,DATUM[&quot;WGS_1984&quot;,SPHEROID[&quot;WGS 84&quot;,6378137,298.257223563,AUTHORITY[&quot;EPSG&quot;,&quot;7030&quot;]],AUTHORITY[&quot;EPSG&quot;,&quot;6326&quot;]],PRIMEM[&quot;Greenwich&quot;,0,AUTHORITY[&quot;EPSG&quot;,&quot;8901&quot;]],UNIT[&quot;degree&quot;,0.0174532925199433,AUTHORITY[&quot;EPSG&quot;,&quot;9122&quot;]],AUTHORITY[&quot;EPSG&quot;,&quot;4326&quot;]],PROJECTION[&quot;Transverse_Mercator&quot;],PARAMETER[&quot;latitude_of_origin&quot;,0],PARAMETER[&quot;central_meridian&quot;,9],PARAMETER[&quot;scale_factor&quot;,0.9996],PARAMETER[&quot;false_easting&quot;,500000],PARAMETER[&quot;false_northing&quot;,0],UNIT[&quot;metre&quot;,1,AUTHORITY[&quot;EPSG&quot;,&quot;9001&quot;]],AXIS[&quot;Easting&quot;,EAST],AXIS[&quot;Northing&quot;,NORTH],AUTHORITY[&quot;EPSG&quot;,&quot;32632&quot;]]</dd><dt><span>GeoTransform :</span></dt><dd>899220.0 10.0 0.0 4610200.0 0.0 -10.0</dd></dl></div><div class='xr-var-data'><pre>[1 values with dtype=int64]</pre></div></li></ul></div></li><li class='xr-section-item'><input id='section-dc2a1418-5c05-41f8-82e1-238ab13e4e24' class='xr-section-summary-in' type='checkbox'  ><label for='section-dc2a1418-5c05-41f8-82e1-238ab13e4e24' class='xr-section-summary' >Indexes: <span>(3)</span></label><div class='xr-section-inline-details'></div><div class='xr-section-details'><ul class='xr-var-list'><li class='xr-var-item'><div class='xr-index-name'><div>band</div></div><div class='xr-index-preview'>PandasIndex</div><div></div><input id='index-6937a6d1-be73-4553-abcb-4f00403d0590' class='xr-index-data-in' type='checkbox'/><label for='index-6937a6d1-be73-4553-abcb-4f00403d0590' title='Show/Hide index repr'><svg class='icon xr-icon-database'><use xlink:href='#icon-database'></use></svg></label><div class='xr-index-data'><pre>PandasIndex(Index([1], dtype=&#x27;int64&#x27;, name=&#x27;band&#x27;))</pre></div></li><li class='xr-var-item'><div class='xr-index-name'><div>x</div></div><div class='xr-index-preview'>PandasIndex</div><div></div><input id='index-fcbebc5d-cab7-4db9-8a28-eab20cbed5ce' class='xr-index-data-in' type='checkbox'/><label for='index-fcbebc5d-cab7-4db9-8a28-eab20cbed5ce' title='Show/Hide index repr'><svg class='icon xr-icon-database'><use xlink:href='#icon-database'></use></svg></label><div class='xr-index-data'><pre>PandasIndex(Index([ 899225.0,  899235.0,  899245.0,  899255.0,  899265.0,  899275.0,\n        899285.0,  899295.0,  899305.0,  899315.0,\n       ...\n       1078895.0, 1078905.0, 1078915.0, 1078925.0, 1078935.0, 1078945.0,\n       1078955.0, 1078965.0, 1078975.0, 1078985.0],\n      dtype=&#x27;float64&#x27;, name=&#x27;x&#x27;, length=17977))</pre></div></li><li class='xr-var-item'><div class='xr-index-name'><div>y</div></div><div class='xr-index-preview'>PandasIndex</div><div></div><input id='index-a49a0e72-f0b1-4a47-b980-b67831439406' class='xr-index-data-in' type='checkbox'/><label for='index-a49a0e72-f0b1-4a47-b980-b67831439406' title='Show/Hide index repr'><svg class='icon xr-icon-database'><use xlink:href='#icon-database'></use></svg></label><div class='xr-index-data'><pre>PandasIndex(Index([4610195.0, 4610185.0, 4610175.0, 4610165.0, 4610155.0, 4610145.0,\n       4610135.0, 4610125.0, 4610115.0, 4610105.0,\n       ...\n       4446595.0, 4446585.0, 4446575.0, 4446565.0, 4446555.0, 4446545.0,\n       4446535.0, 4446525.0, 4446515.0, 4446505.0],\n      dtype=&#x27;float64&#x27;, name=&#x27;y&#x27;, length=16370))</pre></div></li></ul></div></li><li class='xr-section-item'><input id='section-151cb30b-df1a-47ae-a628-cfbba60fe8c6' class='xr-section-summary-in' type='checkbox'  checked><label for='section-151cb30b-df1a-47ae-a628-cfbba60fe8c6' class='xr-section-summary' >Attributes: <span>(7)</span></label><div class='xr-section-inline-details'></div><div class='xr-section-details'><dl class='xr-attrs'><dt><span>AREA_OR_POINT :</span></dt><dd>Area</dd><dt><span>STATISTICS_APPROXIMATE :</span></dt><dd>YES</dd><dt><span>STATISTICS_MAXIMUM :</span></dt><dd>1904.0529785156</dd><dt><span>STATISTICS_MEAN :</span></dt><dd>434.61549420131</dd><dt><span>STATISTICS_MINIMUM :</span></dt><dd>0</dd><dt><span>STATISTICS_STDDEV :</span></dt><dd>346.04771759263</dd><dt><span>STATISTICS_VALID_PERCENT :</span></dt><dd>46.36</dd></dl></div></li></ul></div></div>"
     },
     "execution_count": 7,
     "metadata": {},
     "output_type": "execute_result"
    }
   ],
   "source": [
    "%%time\n",
    "\n",
    "from xrspatial.aspect import aspect\n",
    "\n",
    "dem_aspect = aspect(dem['dem'])\n",
    "\n",
    "dem_aspect"
   ],
   "metadata": {
    "collapsed": false,
    "ExecuteTime": {
     "end_time": "2023-08-28T11:20:30.318915863Z",
     "start_time": "2023-08-28T11:20:29.752384495Z"
    }
   },
   "id": "c1d9fc58cceb8fe3"
  },
  {
   "cell_type": "code",
   "execution_count": 8,
   "outputs": [],
   "source": [
    "#dem_aspect.min().values"
   ],
   "metadata": {
    "collapsed": false,
    "ExecuteTime": {
     "end_time": "2023-08-28T11:20:30.336462239Z",
     "start_time": "2023-08-28T11:20:30.310324373Z"
    }
   },
   "id": "9331cae91734e3f1"
  },
  {
   "cell_type": "code",
   "execution_count": 9,
   "outputs": [],
   "source": [
    "# %%time\n",
    "# \n",
    "# dem_aspect_cleaned = dem_aspect.fillna(-999)\n",
    "# \n",
    "# dem_aspect_cleaned"
   ],
   "metadata": {
    "collapsed": false,
    "ExecuteTime": {
     "end_time": "2023-08-28T11:20:30.337943887Z",
     "start_time": "2023-08-28T11:20:30.316045983Z"
    }
   },
   "id": "2ef37cba521734d5"
  },
  {
   "cell_type": "code",
   "execution_count": 10,
   "outputs": [],
   "source": [
    "#dem_aspect_cleaned.min().values"
   ],
   "metadata": {
    "collapsed": false,
    "ExecuteTime": {
     "end_time": "2023-08-28T11:20:30.340017881Z",
     "start_time": "2023-08-28T11:20:30.320957690Z"
    }
   },
   "id": "5ac509072478d9a7"
  },
  {
   "cell_type": "code",
   "execution_count": 11,
   "outputs": [],
   "source": [
    "# %%time\n",
    "# \n",
    "# fig2, ax2 = plt.subplots(figsize=(10, 10))\n",
    "# dem_aspect_cleaned.squeeze().plot.imshow(\n",
    "#     cmap='Spectral',\n",
    "# )\n",
    "# plt.title(\"Aspect\")\n",
    "# plt.ylabel(\"Y coordinates (meters)\")\n",
    "# plt.xlabel(\"X coordinates (meters)\")"
   ],
   "metadata": {
    "collapsed": false,
    "ExecuteTime": {
     "start_time": "2023-08-28T11:20:30.366038112Z"
    }
   },
   "id": "a2d2f456aed0a9e6"
  },
  {
   "cell_type": "code",
   "execution_count": 12,
   "outputs": [],
   "source": [
    "# from xrspatial.slope import slope\n",
    "# \n",
    "# dem_slope = slope(dem)\n",
    "# \n",
    "# dem_slope"
   ],
   "metadata": {
    "collapsed": false,
    "ExecuteTime": {
     "end_time": "2023-08-28T11:20:30.447466145Z",
     "start_time": "2023-08-28T11:20:30.366397942Z"
    }
   },
   "id": "dca6f6fc467fa8fb"
  },
  {
   "cell_type": "code",
   "execution_count": 13,
   "outputs": [],
   "source": [
    "# fig3, ax3 = plt.subplots(figsize=(10, 10))\n",
    "# dem_slope.plot.imshow(\n",
    "#     cmap='RdYlGn',\n",
    "# )\n",
    "# plt.title(\"Slope\")\n",
    "# plt.ylabel(\"Y coordinates (meters)\")\n",
    "# plt.xlabel(\"X coordinates (meters)\")"
   ],
   "metadata": {
    "collapsed": false,
    "ExecuteTime": {
     "end_time": "2023-08-28T11:20:30.451309212Z",
     "start_time": "2023-08-28T11:20:30.366703954Z"
    }
   },
   "id": "ceab7f469513ea7f"
  },
  {
   "cell_type": "code",
   "execution_count": 14,
   "outputs": [
    {
     "data": {
      "text/plain": "<xarray.DataArray 'aspect' (elevation: 1, y: 16370, x: 17977)>\ndask.array<where, shape=(1, 16370, 17977), dtype=float64, chunksize=(1, 1000, 1000), chunktype=numpy.ndarray>\nCoordinates:\n  * band         (elevation) int64 1\n  * x            (x) float64 8.992e+05 8.992e+05 ... 1.079e+06 1.079e+06\n  * y            (y) float64 4.61e+06 4.61e+06 4.61e+06 ... 4.447e+06 4.447e+06\n    spatial_ref  int64 0\nDimensions without coordinates: elevation\nAttributes:\n    AREA_OR_POINT:             Area\n    STATISTICS_APPROXIMATE:    YES\n    STATISTICS_MAXIMUM:        1904.0529785156\n    STATISTICS_MEAN:           434.61549420131\n    STATISTICS_MINIMUM:        0\n    STATISTICS_STDDEV:         346.04771759263\n    STATISTICS_VALID_PERCENT:  46.36",
      "text/html": "<div><svg style=\"position: absolute; width: 0; height: 0; overflow: hidden\">\n<defs>\n<symbol id=\"icon-database\" viewBox=\"0 0 32 32\">\n<path d=\"M16 0c-8.837 0-16 2.239-16 5v4c0 2.761 7.163 5 16 5s16-2.239 16-5v-4c0-2.761-7.163-5-16-5z\"></path>\n<path d=\"M16 17c-8.837 0-16-2.239-16-5v6c0 2.761 7.163 5 16 5s16-2.239 16-5v-6c0 2.761-7.163 5-16 5z\"></path>\n<path d=\"M16 26c-8.837 0-16-2.239-16-5v6c0 2.761 7.163 5 16 5s16-2.239 16-5v-6c0 2.761-7.163 5-16 5z\"></path>\n</symbol>\n<symbol id=\"icon-file-text2\" viewBox=\"0 0 32 32\">\n<path d=\"M28.681 7.159c-0.694-0.947-1.662-2.053-2.724-3.116s-2.169-2.030-3.116-2.724c-1.612-1.182-2.393-1.319-2.841-1.319h-15.5c-1.378 0-2.5 1.121-2.5 2.5v27c0 1.378 1.122 2.5 2.5 2.5h23c1.378 0 2.5-1.122 2.5-2.5v-19.5c0-0.448-0.137-1.23-1.319-2.841zM24.543 5.457c0.959 0.959 1.712 1.825 2.268 2.543h-4.811v-4.811c0.718 0.556 1.584 1.309 2.543 2.268zM28 29.5c0 0.271-0.229 0.5-0.5 0.5h-23c-0.271 0-0.5-0.229-0.5-0.5v-27c0-0.271 0.229-0.5 0.5-0.5 0 0 15.499-0 15.5 0v7c0 0.552 0.448 1 1 1h7v19.5z\"></path>\n<path d=\"M23 26h-14c-0.552 0-1-0.448-1-1s0.448-1 1-1h14c0.552 0 1 0.448 1 1s-0.448 1-1 1z\"></path>\n<path d=\"M23 22h-14c-0.552 0-1-0.448-1-1s0.448-1 1-1h14c0.552 0 1 0.448 1 1s-0.448 1-1 1z\"></path>\n<path d=\"M23 18h-14c-0.552 0-1-0.448-1-1s0.448-1 1-1h14c0.552 0 1 0.448 1 1s-0.448 1-1 1z\"></path>\n</symbol>\n</defs>\n</svg>\n<style>/* CSS stylesheet for displaying xarray objects in jupyterlab.\n *\n */\n\n:root {\n  --xr-font-color0: var(--jp-content-font-color0, rgba(0, 0, 0, 1));\n  --xr-font-color2: var(--jp-content-font-color2, rgba(0, 0, 0, 0.54));\n  --xr-font-color3: var(--jp-content-font-color3, rgba(0, 0, 0, 0.38));\n  --xr-border-color: var(--jp-border-color2, #e0e0e0);\n  --xr-disabled-color: var(--jp-layout-color3, #bdbdbd);\n  --xr-background-color: var(--jp-layout-color0, white);\n  --xr-background-color-row-even: var(--jp-layout-color1, white);\n  --xr-background-color-row-odd: var(--jp-layout-color2, #eeeeee);\n}\n\nhtml[theme=dark],\nbody[data-theme=dark],\nbody.vscode-dark {\n  --xr-font-color0: rgba(255, 255, 255, 1);\n  --xr-font-color2: rgba(255, 255, 255, 0.54);\n  --xr-font-color3: rgba(255, 255, 255, 0.38);\n  --xr-border-color: #1F1F1F;\n  --xr-disabled-color: #515151;\n  --xr-background-color: #111111;\n  --xr-background-color-row-even: #111111;\n  --xr-background-color-row-odd: #313131;\n}\n\n.xr-wrap {\n  display: block !important;\n  min-width: 300px;\n  max-width: 700px;\n}\n\n.xr-text-repr-fallback {\n  /* fallback to plain text repr when CSS is not injected (untrusted notebook) */\n  display: none;\n}\n\n.xr-header {\n  padding-top: 6px;\n  padding-bottom: 6px;\n  margin-bottom: 4px;\n  border-bottom: solid 1px var(--xr-border-color);\n}\n\n.xr-header > div,\n.xr-header > ul {\n  display: inline;\n  margin-top: 0;\n  margin-bottom: 0;\n}\n\n.xr-obj-type,\n.xr-array-name {\n  margin-left: 2px;\n  margin-right: 10px;\n}\n\n.xr-obj-type {\n  color: var(--xr-font-color2);\n}\n\n.xr-sections {\n  padding-left: 0 !important;\n  display: grid;\n  grid-template-columns: 150px auto auto 1fr 20px 20px;\n}\n\n.xr-section-item {\n  display: contents;\n}\n\n.xr-section-item input {\n  display: none;\n}\n\n.xr-section-item input + label {\n  color: var(--xr-disabled-color);\n}\n\n.xr-section-item input:enabled + label {\n  cursor: pointer;\n  color: var(--xr-font-color2);\n}\n\n.xr-section-item input:enabled + label:hover {\n  color: var(--xr-font-color0);\n}\n\n.xr-section-summary {\n  grid-column: 1;\n  color: var(--xr-font-color2);\n  font-weight: 500;\n}\n\n.xr-section-summary > span {\n  display: inline-block;\n  padding-left: 0.5em;\n}\n\n.xr-section-summary-in:disabled + label {\n  color: var(--xr-font-color2);\n}\n\n.xr-section-summary-in + label:before {\n  display: inline-block;\n  content: '►';\n  font-size: 11px;\n  width: 15px;\n  text-align: center;\n}\n\n.xr-section-summary-in:disabled + label:before {\n  color: var(--xr-disabled-color);\n}\n\n.xr-section-summary-in:checked + label:before {\n  content: '▼';\n}\n\n.xr-section-summary-in:checked + label > span {\n  display: none;\n}\n\n.xr-section-summary,\n.xr-section-inline-details {\n  padding-top: 4px;\n  padding-bottom: 4px;\n}\n\n.xr-section-inline-details {\n  grid-column: 2 / -1;\n}\n\n.xr-section-details {\n  display: none;\n  grid-column: 1 / -1;\n  margin-bottom: 5px;\n}\n\n.xr-section-summary-in:checked ~ .xr-section-details {\n  display: contents;\n}\n\n.xr-array-wrap {\n  grid-column: 1 / -1;\n  display: grid;\n  grid-template-columns: 20px auto;\n}\n\n.xr-array-wrap > label {\n  grid-column: 1;\n  vertical-align: top;\n}\n\n.xr-preview {\n  color: var(--xr-font-color3);\n}\n\n.xr-array-preview,\n.xr-array-data {\n  padding: 0 5px !important;\n  grid-column: 2;\n}\n\n.xr-array-data,\n.xr-array-in:checked ~ .xr-array-preview {\n  display: none;\n}\n\n.xr-array-in:checked ~ .xr-array-data,\n.xr-array-preview {\n  display: inline-block;\n}\n\n.xr-dim-list {\n  display: inline-block !important;\n  list-style: none;\n  padding: 0 !important;\n  margin: 0;\n}\n\n.xr-dim-list li {\n  display: inline-block;\n  padding: 0;\n  margin: 0;\n}\n\n.xr-dim-list:before {\n  content: '(';\n}\n\n.xr-dim-list:after {\n  content: ')';\n}\n\n.xr-dim-list li:not(:last-child):after {\n  content: ',';\n  padding-right: 5px;\n}\n\n.xr-has-index {\n  font-weight: bold;\n}\n\n.xr-var-list,\n.xr-var-item {\n  display: contents;\n}\n\n.xr-var-item > div,\n.xr-var-item label,\n.xr-var-item > .xr-var-name span {\n  background-color: var(--xr-background-color-row-even);\n  margin-bottom: 0;\n}\n\n.xr-var-item > .xr-var-name:hover span {\n  padding-right: 5px;\n}\n\n.xr-var-list > li:nth-child(odd) > div,\n.xr-var-list > li:nth-child(odd) > label,\n.xr-var-list > li:nth-child(odd) > .xr-var-name span {\n  background-color: var(--xr-background-color-row-odd);\n}\n\n.xr-var-name {\n  grid-column: 1;\n}\n\n.xr-var-dims {\n  grid-column: 2;\n}\n\n.xr-var-dtype {\n  grid-column: 3;\n  text-align: right;\n  color: var(--xr-font-color2);\n}\n\n.xr-var-preview {\n  grid-column: 4;\n}\n\n.xr-index-preview {\n  grid-column: 2 / 5;\n  color: var(--xr-font-color2);\n}\n\n.xr-var-name,\n.xr-var-dims,\n.xr-var-dtype,\n.xr-preview,\n.xr-attrs dt {\n  white-space: nowrap;\n  overflow: hidden;\n  text-overflow: ellipsis;\n  padding-right: 10px;\n}\n\n.xr-var-name:hover,\n.xr-var-dims:hover,\n.xr-var-dtype:hover,\n.xr-attrs dt:hover {\n  overflow: visible;\n  width: auto;\n  z-index: 1;\n}\n\n.xr-var-attrs,\n.xr-var-data,\n.xr-index-data {\n  display: none;\n  background-color: var(--xr-background-color) !important;\n  padding-bottom: 5px !important;\n}\n\n.xr-var-attrs-in:checked ~ .xr-var-attrs,\n.xr-var-data-in:checked ~ .xr-var-data,\n.xr-index-data-in:checked ~ .xr-index-data {\n  display: block;\n}\n\n.xr-var-data > table {\n  float: right;\n}\n\n.xr-var-name span,\n.xr-var-data,\n.xr-index-name div,\n.xr-index-data,\n.xr-attrs {\n  padding-left: 25px !important;\n}\n\n.xr-attrs,\n.xr-var-attrs,\n.xr-var-data,\n.xr-index-data {\n  grid-column: 1 / -1;\n}\n\ndl.xr-attrs {\n  padding: 0;\n  margin: 0;\n  display: grid;\n  grid-template-columns: 125px auto;\n}\n\n.xr-attrs dt,\n.xr-attrs dd {\n  padding: 0;\n  margin: 0;\n  float: left;\n  padding-right: 10px;\n  width: auto;\n}\n\n.xr-attrs dt {\n  font-weight: normal;\n  grid-column: 1;\n}\n\n.xr-attrs dt:hover span {\n  display: inline-block;\n  background: var(--xr-background-color);\n  padding-right: 10px;\n}\n\n.xr-attrs dd {\n  grid-column: 2;\n  white-space: pre-wrap;\n  word-break: break-all;\n}\n\n.xr-icon-database,\n.xr-icon-file-text2,\n.xr-no-icon {\n  display: inline-block;\n  vertical-align: middle;\n  width: 1em;\n  height: 1.5em !important;\n  stroke-width: 0;\n  stroke: currentColor;\n  fill: currentColor;\n}\n</style><pre class='xr-text-repr-fallback'>&lt;xarray.DataArray &#x27;aspect&#x27; (elevation: 1, y: 16370, x: 17977)&gt;\ndask.array&lt;where, shape=(1, 16370, 17977), dtype=float64, chunksize=(1, 1000, 1000), chunktype=numpy.ndarray&gt;\nCoordinates:\n  * band         (elevation) int64 1\n  * x            (x) float64 8.992e+05 8.992e+05 ... 1.079e+06 1.079e+06\n  * y            (y) float64 4.61e+06 4.61e+06 4.61e+06 ... 4.447e+06 4.447e+06\n    spatial_ref  int64 0\nDimensions without coordinates: elevation\nAttributes:\n    AREA_OR_POINT:             Area\n    STATISTICS_APPROXIMATE:    YES\n    STATISTICS_MAXIMUM:        1904.0529785156\n    STATISTICS_MEAN:           434.61549420131\n    STATISTICS_MINIMUM:        0\n    STATISTICS_STDDEV:         346.04771759263\n    STATISTICS_VALID_PERCENT:  46.36</pre><div class='xr-wrap' style='display:none'><div class='xr-header'><div class='xr-obj-type'>xarray.DataArray</div><div class='xr-array-name'>'aspect'</div><ul class='xr-dim-list'><li><span class='xr-has-index'>elevation</span>: 1</li><li><span class='xr-has-index'>y</span>: 16370</li><li><span class='xr-has-index'>x</span>: 17977</li></ul></div><ul class='xr-sections'><li class='xr-section-item'><div class='xr-array-wrap'><input id='section-9733f903-2a96-45f1-92e3-24f5a447bda6' class='xr-array-in' type='checkbox' checked><label for='section-9733f903-2a96-45f1-92e3-24f5a447bda6' title='Show/hide data repr'><svg class='icon xr-icon-database'><use xlink:href='#icon-database'></use></svg></label><div class='xr-array-preview xr-preview'><span>dask.array&lt;chunksize=(1, 1000, 1000), meta=np.ndarray&gt;</span></div><div class='xr-array-data'><table>\n    <tr>\n        <td>\n            <table style=\"border-collapse: collapse;\">\n                <thead>\n                    <tr>\n                        <td> </td>\n                        <th> Array </th>\n                        <th> Chunk </th>\n                    </tr>\n                </thead>\n                <tbody>\n                    \n                    <tr>\n                        <th> Bytes </th>\n                        <td> 2.19 GiB </td>\n                        <td> 7.63 MiB </td>\n                    </tr>\n                    \n                    <tr>\n                        <th> Shape </th>\n                        <td> (1, 16370, 17977) </td>\n                        <td> (1, 1000, 1000) </td>\n                    </tr>\n                    <tr>\n                        <th> Dask graph </th>\n                        <td colspan=\"2\"> 306 chunks in 15 graph layers </td>\n                    </tr>\n                    <tr>\n                        <th> Data type </th>\n                        <td colspan=\"2\"> float64 numpy.ndarray </td>\n                    </tr>\n                </tbody>\n            </table>\n        </td>\n        <td>\n        <svg width=\"194\" height=\"174\" style=\"stroke:rgb(0,0,0);stroke-width:1\" >\n\n  <!-- Horizontal lines -->\n  <line x1=\"10\" y1=\"0\" x2=\"24\" y2=\"14\" style=\"stroke-width:2\" />\n  <line x1=\"10\" y1=\"6\" x2=\"24\" y2=\"21\" />\n  <line x1=\"10\" y1=\"13\" x2=\"24\" y2=\"28\" />\n  <line x1=\"10\" y1=\"20\" x2=\"24\" y2=\"34\" />\n  <line x1=\"10\" y1=\"26\" x2=\"24\" y2=\"41\" />\n  <line x1=\"10\" y1=\"33\" x2=\"24\" y2=\"48\" />\n  <line x1=\"10\" y1=\"40\" x2=\"24\" y2=\"54\" />\n  <line x1=\"10\" y1=\"46\" x2=\"24\" y2=\"61\" />\n  <line x1=\"10\" y1=\"53\" x2=\"24\" y2=\"68\" />\n  <line x1=\"10\" y1=\"60\" x2=\"24\" y2=\"75\" />\n  <line x1=\"10\" y1=\"66\" x2=\"24\" y2=\"81\" />\n  <line x1=\"10\" y1=\"73\" x2=\"24\" y2=\"88\" />\n  <line x1=\"10\" y1=\"80\" x2=\"24\" y2=\"95\" />\n  <line x1=\"10\" y1=\"86\" x2=\"24\" y2=\"101\" />\n  <line x1=\"10\" y1=\"93\" x2=\"24\" y2=\"108\" />\n  <line x1=\"10\" y1=\"100\" x2=\"24\" y2=\"115\" />\n  <line x1=\"10\" y1=\"106\" x2=\"24\" y2=\"121\" />\n  <line x1=\"10\" y1=\"109\" x2=\"24\" y2=\"124\" style=\"stroke-width:2\" />\n\n  <!-- Vertical lines -->\n  <line x1=\"10\" y1=\"0\" x2=\"10\" y2=\"109\" style=\"stroke-width:2\" />\n  <line x1=\"24\" y1=\"14\" x2=\"24\" y2=\"124\" style=\"stroke-width:2\" />\n\n  <!-- Colored Rectangle -->\n  <polygon points=\"10.0,0.0 24.9485979497544,14.948597949754403 24.9485979497544,124.22155784295127 10.0,109.27295989319687\" style=\"fill:#ECB172A0;stroke-width:0\"/>\n\n  <!-- Horizontal lines -->\n  <line x1=\"10\" y1=\"0\" x2=\"130\" y2=\"0\" style=\"stroke-width:2\" />\n  <line x1=\"24\" y1=\"14\" x2=\"144\" y2=\"14\" style=\"stroke-width:2\" />\n\n  <!-- Vertical lines -->\n  <line x1=\"10\" y1=\"0\" x2=\"24\" y2=\"14\" style=\"stroke-width:2\" />\n  <line x1=\"16\" y1=\"0\" x2=\"31\" y2=\"14\" />\n  <line x1=\"23\" y1=\"0\" x2=\"38\" y2=\"14\" />\n  <line x1=\"30\" y1=\"0\" x2=\"44\" y2=\"14\" />\n  <line x1=\"36\" y1=\"0\" x2=\"51\" y2=\"14\" />\n  <line x1=\"43\" y1=\"0\" x2=\"58\" y2=\"14\" />\n  <line x1=\"50\" y1=\"0\" x2=\"64\" y2=\"14\" />\n  <line x1=\"56\" y1=\"0\" x2=\"71\" y2=\"14\" />\n  <line x1=\"63\" y1=\"0\" x2=\"78\" y2=\"14\" />\n  <line x1=\"70\" y1=\"0\" x2=\"85\" y2=\"14\" />\n  <line x1=\"76\" y1=\"0\" x2=\"91\" y2=\"14\" />\n  <line x1=\"83\" y1=\"0\" x2=\"98\" y2=\"14\" />\n  <line x1=\"90\" y1=\"0\" x2=\"105\" y2=\"14\" />\n  <line x1=\"96\" y1=\"0\" x2=\"111\" y2=\"14\" />\n  <line x1=\"103\" y1=\"0\" x2=\"118\" y2=\"14\" />\n  <line x1=\"110\" y1=\"0\" x2=\"125\" y2=\"14\" />\n  <line x1=\"116\" y1=\"0\" x2=\"131\" y2=\"14\" />\n  <line x1=\"123\" y1=\"0\" x2=\"138\" y2=\"14\" />\n  <line x1=\"130\" y1=\"0\" x2=\"144\" y2=\"14\" style=\"stroke-width:2\" />\n\n  <!-- Colored Rectangle -->\n  <polygon points=\"10.0,0.0 130.0,0.0 144.9485979497544,14.948597949754403 24.9485979497544,14.948597949754403\" style=\"fill:#ECB172A0;stroke-width:0\"/>\n\n  <!-- Horizontal lines -->\n  <line x1=\"24\" y1=\"14\" x2=\"144\" y2=\"14\" style=\"stroke-width:2\" />\n  <line x1=\"24\" y1=\"21\" x2=\"144\" y2=\"21\" />\n  <line x1=\"24\" y1=\"28\" x2=\"144\" y2=\"28\" />\n  <line x1=\"24\" y1=\"34\" x2=\"144\" y2=\"34\" />\n  <line x1=\"24\" y1=\"41\" x2=\"144\" y2=\"41\" />\n  <line x1=\"24\" y1=\"48\" x2=\"144\" y2=\"48\" />\n  <line x1=\"24\" y1=\"54\" x2=\"144\" y2=\"54\" />\n  <line x1=\"24\" y1=\"61\" x2=\"144\" y2=\"61\" />\n  <line x1=\"24\" y1=\"68\" x2=\"144\" y2=\"68\" />\n  <line x1=\"24\" y1=\"75\" x2=\"144\" y2=\"75\" />\n  <line x1=\"24\" y1=\"81\" x2=\"144\" y2=\"81\" />\n  <line x1=\"24\" y1=\"88\" x2=\"144\" y2=\"88\" />\n  <line x1=\"24\" y1=\"95\" x2=\"144\" y2=\"95\" />\n  <line x1=\"24\" y1=\"101\" x2=\"144\" y2=\"101\" />\n  <line x1=\"24\" y1=\"108\" x2=\"144\" y2=\"108\" />\n  <line x1=\"24\" y1=\"115\" x2=\"144\" y2=\"115\" />\n  <line x1=\"24\" y1=\"121\" x2=\"144\" y2=\"121\" />\n  <line x1=\"24\" y1=\"124\" x2=\"144\" y2=\"124\" style=\"stroke-width:2\" />\n\n  <!-- Vertical lines -->\n  <line x1=\"24\" y1=\"14\" x2=\"24\" y2=\"124\" style=\"stroke-width:2\" />\n  <line x1=\"31\" y1=\"14\" x2=\"31\" y2=\"124\" />\n  <line x1=\"38\" y1=\"14\" x2=\"38\" y2=\"124\" />\n  <line x1=\"44\" y1=\"14\" x2=\"44\" y2=\"124\" />\n  <line x1=\"51\" y1=\"14\" x2=\"51\" y2=\"124\" />\n  <line x1=\"58\" y1=\"14\" x2=\"58\" y2=\"124\" />\n  <line x1=\"64\" y1=\"14\" x2=\"64\" y2=\"124\" />\n  <line x1=\"71\" y1=\"14\" x2=\"71\" y2=\"124\" />\n  <line x1=\"78\" y1=\"14\" x2=\"78\" y2=\"124\" />\n  <line x1=\"85\" y1=\"14\" x2=\"85\" y2=\"124\" />\n  <line x1=\"91\" y1=\"14\" x2=\"91\" y2=\"124\" />\n  <line x1=\"98\" y1=\"14\" x2=\"98\" y2=\"124\" />\n  <line x1=\"105\" y1=\"14\" x2=\"105\" y2=\"124\" />\n  <line x1=\"111\" y1=\"14\" x2=\"111\" y2=\"124\" />\n  <line x1=\"118\" y1=\"14\" x2=\"118\" y2=\"124\" />\n  <line x1=\"125\" y1=\"14\" x2=\"125\" y2=\"124\" />\n  <line x1=\"131\" y1=\"14\" x2=\"131\" y2=\"124\" />\n  <line x1=\"138\" y1=\"14\" x2=\"138\" y2=\"124\" />\n  <line x1=\"144\" y1=\"14\" x2=\"144\" y2=\"124\" style=\"stroke-width:2\" />\n\n  <!-- Colored Rectangle -->\n  <polygon points=\"24.9485979497544,14.948597949754403 144.9485979497544,14.948597949754403 144.9485979497544,124.22155784295127 24.9485979497544,124.22155784295127\" style=\"fill:#ECB172A0;stroke-width:0\"/>\n\n  <!-- Text -->\n  <text x=\"84.948598\" y=\"144.221558\" font-size=\"1.0rem\" font-weight=\"100\" text-anchor=\"middle\" >17977</text>\n  <text x=\"164.948598\" y=\"69.585078\" font-size=\"1.0rem\" font-weight=\"100\" text-anchor=\"middle\" transform=\"rotate(-90,164.948598,69.585078)\">16370</text>\n  <text x=\"7.474299\" y=\"136.747259\" font-size=\"1.0rem\" font-weight=\"100\" text-anchor=\"middle\" transform=\"rotate(45,7.474299,136.747259)\">1</text>\n</svg>\n        </td>\n    </tr>\n</table></div></div></li><li class='xr-section-item'><input id='section-f66a5f86-e64c-4fa1-b4a9-52f36b513087' class='xr-section-summary-in' type='checkbox'  checked><label for='section-f66a5f86-e64c-4fa1-b4a9-52f36b513087' class='xr-section-summary' >Coordinates: <span>(4)</span></label><div class='xr-section-inline-details'></div><div class='xr-section-details'><ul class='xr-var-list'><li class='xr-var-item'><div class='xr-var-name'><span class='xr-has-index'>band</span></div><div class='xr-var-dims'>(elevation)</div><div class='xr-var-dtype'>int64</div><div class='xr-var-preview xr-preview'>1</div><input id='attrs-beb40d7f-c4a1-48be-9690-7b464a67eb85' class='xr-var-attrs-in' type='checkbox' disabled><label for='attrs-beb40d7f-c4a1-48be-9690-7b464a67eb85' title='Show/Hide attributes'><svg class='icon xr-icon-file-text2'><use xlink:href='#icon-file-text2'></use></svg></label><input id='data-11e701ce-c980-4f1f-ad36-77e0bd1e3a17' class='xr-var-data-in' type='checkbox'><label for='data-11e701ce-c980-4f1f-ad36-77e0bd1e3a17' title='Show/Hide data repr'><svg class='icon xr-icon-database'><use xlink:href='#icon-database'></use></svg></label><div class='xr-var-attrs'><dl class='xr-attrs'></dl></div><div class='xr-var-data'><pre>array([1])</pre></div></li><li class='xr-var-item'><div class='xr-var-name'><span class='xr-has-index'>x</span></div><div class='xr-var-dims'>(x)</div><div class='xr-var-dtype'>float64</div><div class='xr-var-preview xr-preview'>8.992e+05 8.992e+05 ... 1.079e+06</div><input id='attrs-0de45751-3b12-4aab-82f0-3e2c19855d05' class='xr-var-attrs-in' type='checkbox' disabled><label for='attrs-0de45751-3b12-4aab-82f0-3e2c19855d05' title='Show/Hide attributes'><svg class='icon xr-icon-file-text2'><use xlink:href='#icon-file-text2'></use></svg></label><input id='data-a1125ea9-c9bf-4610-ab1c-9e06bc8f6310' class='xr-var-data-in' type='checkbox'><label for='data-a1125ea9-c9bf-4610-ab1c-9e06bc8f6310' title='Show/Hide data repr'><svg class='icon xr-icon-database'><use xlink:href='#icon-database'></use></svg></label><div class='xr-var-attrs'><dl class='xr-attrs'></dl></div><div class='xr-var-data'><pre>array([ 899225.,  899235.,  899245., ..., 1078965., 1078975., 1078985.])</pre></div></li><li class='xr-var-item'><div class='xr-var-name'><span class='xr-has-index'>y</span></div><div class='xr-var-dims'>(y)</div><div class='xr-var-dtype'>float64</div><div class='xr-var-preview xr-preview'>4.61e+06 4.61e+06 ... 4.447e+06</div><input id='attrs-a46a304e-33b3-4852-9707-f2aaf9057e19' class='xr-var-attrs-in' type='checkbox' disabled><label for='attrs-a46a304e-33b3-4852-9707-f2aaf9057e19' title='Show/Hide attributes'><svg class='icon xr-icon-file-text2'><use xlink:href='#icon-file-text2'></use></svg></label><input id='data-2c0543d8-3b1b-42f6-b1f4-15e0f2829fde' class='xr-var-data-in' type='checkbox'><label for='data-2c0543d8-3b1b-42f6-b1f4-15e0f2829fde' title='Show/Hide data repr'><svg class='icon xr-icon-database'><use xlink:href='#icon-database'></use></svg></label><div class='xr-var-attrs'><dl class='xr-attrs'></dl></div><div class='xr-var-data'><pre>array([4610195., 4610185., 4610175., ..., 4446525., 4446515., 4446505.])</pre></div></li><li class='xr-var-item'><div class='xr-var-name'><span>spatial_ref</span></div><div class='xr-var-dims'>()</div><div class='xr-var-dtype'>int64</div><div class='xr-var-preview xr-preview'>0</div><input id='attrs-56e7cb77-295c-4243-ae7a-2a5a3173cabb' class='xr-var-attrs-in' type='checkbox' ><label for='attrs-56e7cb77-295c-4243-ae7a-2a5a3173cabb' title='Show/Hide attributes'><svg class='icon xr-icon-file-text2'><use xlink:href='#icon-file-text2'></use></svg></label><input id='data-8a8573f5-e7a5-4e1c-9037-d44c8c660a77' class='xr-var-data-in' type='checkbox'><label for='data-8a8573f5-e7a5-4e1c-9037-d44c8c660a77' title='Show/Hide data repr'><svg class='icon xr-icon-database'><use xlink:href='#icon-database'></use></svg></label><div class='xr-var-attrs'><dl class='xr-attrs'><dt><span>crs_wkt :</span></dt><dd>PROJCS[&quot;WGS 84 / UTM zone 32N&quot;,GEOGCS[&quot;WGS 84&quot;,DATUM[&quot;WGS_1984&quot;,SPHEROID[&quot;WGS 84&quot;,6378137,298.257223563,AUTHORITY[&quot;EPSG&quot;,&quot;7030&quot;]],AUTHORITY[&quot;EPSG&quot;,&quot;6326&quot;]],PRIMEM[&quot;Greenwich&quot;,0,AUTHORITY[&quot;EPSG&quot;,&quot;8901&quot;]],UNIT[&quot;degree&quot;,0.0174532925199433,AUTHORITY[&quot;EPSG&quot;,&quot;9122&quot;]],AUTHORITY[&quot;EPSG&quot;,&quot;4326&quot;]],PROJECTION[&quot;Transverse_Mercator&quot;],PARAMETER[&quot;latitude_of_origin&quot;,0],PARAMETER[&quot;central_meridian&quot;,9],PARAMETER[&quot;scale_factor&quot;,0.9996],PARAMETER[&quot;false_easting&quot;,500000],PARAMETER[&quot;false_northing&quot;,0],UNIT[&quot;metre&quot;,1,AUTHORITY[&quot;EPSG&quot;,&quot;9001&quot;]],AXIS[&quot;Easting&quot;,EAST],AXIS[&quot;Northing&quot;,NORTH],AUTHORITY[&quot;EPSG&quot;,&quot;32632&quot;]]</dd><dt><span>semi_major_axis :</span></dt><dd>6378137.0</dd><dt><span>semi_minor_axis :</span></dt><dd>6356752.314245179</dd><dt><span>inverse_flattening :</span></dt><dd>298.257223563</dd><dt><span>reference_ellipsoid_name :</span></dt><dd>WGS 84</dd><dt><span>longitude_of_prime_meridian :</span></dt><dd>0.0</dd><dt><span>prime_meridian_name :</span></dt><dd>Greenwich</dd><dt><span>geographic_crs_name :</span></dt><dd>WGS 84</dd><dt><span>horizontal_datum_name :</span></dt><dd>World Geodetic System 1984</dd><dt><span>projected_crs_name :</span></dt><dd>WGS 84 / UTM zone 32N</dd><dt><span>grid_mapping_name :</span></dt><dd>transverse_mercator</dd><dt><span>latitude_of_projection_origin :</span></dt><dd>0.0</dd><dt><span>longitude_of_central_meridian :</span></dt><dd>9.0</dd><dt><span>false_easting :</span></dt><dd>500000.0</dd><dt><span>false_northing :</span></dt><dd>0.0</dd><dt><span>scale_factor_at_central_meridian :</span></dt><dd>0.9996</dd><dt><span>spatial_ref :</span></dt><dd>PROJCS[&quot;WGS 84 / UTM zone 32N&quot;,GEOGCS[&quot;WGS 84&quot;,DATUM[&quot;WGS_1984&quot;,SPHEROID[&quot;WGS 84&quot;,6378137,298.257223563,AUTHORITY[&quot;EPSG&quot;,&quot;7030&quot;]],AUTHORITY[&quot;EPSG&quot;,&quot;6326&quot;]],PRIMEM[&quot;Greenwich&quot;,0,AUTHORITY[&quot;EPSG&quot;,&quot;8901&quot;]],UNIT[&quot;degree&quot;,0.0174532925199433,AUTHORITY[&quot;EPSG&quot;,&quot;9122&quot;]],AUTHORITY[&quot;EPSG&quot;,&quot;4326&quot;]],PROJECTION[&quot;Transverse_Mercator&quot;],PARAMETER[&quot;latitude_of_origin&quot;,0],PARAMETER[&quot;central_meridian&quot;,9],PARAMETER[&quot;scale_factor&quot;,0.9996],PARAMETER[&quot;false_easting&quot;,500000],PARAMETER[&quot;false_northing&quot;,0],UNIT[&quot;metre&quot;,1,AUTHORITY[&quot;EPSG&quot;,&quot;9001&quot;]],AXIS[&quot;Easting&quot;,EAST],AXIS[&quot;Northing&quot;,NORTH],AUTHORITY[&quot;EPSG&quot;,&quot;32632&quot;]]</dd><dt><span>GeoTransform :</span></dt><dd>899220.0 10.0 0.0 4610200.0 0.0 -10.0</dd></dl></div><div class='xr-var-data'><pre>array(0)</pre></div></li></ul></div></li><li class='xr-section-item'><input id='section-3f4a516b-f8d3-48ca-843d-4b1a20670a1a' class='xr-section-summary-in' type='checkbox'  ><label for='section-3f4a516b-f8d3-48ca-843d-4b1a20670a1a' class='xr-section-summary' >Indexes: <span>(3)</span></label><div class='xr-section-inline-details'></div><div class='xr-section-details'><ul class='xr-var-list'><li class='xr-var-item'><div class='xr-index-name'><div>band</div></div><div class='xr-index-preview'>PandasIndex</div><div></div><input id='index-a2e4dab6-dc1d-4549-b773-ca2f2d8caa74' class='xr-index-data-in' type='checkbox'/><label for='index-a2e4dab6-dc1d-4549-b773-ca2f2d8caa74' title='Show/Hide index repr'><svg class='icon xr-icon-database'><use xlink:href='#icon-database'></use></svg></label><div class='xr-index-data'><pre>PandasIndex(Index([1], dtype=&#x27;int64&#x27;, name=&#x27;band&#x27;))</pre></div></li><li class='xr-var-item'><div class='xr-index-name'><div>x</div></div><div class='xr-index-preview'>PandasIndex</div><div></div><input id='index-1e35c5c5-80d1-471f-a204-4ecfab46580e' class='xr-index-data-in' type='checkbox'/><label for='index-1e35c5c5-80d1-471f-a204-4ecfab46580e' title='Show/Hide index repr'><svg class='icon xr-icon-database'><use xlink:href='#icon-database'></use></svg></label><div class='xr-index-data'><pre>PandasIndex(Index([ 899225.0,  899235.0,  899245.0,  899255.0,  899265.0,  899275.0,\n        899285.0,  899295.0,  899305.0,  899315.0,\n       ...\n       1078895.0, 1078905.0, 1078915.0, 1078925.0, 1078935.0, 1078945.0,\n       1078955.0, 1078965.0, 1078975.0, 1078985.0],\n      dtype=&#x27;float64&#x27;, name=&#x27;x&#x27;, length=17977))</pre></div></li><li class='xr-var-item'><div class='xr-index-name'><div>y</div></div><div class='xr-index-preview'>PandasIndex</div><div></div><input id='index-818b5036-f3e3-4c88-9e84-f7c632f5f947' class='xr-index-data-in' type='checkbox'/><label for='index-818b5036-f3e3-4c88-9e84-f7c632f5f947' title='Show/Hide index repr'><svg class='icon xr-icon-database'><use xlink:href='#icon-database'></use></svg></label><div class='xr-index-data'><pre>PandasIndex(Index([4610195.0, 4610185.0, 4610175.0, 4610165.0, 4610155.0, 4610145.0,\n       4610135.0, 4610125.0, 4610115.0, 4610105.0,\n       ...\n       4446595.0, 4446585.0, 4446575.0, 4446565.0, 4446555.0, 4446545.0,\n       4446535.0, 4446525.0, 4446515.0, 4446505.0],\n      dtype=&#x27;float64&#x27;, name=&#x27;y&#x27;, length=16370))</pre></div></li></ul></div></li><li class='xr-section-item'><input id='section-87c4c46e-4f6c-4a8a-a4ea-00a6bc5efec8' class='xr-section-summary-in' type='checkbox'  checked><label for='section-87c4c46e-4f6c-4a8a-a4ea-00a6bc5efec8' class='xr-section-summary' >Attributes: <span>(7)</span></label><div class='xr-section-inline-details'></div><div class='xr-section-details'><dl class='xr-attrs'><dt><span>AREA_OR_POINT :</span></dt><dd>Area</dd><dt><span>STATISTICS_APPROXIMATE :</span></dt><dd>YES</dd><dt><span>STATISTICS_MAXIMUM :</span></dt><dd>1904.0529785156</dd><dt><span>STATISTICS_MEAN :</span></dt><dd>434.61549420131</dd><dt><span>STATISTICS_MINIMUM :</span></dt><dd>0</dd><dt><span>STATISTICS_STDDEV :</span></dt><dd>346.04771759263</dd><dt><span>STATISTICS_VALID_PERCENT :</span></dt><dd>46.36</dd></dl></div></li></ul></div></div>"
     },
     "execution_count": 14,
     "metadata": {},
     "output_type": "execute_result"
    }
   ],
   "source": [
    "flat_dem = dem_aspect.where(dem_aspect > 0, other=0) \n",
    "flat_dem = flat_dem.where(flat_dem == 0, other=1) \n",
    "\n",
    "flat_dem"
   ],
   "metadata": {
    "collapsed": false,
    "ExecuteTime": {
     "end_time": "2023-08-28T11:20:30.458800553Z",
     "start_time": "2023-08-28T11:20:30.367081412Z"
    }
   },
   "id": "ef2a36c518d8d563"
  },
  {
   "cell_type": "code",
   "execution_count": 15,
   "outputs": [
    {
     "data": {
      "text/plain": "xarray.core.dataarray.DataArray"
     },
     "execution_count": 15,
     "metadata": {},
     "output_type": "execute_result"
    }
   ],
   "source": [
    "type(flat_dem)"
   ],
   "metadata": {
    "collapsed": false,
    "ExecuteTime": {
     "end_time": "2023-08-28T11:20:30.465742529Z",
     "start_time": "2023-08-28T11:20:30.386268608Z"
    }
   },
   "id": "ba2e0e400d90e904"
  },
  {
   "cell_type": "code",
   "execution_count": 16,
   "outputs": [
    {
     "ename": "TypingError",
     "evalue": "Failed in nopython mode pipeline (step: nopython frontend)\n('wrong tuple length for $46load_attr.20: ', 'expected 2, got 3')\nDuring: typing of exhaust iter at /home/max/.cache/pypoetry/virtualenvs/pygis_blog-iPs2SW5R-py3.10/lib/python3.10/site-packages/xrspatial/aspect.py (27)\n\nFile \"../../../../../../../home/max/.cache/pypoetry/virtualenvs/pygis_blog-iPs2SW5R-py3.10/lib/python3.10/site-packages/xrspatial/aspect.py\", line 27:\ndef _run_numpy(data: np.ndarray):\n    <source elided>\n    out[:] = np.nan\n    rows, cols = data.shape\n    ^\n",
     "output_type": "error",
     "traceback": [
      "\u001B[0;31m---------------------------------------------------------------------------\u001B[0m",
      "\u001B[0;31mTypingError\u001B[0m                               Traceback (most recent call last)",
      "Cell \u001B[0;32mIn[16], line 1\u001B[0m\n\u001B[0;32m----> 1\u001B[0m \u001B[43mflaat_dem\u001B[49m\u001B[38;5;241;43m.\u001B[39;49m\u001B[43mastype\u001B[49m\u001B[43m(\u001B[49m\u001B[38;5;124;43m'\u001B[39;49m\u001B[38;5;124;43mfloat32\u001B[39;49m\u001B[38;5;124;43m'\u001B[39;49m\u001B[43m)\u001B[49m\u001B[38;5;241;43m.\u001B[39;49m\u001B[43mrio\u001B[49m\u001B[38;5;241;43m.\u001B[39;49m\u001B[43mto_raster\u001B[49m\u001B[43m(\u001B[49m\u001B[43mmain_path\u001B[49m\u001B[38;5;241;43m.\u001B[39;49m\u001B[43mjoinpath\u001B[49m\u001B[43m(\u001B[49m\u001B[38;5;124;43m'\u001B[39;49m\u001B[38;5;124;43mflat_dem.tif\u001B[39;49m\u001B[38;5;124;43m'\u001B[39;49m\u001B[43m)\u001B[49m\u001B[43m,\u001B[49m\u001B[43m \u001B[49m\u001B[43mdriver\u001B[49m\u001B[38;5;241;43m=\u001B[39;49m\u001B[38;5;124;43m\"\u001B[39;49m\u001B[38;5;124;43mGTiff\u001B[39;49m\u001B[38;5;124;43m\"\u001B[39;49m\u001B[43m)\u001B[49m\n",
      "File \u001B[0;32m~/.cache/pypoetry/virtualenvs/pygis_blog-iPs2SW5R-py3.10/lib/python3.10/site-packages/rioxarray/raster_array.py:1125\u001B[0m, in \u001B[0;36mRasterArray.to_raster\u001B[0;34m(self, raster_path, driver, dtype, tags, windowed, recalc_transform, lock, compute, **profile_kwargs)\u001B[0m\n\u001B[1;32m   1106\u001B[0m out_profile \u001B[38;5;241m=\u001B[39m {\n\u001B[1;32m   1107\u001B[0m     key: value\n\u001B[1;32m   1108\u001B[0m     \u001B[38;5;28;01mfor\u001B[39;00m key, value \u001B[38;5;129;01min\u001B[39;00m out_profile\u001B[38;5;241m.\u001B[39mitems()\n\u001B[0;32m   (...)\u001B[0m\n\u001B[1;32m   1119\u001B[0m     )\n\u001B[1;32m   1120\u001B[0m }\n\u001B[1;32m   1121\u001B[0m rio_nodata \u001B[38;5;241m=\u001B[39m (\n\u001B[1;32m   1122\u001B[0m     \u001B[38;5;28mself\u001B[39m\u001B[38;5;241m.\u001B[39mencoded_nodata \u001B[38;5;28;01mif\u001B[39;00m \u001B[38;5;28mself\u001B[39m\u001B[38;5;241m.\u001B[39mencoded_nodata \u001B[38;5;129;01mis\u001B[39;00m \u001B[38;5;129;01mnot\u001B[39;00m \u001B[38;5;28;01mNone\u001B[39;00m \u001B[38;5;28;01melse\u001B[39;00m \u001B[38;5;28mself\u001B[39m\u001B[38;5;241m.\u001B[39mnodata\n\u001B[1;32m   1123\u001B[0m )\n\u001B[0;32m-> 1125\u001B[0m \u001B[38;5;28;01mreturn\u001B[39;00m \u001B[43mRasterioWriter\u001B[49m\u001B[43m(\u001B[49m\u001B[43mraster_path\u001B[49m\u001B[38;5;241;43m=\u001B[39;49m\u001B[43mraster_path\u001B[49m\u001B[43m)\u001B[49m\u001B[38;5;241;43m.\u001B[39;49m\u001B[43mto_raster\u001B[49m\u001B[43m(\u001B[49m\n\u001B[1;32m   1126\u001B[0m \u001B[43m    \u001B[49m\u001B[43mxarray_dataarray\u001B[49m\u001B[38;5;241;43m=\u001B[39;49m\u001B[38;5;28;43mself\u001B[39;49m\u001B[38;5;241;43m.\u001B[39;49m\u001B[43m_obj\u001B[49m\u001B[43m,\u001B[49m\n\u001B[1;32m   1127\u001B[0m \u001B[43m    \u001B[49m\u001B[43mtags\u001B[49m\u001B[38;5;241;43m=\u001B[39;49m\u001B[43mtags\u001B[49m\u001B[43m,\u001B[49m\n\u001B[1;32m   1128\u001B[0m \u001B[43m    \u001B[49m\u001B[43mdriver\u001B[49m\u001B[38;5;241;43m=\u001B[39;49m\u001B[43mdriver\u001B[49m\u001B[43m,\u001B[49m\n\u001B[1;32m   1129\u001B[0m \u001B[43m    \u001B[49m\u001B[43mheight\u001B[49m\u001B[38;5;241;43m=\u001B[39;49m\u001B[38;5;28;43mint\u001B[39;49m\u001B[43m(\u001B[49m\u001B[38;5;28;43mself\u001B[39;49m\u001B[38;5;241;43m.\u001B[39;49m\u001B[43mheight\u001B[49m\u001B[43m)\u001B[49m\u001B[43m,\u001B[49m\n\u001B[1;32m   1130\u001B[0m \u001B[43m    \u001B[49m\u001B[43mwidth\u001B[49m\u001B[38;5;241;43m=\u001B[39;49m\u001B[38;5;28;43mint\u001B[39;49m\u001B[43m(\u001B[49m\u001B[38;5;28;43mself\u001B[39;49m\u001B[38;5;241;43m.\u001B[39;49m\u001B[43mwidth\u001B[49m\u001B[43m)\u001B[49m\u001B[43m,\u001B[49m\n\u001B[1;32m   1131\u001B[0m \u001B[43m    \u001B[49m\u001B[43mcount\u001B[49m\u001B[38;5;241;43m=\u001B[39;49m\u001B[38;5;28;43mint\u001B[39;49m\u001B[43m(\u001B[49m\u001B[38;5;28;43mself\u001B[39;49m\u001B[38;5;241;43m.\u001B[39;49m\u001B[43mcount\u001B[49m\u001B[43m)\u001B[49m\u001B[43m,\u001B[49m\n\u001B[1;32m   1132\u001B[0m \u001B[43m    \u001B[49m\u001B[43mdtype\u001B[49m\u001B[38;5;241;43m=\u001B[39;49m\u001B[43mdtype\u001B[49m\u001B[43m,\u001B[49m\n\u001B[1;32m   1133\u001B[0m \u001B[43m    \u001B[49m\u001B[43mcrs\u001B[49m\u001B[38;5;241;43m=\u001B[39;49m\u001B[38;5;28;43mself\u001B[39;49m\u001B[38;5;241;43m.\u001B[39;49m\u001B[43mcrs\u001B[49m\u001B[43m,\u001B[49m\n\u001B[1;32m   1134\u001B[0m \u001B[43m    \u001B[49m\u001B[43mtransform\u001B[49m\u001B[38;5;241;43m=\u001B[39;49m\u001B[38;5;28;43mself\u001B[39;49m\u001B[38;5;241;43m.\u001B[39;49m\u001B[43mtransform\u001B[49m\u001B[43m(\u001B[49m\u001B[43mrecalc\u001B[49m\u001B[38;5;241;43m=\u001B[39;49m\u001B[43mrecalc_transform\u001B[49m\u001B[43m)\u001B[49m\u001B[43m,\u001B[49m\n\u001B[1;32m   1135\u001B[0m \u001B[43m    \u001B[49m\u001B[43mgcps\u001B[49m\u001B[38;5;241;43m=\u001B[39;49m\u001B[38;5;28;43mself\u001B[39;49m\u001B[38;5;241;43m.\u001B[39;49m\u001B[43mget_gcps\u001B[49m\u001B[43m(\u001B[49m\u001B[43m)\u001B[49m\u001B[43m,\u001B[49m\n\u001B[1;32m   1136\u001B[0m \u001B[43m    \u001B[49m\u001B[43mnodata\u001B[49m\u001B[38;5;241;43m=\u001B[39;49m\u001B[43mrio_nodata\u001B[49m\u001B[43m,\u001B[49m\n\u001B[1;32m   1137\u001B[0m \u001B[43m    \u001B[49m\u001B[43mwindowed\u001B[49m\u001B[38;5;241;43m=\u001B[39;49m\u001B[43mwindowed\u001B[49m\u001B[43m,\u001B[49m\n\u001B[1;32m   1138\u001B[0m \u001B[43m    \u001B[49m\u001B[43mlock\u001B[49m\u001B[38;5;241;43m=\u001B[39;49m\u001B[43mlock\u001B[49m\u001B[43m,\u001B[49m\n\u001B[1;32m   1139\u001B[0m \u001B[43m    \u001B[49m\u001B[43mcompute\u001B[49m\u001B[38;5;241;43m=\u001B[39;49m\u001B[43mcompute\u001B[49m\u001B[43m,\u001B[49m\n\u001B[1;32m   1140\u001B[0m \u001B[43m    \u001B[49m\u001B[38;5;241;43m*\u001B[39;49m\u001B[38;5;241;43m*\u001B[39;49m\u001B[43mout_profile\u001B[49m\u001B[43m,\u001B[49m\n\u001B[1;32m   1141\u001B[0m \u001B[43m\u001B[49m\u001B[43m)\u001B[49m\n",
      "File \u001B[0;32m~/.cache/pypoetry/virtualenvs/pygis_blog-iPs2SW5R-py3.10/lib/python3.10/site-packages/rioxarray/raster_writer.py:286\u001B[0m, in \u001B[0;36mRasterioWriter.to_raster\u001B[0;34m(self, xarray_dataarray, tags, windowed, lock, compute, **kwargs)\u001B[0m\n\u001B[1;32m    284\u001B[0m \u001B[38;5;28;01melse\u001B[39;00m:\n\u001B[1;32m    285\u001B[0m     out_data \u001B[38;5;241m=\u001B[39m xarray_dataarray\n\u001B[0;32m--> 286\u001B[0m data \u001B[38;5;241m=\u001B[39m \u001B[43mencode_cf_variable\u001B[49m\u001B[43m(\u001B[49m\u001B[43mout_data\u001B[49m\u001B[38;5;241;43m.\u001B[39;49m\u001B[43mvariable\u001B[49m\u001B[43m)\u001B[49m\u001B[38;5;241;43m.\u001B[39;49m\u001B[43mvalues\u001B[49m\u001B[38;5;241m.\u001B[39mastype(\n\u001B[1;32m    287\u001B[0m     numpy_dtype\n\u001B[1;32m    288\u001B[0m )\n\u001B[1;32m    289\u001B[0m \u001B[38;5;28;01mif\u001B[39;00m data\u001B[38;5;241m.\u001B[39mndim \u001B[38;5;241m==\u001B[39m \u001B[38;5;241m2\u001B[39m:\n\u001B[1;32m    290\u001B[0m     rds\u001B[38;5;241m.\u001B[39mwrite(data, \u001B[38;5;241m1\u001B[39m, window\u001B[38;5;241m=\u001B[39mwindow)\n",
      "File \u001B[0;32m~/.cache/pypoetry/virtualenvs/pygis_blog-iPs2SW5R-py3.10/lib/python3.10/site-packages/xarray/core/variable.py:606\u001B[0m, in \u001B[0;36mVariable.values\u001B[0;34m(self)\u001B[0m\n\u001B[1;32m    603\u001B[0m \u001B[38;5;129m@property\u001B[39m\n\u001B[1;32m    604\u001B[0m \u001B[38;5;28;01mdef\u001B[39;00m \u001B[38;5;21mvalues\u001B[39m(\u001B[38;5;28mself\u001B[39m):\n\u001B[1;32m    605\u001B[0m \u001B[38;5;250m    \u001B[39m\u001B[38;5;124;03m\"\"\"The variable's data as a numpy.ndarray\"\"\"\u001B[39;00m\n\u001B[0;32m--> 606\u001B[0m     \u001B[38;5;28;01mreturn\u001B[39;00m \u001B[43m_as_array_or_item\u001B[49m\u001B[43m(\u001B[49m\u001B[38;5;28;43mself\u001B[39;49m\u001B[38;5;241;43m.\u001B[39;49m\u001B[43m_data\u001B[49m\u001B[43m)\u001B[49m\n",
      "File \u001B[0;32m~/.cache/pypoetry/virtualenvs/pygis_blog-iPs2SW5R-py3.10/lib/python3.10/site-packages/xarray/core/variable.py:306\u001B[0m, in \u001B[0;36m_as_array_or_item\u001B[0;34m(data)\u001B[0m\n\u001B[1;32m    292\u001B[0m \u001B[38;5;28;01mdef\u001B[39;00m \u001B[38;5;21m_as_array_or_item\u001B[39m(data):\n\u001B[1;32m    293\u001B[0m \u001B[38;5;250m    \u001B[39m\u001B[38;5;124;03m\"\"\"Return the given values as a numpy array, or as an individual item if\u001B[39;00m\n\u001B[1;32m    294\u001B[0m \u001B[38;5;124;03m    it's a 0d datetime64 or timedelta64 array.\u001B[39;00m\n\u001B[1;32m    295\u001B[0m \n\u001B[0;32m   (...)\u001B[0m\n\u001B[1;32m    304\u001B[0m \u001B[38;5;124;03m    TODO: remove this (replace with np.asarray) once these issues are fixed\u001B[39;00m\n\u001B[1;32m    305\u001B[0m \u001B[38;5;124;03m    \"\"\"\u001B[39;00m\n\u001B[0;32m--> 306\u001B[0m     data \u001B[38;5;241m=\u001B[39m \u001B[43mnp\u001B[49m\u001B[38;5;241;43m.\u001B[39;49m\u001B[43masarray\u001B[49m\u001B[43m(\u001B[49m\u001B[43mdata\u001B[49m\u001B[43m)\u001B[49m\n\u001B[1;32m    307\u001B[0m     \u001B[38;5;28;01mif\u001B[39;00m data\u001B[38;5;241m.\u001B[39mndim \u001B[38;5;241m==\u001B[39m \u001B[38;5;241m0\u001B[39m:\n\u001B[1;32m    308\u001B[0m         \u001B[38;5;28;01mif\u001B[39;00m data\u001B[38;5;241m.\u001B[39mdtype\u001B[38;5;241m.\u001B[39mkind \u001B[38;5;241m==\u001B[39m \u001B[38;5;124m\"\u001B[39m\u001B[38;5;124mM\u001B[39m\u001B[38;5;124m\"\u001B[39m:\n",
      "File \u001B[0;32m~/.cache/pypoetry/virtualenvs/pygis_blog-iPs2SW5R-py3.10/lib/python3.10/site-packages/dask/threaded.py:89\u001B[0m, in \u001B[0;36mget\u001B[0;34m(dsk, keys, cache, num_workers, pool, **kwargs)\u001B[0m\n\u001B[1;32m     86\u001B[0m     \u001B[38;5;28;01melif\u001B[39;00m \u001B[38;5;28misinstance\u001B[39m(pool, multiprocessing\u001B[38;5;241m.\u001B[39mpool\u001B[38;5;241m.\u001B[39mPool):\n\u001B[1;32m     87\u001B[0m         pool \u001B[38;5;241m=\u001B[39m MultiprocessingPoolExecutor(pool)\n\u001B[0;32m---> 89\u001B[0m results \u001B[38;5;241m=\u001B[39m \u001B[43mget_async\u001B[49m\u001B[43m(\u001B[49m\n\u001B[1;32m     90\u001B[0m \u001B[43m    \u001B[49m\u001B[43mpool\u001B[49m\u001B[38;5;241;43m.\u001B[39;49m\u001B[43msubmit\u001B[49m\u001B[43m,\u001B[49m\n\u001B[1;32m     91\u001B[0m \u001B[43m    \u001B[49m\u001B[43mpool\u001B[49m\u001B[38;5;241;43m.\u001B[39;49m\u001B[43m_max_workers\u001B[49m\u001B[43m,\u001B[49m\n\u001B[1;32m     92\u001B[0m \u001B[43m    \u001B[49m\u001B[43mdsk\u001B[49m\u001B[43m,\u001B[49m\n\u001B[1;32m     93\u001B[0m \u001B[43m    \u001B[49m\u001B[43mkeys\u001B[49m\u001B[43m,\u001B[49m\n\u001B[1;32m     94\u001B[0m \u001B[43m    \u001B[49m\u001B[43mcache\u001B[49m\u001B[38;5;241;43m=\u001B[39;49m\u001B[43mcache\u001B[49m\u001B[43m,\u001B[49m\n\u001B[1;32m     95\u001B[0m \u001B[43m    \u001B[49m\u001B[43mget_id\u001B[49m\u001B[38;5;241;43m=\u001B[39;49m\u001B[43m_thread_get_id\u001B[49m\u001B[43m,\u001B[49m\n\u001B[1;32m     96\u001B[0m \u001B[43m    \u001B[49m\u001B[43mpack_exception\u001B[49m\u001B[38;5;241;43m=\u001B[39;49m\u001B[43mpack_exception\u001B[49m\u001B[43m,\u001B[49m\n\u001B[1;32m     97\u001B[0m \u001B[43m    \u001B[49m\u001B[38;5;241;43m*\u001B[39;49m\u001B[38;5;241;43m*\u001B[39;49m\u001B[43mkwargs\u001B[49m\u001B[43m,\u001B[49m\n\u001B[1;32m     98\u001B[0m \u001B[43m\u001B[49m\u001B[43m)\u001B[49m\n\u001B[1;32m    100\u001B[0m \u001B[38;5;66;03m# Cleanup pools associated to dead threads\u001B[39;00m\n\u001B[1;32m    101\u001B[0m \u001B[38;5;28;01mwith\u001B[39;00m pools_lock:\n",
      "File \u001B[0;32m~/.cache/pypoetry/virtualenvs/pygis_blog-iPs2SW5R-py3.10/lib/python3.10/site-packages/dask/local.py:511\u001B[0m, in \u001B[0;36mget_async\u001B[0;34m(submit, num_workers, dsk, result, cache, get_id, rerun_exceptions_locally, pack_exception, raise_exception, callbacks, dumps, loads, chunksize, **kwargs)\u001B[0m\n\u001B[1;32m    509\u001B[0m         _execute_task(task, data)  \u001B[38;5;66;03m# Re-execute locally\u001B[39;00m\n\u001B[1;32m    510\u001B[0m     \u001B[38;5;28;01melse\u001B[39;00m:\n\u001B[0;32m--> 511\u001B[0m         \u001B[43mraise_exception\u001B[49m\u001B[43m(\u001B[49m\u001B[43mexc\u001B[49m\u001B[43m,\u001B[49m\u001B[43m \u001B[49m\u001B[43mtb\u001B[49m\u001B[43m)\u001B[49m\n\u001B[1;32m    512\u001B[0m res, worker_id \u001B[38;5;241m=\u001B[39m loads(res_info)\n\u001B[1;32m    513\u001B[0m state[\u001B[38;5;124m\"\u001B[39m\u001B[38;5;124mcache\u001B[39m\u001B[38;5;124m\"\u001B[39m][key] \u001B[38;5;241m=\u001B[39m res\n",
      "File \u001B[0;32m~/.cache/pypoetry/virtualenvs/pygis_blog-iPs2SW5R-py3.10/lib/python3.10/site-packages/dask/local.py:318\u001B[0m, in \u001B[0;36mreraise\u001B[0;34m(exc, tb)\u001B[0m\n\u001B[1;32m    316\u001B[0m \u001B[38;5;28;01mdef\u001B[39;00m \u001B[38;5;21mreraise\u001B[39m(exc, tb\u001B[38;5;241m=\u001B[39m\u001B[38;5;28;01mNone\u001B[39;00m):\n\u001B[1;32m    317\u001B[0m     \u001B[38;5;28;01mif\u001B[39;00m exc\u001B[38;5;241m.\u001B[39m__traceback__ \u001B[38;5;129;01mis\u001B[39;00m \u001B[38;5;129;01mnot\u001B[39;00m tb:\n\u001B[0;32m--> 318\u001B[0m         \u001B[38;5;28;01mraise\u001B[39;00m exc\u001B[38;5;241m.\u001B[39mwith_traceback(tb)\n\u001B[1;32m    319\u001B[0m     \u001B[38;5;28;01mraise\u001B[39;00m exc\n",
      "File \u001B[0;32m~/.cache/pypoetry/virtualenvs/pygis_blog-iPs2SW5R-py3.10/lib/python3.10/site-packages/dask/local.py:224\u001B[0m, in \u001B[0;36mexecute_task\u001B[0;34m(key, task_info, dumps, loads, get_id, pack_exception)\u001B[0m\n\u001B[1;32m    222\u001B[0m \u001B[38;5;28;01mtry\u001B[39;00m:\n\u001B[1;32m    223\u001B[0m     task, data \u001B[38;5;241m=\u001B[39m loads(task_info)\n\u001B[0;32m--> 224\u001B[0m     result \u001B[38;5;241m=\u001B[39m \u001B[43m_execute_task\u001B[49m\u001B[43m(\u001B[49m\u001B[43mtask\u001B[49m\u001B[43m,\u001B[49m\u001B[43m \u001B[49m\u001B[43mdata\u001B[49m\u001B[43m)\u001B[49m\n\u001B[1;32m    225\u001B[0m     \u001B[38;5;28mid\u001B[39m \u001B[38;5;241m=\u001B[39m get_id()\n\u001B[1;32m    226\u001B[0m     result \u001B[38;5;241m=\u001B[39m dumps((result, \u001B[38;5;28mid\u001B[39m))\n",
      "File \u001B[0;32m~/.cache/pypoetry/virtualenvs/pygis_blog-iPs2SW5R-py3.10/lib/python3.10/site-packages/numba/core/dispatcher.py:468\u001B[0m, in \u001B[0;36m_DispatcherBase._compile_for_args\u001B[0;34m(self, *args, **kws)\u001B[0m\n\u001B[1;32m    464\u001B[0m         msg \u001B[38;5;241m=\u001B[39m (\u001B[38;5;124mf\u001B[39m\u001B[38;5;124m\"\u001B[39m\u001B[38;5;132;01m{\u001B[39;00m\u001B[38;5;28mstr\u001B[39m(e)\u001B[38;5;241m.\u001B[39mrstrip()\u001B[38;5;132;01m}\u001B[39;00m\u001B[38;5;124m \u001B[39m\u001B[38;5;130;01m\\n\u001B[39;00m\u001B[38;5;130;01m\\n\u001B[39;00m\u001B[38;5;124mThis error may have been caused \u001B[39m\u001B[38;5;124m\"\u001B[39m\n\u001B[1;32m    465\u001B[0m                \u001B[38;5;124mf\u001B[39m\u001B[38;5;124m\"\u001B[39m\u001B[38;5;124mby the following argument(s):\u001B[39m\u001B[38;5;130;01m\\n\u001B[39;00m\u001B[38;5;132;01m{\u001B[39;00margs_str\u001B[38;5;132;01m}\u001B[39;00m\u001B[38;5;130;01m\\n\u001B[39;00m\u001B[38;5;124m\"\u001B[39m)\n\u001B[1;32m    466\u001B[0m         e\u001B[38;5;241m.\u001B[39mpatch_message(msg)\n\u001B[0;32m--> 468\u001B[0m     \u001B[43merror_rewrite\u001B[49m\u001B[43m(\u001B[49m\u001B[43me\u001B[49m\u001B[43m,\u001B[49m\u001B[43m \u001B[49m\u001B[38;5;124;43m'\u001B[39;49m\u001B[38;5;124;43mtyping\u001B[39;49m\u001B[38;5;124;43m'\u001B[39;49m\u001B[43m)\u001B[49m\n\u001B[1;32m    469\u001B[0m \u001B[38;5;28;01mexcept\u001B[39;00m errors\u001B[38;5;241m.\u001B[39mUnsupportedError \u001B[38;5;28;01mas\u001B[39;00m e:\n\u001B[1;32m    470\u001B[0m     \u001B[38;5;66;03m# Something unsupported is present in the user code, add help info\u001B[39;00m\n\u001B[1;32m    471\u001B[0m     error_rewrite(e, \u001B[38;5;124m'\u001B[39m\u001B[38;5;124munsupported_error\u001B[39m\u001B[38;5;124m'\u001B[39m)\n",
      "File \u001B[0;32m~/.cache/pypoetry/virtualenvs/pygis_blog-iPs2SW5R-py3.10/lib/python3.10/site-packages/numba/core/dispatcher.py:409\u001B[0m, in \u001B[0;36m_DispatcherBase._compile_for_args.<locals>.error_rewrite\u001B[0;34m(e, issue_type)\u001B[0m\n\u001B[1;32m    407\u001B[0m     \u001B[38;5;28;01mraise\u001B[39;00m e\n\u001B[1;32m    408\u001B[0m \u001B[38;5;28;01melse\u001B[39;00m:\n\u001B[0;32m--> 409\u001B[0m     \u001B[38;5;28;01mraise\u001B[39;00m e\u001B[38;5;241m.\u001B[39mwith_traceback(\u001B[38;5;28;01mNone\u001B[39;00m)\n",
      "\u001B[0;31mTypingError\u001B[0m: Failed in nopython mode pipeline (step: nopython frontend)\n('wrong tuple length for $46load_attr.20: ', 'expected 2, got 3')\nDuring: typing of exhaust iter at /home/max/.cache/pypoetry/virtualenvs/pygis_blog-iPs2SW5R-py3.10/lib/python3.10/site-packages/xrspatial/aspect.py (27)\n\nFile \"../../../../../../../home/max/.cache/pypoetry/virtualenvs/pygis_blog-iPs2SW5R-py3.10/lib/python3.10/site-packages/xrspatial/aspect.py\", line 27:\ndef _run_numpy(data: np.ndarray):\n    <source elided>\n    out[:] = np.nan\n    rows, cols = data.shape\n    ^\n"
     ]
    }
   ],
   "source": [
    "flat_dem.astype('float32').rio.to_raster(main_path.joinpath('flat_dem.tif'), driver=\"GTiff\")"
   ],
   "metadata": {
    "collapsed": false,
    "ExecuteTime": {
     "end_time": "2023-08-28T11:20:32.393096818Z",
     "start_time": "2023-08-28T11:20:30.396852830Z"
    }
   },
   "id": "2af5d66a3bab205e"
  },
  {
   "cell_type": "code",
   "execution_count": null,
   "outputs": [],
   "source": [
    "# fig3, ax3 = plt.subplots(figsize=(10, 10))\n",
    "# flaat_dem.plot.imshow(\n",
    "#     cmap='binary',\n",
    "# )\n",
    "# plt.title(\"Horizontal DEM\")\n",
    "# plt.ylabel(\"Y coordinates (meters)\")\n",
    "# plt.xlabel(\"X coordinates (meters)\")"
   ],
   "metadata": {
    "collapsed": false,
    "ExecuteTime": {
     "end_time": "2023-08-28T11:20:32.515990229Z",
     "start_time": "2023-08-28T11:20:32.393489191Z"
    }
   },
   "id": "e576ade3ee59d09d"
  },
  {
   "cell_type": "code",
   "execution_count": null,
   "outputs": [],
   "source": [
    "# dem_aspect_cleaned = dem_aspect * horizontal_dem\n",
    "# \n",
    "# dem_aspect_cleaned"
   ],
   "metadata": {
    "collapsed": false,
    "ExecuteTime": {
     "start_time": "2023-08-28T11:20:32.435046943Z"
    }
   },
   "id": "9181922db07baf93"
  },
  {
   "cell_type": "code",
   "execution_count": null,
   "outputs": [],
   "source": [
    "# fig4, ax4 = plt.subplots(figsize=(10, 10))\n",
    "# dem_aspect_cleaned.plot.imshow(\n",
    "#     cmap='Spectral',\n",
    "# )\n",
    "# plt.title(\"Aspect\")\n",
    "# plt.ylabel(\"Y coordinates (meters)\")\n",
    "# plt.xlabel(\"X coordinates (meters)\")"
   ],
   "metadata": {
    "collapsed": false,
    "ExecuteTime": {
     "start_time": "2023-08-28T11:20:32.435826434Z"
    }
   },
   "id": "6b2534bc4fac7e0b"
  },
  {
   "cell_type": "code",
   "execution_count": null,
   "outputs": [],
   "source": [
    "south_range = [135, 225]\n",
    "east_range = [45, 135]\n",
    "north_1_range = [0, 45]\n",
    "north_2_range = [315, 360]\n",
    "west_range = [225, 315]\n",
    "\n",
    "south_range, east_range, north_1_range, north_2_range, west_range"
   ],
   "metadata": {
    "collapsed": false,
    "ExecuteTime": {
     "start_time": "2023-08-28T11:20:32.436382036Z"
    }
   },
   "id": "b0395e5cbe0c55d2"
  },
  {
   "cell_type": "code",
   "execution_count": null,
   "outputs": [],
   "source": [
    "# dem_aspect_south = dem_aspect_cleaned.where((dem_aspect_cleaned >= south_range[0]) & (dem_aspect_cleaned < south_range[1]), other=0)\n",
    "# dem_aspect_south = dem_aspect_south.where(dem_aspect_south == 0, other=1)\n",
    "# \n",
    "# fig5, ax5 = plt.subplots(figsize=(10, 10))\n",
    "# \n",
    "# dem_aspect_south.plot.imshow(\n",
    "#     cmap='binary',\n",
    "# )\n",
    "# plt.title(\"DEM with SOUTH exposition\")\n",
    "# plt.ylabel(\"Y coordinates (meters)\")\n",
    "# plt.xlabel(\"X coordinates (meters)\")"
   ],
   "metadata": {
    "collapsed": false,
    "ExecuteTime": {
     "start_time": "2023-08-28T11:20:32.436998161Z"
    }
   },
   "id": "1bfb224a6e5c6af9"
  },
  {
   "cell_type": "code",
   "execution_count": null,
   "outputs": [],
   "source": [
    "# dem_aspect_east = dem_aspect_cleaned.where((dem_aspect_cleaned >= east_range[0]) & (dem_aspect_cleaned < east_range[1]), other=0)\n",
    "# dem_aspect_east = dem_aspect_east.where(dem_aspect_east == 0, other=1)\n",
    "# \n",
    "# fig6, ax6 = plt.subplots(figsize=(10, 10))\n",
    "# \n",
    "# dem_aspect_east.plot.imshow(\n",
    "#     cmap='binary',\n",
    "# )\n",
    "# plt.title(\"DEM with EAST exposition\")\n",
    "# plt.ylabel(\"Y coordinates (meters)\")\n",
    "# plt.xlabel(\"X coordinates (meters)\")"
   ],
   "metadata": {
    "collapsed": false,
    "ExecuteTime": {
     "start_time": "2023-08-28T11:20:32.437558149Z"
    }
   },
   "id": "24aa276c6a85d55c"
  },
  {
   "cell_type": "code",
   "execution_count": null,
   "outputs": [],
   "source": [
    "# dem_aspect_north_1 = dem_aspect_cleaned.where((dem_aspect_cleaned >= north_1_range[0]) & (dem_aspect_cleaned <= north_1_range[1]), other=0)\n",
    "# dem_aspect_north_1 = dem_aspect_north_1.where(dem_aspect_north_1 == 0, other=1)\n",
    "# \n",
    "# dem_aspect_north_2 = dem_aspect_cleaned.where((dem_aspect_cleaned >= north_2_range[0]) & (dem_aspect_cleaned < north_2_range[1]), other=0)\n",
    "# dem_aspect_north_2 = dem_aspect_north_2.where(dem_aspect_north_2 == 0, other=1)\n",
    "# \n",
    "# dem_aspect_north =  dem_aspect_north_1 + dem_aspect_north_2\n",
    "# \n",
    "# fig7, ax7 = plt.subplots(figsize=(10, 10))\n",
    "# \n",
    "# dem_aspect_north.plot.imshow(\n",
    "#     cmap='binary',\n",
    "# )\n",
    "# plt.title(\"DEM with NORTH exposition\")\n",
    "# plt.ylabel(\"Y coordinates (meters)\")\n",
    "# plt.xlabel(\"X coordinates (meters)\")"
   ],
   "metadata": {
    "collapsed": false,
    "ExecuteTime": {
     "start_time": "2023-08-28T11:20:32.438069592Z"
    }
   },
   "id": "4a8eb6d9fc3a1e2e"
  },
  {
   "cell_type": "code",
   "execution_count": null,
   "outputs": [],
   "source": [
    "# dem_aspect_west = dem_aspect_cleaned.where((dem_aspect_cleaned >= west_range[0]) & (dem_aspect_cleaned < west_range[1]), other=0)\n",
    "# dem_aspect_west = dem_aspect_west.where(dem_aspect_west == 0, other=1)\n",
    "# \n",
    "# fig8, ax8 = plt.subplots(figsize=(10, 10))\n",
    "# \n",
    "# dem_aspect_west.plot.imshow(\n",
    "#     cmap='binary',\n",
    "# )\n",
    "# plt.title(\"DEM with WEST exposition\")\n",
    "# plt.ylabel(\"Y coordinates (meters)\")\n",
    "# plt.xlabel(\"X coordinates (meters)\")"
   ],
   "metadata": {
    "collapsed": false,
    "ExecuteTime": {
     "start_time": "2023-08-28T11:20:32.438450838Z"
    }
   },
   "id": "bb0aeb3bdf067deb"
  },
  {
   "cell_type": "code",
   "execution_count": null,
   "outputs": [],
   "source": [
    "# from matplotlib.colors import ListedColormap\n",
    "# \n",
    "# dem_aspect_final = dem_aspect_north + (dem_aspect_east * 2) + (dem_aspect_south * 3) + (dem_aspect_west * 4)\n",
    "# \n",
    "# fig9, ax9 = plt.subplots(figsize=(10, 10))\n",
    "# \n",
    "# dem_aspect_final.plot.imshow(\n",
    "#     cmap=ListedColormap(['black', 'red', 'yellow', 'blue', 'green']),\n",
    "# )\n",
    "# plt.title(\"DEM exposition\")\n",
    "# plt.ylabel(\"Y coordinates (meters)\")\n",
    "# plt.xlabel(\"X coordinates (meters)\")"
   ],
   "metadata": {
    "collapsed": false,
    "ExecuteTime": {
     "start_time": "2023-08-28T11:20:32.439043528Z"
    }
   },
   "id": "63257ab2d2e35785"
  },
  {
   "cell_type": "code",
   "execution_count": null,
   "outputs": [],
   "source": [
    "#dem_aspect_final.count()"
   ],
   "metadata": {
    "collapsed": false,
    "ExecuteTime": {
     "start_time": "2023-08-28T11:20:32.439435505Z"
    }
   },
   "id": "cf94b370ea0cae89"
  }
 ],
 "metadata": {
  "kernelspec": {
   "display_name": "Python 3",
   "language": "python",
   "name": "python3"
  },
  "language_info": {
   "codemirror_mode": {
    "name": "ipython",
    "version": 2
   },
   "file_extension": ".py",
   "mimetype": "text/x-python",
   "name": "python",
   "nbconvert_exporter": "python",
   "pygments_lexer": "ipython2",
   "version": "2.7.6"
  }
 },
 "nbformat": 4,
 "nbformat_minor": 5
}
