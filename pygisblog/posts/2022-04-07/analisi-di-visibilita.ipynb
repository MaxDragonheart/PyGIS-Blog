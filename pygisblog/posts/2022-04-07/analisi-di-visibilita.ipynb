{
 "cells": [
  {
   "cell_type": "markdown",
   "source": [
    "---\n",
    "title: \"Analisi di visibilità\"\n",
    "description: \"Un’analisi di visibilità consente di stabilire quali sono le porzioni di paesaggio visibili da un osservatore posto in un determinato luogo ed ad una determinata quota.\"\n",
    "lang: it\n",
    "date: \"2022 04 07\"\n",
    "open-graph:\n",
    "    title: \"Analisi di visibilità\"\n",
    "    description: \"Un’analisi di visibilità consente di stabilire quali sono le porzioni di paesaggio visibili da un osservatore posto in un determinato luogo ed ad una determinata quota.\"\n",
    "    image: ../../project_logo.jpg\n",
    "categories: [point, raster]\n",
    "image: ../../project_logo.jpg\n",
    "format:\n",
    "    html:\n",
    "        toc: true\n",
    "        code-fold: false\n",
    "execute:\n",
    "  enabled: false\n",
    "---"
   ],
   "metadata": {
    "collapsed": false
   }
  },
  {
   "cell_type": "markdown",
   "metadata": {},
   "source": [
    "L’analisi di visibilità è un argomento molto interessante da trattare con Python. In un [mio articolo](https://massimilianomoraca.it/blog/gis/analisi-di-visibilita/) l’ho affrontata usando QGIS, qui oggi vediamo come raggiungere lo stesso obiettivo con Python."
   ]
  },
  {
   "cell_type": "markdown",
   "metadata": {},
   "source": [
    "## Prima di iniziare"
   ]
  },
  {
   "cell_type": "markdown",
   "metadata": {},
   "source": [
    "\n",
    "### Librerie\n",
    "Per raggiungere l'obiettivo userò le librerie che seguono:\n"
   ]
  },
  {
   "cell_type": "code",
   "execution_count": 1,
   "metadata": {
    "ExecuteTime": {
     "end_time": "2023-08-19T09:38:45.768897044Z",
     "start_time": "2023-08-19T09:38:44.213760972Z"
    }
   },
   "outputs": [],
   "source": [
    "from pathlib import Path\n",
    "import geopandas as gpd\n",
    "import rioxarray as rxr\n",
    "import rasterio as rio\n",
    "from rasterio.plot import show\n",
    "import matplotlib.pyplot as plt\n",
    "from xrspatial import hillshade, viewshed\n",
    "from xarray.plot import imshow"
   ]
  },
  {
   "cell_type": "markdown",
   "metadata": {},
   "source": [
    "### Fonti dati\n",
    "Come [DEM](https://massimilianomoraca.it/blog/gis/3d-open-source/) ho usato un ritaglio del progetto [DEM20 di ISPRA](http://www.sinanet.isprambiente.it/it/sia-ispra/download-mais/dem20/view) su cui ho posizionato con QGIS undici punti; nell'articolo del blog uso l'undicesimo, qui proverò ad usarli tutti."
   ]
  },
  {
   "cell_type": "code",
   "execution_count": 2,
   "metadata": {
    "ExecuteTime": {
     "end_time": "2023-08-19T09:38:46.117630818Z",
     "start_time": "2023-08-19T09:38:45.773654607Z"
    }
   },
   "outputs": [
    {
     "ename": "FileExistsError",
     "evalue": "[Errno 17] File exists: '/media/max/Windows11/DEV/MIO/PyGIS_blog/output_folder'",
     "output_type": "error",
     "traceback": [
      "\u001B[0;31m---------------------------------------------------------------------------\u001B[0m",
      "\u001B[0;31mFileExistsError\u001B[0m                           Traceback (most recent call last)",
      "Cell \u001B[0;32mIn[2], line 6\u001B[0m\n\u001B[1;32m      3\u001B[0m points \u001B[38;5;241m=\u001B[39m sample_data\u001B[38;5;241m.\u001B[39mjoinpath(\u001B[38;5;124m'\u001B[39m\u001B[38;5;124mpoi.shp\u001B[39m\u001B[38;5;124m'\u001B[39m)\n\u001B[1;32m      5\u001B[0m output_folder \u001B[38;5;241m=\u001B[39m Path\u001B[38;5;241m.\u001B[39mcwd()\u001B[38;5;241m.\u001B[39mparent\u001B[38;5;241m.\u001B[39mparent\u001B[38;5;241m.\u001B[39mparent\u001B[38;5;241m.\u001B[39mjoinpath(\u001B[38;5;124m'\u001B[39m\u001B[38;5;124moutput_folder\u001B[39m\u001B[38;5;124m'\u001B[39m)\n\u001B[0;32m----> 6\u001B[0m \u001B[43mPath\u001B[49m\u001B[38;5;241;43m.\u001B[39;49m\u001B[43mmkdir\u001B[49m\u001B[43m(\u001B[49m\u001B[43moutput_folder\u001B[49m\u001B[43m)\u001B[49m\n",
      "File \u001B[0;32m/usr/lib/python3.10/pathlib.py:1175\u001B[0m, in \u001B[0;36mPath.mkdir\u001B[0;34m(self, mode, parents, exist_ok)\u001B[0m\n\u001B[1;32m   1171\u001B[0m \u001B[38;5;250m\u001B[39m\u001B[38;5;124;03m\"\"\"\u001B[39;00m\n\u001B[1;32m   1172\u001B[0m \u001B[38;5;124;03mCreate a new directory at this given path.\u001B[39;00m\n\u001B[1;32m   1173\u001B[0m \u001B[38;5;124;03m\"\"\"\u001B[39;00m\n\u001B[1;32m   1174\u001B[0m \u001B[38;5;28;01mtry\u001B[39;00m:\n\u001B[0;32m-> 1175\u001B[0m     \u001B[38;5;28;43mself\u001B[39;49m\u001B[38;5;241;43m.\u001B[39;49m\u001B[43m_accessor\u001B[49m\u001B[38;5;241;43m.\u001B[39;49m\u001B[43mmkdir\u001B[49m\u001B[43m(\u001B[49m\u001B[38;5;28;43mself\u001B[39;49m\u001B[43m,\u001B[49m\u001B[43m \u001B[49m\u001B[43mmode\u001B[49m\u001B[43m)\u001B[49m\n\u001B[1;32m   1176\u001B[0m \u001B[38;5;28;01mexcept\u001B[39;00m \u001B[38;5;167;01mFileNotFoundError\u001B[39;00m:\n\u001B[1;32m   1177\u001B[0m     \u001B[38;5;28;01mif\u001B[39;00m \u001B[38;5;129;01mnot\u001B[39;00m parents \u001B[38;5;129;01mor\u001B[39;00m \u001B[38;5;28mself\u001B[39m\u001B[38;5;241m.\u001B[39mparent \u001B[38;5;241m==\u001B[39m \u001B[38;5;28mself\u001B[39m:\n",
      "\u001B[0;31mFileExistsError\u001B[0m: [Errno 17] File exists: '/media/max/Windows11/DEV/MIO/PyGIS_blog/output_folder'"
     ]
    }
   ],
   "source": [
    "sample_data = Path.cwd().parent.parent.parent.joinpath('sample_data/viewshed')\n",
    "dem = sample_data.joinpath('ispra_dtm_20.tif')\n",
    "points = sample_data.joinpath('poi.shp')\n",
    "\n",
    "output_folder = Path.cwd().parent.parent.parent.joinpath('output_folder')\n",
    "Path.mkdir(output_folder, exist_ok=True)"
   ]
  },
  {
   "cell_type": "markdown",
   "metadata": {},
   "source": [
    "# 1. Lettura dei dati"
   ]
  },
  {
   "cell_type": "code",
   "execution_count": null,
   "metadata": {
    "ExecuteTime": {
     "end_time": "2023-08-19T09:38:46.122395230Z",
     "start_time": "2023-08-19T09:38:46.121009671Z"
    }
   },
   "outputs": [],
   "source": [
    "points_data = gpd.read_file(points)\n",
    "points_data"
   ]
  },
  {
   "cell_type": "code",
   "execution_count": null,
   "metadata": {
    "ExecuteTime": {
     "end_time": "2023-08-19T09:38:46.126653625Z",
     "start_time": "2023-08-19T09:38:46.125649812Z"
    }
   },
   "outputs": [],
   "source": [
    "raster = rxr.open_rasterio(dem).squeeze()\n",
    "raster"
   ]
  },
  {
   "cell_type": "markdown",
   "metadata": {},
   "source": [
    "Il vettore dei punti è molto semplice, ha una colonna con le geometrie ed una che identifica il singolo punto; quest'ultima informazione la userò più avanti. Il DEM è rettangolare e monobanda ed in effetti mi aspetto che sia monobanda poichè è quella che contiene le informazioni altimetriche in questo caso, con `squeeze()` estraggo la banda.\n",
    "\n",
    "Il DEM ha come valore minimo di quota 0 metri, ma quale è la quota massima?"
   ]
  },
  {
   "cell_type": "code",
   "execution_count": null,
   "outputs": [],
   "source": [
    "max_h = int(raster.max().data)\n",
    "print(f'La quota massima è {max_h} metri')"
   ],
   "metadata": {
    "collapsed": false,
    "ExecuteTime": {
     "start_time": "2023-08-19T09:38:46.169602991Z"
    }
   }
  },
  {
   "cell_type": "markdown",
   "metadata": {},
   "source": [
    "## 1.1 Visualizzazione dei dati grezzi"
   ]
  },
  {
   "cell_type": "code",
   "execution_count": null,
   "outputs": [],
   "source": [
    "raster_data = rio.open(dem)\n",
    "\n",
    "fig, ax = plt.subplots(figsize=(10, 10))\n",
    "show(\n",
    "    source=raster_data,\n",
    "    cmap='tab20c_r',\n",
    "    contour=True,\n",
    "    ax=ax,\n",
    "    transform=raster_data.transform\n",
    ")\n",
    "show(\n",
    "    source=raster_data,\n",
    "    cmap='terrain_r',\n",
    "    ax=ax,\n",
    "    transform=raster_data.transform\n",
    ")\n",
    "for _index, row in points_data.iterrows():\n",
    "    coordinates = row.geometry.xy\n",
    "    ax.scatter(\n",
    "        *coordinates,\n",
    "        s=1000,\n",
    "        marker=\"*\",\n",
    "        facecolor='red',\n",
    "        edgecolor='black'\n",
    "    )\n",
    "    plt.text(\n",
    "        x=coordinates[0][0],\n",
    "        y=coordinates[1][0],\n",
    "        s=row.fid,\n",
    "        fontdict=dict(color='black', size=10),\n",
    "        bbox=dict(facecolor='white', alpha=0.75)\n",
    "    )\n",
    "plt.show()"
   ],
   "metadata": {
    "collapsed": false,
    "ExecuteTime": {
     "start_time": "2023-08-19T09:38:46.170067398Z"
    }
   }
  },
  {
   "cell_type": "markdown",
   "metadata": {},
   "source": [
    "# 2. Analisi su un singolo punto"
   ]
  },
  {
   "cell_type": "code",
   "execution_count": null,
   "outputs": [],
   "source": [
    "single_point = points_data[points_data['fid'] == 11]\n",
    "single_point"
   ],
   "metadata": {
    "collapsed": false,
    "ExecuteTime": {
     "end_time": "2023-08-19T09:38:46.197811293Z",
     "start_time": "2023-08-19T09:38:46.170418002Z"
    }
   }
  },
  {
   "cell_type": "markdown",
   "source": [
    "Ho selezionato solo il punto con id 11, è quello che ho usato nell'articolo del mio blog. Prima di partire con l'analisi è bene sapere che il risultato di una analisi di visibilità, detta anche *viewshed*, è un raster con valori che vanno da 0 a 180. Questi sono gradi e fanno riferimento alla visuale verticale dal punto di osservazione. Un valore pari a 0° sta ad indicare che quel pixel è proprio sotto il punto di osservazione, un valore pari a 90° sta a significare che il pixel è sull'orizzonte del punto di osservazione ed un valore pari a 180°, di conseguenza, indica che il pixel è proprio sopra il punto di osservazione."
   ],
   "metadata": {
    "collapsed": false
   }
  },
  {
   "cell_type": "code",
   "execution_count": null,
   "outputs": [],
   "source": [
    "make_hillshade = hillshade(raster)\n",
    "\n",
    "fig, ax = plt.subplots(figsize=(20, 10))\n",
    "imshow(\n",
    "    make_hillshade,\n",
    "    ax=ax,\n",
    "    cmap='gist_gray',\n",
    ")\n",
    "imshow(\n",
    "    raster,\n",
    "    ax=ax,\n",
    "    cmap='terrain',\n",
    "    vmin=1,\n",
    "    vmax=max_h,\n",
    "    levels=100,\n",
    "    alpha=0.75\n",
    ")\n",
    "for _index, row in single_point.iterrows():\n",
    "    coordinates = row.geometry.xy\n",
    "    ax.scatter(\n",
    "        *coordinates,\n",
    "        s=1000,\n",
    "        marker=\"*\",\n",
    "        facecolor='red',\n",
    "        edgecolor='black'\n",
    "    )\n",
    "    plt.text(\n",
    "        x=coordinates[0][0],\n",
    "        y=coordinates[1][0],\n",
    "        s=row.fid,\n",
    "        fontdict=dict(color='black', size=10),\n",
    "        bbox=dict(facecolor='white', alpha=0.75)\n",
    "    )\n",
    "\n",
    "plt.show()"
   ],
   "metadata": {
    "collapsed": false,
    "ExecuteTime": {
     "start_time": "2023-08-19T09:38:46.170868771Z"
    }
   }
  },
  {
   "cell_type": "markdown",
   "source": [
    "Per una migliore resa visiva ho inserito la hillshade sotto al DEM tematizzato. Questa volta anzicchè usare la funzione `show` di *rasterio* ho preferito usare `imshow` di *xarray* per sperimentarla un po' visto che non l'avevo mai usata. E' interessante il fatto che aggiunga automaticamente la `colorbar` per ogni raster, devo capire come fare in modo che non venga visualizzata sempre e come disporla in altro modo."
   ],
   "metadata": {
    "collapsed": false
   }
  },
  {
   "cell_type": "markdown",
   "source": [
    "## 2.1 Quota dell'osservatore"
   ],
   "metadata": {
    "collapsed": false
   }
  },
  {
   "cell_type": "markdown",
   "source": [
    "La quota dell'osservatore è un dato fondamentale per portare a termine una analisi di visibilità. Può essere la quota del punto in cui si trova l'osservatore o una quota fittizia compatibile con la topografia dell'area(l'osservatore fittizio non può essere a 100 metri di altezza se stiamo esaminando un'area in cui la quota minima è 500 metri). Quello che manca nei miei dati è proprio la quota!"
   ],
   "metadata": {
    "collapsed": false
   }
  },
  {
   "cell_type": "markdown",
   "source": [
    "Ma non è un problema perchè mi viene in soccorso [un'esperianza](https://maxdragonheart.github.io/PyGIS-Blog/point/2022/03/31/da-point-a-pointz.html) già fatta di recente e che vado a riprodurre:"
   ],
   "metadata": {
    "collapsed": false
   }
  },
  {
   "cell_type": "code",
   "execution_count": null,
   "outputs": [],
   "source": [
    "x_coord = single_point.iloc[0].geometry.xy[0][0]\n",
    "y_coord = single_point.iloc[0].geometry.xy[1][0]\n",
    "\n",
    "dataarray_value = raster.sel(x=x_coord, y=y_coord, method=\"nearest\")\n",
    "pixel_value = dataarray_value.data\n",
    "\n",
    "pixel_value"
   ],
   "metadata": {
    "collapsed": false,
    "ExecuteTime": {
     "start_time": "2023-08-19T09:38:46.171335769Z"
    }
   }
  },
  {
   "cell_type": "markdown",
   "source": [
    "Ora che ho tutto quello che mi serve posso effettuare l'analisi di visibilità."
   ],
   "metadata": {
    "collapsed": false
   }
  },
  {
   "cell_type": "code",
   "execution_count": null,
   "outputs": [],
   "source": [
    "view = viewshed(raster, x=x_coord, y=y_coord, observer_elev=pixel_value)\n",
    "view"
   ],
   "metadata": {
    "collapsed": false,
    "ExecuteTime": {
     "start_time": "2023-08-19T09:38:46.171678235Z"
    }
   }
  },
  {
   "cell_type": "code",
   "execution_count": null,
   "outputs": [],
   "source": [
    "view_sel = view.where(view >= 0)\n",
    "view_sel"
   ],
   "metadata": {
    "collapsed": false,
    "ExecuteTime": {
     "start_time": "2023-08-19T09:38:46.172011085Z"
    }
   }
  },
  {
   "cell_type": "code",
   "execution_count": null,
   "outputs": [],
   "source": [
    "fig, ax = plt.subplots(figsize=(20, 10))\n",
    "imshow(view_sel, ax=ax)\n",
    "plt.show()"
   ],
   "metadata": {
    "collapsed": false,
    "ExecuteTime": {
     "start_time": "2023-08-19T09:38:46.172342297Z"
    }
   }
  },
  {
   "cell_type": "markdown",
   "source": [
    "Analisi effettuata, ora sono curioso di vedere quali aree ricadono nel campo visivo dell'osservatore."
   ],
   "metadata": {
    "collapsed": false
   }
  },
  {
   "cell_type": "code",
   "execution_count": null,
   "outputs": [],
   "source": [
    "fig, ax = plt.subplots(figsize=(20, 10))\n",
    "imshow(\n",
    "    make_hillshade,\n",
    "    ax=ax,\n",
    "    cmap='gist_gray',\n",
    ")\n",
    "imshow(\n",
    "    raster,\n",
    "    ax=ax,\n",
    "    cmap='terrain',\n",
    "    vmin=1,\n",
    "    vmax=max_h,\n",
    "    levels=100,\n",
    "    alpha=0.75\n",
    ")\n",
    "imshow(view_sel, ax=ax, cmap='Wistia')\n",
    "\n",
    "\n",
    "ax.scatter(\n",
    "    *single_point.iloc[0].geometry.xy,\n",
    "    s=1000,\n",
    "    marker=\"*\",\n",
    "    facecolor='red',\n",
    "    edgecolor='black'\n",
    ")\n",
    "plt.text(\n",
    "    x=coordinates[0][0],\n",
    "    y=coordinates[1][0],\n",
    "    s=row.fid,\n",
    "    fontdict=dict(color='black', size=10),\n",
    "    bbox=dict(facecolor='white', alpha=0.75)\n",
    ")\n",
    "\n",
    "plt.show()"
   ],
   "metadata": {
    "collapsed": false,
    "ExecuteTime": {
     "start_time": "2023-08-19T09:38:46.172631145Z"
    }
   }
  },
  {
   "cell_type": "markdown",
   "source": [
    "Le aree in tonalità di giallo sono quelle che vede l'osservatore, in questo caso vede benissimo Positano, gli isolotti del Gallo e di Vetara ma anche parte del Golfo di Napoli, forse anche il Vesuvio."
   ],
   "metadata": {
    "collapsed": false
   }
  },
  {
   "cell_type": "markdown",
   "source": [
    "# 3. Analisi multipla"
   ],
   "metadata": {
    "collapsed": false
   }
  },
  {
   "cell_type": "markdown",
   "source": [
    "E' arrivato il momento di usare tutti i punti!"
   ],
   "metadata": {
    "collapsed": false
   }
  },
  {
   "cell_type": "code",
   "execution_count": null,
   "outputs": [],
   "source": [
    "for _index, row in points_data.iterrows():\n",
    "    point_geometry = row.geometry.xy\n",
    "    x_coord = point_geometry[0][0]\n",
    "    y_coord = point_geometry[1][0]\n",
    "\n",
    "    dataarray_value = raster.sel(x=x_coord, y=y_coord, method=\"nearest\")\n",
    "    pixel_value = dataarray_value.data\n",
    "\n",
    "    view = viewshed(raster, x=x_coord, y=y_coord, observer_elev=pixel_value)\n",
    "\n",
    "    view_sel = view.where(view >= 0)\n",
    "    # Salvataggio dei risultati\n",
    "    output_file = output_folder.joinpath(f'viewshed_point{row.fid}_h{pixel_value}.tif')\n",
    "    view_sel.rio.to_raster(output_file)"
   ],
   "metadata": {
    "collapsed": false,
    "ExecuteTime": {
     "start_time": "2023-08-19T09:38:46.172977487Z"
    }
   }
  },
  {
   "cell_type": "markdown",
   "source": [
    "![Point 1 - quota 875 metri](point_1.jpg \"Point 1 - quota 875 metri\")\n",
    "\n",
    "![Point 2 - quota 413 metri](point_2.jpg \"Point 2 - quota 413 metri\")\n",
    "\n",
    "![Point 3 - quota 106 metri](point_3.jpg \"Point 3 - quota 106 metri\")\n",
    "\n",
    "![Point 4 - quota 0 metri](point_4.jpg \"Point 4 - quota 0 metri\")\n",
    "\n",
    "![Point 5 - quota 0 metri](point_5.jpg \"Point 5 - quota 0 metri\")\n",
    "\n",
    "![Point 6 - quota 475 metri](point_6.jpg \"Point 6 - quota 475 metri\")\n",
    "\n",
    "![Point 7 - quota 0 metri](point_7.jpg \"Point 7 - quota 0 metri\")\n",
    "\n",
    "![Point 8 - quota 1225 metri](point_8.jpg \"Point 8 - quota 1225 metri\")\n",
    "\n",
    "![Point 9 - quota 0 metri](point_9.jpg \"Point 9 - quota 0 metri\")\n",
    "\n",
    "![Point 10 - quota 0 metri](point_10.jpg \"Point 10 - quota 0 metri\")\n",
    "\n",
    "![Point 11 - quota 450 metri](point_11.jpg \"Point 11 - quota 450 metri\")"
   ],
   "metadata": {
    "collapsed": false
   }
  },
  {
   "cell_type": "markdown",
   "source": [
    "# Conclusione"
   ],
   "metadata": {
    "collapsed": false
   }
  },
  {
   "cell_type": "markdown",
   "source": [
    "L'analisi di visibilità è fortemente infuenzata dalla risoluzione del DEM, più è spinta maggiore sarà la qualità dell'output. Di contro più è spinta la risoluzione del DEM maggiore sarà il tempo necessario per il processamento di ogni singolo punto di osservazione. Nel mio caso ci ho impiegato in media 4 secondi a punto."
   ],
   "metadata": {
    "collapsed": false
   }
  }
 ],
 "metadata": {
  "kernelspec": {
   "display_name": "Python 3 (ipykernel)",
   "language": "python",
   "name": "python3"
  },
  "language_info": {
   "codemirror_mode": {
    "name": "ipython",
    "version": 3
   },
   "file_extension": ".py",
   "mimetype": "text/x-python",
   "name": "python",
   "nbconvert_exporter": "python",
   "pygments_lexer": "ipython3",
   "version": "3.8.10"
  }
 },
 "nbformat": 4,
 "nbformat_minor": 1
}
