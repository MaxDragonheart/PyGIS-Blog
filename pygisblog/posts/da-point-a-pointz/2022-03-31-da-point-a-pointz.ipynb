{
 "cells": [
  {
   "cell_type": "markdown",
   "source": [
    "---\n",
    "title: \"Da Point a PointZ\"\n",
    "description: \"Con questo articolo ti spiegherò come convertire facilmente un vettore di punti 2D in uno 3D usando Python.\"\n",
    "lang: it\n",
    "date: \"2022 03 31\"\n",
    "open-graph:\n",
    "    title: \"Da Point a PointZ\"\n",
    "    description: \"Con questo articolo ti spiegherò come convertire facilmente un vettore di punti 2D in uno 3D usando Python.\"\n",
    "    image: project_logo.jpg\n",
    "categories: [point]\n",
    "image: project_logo.jpg\n",
    "format:\n",
    "    html:\n",
    "        toc: true\n",
    "        code-fold: true\n",
    "execute:\n",
    "  enabled: false\n",
    "share:\n",
    "  description: \"Con questo articolo ti spiegherò come convertire facilmente un vettore di punti 2D in uno 3D usando Python.\"\n",
    "  twitter: true\n",
    "  facebook: true\n",
    "  reddit: true\n",
    "  stumble: true\n",
    "  tumblr: true\n",
    "  linkedin: true\n",
    "  email: true\n",
    "---"
   ],
   "metadata": {
    "collapsed": false
   }
  },
  {
   "cell_type": "markdown",
   "metadata": {},
   "source": [
    "Un po' di tempo fa ho affrontato in un [mio articolo](https://massimilianomoraca.it/blog/gis/da-point-a-pointz/) il problema dell'aggiunta della coordinata altimetrica ad un dataset di punti usando QGIS. In questo JupyterNotebook affronterò il problema usando Python.\n"
   ]
  },
  {
   "cell_type": "markdown",
   "metadata": {},
   "source": [
    "## Prima di iniziare"
   ]
  },
  {
   "cell_type": "markdown",
   "metadata": {},
   "source": [
    "\n",
    "### Librerie\n",
    "Per raggiungere l'obiettivo userò essenzialmente `geopandas`, `shapely` e `rasterio`. In verità tra gli import troverai anche `pathlib` e `matplotlib` ma non sono essenziali per la corretta riuscita del procedimento.\n",
    "\n"
   ]
  },
  {
   "cell_type": "code",
   "execution_count": 1,
   "metadata": {},
   "outputs": [],
   "source": [
    "import pathlib\n",
    "\n",
    "import pandas as pd\n",
    "import geopandas as gpd\n",
    "import rasterio as rio\n",
    "from rasterio.plot import show, show_hist\n",
    "import matplotlib.pyplot as plt\n",
    "from shapely.geometry import Point"
   ]
  },
  {
   "cell_type": "markdown",
   "metadata": {},
   "source": [
    "### Fonti dati\n",
    "Come [DEM](https://massimilianomoraca.it/blog/gis/3d-open-source/) ho usato un tile del progetto [TIN Italy](http://tinitaly.pi.ingv.it/Download_Area2.html) a sua volta ritagliato e su cui ho generato con QGIS quattro punti random.\n"
   ]
  },
  {
   "cell_type": "code",
   "execution_count": 2,
   "metadata": {},
   "outputs": [],
   "source": [
    "sample_data = pathlib.Path.cwd().parent.joinpath('sample_data/add_z')\n",
    "dem = sample_data.joinpath('clip_dem.tif')\n",
    "points = sample_data.joinpath('points.shp')\n"
   ]
  },
  {
   "cell_type": "markdown",
   "metadata": {},
   "source": [
    "# 1. Quota altimetrica costante\n",
    "E' il caso più semplice: ho un certo insieme di punti e tutti devono acquisire la stezza Z."
   ]
  },
  {
   "cell_type": "code",
   "execution_count": 3,
   "metadata": {},
   "outputs": [
    {
     "data": {
      "text/plain": "   fid                        geometry\n0  1.0  POINT (405270.221 4512122.298)\n1  2.0  POINT (405226.798 4512675.034)\n2  3.0  POINT (404962.921 4512294.350)\n3  4.0  POINT (404991.893 4512570.669)",
      "text/html": "<div>\n<style scoped>\n    .dataframe tbody tr th:only-of-type {\n        vertical-align: middle;\n    }\n\n    .dataframe tbody tr th {\n        vertical-align: top;\n    }\n\n    .dataframe thead th {\n        text-align: right;\n    }\n</style>\n<table border=\"1\" class=\"dataframe\">\n  <thead>\n    <tr style=\"text-align: right;\">\n      <th></th>\n      <th>fid</th>\n      <th>geometry</th>\n    </tr>\n  </thead>\n  <tbody>\n    <tr>\n      <th>0</th>\n      <td>1.0</td>\n      <td>POINT (405270.221 4512122.298)</td>\n    </tr>\n    <tr>\n      <th>1</th>\n      <td>2.0</td>\n      <td>POINT (405226.798 4512675.034)</td>\n    </tr>\n    <tr>\n      <th>2</th>\n      <td>3.0</td>\n      <td>POINT (404962.921 4512294.350)</td>\n    </tr>\n    <tr>\n      <th>3</th>\n      <td>4.0</td>\n      <td>POINT (404991.893 4512570.669)</td>\n    </tr>\n  </tbody>\n</table>\n</div>"
     },
     "execution_count": 3,
     "metadata": {},
     "output_type": "execute_result"
    }
   ],
   "source": [
    "point_data = gpd.read_file(points)\n",
    "point_data"
   ]
  },
  {
   "cell_type": "code",
   "execution_count": 4,
   "metadata": {},
   "outputs": [
    {
     "data": {
      "text/plain": "<AxesSubplot:>"
     },
     "execution_count": 4,
     "metadata": {},
     "output_type": "execute_result"
    },
    {
     "data": {
      "text/plain": "<Figure size 720x720 with 1 Axes>",
      "image/png": "[encoded data removed]"
     },
     "metadata": {
      "needs_background": "light"
     },
     "output_type": "display_data"
    }
   ],
   "source": [
    "point_data.plot(figsize=(10, 10))"
   ]
  },
  {
   "cell_type": "code",
   "execution_count": 5,
   "metadata": {},
   "outputs": [
    {
     "data": {
      "text/plain": "0    False\n1    False\n2    False\n3    False\ndtype: bool"
     },
     "execution_count": 5,
     "metadata": {},
     "output_type": "execute_result"
    }
   ],
   "source": [
    "point_data.has_z"
   ]
  },
  {
   "cell_type": "markdown",
   "metadata": {},
   "source": [
    "Usando `has_z` ho verificato se i quattro punti sono effettivamente piani e quel `False` per ognuno di loro mi conferma che lo sono. Non resta che aggiungere la terza quota."
   ]
  },
  {
   "cell_type": "code",
   "execution_count": 6,
   "metadata": {},
   "outputs": [
    {
     "data": {
      "text/plain": "   fid                                 geometry\n0  1.0  POINT Z (405270.221 4512122.298 10.000)\n1  2.0  POINT Z (405226.798 4512675.034 10.000)\n2  3.0  POINT Z (404962.921 4512294.350 10.000)\n3  4.0  POINT Z (404991.893 4512570.669 10.000)",
      "text/html": "<div>\n<style scoped>\n    .dataframe tbody tr th:only-of-type {\n        vertical-align: middle;\n    }\n\n    .dataframe tbody tr th {\n        vertical-align: top;\n    }\n\n    .dataframe thead th {\n        text-align: right;\n    }\n</style>\n<table border=\"1\" class=\"dataframe\">\n  <thead>\n    <tr style=\"text-align: right;\">\n      <th></th>\n      <th>fid</th>\n      <th>geometry</th>\n    </tr>\n  </thead>\n  <tbody>\n    <tr>\n      <th>0</th>\n      <td>1.0</td>\n      <td>POINT Z (405270.221 4512122.298 10.000)</td>\n    </tr>\n    <tr>\n      <th>1</th>\n      <td>2.0</td>\n      <td>POINT Z (405226.798 4512675.034 10.000)</td>\n    </tr>\n    <tr>\n      <th>2</th>\n      <td>3.0</td>\n      <td>POINT Z (404962.921 4512294.350 10.000)</td>\n    </tr>\n    <tr>\n      <th>3</th>\n      <td>4.0</td>\n      <td>POINT Z (404991.893 4512570.669 10.000)</td>\n    </tr>\n  </tbody>\n</table>\n</div>"
     },
     "execution_count": 6,
     "metadata": {},
     "output_type": "execute_result"
    }
   ],
   "source": [
    "point_z_list = []\n",
    "\n",
    "for _index, row in point_data.iterrows():\n",
    "    point_geometry = row.geometry.coords\n",
    "    # Estraggo la coppia di coordinate\n",
    "    coordinates_plane = point_geometry[0]\n",
    "    # Creo una lista con la coppia di coordinate ed aggiungo la z\n",
    "    coordinates_3d = list(coordinates_plane)\n",
    "    coordinates_3d.append(10)\n",
    "    # Converto la lista in PointZ ed aggiungo l'oggetto alla lista di punti\n",
    "    point_geometry_3d = Point(tuple(coordinates_3d))\n",
    "    point_z_list.append([row.fid, point_geometry_3d])\n",
    "\n",
    "# Ricostruisco il GeoDataFrame di punti\n",
    "df = pd.DataFrame(point_z_list)\n",
    "df.rename(columns={0:'fid', 1: 'geometry'}, inplace=True)\n",
    "gdf = gpd.GeoDataFrame(df, geometry=df.geometry, crs=point_data.crs)\n",
    "gdf"
   ]
  },
  {
   "cell_type": "code",
   "execution_count": 7,
   "metadata": {},
   "outputs": [
    {
     "data": {
      "text/plain": "0    True\n1    True\n2    True\n3    True\ndtype: bool"
     },
     "execution_count": 7,
     "metadata": {},
     "output_type": "execute_result"
    }
   ],
   "source": [
    "gdf.has_z"
   ]
  },
  {
   "cell_type": "markdown",
   "metadata": {},
   "source": [
    "Interrogando i dati nuovamente con `has_z` risultano essere 3D."
   ]
  },
  {
   "cell_type": "markdown",
   "metadata": {},
   "source": [
    "# 2. Quota altimetrica da DEM\n",
    "Caso più complesso e sicuramente corrispondente alla realtà."
   ]
  },
  {
   "cell_type": "markdown",
   "metadata": {},
   "source": [
    "Il primo step è leggere la fonte dati raster. In verità dovrei leggere anche la fonte vettoriale ma siccome l'ho già fatto nell'esempio precedente evito di duplicare il passaggio."
   ]
  },
  {
   "cell_type": "code",
   "execution_count": 8,
   "metadata": {},
   "outputs": [
    {
     "data": {
      "text/plain": "<open DatasetReader name='/home/max/DEV/Personal/PyGISBlog/sample_data/add_z/clip_dem.tif' mode='r'>"
     },
     "execution_count": 8,
     "metadata": {},
     "output_type": "execute_result"
    }
   ],
   "source": [
    "raster_data = rio.open(dem)\n",
    "raster_data"
   ]
  },
  {
   "cell_type": "code",
   "execution_count": 9,
   "metadata": {},
   "outputs": [
    {
     "data": {
      "text/plain": "<Figure size 720x720 with 1 Axes>",
      "image/png": "[encoded data removed]"
     },
     "metadata": {
      "needs_background": "light"
     },
     "output_type": "display_data"
    },
    {
     "data": {
      "text/plain": "<AxesSubplot:>"
     },
     "execution_count": 9,
     "metadata": {},
     "output_type": "execute_result"
    }
   ],
   "source": [
    "figure, axes = plt.subplots(figsize=(10, 10))\n",
    "show(\n",
    "    source=raster_data,\n",
    "    cmap='terrain'\n",
    ")"
   ]
  },
  {
   "cell_type": "code",
   "execution_count": 10,
   "metadata": {},
   "outputs": [
    {
     "data": {
      "text/plain": "<Figure size 432x288 with 1 Axes>",
      "image/png": "[encoded data removed]"
     },
     "metadata": {
      "needs_background": "light"
     },
     "output_type": "display_data"
    }
   ],
   "source": [
    "show_hist(\n",
    "    source=raster_data,\n",
    "    title='Distribuzione delle quote',\n",
    "    bins=10,\n",
    "    alpha=0.5,\n",
    ")"
   ]
  },
  {
   "cell_type": "markdown",
   "metadata": {},
   "source": [
    "L'istogramma delle quote ci consente di capire che c'è una forte presenza di quote zero che corrispondono all'azzurro del raster precedentemente stampato."
   ]
  },
  {
   "cell_type": "code",
   "execution_count": 11,
   "metadata": {},
   "outputs": [
    {
     "data": {
      "text/plain": "   fid                                 geometry\n0  1.0  POINT Z (405270.221 4512122.298 53.347)\n1  2.0   POINT Z (405226.798 4512675.034 0.000)\n2  3.0  POINT Z (404962.921 4512294.350 65.504)\n3  4.0  POINT Z (404991.893 4512570.669 18.646)",
      "text/html": "<div>\n<style scoped>\n    .dataframe tbody tr th:only-of-type {\n        vertical-align: middle;\n    }\n\n    .dataframe tbody tr th {\n        vertical-align: top;\n    }\n\n    .dataframe thead th {\n        text-align: right;\n    }\n</style>\n<table border=\"1\" class=\"dataframe\">\n  <thead>\n    <tr style=\"text-align: right;\">\n      <th></th>\n      <th>fid</th>\n      <th>geometry</th>\n    </tr>\n  </thead>\n  <tbody>\n    <tr>\n      <th>0</th>\n      <td>1.0</td>\n      <td>POINT Z (405270.221 4512122.298 53.347)</td>\n    </tr>\n    <tr>\n      <th>1</th>\n      <td>2.0</td>\n      <td>POINT Z (405226.798 4512675.034 0.000)</td>\n    </tr>\n    <tr>\n      <th>2</th>\n      <td>3.0</td>\n      <td>POINT Z (404962.921 4512294.350 65.504)</td>\n    </tr>\n    <tr>\n      <th>3</th>\n      <td>4.0</td>\n      <td>POINT Z (404991.893 4512570.669 18.646)</td>\n    </tr>\n  </tbody>\n</table>\n</div>"
     },
     "execution_count": 11,
     "metadata": {},
     "output_type": "execute_result"
    }
   ],
   "source": [
    "point_z_list = []\n",
    "\n",
    "for _index, row in point_data.iterrows():\n",
    "    point_geometry = row.geometry.xy\n",
    "    # Estraggo la coppia di coordinate\n",
    "    x_coords = point_geometry[0][0]\n",
    "    y_coords = point_geometry[1][0]\n",
    "    # Individuo la riga e la colonna del raster in cui ricade\n",
    "    # la coppia di coordinate.\n",
    "    line, column = raster_data.index(x_coords, y_coords)\n",
    "    # Estraggo il valore della cella dall'intersezione della\n",
    "    # riga e colonna individuate al passaggio precedente.\n",
    "    # E' il valore di quota che sto cercando.\n",
    "    pixel_value = raster_data.read(1)[line, column]\n",
    "    # Creo il PointZ ed aggiungo l'oggetto alla lista di punti\n",
    "    point_geometry_3d = Point((x_coords, y_coords, pixel_value))\n",
    "    point_z_list.append([row.fid, point_geometry_3d])\n",
    "\n",
    "# Ricostruisco il GeoDataFrame di punti\n",
    "df = pd.DataFrame(point_z_list)\n",
    "df.rename(columns={0:'fid', 1: 'geometry'}, inplace=True)\n",
    "gdf = gpd.GeoDataFrame(df, geometry=df.geometry, crs=point_data.crs)\n",
    "gdf"
   ]
  },
  {
   "cell_type": "code",
   "execution_count": 12,
   "metadata": {},
   "outputs": [
    {
     "data": {
      "text/plain": "0    True\n1    True\n2    True\n3    True\ndtype: bool"
     },
     "execution_count": 12,
     "metadata": {},
     "output_type": "execute_result"
    }
   ],
   "source": [
    "gdf.has_z"
   ]
  },
  {
   "cell_type": "markdown",
   "metadata": {},
   "source": [
    "Anche in questo caso la verifica sulla tridimensionalità del GeoDataFrame ha dato esito positivo."
   ]
  },
  {
   "cell_type": "markdown",
   "source": [
    "# 2bis. Quota altimetrica da DEM *usando rioxarray*\n",
    "Aggiornamento del 07-04-2022"
   ],
   "metadata": {
    "collapsed": false
   }
  },
  {
   "cell_type": "markdown",
   "source": [
    "Procedura simile alla precedente con la sola differenza legata al tipo di libreria con cui vado a leggere il DEM; andrò ad usare infatti [rioxarray](https://corteva.github.io/rioxarray/stable/getting_started/getting_started.html) estensione di [xarray](https://docs.xarray.dev/en/stable/)."
   ],
   "metadata": {
    "collapsed": false
   }
  },
  {
   "cell_type": "code",
   "execution_count": 13,
   "outputs": [
    {
     "data": {
      "text/plain": "<xarray.DataArray (y: 72, x: 55)>\narray([[ 0.      ,  0.      ,  0.      , ...,  0.      ,  0.      ,  0.      ],\n       [ 0.      ,  0.      ,  0.      , ...,  0.      ,  0.      ,  0.      ],\n       [ 0.      ,  0.      ,  0.      , ...,  0.      ,  0.      ,  0.      ],\n       ...,\n       [69.77669 , 69.81791 , 69.8414  , ..., 15.89126 , 13.74339 ,  8.158463],\n       [70.76064 , 69.98181 , 69.8414  , ..., 16.82376 , 13.96572 , 10.95792 ],\n       [70.76064 , 69.98181 , 69.95621 , ..., 19.76735 , 16.77215 , 13.75869 ]],\n      dtype=float32)\nCoordinates:\n    band         int64 1\n  * x            (x) float64 4.049e+05 4.05e+05 4.05e+05 ... 4.055e+05 4.055e+05\n  * y            (y) float64 4.513e+06 4.513e+06 ... 4.512e+06 4.512e+06\n    spatial_ref  int64 0\nAttributes:\n    STATISTICS_MAXIMUM:        87.830078125\n    STATISTICS_MEAN:           25.813233406838\n    STATISTICS_MINIMUM:        0\n    STATISTICS_STDDEV:         26.3760348731\n    STATISTICS_VALID_PERCENT:  100\n    _FillValue:                -9999.0\n    scale_factor:              1.0\n    add_offset:                0.0",
      "text/html": "<div><svg style=\"position: absolute; width: 0; height: 0; overflow: hidden\">\n<defs>\n<symbol id=\"icon-database\" viewBox=\"0 0 32 32\">\n<path d=\"M16 0c-8.837 0-16 2.239-16 5v4c0 2.761 7.163 5 16 5s16-2.239 16-5v-4c0-2.761-7.163-5-16-5z\"></path>\n<path d=\"M16 17c-8.837 0-16-2.239-16-5v6c0 2.761 7.163 5 16 5s16-2.239 16-5v-6c0 2.761-7.163 5-16 5z\"></path>\n<path d=\"M16 26c-8.837 0-16-2.239-16-5v6c0 2.761 7.163 5 16 5s16-2.239 16-5v-6c0 2.761-7.163 5-16 5z\"></path>\n</symbol>\n<symbol id=\"icon-file-text2\" viewBox=\"0 0 32 32\">\n<path d=\"M28.681 7.159c-0.694-0.947-1.662-2.053-2.724-3.116s-2.169-2.030-3.116-2.724c-1.612-1.182-2.393-1.319-2.841-1.319h-15.5c-1.378 0-2.5 1.121-2.5 2.5v27c0 1.378 1.122 2.5 2.5 2.5h23c1.378 0 2.5-1.122 2.5-2.5v-19.5c0-0.448-0.137-1.23-1.319-2.841zM24.543 5.457c0.959 0.959 1.712 1.825 2.268 2.543h-4.811v-4.811c0.718 0.556 1.584 1.309 2.543 2.268zM28 29.5c0 0.271-0.229 0.5-0.5 0.5h-23c-0.271 0-0.5-0.229-0.5-0.5v-27c0-0.271 0.229-0.5 0.5-0.5 0 0 15.499-0 15.5 0v7c0 0.552 0.448 1 1 1h7v19.5z\"></path>\n<path d=\"M23 26h-14c-0.552 0-1-0.448-1-1s0.448-1 1-1h14c0.552 0 1 0.448 1 1s-0.448 1-1 1z\"></path>\n<path d=\"M23 22h-14c-0.552 0-1-0.448-1-1s0.448-1 1-1h14c0.552 0 1 0.448 1 1s-0.448 1-1 1z\"></path>\n<path d=\"M23 18h-14c-0.552 0-1-0.448-1-1s0.448-1 1-1h14c0.552 0 1 0.448 1 1s-0.448 1-1 1z\"></path>\n</symbol>\n</defs>\n</svg>\n<style>/* CSS stylesheet for displaying xarray objects in jupyterlab.\n *\n */\n\n:root {\n  --xr-font-color0: var(--jp-content-font-color0, rgba(0, 0, 0, 1));\n  --xr-font-color2: var(--jp-content-font-color2, rgba(0, 0, 0, 0.54));\n  --xr-font-color3: var(--jp-content-font-color3, rgba(0, 0, 0, 0.38));\n  --xr-border-color: var(--jp-border-color2, #e0e0e0);\n  --xr-disabled-color: var(--jp-layout-color3, #bdbdbd);\n  --xr-background-color: var(--jp-layout-color0, white);\n  --xr-background-color-row-even: var(--jp-layout-color1, white);\n  --xr-background-color-row-odd: var(--jp-layout-color2, #eeeeee);\n}\n\nhtml[theme=dark],\nbody.vscode-dark {\n  --xr-font-color0: rgba(255, 255, 255, 1);\n  --xr-font-color2: rgba(255, 255, 255, 0.54);\n  --xr-font-color3: rgba(255, 255, 255, 0.38);\n  --xr-border-color: #1F1F1F;\n  --xr-disabled-color: #515151;\n  --xr-background-color: #111111;\n  --xr-background-color-row-even: #111111;\n  --xr-background-color-row-odd: #313131;\n}\n\n.xr-wrap {\n  display: block !important;\n  min-width: 300px;\n  max-width: 700px;\n}\n\n.xr-text-repr-fallback {\n  /* fallback to plain text repr when CSS is not injected (untrusted notebook) */\n  display: none;\n}\n\n.xr-header {\n  padding-top: 6px;\n  padding-bottom: 6px;\n  margin-bottom: 4px;\n  border-bottom: solid 1px var(--xr-border-color);\n}\n\n.xr-header > div,\n.xr-header > ul {\n  display: inline;\n  margin-top: 0;\n  margin-bottom: 0;\n}\n\n.xr-obj-type,\n.xr-array-name {\n  margin-left: 2px;\n  margin-right: 10px;\n}\n\n.xr-obj-type {\n  color: var(--xr-font-color2);\n}\n\n.xr-sections {\n  padding-left: 0 !important;\n  display: grid;\n  grid-template-columns: 150px auto auto 1fr 20px 20px;\n}\n\n.xr-section-item {\n  display: contents;\n}\n\n.xr-section-item input {\n  display: none;\n}\n\n.xr-section-item input + label {\n  color: var(--xr-disabled-color);\n}\n\n.xr-section-item input:enabled + label {\n  cursor: pointer;\n  color: var(--xr-font-color2);\n}\n\n.xr-section-item input:enabled + label:hover {\n  color: var(--xr-font-color0);\n}\n\n.xr-section-summary {\n  grid-column: 1;\n  color: var(--xr-font-color2);\n  font-weight: 500;\n}\n\n.xr-section-summary > span {\n  display: inline-block;\n  padding-left: 0.5em;\n}\n\n.xr-section-summary-in:disabled + label {\n  color: var(--xr-font-color2);\n}\n\n.xr-section-summary-in + label:before {\n  display: inline-block;\n  content: '►';\n  font-size: 11px;\n  width: 15px;\n  text-align: center;\n}\n\n.xr-section-summary-in:disabled + label:before {\n  color: var(--xr-disabled-color);\n}\n\n.xr-section-summary-in:checked + label:before {\n  content: '▼';\n}\n\n.xr-section-summary-in:checked + label > span {\n  display: none;\n}\n\n.xr-section-summary,\n.xr-section-inline-details {\n  padding-top: 4px;\n  padding-bottom: 4px;\n}\n\n.xr-section-inline-details {\n  grid-column: 2 / -1;\n}\n\n.xr-section-details {\n  display: none;\n  grid-column: 1 / -1;\n  margin-bottom: 5px;\n}\n\n.xr-section-summary-in:checked ~ .xr-section-details {\n  display: contents;\n}\n\n.xr-array-wrap {\n  grid-column: 1 / -1;\n  display: grid;\n  grid-template-columns: 20px auto;\n}\n\n.xr-array-wrap > label {\n  grid-column: 1;\n  vertical-align: top;\n}\n\n.xr-preview {\n  color: var(--xr-font-color3);\n}\n\n.xr-array-preview,\n.xr-array-data {\n  padding: 0 5px !important;\n  grid-column: 2;\n}\n\n.xr-array-data,\n.xr-array-in:checked ~ .xr-array-preview {\n  display: none;\n}\n\n.xr-array-in:checked ~ .xr-array-data,\n.xr-array-preview {\n  display: inline-block;\n}\n\n.xr-dim-list {\n  display: inline-block !important;\n  list-style: none;\n  padding: 0 !important;\n  margin: 0;\n}\n\n.xr-dim-list li {\n  display: inline-block;\n  padding: 0;\n  margin: 0;\n}\n\n.xr-dim-list:before {\n  content: '(';\n}\n\n.xr-dim-list:after {\n  content: ')';\n}\n\n.xr-dim-list li:not(:last-child):after {\n  content: ',';\n  padding-right: 5px;\n}\n\n.xr-has-index {\n  font-weight: bold;\n}\n\n.xr-var-list,\n.xr-var-item {\n  display: contents;\n}\n\n.xr-var-item > div,\n.xr-var-item label,\n.xr-var-item > .xr-var-name span {\n  background-color: var(--xr-background-color-row-even);\n  margin-bottom: 0;\n}\n\n.xr-var-item > .xr-var-name:hover span {\n  padding-right: 5px;\n}\n\n.xr-var-list > li:nth-child(odd) > div,\n.xr-var-list > li:nth-child(odd) > label,\n.xr-var-list > li:nth-child(odd) > .xr-var-name span {\n  background-color: var(--xr-background-color-row-odd);\n}\n\n.xr-var-name {\n  grid-column: 1;\n}\n\n.xr-var-dims {\n  grid-column: 2;\n}\n\n.xr-var-dtype {\n  grid-column: 3;\n  text-align: right;\n  color: var(--xr-font-color2);\n}\n\n.xr-var-preview {\n  grid-column: 4;\n}\n\n.xr-var-name,\n.xr-var-dims,\n.xr-var-dtype,\n.xr-preview,\n.xr-attrs dt {\n  white-space: nowrap;\n  overflow: hidden;\n  text-overflow: ellipsis;\n  padding-right: 10px;\n}\n\n.xr-var-name:hover,\n.xr-var-dims:hover,\n.xr-var-dtype:hover,\n.xr-attrs dt:hover {\n  overflow: visible;\n  width: auto;\n  z-index: 1;\n}\n\n.xr-var-attrs,\n.xr-var-data {\n  display: none;\n  background-color: var(--xr-background-color) !important;\n  padding-bottom: 5px !important;\n}\n\n.xr-var-attrs-in:checked ~ .xr-var-attrs,\n.xr-var-data-in:checked ~ .xr-var-data {\n  display: block;\n}\n\n.xr-var-data > table {\n  float: right;\n}\n\n.xr-var-name span,\n.xr-var-data,\n.xr-attrs {\n  padding-left: 25px !important;\n}\n\n.xr-attrs,\n.xr-var-attrs,\n.xr-var-data {\n  grid-column: 1 / -1;\n}\n\ndl.xr-attrs {\n  padding: 0;\n  margin: 0;\n  display: grid;\n  grid-template-columns: 125px auto;\n}\n\n.xr-attrs dt,\n.xr-attrs dd {\n  padding: 0;\n  margin: 0;\n  float: left;\n  padding-right: 10px;\n  width: auto;\n}\n\n.xr-attrs dt {\n  font-weight: normal;\n  grid-column: 1;\n}\n\n.xr-attrs dt:hover span {\n  display: inline-block;\n  background: var(--xr-background-color);\n  padding-right: 10px;\n}\n\n.xr-attrs dd {\n  grid-column: 2;\n  white-space: pre-wrap;\n  word-break: break-all;\n}\n\n.xr-icon-database,\n.xr-icon-file-text2 {\n  display: inline-block;\n  vertical-align: middle;\n  width: 1em;\n  height: 1.5em !important;\n  stroke-width: 0;\n  stroke: currentColor;\n  fill: currentColor;\n}\n</style><pre class='xr-text-repr-fallback'>&lt;xarray.DataArray (y: 72, x: 55)&gt;\narray([[ 0.      ,  0.      ,  0.      , ...,  0.      ,  0.      ,  0.      ],\n       [ 0.      ,  0.      ,  0.      , ...,  0.      ,  0.      ,  0.      ],\n       [ 0.      ,  0.      ,  0.      , ...,  0.      ,  0.      ,  0.      ],\n       ...,\n       [69.77669 , 69.81791 , 69.8414  , ..., 15.89126 , 13.74339 ,  8.158463],\n       [70.76064 , 69.98181 , 69.8414  , ..., 16.82376 , 13.96572 , 10.95792 ],\n       [70.76064 , 69.98181 , 69.95621 , ..., 19.76735 , 16.77215 , 13.75869 ]],\n      dtype=float32)\nCoordinates:\n    band         int64 1\n  * x            (x) float64 4.049e+05 4.05e+05 4.05e+05 ... 4.055e+05 4.055e+05\n  * y            (y) float64 4.513e+06 4.513e+06 ... 4.512e+06 4.512e+06\n    spatial_ref  int64 0\nAttributes:\n    STATISTICS_MAXIMUM:        87.830078125\n    STATISTICS_MEAN:           25.813233406838\n    STATISTICS_MINIMUM:        0\n    STATISTICS_STDDEV:         26.3760348731\n    STATISTICS_VALID_PERCENT:  100\n    _FillValue:                -9999.0\n    scale_factor:              1.0\n    add_offset:                0.0</pre><div class='xr-wrap' style='display:none'><div class='xr-header'><div class='xr-obj-type'>xarray.DataArray</div><div class='xr-array-name'></div><ul class='xr-dim-list'><li><span class='xr-has-index'>y</span>: 72</li><li><span class='xr-has-index'>x</span>: 55</li></ul></div><ul class='xr-sections'><li class='xr-section-item'><div class='xr-array-wrap'><input id='section-03ae8395-92a0-4c61-bc30-516b1963912f' class='xr-array-in' type='checkbox' checked><label for='section-03ae8395-92a0-4c61-bc30-516b1963912f' title='Show/hide data repr'><svg class='icon xr-icon-database'><use xlink:href='#icon-database'></use></svg></label><div class='xr-array-preview xr-preview'><span>0.0 0.0 0.0 0.0 0.0 0.0 0.0 ... 28.04 24.58 22.3 19.77 16.77 13.76</span></div><div class='xr-array-data'><pre>array([[ 0.      ,  0.      ,  0.      , ...,  0.      ,  0.      ,  0.      ],\n       [ 0.      ,  0.      ,  0.      , ...,  0.      ,  0.      ,  0.      ],\n       [ 0.      ,  0.      ,  0.      , ...,  0.      ,  0.      ,  0.      ],\n       ...,\n       [69.77669 , 69.81791 , 69.8414  , ..., 15.89126 , 13.74339 ,  8.158463],\n       [70.76064 , 69.98181 , 69.8414  , ..., 16.82376 , 13.96572 , 10.95792 ],\n       [70.76064 , 69.98181 , 69.95621 , ..., 19.76735 , 16.77215 , 13.75869 ]],\n      dtype=float32)</pre></div></div></li><li class='xr-section-item'><input id='section-30c9290e-b362-4743-aa59-a09179ea24e9' class='xr-section-summary-in' type='checkbox'  checked><label for='section-30c9290e-b362-4743-aa59-a09179ea24e9' class='xr-section-summary' >Coordinates: <span>(4)</span></label><div class='xr-section-inline-details'></div><div class='xr-section-details'><ul class='xr-var-list'><li class='xr-var-item'><div class='xr-var-name'><span>band</span></div><div class='xr-var-dims'>()</div><div class='xr-var-dtype'>int64</div><div class='xr-var-preview xr-preview'>1</div><input id='attrs-2282032b-87cd-46cd-8d98-768fd425d499' class='xr-var-attrs-in' type='checkbox' disabled><label for='attrs-2282032b-87cd-46cd-8d98-768fd425d499' title='Show/Hide attributes'><svg class='icon xr-icon-file-text2'><use xlink:href='#icon-file-text2'></use></svg></label><input id='data-c0fdf273-88cc-4185-92ea-209ca98b7462' class='xr-var-data-in' type='checkbox'><label for='data-c0fdf273-88cc-4185-92ea-209ca98b7462' title='Show/Hide data repr'><svg class='icon xr-icon-database'><use xlink:href='#icon-database'></use></svg></label><div class='xr-var-attrs'><dl class='xr-attrs'></dl></div><div class='xr-var-data'><pre>array(1)</pre></div></li><li class='xr-var-item'><div class='xr-var-name'><span class='xr-has-index'>x</span></div><div class='xr-var-dims'>(x)</div><div class='xr-var-dtype'>float64</div><div class='xr-var-preview xr-preview'>4.049e+05 4.05e+05 ... 4.055e+05</div><input id='attrs-c183a537-fd18-49f6-8927-f77d684e1c33' class='xr-var-attrs-in' type='checkbox' disabled><label for='attrs-c183a537-fd18-49f6-8927-f77d684e1c33' title='Show/Hide attributes'><svg class='icon xr-icon-file-text2'><use xlink:href='#icon-file-text2'></use></svg></label><input id='data-b87e8106-d539-41b1-8235-e25ecd00da5a' class='xr-var-data-in' type='checkbox'><label for='data-b87e8106-d539-41b1-8235-e25ecd00da5a' title='Show/Hide data repr'><svg class='icon xr-icon-database'><use xlink:href='#icon-database'></use></svg></label><div class='xr-var-attrs'><dl class='xr-attrs'></dl></div><div class='xr-var-data'><pre>array([404941.257791, 404951.883373, 404962.508955, 404973.134536,\n       404983.760118, 404994.3857  , 405005.011282, 405015.636864,\n       405026.262445, 405036.888027, 405047.513609, 405058.139191,\n       405068.764773, 405079.390355, 405090.015936, 405100.641518,\n       405111.2671  , 405121.892682, 405132.518264, 405143.143845,\n       405153.769427, 405164.395009, 405175.020591, 405185.646173,\n       405196.271755, 405206.897336, 405217.522918, 405228.1485  ,\n       405238.774082, 405249.399664, 405260.025245, 405270.650827,\n       405281.276409, 405291.901991, 405302.527573, 405313.153155,\n       405323.778736, 405334.404318, 405345.0299  , 405355.655482,\n       405366.281064, 405376.906645, 405387.532227, 405398.157809,\n       405408.783391, 405419.408973, 405430.034555, 405440.660136,\n       405451.285718, 405461.9113  , 405472.536882, 405483.162464,\n       405493.788045, 405504.413627, 405515.039209])</pre></div></li><li class='xr-var-item'><div class='xr-var-name'><span class='xr-has-index'>y</span></div><div class='xr-var-dims'>(y)</div><div class='xr-var-dtype'>float64</div><div class='xr-var-preview xr-preview'>4.513e+06 4.513e+06 ... 4.512e+06</div><input id='attrs-aea1081b-98ee-471f-91c2-2254d502683c' class='xr-var-attrs-in' type='checkbox' disabled><label for='attrs-aea1081b-98ee-471f-91c2-2254d502683c' title='Show/Hide attributes'><svg class='icon xr-icon-file-text2'><use xlink:href='#icon-file-text2'></use></svg></label><input id='data-abfa2dc2-66f5-4fd5-9690-443162bc1eeb' class='xr-var-data-in' type='checkbox'><label for='data-abfa2dc2-66f5-4fd5-9690-443162bc1eeb' title='Show/Hide data repr'><svg class='icon xr-icon-database'><use xlink:href='#icon-database'></use></svg></label><div class='xr-var-attrs'><dl class='xr-attrs'></dl></div><div class='xr-var-data'><pre>array([4512752.806342, 4512743.597027, 4512734.387712, 4512725.178397,\n       4512715.969081, 4512706.759766, 4512697.550451, 4512688.341135,\n       4512679.13182 , 4512669.922505, 4512660.71319 , 4512651.503874,\n       4512642.294559, 4512633.085244, 4512623.875928, 4512614.666613,\n       4512605.457298, 4512596.247983, 4512587.038667, 4512577.829352,\n       4512568.620037, 4512559.410722, 4512550.201406, 4512540.992091,\n       4512531.782776, 4512522.57346 , 4512513.364145, 4512504.15483 ,\n       4512494.945515, 4512485.736199, 4512476.526884, 4512467.317569,\n       4512458.108253, 4512448.898938, 4512439.689623, 4512430.480308,\n       4512421.270992, 4512412.061677, 4512402.852362, 4512393.643047,\n       4512384.433731, 4512375.224416, 4512366.015101, 4512356.805785,\n       4512347.59647 , 4512338.387155, 4512329.17784 , 4512319.968524,\n       4512310.759209, 4512301.549894, 4512292.340578, 4512283.131263,\n       4512273.921948, 4512264.712633, 4512255.503317, 4512246.294002,\n       4512237.084687, 4512227.875372, 4512218.666056, 4512209.456741,\n       4512200.247426, 4512191.03811 , 4512181.828795, 4512172.61948 ,\n       4512163.410165, 4512154.200849, 4512144.991534, 4512135.782219,\n       4512126.572903, 4512117.363588, 4512108.154273, 4512098.944958])</pre></div></li><li class='xr-var-item'><div class='xr-var-name'><span>spatial_ref</span></div><div class='xr-var-dims'>()</div><div class='xr-var-dtype'>int64</div><div class='xr-var-preview xr-preview'>0</div><input id='attrs-ef7c2923-7fd6-4642-93e7-e604560b90a7' class='xr-var-attrs-in' type='checkbox' ><label for='attrs-ef7c2923-7fd6-4642-93e7-e604560b90a7' title='Show/Hide attributes'><svg class='icon xr-icon-file-text2'><use xlink:href='#icon-file-text2'></use></svg></label><input id='data-75b49b04-5163-4a79-86c8-189e863d20f6' class='xr-var-data-in' type='checkbox'><label for='data-75b49b04-5163-4a79-86c8-189e863d20f6' title='Show/Hide data repr'><svg class='icon xr-icon-database'><use xlink:href='#icon-database'></use></svg></label><div class='xr-var-attrs'><dl class='xr-attrs'><dt><span>crs_wkt :</span></dt><dd>PROJCS[&quot;WGS 84 / UTM zone 33N&quot;,GEOGCS[&quot;WGS 84&quot;,DATUM[&quot;WGS_1984&quot;,SPHEROID[&quot;WGS 84&quot;,6378137,298.257223563,AUTHORITY[&quot;EPSG&quot;,&quot;7030&quot;]],AUTHORITY[&quot;EPSG&quot;,&quot;6326&quot;]],PRIMEM[&quot;Greenwich&quot;,0,AUTHORITY[&quot;EPSG&quot;,&quot;8901&quot;]],UNIT[&quot;degree&quot;,0.0174532925199433,AUTHORITY[&quot;EPSG&quot;,&quot;9122&quot;]],AUTHORITY[&quot;EPSG&quot;,&quot;4326&quot;]],PROJECTION[&quot;Transverse_Mercator&quot;],PARAMETER[&quot;latitude_of_origin&quot;,0],PARAMETER[&quot;central_meridian&quot;,15],PARAMETER[&quot;scale_factor&quot;,0.9996],PARAMETER[&quot;false_easting&quot;,500000],PARAMETER[&quot;false_northing&quot;,0],UNIT[&quot;metre&quot;,1,AUTHORITY[&quot;EPSG&quot;,&quot;9001&quot;]],AXIS[&quot;Easting&quot;,EAST],AXIS[&quot;Northing&quot;,NORTH],AUTHORITY[&quot;EPSG&quot;,&quot;32633&quot;]]</dd><dt><span>semi_major_axis :</span></dt><dd>6378137.0</dd><dt><span>semi_minor_axis :</span></dt><dd>6356752.314245179</dd><dt><span>inverse_flattening :</span></dt><dd>298.257223563</dd><dt><span>reference_ellipsoid_name :</span></dt><dd>WGS 84</dd><dt><span>longitude_of_prime_meridian :</span></dt><dd>0.0</dd><dt><span>prime_meridian_name :</span></dt><dd>Greenwich</dd><dt><span>geographic_crs_name :</span></dt><dd>WGS 84</dd><dt><span>horizontal_datum_name :</span></dt><dd>World Geodetic System 1984</dd><dt><span>projected_crs_name :</span></dt><dd>WGS 84 / UTM zone 33N</dd><dt><span>grid_mapping_name :</span></dt><dd>transverse_mercator</dd><dt><span>latitude_of_projection_origin :</span></dt><dd>0.0</dd><dt><span>longitude_of_central_meridian :</span></dt><dd>15.0</dd><dt><span>false_easting :</span></dt><dd>500000.0</dd><dt><span>false_northing :</span></dt><dd>0.0</dd><dt><span>scale_factor_at_central_meridian :</span></dt><dd>0.9996</dd><dt><span>spatial_ref :</span></dt><dd>PROJCS[&quot;WGS 84 / UTM zone 33N&quot;,GEOGCS[&quot;WGS 84&quot;,DATUM[&quot;WGS_1984&quot;,SPHEROID[&quot;WGS 84&quot;,6378137,298.257223563,AUTHORITY[&quot;EPSG&quot;,&quot;7030&quot;]],AUTHORITY[&quot;EPSG&quot;,&quot;6326&quot;]],PRIMEM[&quot;Greenwich&quot;,0,AUTHORITY[&quot;EPSG&quot;,&quot;8901&quot;]],UNIT[&quot;degree&quot;,0.0174532925199433,AUTHORITY[&quot;EPSG&quot;,&quot;9122&quot;]],AUTHORITY[&quot;EPSG&quot;,&quot;4326&quot;]],PROJECTION[&quot;Transverse_Mercator&quot;],PARAMETER[&quot;latitude_of_origin&quot;,0],PARAMETER[&quot;central_meridian&quot;,15],PARAMETER[&quot;scale_factor&quot;,0.9996],PARAMETER[&quot;false_easting&quot;,500000],PARAMETER[&quot;false_northing&quot;,0],UNIT[&quot;metre&quot;,1,AUTHORITY[&quot;EPSG&quot;,&quot;9001&quot;]],AXIS[&quot;Easting&quot;,EAST],AXIS[&quot;Northing&quot;,NORTH],AUTHORITY[&quot;EPSG&quot;,&quot;32633&quot;]]</dd><dt><span>GeoTransform :</span></dt><dd>404935.945 10.625581818181937 0.0 4512757.411 0.0 -9.209315277778337</dd></dl></div><div class='xr-var-data'><pre>array(0)</pre></div></li></ul></div></li><li class='xr-section-item'><input id='section-c6d6da12-ccb1-4e51-b5d9-43d269c134db' class='xr-section-summary-in' type='checkbox'  checked><label for='section-c6d6da12-ccb1-4e51-b5d9-43d269c134db' class='xr-section-summary' >Attributes: <span>(8)</span></label><div class='xr-section-inline-details'></div><div class='xr-section-details'><dl class='xr-attrs'><dt><span>STATISTICS_MAXIMUM :</span></dt><dd>87.830078125</dd><dt><span>STATISTICS_MEAN :</span></dt><dd>25.813233406838</dd><dt><span>STATISTICS_MINIMUM :</span></dt><dd>0</dd><dt><span>STATISTICS_STDDEV :</span></dt><dd>26.3760348731</dd><dt><span>STATISTICS_VALID_PERCENT :</span></dt><dd>100</dd><dt><span>_FillValue :</span></dt><dd>-9999.0</dd><dt><span>scale_factor :</span></dt><dd>1.0</dd><dt><span>add_offset :</span></dt><dd>0.0</dd></dl></div></li></ul></div></div>"
     },
     "execution_count": 13,
     "metadata": {},
     "output_type": "execute_result"
    }
   ],
   "source": [
    "import rioxarray as rxr\n",
    "\n",
    "new_raster_data = rxr.open_rasterio(dem).squeeze()\n",
    "new_raster_data"
   ],
   "metadata": {
    "collapsed": false
   }
  },
  {
   "cell_type": "code",
   "execution_count": 14,
   "outputs": [
    {
     "data": {
      "text/plain": "   fid                                 geometry\n0  1.0  POINT Z (405270.221 4512122.298 53.347)\n1  2.0   POINT Z (405226.798 4512675.034 0.000)\n2  3.0  POINT Z (404962.921 4512294.350 65.504)\n3  4.0  POINT Z (404991.893 4512570.669 18.646)",
      "text/html": "<div>\n<style scoped>\n    .dataframe tbody tr th:only-of-type {\n        vertical-align: middle;\n    }\n\n    .dataframe tbody tr th {\n        vertical-align: top;\n    }\n\n    .dataframe thead th {\n        text-align: right;\n    }\n</style>\n<table border=\"1\" class=\"dataframe\">\n  <thead>\n    <tr style=\"text-align: right;\">\n      <th></th>\n      <th>fid</th>\n      <th>geometry</th>\n    </tr>\n  </thead>\n  <tbody>\n    <tr>\n      <th>0</th>\n      <td>1.0</td>\n      <td>POINT Z (405270.221 4512122.298 53.347)</td>\n    </tr>\n    <tr>\n      <th>1</th>\n      <td>2.0</td>\n      <td>POINT Z (405226.798 4512675.034 0.000)</td>\n    </tr>\n    <tr>\n      <th>2</th>\n      <td>3.0</td>\n      <td>POINT Z (404962.921 4512294.350 65.504)</td>\n    </tr>\n    <tr>\n      <th>3</th>\n      <td>4.0</td>\n      <td>POINT Z (404991.893 4512570.669 18.646)</td>\n    </tr>\n  </tbody>\n</table>\n</div>"
     },
     "execution_count": 14,
     "metadata": {},
     "output_type": "execute_result"
    }
   ],
   "source": [
    "new_point_z_list = []\n",
    "\n",
    "for _index, row in point_data.iterrows():\n",
    "    point_geometry = row.geometry.xy\n",
    "    # Estraggo la coppia di coordinate\n",
    "    x_coords = point_geometry[0][0]\n",
    "    y_coords = point_geometry[1][0]\n",
    "\n",
    "    # Individuo la riga e la colonna del DataArray in cui ricade\n",
    "    # la coppia di coordinate.\n",
    "    value = new_raster_data.sel(x=x_coords, y=y_coords, method=\"nearest\")\n",
    "    # Estraggo il valore della cella dall'intersezione della\n",
    "    # riga e colonna individuate al passaggio precedente.\n",
    "    # E' il valore di quota che sto cercando.\n",
    "    pixel_value = value.data\n",
    "    # Creo il PointZ ed aggiungo l'oggetto alla lista di punti\n",
    "    point_geometry_3d = Point((x_coords, y_coords, pixel_value))\n",
    "    new_point_z_list.append([row.fid, point_geometry_3d])\n",
    "\n",
    "# Ricostruisco il GeoDataFrame di punti\n",
    "new_df = pd.DataFrame(new_point_z_list)\n",
    "new_df.rename(columns={0:'fid', 1: 'geometry'}, inplace=True)\n",
    "new_gdf = gpd.GeoDataFrame(new_df, geometry=new_df.geometry, crs=point_data.crs)\n",
    "new_gdf"
   ],
   "metadata": {
    "collapsed": false
   }
  },
  {
   "cell_type": "markdown",
   "metadata": {},
   "source": [
    "# Conclusione"
   ]
  },
  {
   "cell_type": "markdown",
   "metadata": {},
   "source": [
    "Quelli riportati sono solo due dei metodi possibili per raggiungere l'obiettivo, sono quelli che ho individuato io. Se ne conosci altri, o se hai indicazioni da dare per migliorare il post, fallo scrivendo in [Discussioni](https://github.com/MaxDragonheart/PyGIS-Blog/discussions).\n",
    "Nota bene che per **2** è indispensabile che raster e punti abbiano lo stesso sistema di riferimento!"
   ]
  },
  {
   "cell_type": "markdown",
   "source": [
    "## Newsletter\n",
    "\n",
    "Se vuoi ricevere aggiornamenti sui prossimi articoli [iscriviti alla newsletter](https://massimilianomoraca.it/newsletter/)!\n",
    "\n",
    "## Telegram\n",
    "\n",
    "Segui il canale Telegram **[CaffèGIS -  I GIS a supporto dei processi evolutivi territoriali](https://t.me/caffegis)** per ricevere aggiornamenti su iniziative ed informazioni a tema GIS.\n",
    "\n",
    "## Offrimi una birra!\n",
    "\n",
    "**Se trovi interessanti i miei articoli [offrimi una birra](https://www.paypal.com/paypalme/MassimilianoMoraca)!**\n",
    "\n",
    "Alla prossima!"
   ],
   "metadata": {
    "collapsed": false
   }
  }
 ],
 "metadata": {
  "kernelspec": {
   "display_name": "Python 3 (ipykernel)",
   "language": "python",
   "name": "python3"
  },
  "language_info": {
   "codemirror_mode": {
    "name": "ipython",
    "version": 3
   },
   "file_extension": ".py",
   "mimetype": "text/x-python",
   "name": "python",
   "nbconvert_exporter": "python",
   "pygments_lexer": "ipython3",
   "version": "3.8.10"
  }
 },
 "nbformat": 4,
 "nbformat_minor": 1
}
