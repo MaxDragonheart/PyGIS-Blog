{
 "cells": [
  {
   "cell_type": "markdown",
   "source": [
    "---\n",
    "title: \"Analisi della copertura del suolo in Italia dal 1990 al 2018 usando la CORINE Land Cover\"\n",
    "description: \"Vediamo come è cambiata la copertura del suolo in Italia dal 1990 al 2018 usando i dati della CORINE Land Cover.\"\n",
    "lang: it\n",
    "date: \"2022 08 26\"\n",
    "open-graph:\n",
    "    title: \"Analisi della copertura del suolo in Italia dal 1990 al 2018 usando la CORINE Land Cover\"\n",
    "    description: \"Vediamo come è cambiata la copertura del suolo in Italia dal 1990 al 2018 usando i dati della CORINE Land Cover.\"\n",
    "    image: ../../project_logo.jpg\n",
    "categories: [vector, geoprocessing]\n",
    "image: ../../project_logo.jpg\n",
    "format:\n",
    "    html:\n",
    "        toc: true\n",
    "        code-fold: false\n",
    "execute:\n",
    "  enabled: false\n",
    "---"
   ],
   "metadata": {
    "collapsed": false
   }
  },
  {
   "cell_type": "markdown",
   "metadata": {},
   "source": [
    "Qualche anno fa analizzai i dati del progetto [CORINE Land Cover](https://land.copernicus.eu/pan-european/corine-land-cover) relativi alla [Campania](https://massimilianomoraca.it/blog/gis/luso-del-suolo-in-campania-dati-dal-progetto-corine-land-cover/), focalizzandomi sui tre censimenti tra il 2000 ed il 2012. Oggi invece estenderò quell'analisi inserendo sia i dati del 1990 che gli ultimi disponibili attualmente, cioè quelli del 2018.\n",
    "\n",
    "L'analisi questa volta la farò usando Python e la estenderò al resto dell'Italia verso la fine."
   ]
  },
  {
   "cell_type": "markdown",
   "metadata": {},
   "source": [
    "## Prima di iniziare"
   ]
  },
  {
   "cell_type": "markdown",
   "metadata": {},
   "source": [
    "\n",
    "### Librerie\n",
    "Per raggiungere l'obiettivo userò le librerie che seguono:"
   ]
  },
  {
   "cell_type": "code",
   "execution_count": 1,
   "metadata": {
    "ExecuteTime": {
     "end_time": "2023-08-19T09:48:17.470247784Z",
     "start_time": "2023-08-19T09:48:15.111458369Z"
    }
   },
   "outputs": [],
   "source": [
    "from pathlib import Path\n",
    "import geopandas as gpd\n",
    "import pandas as pd\n",
    "from functools import reduce\n",
    "import matplotlib.pyplot as plt\n",
    "from matplotlib.gridspec import GridSpec\n",
    "\n",
    "import warnings\n",
    "warnings.filterwarnings('ignore')\n",
    "warnings.simplefilter('ignore')"
   ]
  },
  {
   "cell_type": "markdown",
   "metadata": {},
   "source": [
    "### Fonti dati\n",
    "Ho rielaborato i dati CORINE Land Cover dal 1990 al 2018 inserendoli in un unico [GeoPackage](https://massimilianomoraca.it/blog/gis/il-geopackage-una-valida-alternativa-al-formato-shape/) che è possibile scaricare da [qui](https://massimilianomoraca.it/media/uploads/documents/2022/08/26/clcitalia.7z). I dati sono stati processati preventivamente usando [PostGIS](https://postgis.net/) in modo da associare ai poligoni della CLC anche quelli dei Comuni italiani al 2022 dell'[ISTAT](https://www.istat.it/it/archivio/222527). E' stato indispensabile questo passaggio preventivo perchè ho dovuto correggere gli errori topologici sui dati ISTAT e, al momento, trovo molto più comodo [correggere gli errori topologici](https://massimilianomoraca.it/blog/gis/correggere-le-geometrie-non-valide/) tramite SQL piuttosto che con Python."
   ]
  },
  {
   "cell_type": "code",
   "execution_count": 2,
   "metadata": {
    "ExecuteTime": {
     "end_time": "2023-08-19T09:48:17.470720357Z",
     "start_time": "2023-08-19T09:48:15.751056066Z"
    }
   },
   "outputs": [],
   "source": [
    "main_folder = Path('/home/max/Downloads/clcitalia')\n",
    "dataset = main_folder.joinpath('clcitalia.gpkg')"
   ]
  },
  {
   "cell_type": "markdown",
   "metadata": {},
   "source": [
    "# 1. Lettura e normalizzazione dei dati\n",
    "In questa fase ho proceduto ad estrarre un po' di dati statistici che userò nei passaggi successivi. Sono perlopiu analisi mirate al calcolo delle superfici che ho espresso in [ettari](https://it.wikipedia.org/wiki/Ettaro). Fatte queste analisi mi sono liberato dei dati geometrici perchè, non dovendoli più usare, mi alleggeriscono le analisi successive in termini di prestazioni hardware."
   ]
  },
  {
   "cell_type": "code",
   "execution_count": null,
   "outputs": [],
   "source": [
    "# CLC 1990\n",
    "clc1990 = gpd.read_file(dataset, layer='clc1990')\n",
    "clc1990.insert(loc=10, column='sup_com_ha', value=clc1990.sup_com_mq / 10000)\n",
    "clc1990.insert(loc=11, column='surface_ha_1990', value=round(clc1990.geometry.area / 10000, 4))\n",
    "clc1990.drop(columns={'sup_com_mq', 'geometry'}, inplace=True)\n",
    "\n",
    "clc1990.head(10)"
   ],
   "metadata": {
    "collapsed": false
   }
  },
  {
   "cell_type": "code",
   "execution_count": null,
   "outputs": [],
   "source": [
    "# CLC 2000\n",
    "clc2000 = gpd.read_file(dataset, layer='clc2000')\n",
    "clc2000.insert(loc=10, column='sup_com_ha', value=clc2000.sup_com_mq / 10000)\n",
    "clc2000.insert(loc=11, column='surface_ha_2000', value=round(clc2000.geometry.area / 10000, 4))\n",
    "clc2000.drop(columns={'sup_com_mq', 'geometry'}, inplace=True)\n",
    "\n",
    "clc2000.head(10)"
   ],
   "metadata": {
    "collapsed": false
   }
  },
  {
   "cell_type": "code",
   "execution_count": null,
   "outputs": [],
   "source": [
    "# CLC 2006\n",
    "clc2006 = gpd.read_file(dataset, layer='clc2006')\n",
    "clc2006.insert(loc=10, column='sup_com_ha', value=clc2006.sup_com_mq / 10000)\n",
    "clc2006.insert(loc=11, column='surface_ha_2006', value=round(clc2006.geometry.area / 10000, 4))\n",
    "clc2006.drop(columns={'sup_com_mq', 'geometry'}, inplace=True)\n",
    "\n",
    "clc2006.head(10)"
   ],
   "metadata": {
    "collapsed": false
   }
  },
  {
   "cell_type": "code",
   "execution_count": null,
   "outputs": [],
   "source": [
    "# CLC 2012\n",
    "clc2012 = gpd.read_file(dataset, layer='clc2012')\n",
    "clc2012.insert(loc=10, column='sup_com_ha', value=clc2012.sup_com_mq / 10000)\n",
    "clc2012.insert(loc=11, column='surface_ha_2012', value=round(clc2012.geometry.area / 10000, 4))\n",
    "clc2012.drop(columns={'sup_com_mq', 'geometry'}, inplace=True)\n",
    "\n",
    "clc2012.head(10)"
   ],
   "metadata": {
    "collapsed": false
   }
  },
  {
   "cell_type": "code",
   "execution_count": 3,
   "outputs": [
    {
     "ename": "KeyboardInterrupt",
     "evalue": "",
     "output_type": "error",
     "traceback": [
      "\u001B[0;31m---------------------------------------------------------------------------\u001B[0m",
      "\u001B[0;31mKeyboardInterrupt\u001B[0m                         Traceback (most recent call last)",
      "Cell \u001B[0;32mIn[3], line 20\u001B[0m\n\u001B[1;32m     17\u001B[0m clc2006\u001B[38;5;241m.\u001B[39mdrop(columns\u001B[38;5;241m=\u001B[39m{\u001B[38;5;124m'\u001B[39m\u001B[38;5;124msup_com_mq\u001B[39m\u001B[38;5;124m'\u001B[39m, \u001B[38;5;124m'\u001B[39m\u001B[38;5;124mgeometry\u001B[39m\u001B[38;5;124m'\u001B[39m}, inplace\u001B[38;5;241m=\u001B[39m\u001B[38;5;28;01mTrue\u001B[39;00m)\n\u001B[1;32m     19\u001B[0m \u001B[38;5;66;03m# CLC 2012\u001B[39;00m\n\u001B[0;32m---> 20\u001B[0m clc2012 \u001B[38;5;241m=\u001B[39m \u001B[43mgpd\u001B[49m\u001B[38;5;241;43m.\u001B[39;49m\u001B[43mread_file\u001B[49m\u001B[43m(\u001B[49m\u001B[43mdataset\u001B[49m\u001B[43m,\u001B[49m\u001B[43m \u001B[49m\u001B[43mlayer\u001B[49m\u001B[38;5;241;43m=\u001B[39;49m\u001B[38;5;124;43m'\u001B[39;49m\u001B[38;5;124;43mclc2012\u001B[39;49m\u001B[38;5;124;43m'\u001B[39;49m\u001B[43m)\u001B[49m\n\u001B[1;32m     21\u001B[0m clc2012\u001B[38;5;241m.\u001B[39minsert(loc\u001B[38;5;241m=\u001B[39m\u001B[38;5;241m10\u001B[39m, column\u001B[38;5;241m=\u001B[39m\u001B[38;5;124m'\u001B[39m\u001B[38;5;124msup_com_ha\u001B[39m\u001B[38;5;124m'\u001B[39m, value\u001B[38;5;241m=\u001B[39mclc2012\u001B[38;5;241m.\u001B[39msup_com_mq \u001B[38;5;241m/\u001B[39m \u001B[38;5;241m10000\u001B[39m)\n\u001B[1;32m     22\u001B[0m clc2012\u001B[38;5;241m.\u001B[39minsert(loc\u001B[38;5;241m=\u001B[39m\u001B[38;5;241m11\u001B[39m, column\u001B[38;5;241m=\u001B[39m\u001B[38;5;124m'\u001B[39m\u001B[38;5;124msurface_ha_2012\u001B[39m\u001B[38;5;124m'\u001B[39m, value\u001B[38;5;241m=\u001B[39m\u001B[38;5;28mround\u001B[39m(clc2012\u001B[38;5;241m.\u001B[39mgeometry\u001B[38;5;241m.\u001B[39marea \u001B[38;5;241m/\u001B[39m \u001B[38;5;241m10000\u001B[39m, \u001B[38;5;241m4\u001B[39m))\n",
      "File \u001B[0;32m~/.cache/pypoetry/virtualenvs/pygis_blog-iPs2SW5R-py3.10/lib/python3.10/site-packages/geopandas/io/file.py:281\u001B[0m, in \u001B[0;36m_read_file\u001B[0;34m(filename, bbox, mask, rows, engine, **kwargs)\u001B[0m\n\u001B[1;32m    278\u001B[0m     \u001B[38;5;28;01melse\u001B[39;00m:\n\u001B[1;32m    279\u001B[0m         path_or_bytes \u001B[38;5;241m=\u001B[39m filename\n\u001B[0;32m--> 281\u001B[0m     \u001B[38;5;28;01mreturn\u001B[39;00m \u001B[43m_read_file_fiona\u001B[49m\u001B[43m(\u001B[49m\n\u001B[1;32m    282\u001B[0m \u001B[43m        \u001B[49m\u001B[43mpath_or_bytes\u001B[49m\u001B[43m,\u001B[49m\u001B[43m \u001B[49m\u001B[43mfrom_bytes\u001B[49m\u001B[43m,\u001B[49m\u001B[43m \u001B[49m\u001B[43mbbox\u001B[49m\u001B[38;5;241;43m=\u001B[39;49m\u001B[43mbbox\u001B[49m\u001B[43m,\u001B[49m\u001B[43m \u001B[49m\u001B[43mmask\u001B[49m\u001B[38;5;241;43m=\u001B[39;49m\u001B[43mmask\u001B[49m\u001B[43m,\u001B[49m\u001B[43m \u001B[49m\u001B[43mrows\u001B[49m\u001B[38;5;241;43m=\u001B[39;49m\u001B[43mrows\u001B[49m\u001B[43m,\u001B[49m\u001B[43m \u001B[49m\u001B[38;5;241;43m*\u001B[39;49m\u001B[38;5;241;43m*\u001B[39;49m\u001B[43mkwargs\u001B[49m\n\u001B[1;32m    283\u001B[0m \u001B[43m    \u001B[49m\u001B[43m)\u001B[49m\n\u001B[1;32m    285\u001B[0m \u001B[38;5;28;01melse\u001B[39;00m:\n\u001B[1;32m    286\u001B[0m     \u001B[38;5;28;01mraise\u001B[39;00m \u001B[38;5;167;01mValueError\u001B[39;00m(\u001B[38;5;124mf\u001B[39m\u001B[38;5;124m\"\u001B[39m\u001B[38;5;124munknown engine \u001B[39m\u001B[38;5;124m'\u001B[39m\u001B[38;5;132;01m{\u001B[39;00mengine\u001B[38;5;132;01m}\u001B[39;00m\u001B[38;5;124m'\u001B[39m\u001B[38;5;124m\"\u001B[39m)\n",
      "File \u001B[0;32m~/.cache/pypoetry/virtualenvs/pygis_blog-iPs2SW5R-py3.10/lib/python3.10/site-packages/geopandas/io/file.py:379\u001B[0m, in \u001B[0;36m_read_file_fiona\u001B[0;34m(path_or_bytes, from_bytes, bbox, mask, rows, where, **kwargs)\u001B[0m\n\u001B[1;32m    375\u001B[0m     df \u001B[38;5;241m=\u001B[39m pd\u001B[38;5;241m.\u001B[39mDataFrame(\n\u001B[1;32m    376\u001B[0m         [record[\u001B[38;5;124m\"\u001B[39m\u001B[38;5;124mproperties\u001B[39m\u001B[38;5;124m\"\u001B[39m] \u001B[38;5;28;01mfor\u001B[39;00m record \u001B[38;5;129;01min\u001B[39;00m f_filt], columns\u001B[38;5;241m=\u001B[39mcolumns\n\u001B[1;32m    377\u001B[0m     )\n\u001B[1;32m    378\u001B[0m \u001B[38;5;28;01melse\u001B[39;00m:\n\u001B[0;32m--> 379\u001B[0m     df \u001B[38;5;241m=\u001B[39m \u001B[43mGeoDataFrame\u001B[49m\u001B[38;5;241;43m.\u001B[39;49m\u001B[43mfrom_features\u001B[49m\u001B[43m(\u001B[49m\n\u001B[1;32m    380\u001B[0m \u001B[43m        \u001B[49m\u001B[43mf_filt\u001B[49m\u001B[43m,\u001B[49m\u001B[43m \u001B[49m\u001B[43mcrs\u001B[49m\u001B[38;5;241;43m=\u001B[39;49m\u001B[43mcrs\u001B[49m\u001B[43m,\u001B[49m\u001B[43m \u001B[49m\u001B[43mcolumns\u001B[49m\u001B[38;5;241;43m=\u001B[39;49m\u001B[43mcolumns\u001B[49m\u001B[43m \u001B[49m\u001B[38;5;241;43m+\u001B[39;49m\u001B[43m \u001B[49m\u001B[43m[\u001B[49m\u001B[38;5;124;43m\"\u001B[39;49m\u001B[38;5;124;43mgeometry\u001B[39;49m\u001B[38;5;124;43m\"\u001B[39;49m\u001B[43m]\u001B[49m\n\u001B[1;32m    381\u001B[0m \u001B[43m    \u001B[49m\u001B[43m)\u001B[49m\n\u001B[1;32m    382\u001B[0m \u001B[38;5;28;01mfor\u001B[39;00m k \u001B[38;5;129;01min\u001B[39;00m datetime_fields:\n\u001B[1;32m    383\u001B[0m     as_dt \u001B[38;5;241m=\u001B[39m pd\u001B[38;5;241m.\u001B[39mto_datetime(df[k], errors\u001B[38;5;241m=\u001B[39m\u001B[38;5;124m\"\u001B[39m\u001B[38;5;124mignore\u001B[39m\u001B[38;5;124m\"\u001B[39m)\n",
      "File \u001B[0;32m~/.cache/pypoetry/virtualenvs/pygis_blog-iPs2SW5R-py3.10/lib/python3.10/site-packages/geopandas/geodataframe.py:640\u001B[0m, in \u001B[0;36mGeoDataFrame.from_features\u001B[0;34m(cls, features, crs, columns)\u001B[0m\n\u001B[1;32m    637\u001B[0m \u001B[38;5;28;01mif\u001B[39;00m \u001B[38;5;28mhasattr\u001B[39m(feature, \u001B[38;5;124m\"\u001B[39m\u001B[38;5;124m__geo_interface__\u001B[39m\u001B[38;5;124m\"\u001B[39m):\n\u001B[1;32m    638\u001B[0m     feature \u001B[38;5;241m=\u001B[39m feature\u001B[38;5;241m.\u001B[39m__geo_interface__\n\u001B[1;32m    639\u001B[0m row \u001B[38;5;241m=\u001B[39m {\n\u001B[0;32m--> 640\u001B[0m     \u001B[38;5;124m\"\u001B[39m\u001B[38;5;124mgeometry\u001B[39m\u001B[38;5;124m\"\u001B[39m: \u001B[43mshape\u001B[49m\u001B[43m(\u001B[49m\u001B[43mfeature\u001B[49m\u001B[43m[\u001B[49m\u001B[38;5;124;43m\"\u001B[39;49m\u001B[38;5;124;43mgeometry\u001B[39;49m\u001B[38;5;124;43m\"\u001B[39;49m\u001B[43m]\u001B[49m\u001B[43m)\u001B[49m \u001B[38;5;28;01mif\u001B[39;00m feature[\u001B[38;5;124m\"\u001B[39m\u001B[38;5;124mgeometry\u001B[39m\u001B[38;5;124m\"\u001B[39m] \u001B[38;5;28;01melse\u001B[39;00m \u001B[38;5;28;01mNone\u001B[39;00m\n\u001B[1;32m    641\u001B[0m }\n\u001B[1;32m    642\u001B[0m \u001B[38;5;66;03m# load properties\u001B[39;00m\n\u001B[1;32m    643\u001B[0m properties \u001B[38;5;241m=\u001B[39m feature[\u001B[38;5;124m\"\u001B[39m\u001B[38;5;124mproperties\u001B[39m\u001B[38;5;124m\"\u001B[39m]\n",
      "File \u001B[0;32m~/.cache/pypoetry/virtualenvs/pygis_blog-iPs2SW5R-py3.10/lib/python3.10/site-packages/shapely/geometry/geo.py:108\u001B[0m, in \u001B[0;36mshape\u001B[0;34m(context)\u001B[0m\n\u001B[1;32m    106\u001B[0m     \u001B[38;5;28;01mreturn\u001B[39;00m MultiLineString(ob[\u001B[38;5;124m\"\u001B[39m\u001B[38;5;124mcoordinates\u001B[39m\u001B[38;5;124m\"\u001B[39m])\n\u001B[1;32m    107\u001B[0m \u001B[38;5;28;01melif\u001B[39;00m geom_type \u001B[38;5;241m==\u001B[39m \u001B[38;5;124m\"\u001B[39m\u001B[38;5;124mmultipolygon\u001B[39m\u001B[38;5;124m\"\u001B[39m:\n\u001B[0;32m--> 108\u001B[0m     \u001B[38;5;28;01mreturn\u001B[39;00m \u001B[43mMultiPolygon\u001B[49m\u001B[43m(\u001B[49m\u001B[43m[\u001B[49m\u001B[43m[\u001B[49m\u001B[43mc\u001B[49m\u001B[43m[\u001B[49m\u001B[38;5;241;43m0\u001B[39;49m\u001B[43m]\u001B[49m\u001B[43m,\u001B[49m\u001B[43m \u001B[49m\u001B[43mc\u001B[49m\u001B[43m[\u001B[49m\u001B[38;5;241;43m1\u001B[39;49m\u001B[43m:\u001B[49m\u001B[43m]\u001B[49m\u001B[43m]\u001B[49m\u001B[43m \u001B[49m\u001B[38;5;28;43;01mfor\u001B[39;49;00m\u001B[43m \u001B[49m\u001B[43mc\u001B[49m\u001B[43m \u001B[49m\u001B[38;5;129;43;01min\u001B[39;49;00m\u001B[43m \u001B[49m\u001B[43mob\u001B[49m\u001B[43m[\u001B[49m\u001B[38;5;124;43m\"\u001B[39;49m\u001B[38;5;124;43mcoordinates\u001B[39;49m\u001B[38;5;124;43m\"\u001B[39;49m\u001B[43m]\u001B[49m\u001B[43m]\u001B[49m\u001B[43m)\u001B[49m\n\u001B[1;32m    109\u001B[0m \u001B[38;5;28;01melif\u001B[39;00m geom_type \u001B[38;5;241m==\u001B[39m \u001B[38;5;124m\"\u001B[39m\u001B[38;5;124mgeometrycollection\u001B[39m\u001B[38;5;124m\"\u001B[39m:\n\u001B[1;32m    110\u001B[0m     geoms \u001B[38;5;241m=\u001B[39m [shape(g) \u001B[38;5;28;01mfor\u001B[39;00m g \u001B[38;5;129;01min\u001B[39;00m ob\u001B[38;5;241m.\u001B[39mget(\u001B[38;5;124m\"\u001B[39m\u001B[38;5;124mgeometries\u001B[39m\u001B[38;5;124m\"\u001B[39m, [])]\n",
      "File \u001B[0;32m~/.cache/pypoetry/virtualenvs/pygis_blog-iPs2SW5R-py3.10/lib/python3.10/site-packages/shapely/geometry/multipolygon.py:81\u001B[0m, in \u001B[0;36mMultiPolygon.__new__\u001B[0;34m(self, polygons)\u001B[0m\n\u001B[1;32m     79\u001B[0m     shell \u001B[38;5;241m=\u001B[39m ob[\u001B[38;5;241m0\u001B[39m]\n\u001B[1;32m     80\u001B[0m     holes \u001B[38;5;241m=\u001B[39m ob[\u001B[38;5;241m1\u001B[39m]\n\u001B[0;32m---> 81\u001B[0m     p \u001B[38;5;241m=\u001B[39m \u001B[43mpolygon\u001B[49m\u001B[38;5;241;43m.\u001B[39;49m\u001B[43mPolygon\u001B[49m\u001B[43m(\u001B[49m\u001B[43mshell\u001B[49m\u001B[43m,\u001B[49m\u001B[43m \u001B[49m\u001B[43mholes\u001B[49m\u001B[43m)\u001B[49m\n\u001B[1;32m     82\u001B[0m \u001B[38;5;28;01melse\u001B[39;00m:\n\u001B[1;32m     83\u001B[0m     p \u001B[38;5;241m=\u001B[39m polygon\u001B[38;5;241m.\u001B[39mPolygon(ob)\n",
      "File \u001B[0;32m~/.cache/pypoetry/virtualenvs/pygis_blog-iPs2SW5R-py3.10/lib/python3.10/site-packages/shapely/geometry/polygon.py:230\u001B[0m, in \u001B[0;36mPolygon.__new__\u001B[0;34m(self, shell, holes)\u001B[0m\n\u001B[1;32m    228\u001B[0m     \u001B[38;5;28;01mreturn\u001B[39;00m shell\n\u001B[1;32m    229\u001B[0m \u001B[38;5;28;01melse\u001B[39;00m:\n\u001B[0;32m--> 230\u001B[0m     shell \u001B[38;5;241m=\u001B[39m \u001B[43mLinearRing\u001B[49m\u001B[43m(\u001B[49m\u001B[43mshell\u001B[49m\u001B[43m)\u001B[49m\n\u001B[1;32m    232\u001B[0m \u001B[38;5;28;01mif\u001B[39;00m holes \u001B[38;5;129;01mis\u001B[39;00m \u001B[38;5;129;01mnot\u001B[39;00m \u001B[38;5;28;01mNone\u001B[39;00m:\n\u001B[1;32m    233\u001B[0m     \u001B[38;5;28;01mif\u001B[39;00m \u001B[38;5;28mlen\u001B[39m(holes) \u001B[38;5;241m==\u001B[39m \u001B[38;5;241m0\u001B[39m:\n\u001B[1;32m    234\u001B[0m         \u001B[38;5;66;03m# shapely constructor cannot handle holes=[]\u001B[39;00m\n",
      "File \u001B[0;32m~/.cache/pypoetry/virtualenvs/pygis_blog-iPs2SW5R-py3.10/lib/python3.10/site-packages/shapely/geometry/polygon.py:93\u001B[0m, in \u001B[0;36mLinearRing.__new__\u001B[0;34m(self, coordinates)\u001B[0m\n\u001B[1;32m     90\u001B[0m     \u001B[38;5;28;01melse\u001B[39;00m:\n\u001B[1;32m     91\u001B[0m         \u001B[38;5;28;01mreturn\u001B[39;00m [\u001B[38;5;28mfloat\u001B[39m(c) \u001B[38;5;28;01mfor\u001B[39;00m c \u001B[38;5;129;01min\u001B[39;00m o]\n\u001B[0;32m---> 93\u001B[0m coordinates \u001B[38;5;241m=\u001B[39m np\u001B[38;5;241m.\u001B[39marray([_coords(o) \u001B[38;5;28;01mfor\u001B[39;00m o \u001B[38;5;129;01min\u001B[39;00m coordinates])\n\u001B[1;32m     94\u001B[0m \u001B[38;5;28;01mif\u001B[39;00m \u001B[38;5;129;01mnot\u001B[39;00m np\u001B[38;5;241m.\u001B[39missubdtype(coordinates\u001B[38;5;241m.\u001B[39mdtype, np\u001B[38;5;241m.\u001B[39mnumber):\n\u001B[1;32m     95\u001B[0m     \u001B[38;5;66;03m# conversion of coords to 2D array failed, this might be due\u001B[39;00m\n\u001B[1;32m     96\u001B[0m     \u001B[38;5;66;03m# to inconsistent coordinate dimensionality\u001B[39;00m\n\u001B[1;32m     97\u001B[0m     \u001B[38;5;28;01mraise\u001B[39;00m \u001B[38;5;167;01mValueError\u001B[39;00m(\u001B[38;5;124m\"\u001B[39m\u001B[38;5;124mInconsistent coordinate dimensionality\u001B[39m\u001B[38;5;124m\"\u001B[39m)\n",
      "File \u001B[0;32m~/.cache/pypoetry/virtualenvs/pygis_blog-iPs2SW5R-py3.10/lib/python3.10/site-packages/shapely/geometry/polygon.py:93\u001B[0m, in \u001B[0;36m<listcomp>\u001B[0;34m(.0)\u001B[0m\n\u001B[1;32m     90\u001B[0m     \u001B[38;5;28;01melse\u001B[39;00m:\n\u001B[1;32m     91\u001B[0m         \u001B[38;5;28;01mreturn\u001B[39;00m [\u001B[38;5;28mfloat\u001B[39m(c) \u001B[38;5;28;01mfor\u001B[39;00m c \u001B[38;5;129;01min\u001B[39;00m o]\n\u001B[0;32m---> 93\u001B[0m coordinates \u001B[38;5;241m=\u001B[39m np\u001B[38;5;241m.\u001B[39marray([\u001B[43m_coords\u001B[49m\u001B[43m(\u001B[49m\u001B[43mo\u001B[49m\u001B[43m)\u001B[49m \u001B[38;5;28;01mfor\u001B[39;00m o \u001B[38;5;129;01min\u001B[39;00m coordinates])\n\u001B[1;32m     94\u001B[0m \u001B[38;5;28;01mif\u001B[39;00m \u001B[38;5;129;01mnot\u001B[39;00m np\u001B[38;5;241m.\u001B[39missubdtype(coordinates\u001B[38;5;241m.\u001B[39mdtype, np\u001B[38;5;241m.\u001B[39mnumber):\n\u001B[1;32m     95\u001B[0m     \u001B[38;5;66;03m# conversion of coords to 2D array failed, this might be due\u001B[39;00m\n\u001B[1;32m     96\u001B[0m     \u001B[38;5;66;03m# to inconsistent coordinate dimensionality\u001B[39;00m\n\u001B[1;32m     97\u001B[0m     \u001B[38;5;28;01mraise\u001B[39;00m \u001B[38;5;167;01mValueError\u001B[39;00m(\u001B[38;5;124m\"\u001B[39m\u001B[38;5;124mInconsistent coordinate dimensionality\u001B[39m\u001B[38;5;124m\"\u001B[39m)\n",
      "File \u001B[0;32m~/.cache/pypoetry/virtualenvs/pygis_blog-iPs2SW5R-py3.10/lib/python3.10/site-packages/shapely/geometry/polygon.py:91\u001B[0m, in \u001B[0;36mLinearRing.__new__.<locals>._coords\u001B[0;34m(o)\u001B[0m\n\u001B[1;32m     89\u001B[0m     \u001B[38;5;28;01mreturn\u001B[39;00m o\u001B[38;5;241m.\u001B[39mcoords[\u001B[38;5;241m0\u001B[39m]\n\u001B[1;32m     90\u001B[0m \u001B[38;5;28;01melse\u001B[39;00m:\n\u001B[0;32m---> 91\u001B[0m     \u001B[38;5;28;01mreturn\u001B[39;00m [\u001B[38;5;28mfloat\u001B[39m(c) \u001B[38;5;28;01mfor\u001B[39;00m c \u001B[38;5;129;01min\u001B[39;00m o]\n",
      "File \u001B[0;32m~/.cache/pypoetry/virtualenvs/pygis_blog-iPs2SW5R-py3.10/lib/python3.10/site-packages/shapely/geometry/polygon.py:91\u001B[0m, in \u001B[0;36m<listcomp>\u001B[0;34m(.0)\u001B[0m\n\u001B[1;32m     89\u001B[0m     \u001B[38;5;28;01mreturn\u001B[39;00m o\u001B[38;5;241m.\u001B[39mcoords[\u001B[38;5;241m0\u001B[39m]\n\u001B[1;32m     90\u001B[0m \u001B[38;5;28;01melse\u001B[39;00m:\n\u001B[0;32m---> 91\u001B[0m     \u001B[38;5;28;01mreturn\u001B[39;00m [\u001B[38;5;28mfloat\u001B[39m(c) \u001B[38;5;28;01mfor\u001B[39;00m c \u001B[38;5;129;01min\u001B[39;00m o]\n",
      "\u001B[0;31mKeyboardInterrupt\u001B[0m: "
     ]
    }
   ],
   "source": [
    "# CLC 2018\n",
    "clc2018 = gpd.read_file(dataset, layer='clc2018')\n",
    "clc2018.insert(loc=10, column='sup_com_ha', value=clc2018.sup_com_mq / 10000)\n",
    "clc2018.insert(loc=11, column='surface_ha_2018', value=round(clc2018.geometry.area / 10000, 4))\n",
    "clc2018.drop(columns={'sup_com_mq', 'geometry'}, inplace=True)\n",
    "\n",
    "clc2018.head(10)"
   ],
   "metadata": {
    "collapsed": false,
    "ExecuteTime": {
     "end_time": "2023-08-19T09:51:34.593732841Z",
     "start_time": "2023-08-19T09:48:15.760273063Z"
    }
   }
  },
  {
   "cell_type": "markdown",
   "source": [
    "Le colonne `label*` fanno riferimento alla nomenclatura delle tre classi della mappa CORINE Land Cover per ogni singolo anno. Per interpretare la nomenclatura vai [qui](https://land.copernicus.eu/user-corner/technical-library/corine-land-cover-nomenclature-guidelines/html/index.html). Come puoi vedere sono presenti le colonne relative al Comune, Provincia e Regione di apparteneza, l'estensione dell'area comunale(`sup_com_ha`) e quelle relative alle superfici della CLC che mi sono calcolato in precedenza."
   ],
   "metadata": {
    "collapsed": false
   }
  },
  {
   "cell_type": "markdown",
   "source": [
    "# 2. Focus sulla Campania\n",
    "Per appartenza territoriale partirò proprio dalla Campania, lo faccio anche per riprendere parte della analisi del mio vecchio articolo."
   ],
   "metadata": {
    "collapsed": false
   }
  },
  {
   "cell_type": "code",
   "execution_count": null,
   "outputs": [],
   "source": [
    "clc1990_campania = clc1990[clc1990['regione'] == 'Campania']\n",
    "clc2000_campania = clc2000[clc2000['regione'] == 'Campania']\n",
    "clc2006_campania = clc2006[clc2006['regione'] == 'Campania']\n",
    "clc2012_campania = clc2012[clc2012['regione'] == 'Campania']\n",
    "clc2018_campania = clc2018[clc2018['regione'] == 'Campania']"
   ],
   "metadata": {
    "collapsed": false,
    "ExecuteTime": {
     "start_time": "2023-08-19T09:51:34.514905786Z"
    }
   }
  },
  {
   "cell_type": "markdown",
   "source": [
    "Test di visualizzazione"
   ],
   "metadata": {
    "collapsed": false
   }
  },
  {
   "cell_type": "code",
   "execution_count": null,
   "outputs": [],
   "source": [
    "clc2000_campania"
   ],
   "metadata": {
    "collapsed": false,
    "ExecuteTime": {
     "start_time": "2023-08-19T09:51:34.515110047Z"
    }
   }
  },
  {
   "cell_type": "markdown",
   "metadata": {},
   "source": [
    "### 2.1.1 Stato al 1990\n",
    "Come primo step mi sono concentrato sui dati del 1990; ho pulito un po' la tabella per rendere meglio comprensibile la sua lettura ed ho estratto valori per tutte e tre le classi. Quello che ho fatto per il 1990 l'ho ripetuto per i restanti anni."
   ]
  },
  {
   "cell_type": "markdown",
   "source": [
    "**Livello 1**"
   ],
   "metadata": {
    "collapsed": false
   }
  },
  {
   "cell_type": "code",
   "execution_count": null,
   "metadata": {
    "ExecuteTime": {
     "start_time": "2023-08-19T09:51:34.515281125Z"
    }
   },
   "outputs": [],
   "source": [
    "campania_clc1990_label1 = pd.DataFrame(clc1990_campania.groupby('label1')['surface_ha_1990'].sum())\n",
    "campania_clc1990_label1.reset_index(inplace=True)\n",
    "campania_clc1990_label1.rename(columns={'label1': 'CORINE Land Cover - level 1'}, inplace=True)\n",
    "campania_clc1990_label1"
   ]
  },
  {
   "cell_type": "markdown",
   "source": [
    "**Livello 2**"
   ],
   "metadata": {
    "collapsed": false
   }
  },
  {
   "cell_type": "code",
   "execution_count": null,
   "metadata": {
    "ExecuteTime": {
     "start_time": "2023-08-19T09:51:34.515450456Z"
    }
   },
   "outputs": [],
   "source": [
    "campania_clc1990_label2 = pd.DataFrame(clc1990_campania.groupby('label2')['surface_ha_1990'].sum())\n",
    "campania_clc1990_label2.reset_index(inplace=True)\n",
    "campania_clc1990_label2.rename(columns={'label2': 'CORINE Land Cover - level 2'}, inplace=True)\n",
    "campania_clc1990_label2"
   ]
  },
  {
   "cell_type": "markdown",
   "source": [
    "**Livello 3**"
   ],
   "metadata": {
    "collapsed": false
   }
  },
  {
   "cell_type": "code",
   "execution_count": null,
   "metadata": {
    "ExecuteTime": {
     "start_time": "2023-08-19T09:51:34.515684146Z"
    }
   },
   "outputs": [],
   "source": [
    "campania_clc1990_label3 = pd.DataFrame(clc1990_campania.groupby('label3')['surface_ha_1990'].sum())\n",
    "campania_clc1990_label3.reset_index(inplace=True)\n",
    "campania_clc1990_label3.rename(columns={'label3': 'CORINE Land Cover - level 3'}, inplace=True)\n",
    "campania_clc1990_label3"
   ]
  },
  {
   "cell_type": "markdown",
   "metadata": {},
   "source": [
    "### 2.1.2 Stato al 2000"
   ]
  },
  {
   "cell_type": "code",
   "execution_count": null,
   "metadata": {
    "ExecuteTime": {
     "start_time": "2023-08-19T09:51:34.548045868Z"
    }
   },
   "outputs": [],
   "source": [
    "campania_clc2000_label1 = pd.DataFrame(clc2000_campania.groupby('label1')['surface_ha_2000'].sum())\n",
    "campania_clc2000_label1.reset_index(inplace=True)\n",
    "campania_clc2000_label1.rename(columns={'label1': 'CORINE Land Cover - level 1'}, inplace=True)\n",
    "\n",
    "campania_clc2000_label2 = pd.DataFrame(clc2000_campania.groupby('label2')['surface_ha_2000'].sum())\n",
    "campania_clc2000_label2.reset_index(inplace=True)\n",
    "campania_clc2000_label2.rename(columns={'label2': 'CORINE Land Cover - level 2'}, inplace=True)\n",
    "\n",
    "campania_clc2000_label3 = pd.DataFrame(clc2000_campania.groupby('label3')['surface_ha_2000'].sum())\n",
    "campania_clc2000_label3.reset_index(inplace=True)\n",
    "campania_clc2000_label3.rename(columns={'label3': 'CORINE Land Cover - level 3'}, inplace=True)"
   ]
  },
  {
   "cell_type": "markdown",
   "metadata": {},
   "source": [
    "### 2.1.3 Stato al 2006"
   ]
  },
  {
   "cell_type": "code",
   "execution_count": null,
   "metadata": {
    "ExecuteTime": {
     "start_time": "2023-08-19T09:51:34.548332303Z"
    }
   },
   "outputs": [],
   "source": [
    "campania_clc2006_label1 = pd.DataFrame(clc2006_campania.groupby('label1')['surface_ha_2006'].sum())\n",
    "campania_clc2006_label1.reset_index(inplace=True)\n",
    "campania_clc2006_label1.rename(columns={'label1': 'CORINE Land Cover - level 1'}, inplace=True)\n",
    "\n",
    "campania_clc2006_label2 = pd.DataFrame(clc2006_campania.groupby('label2')['surface_ha_2006'].sum())\n",
    "campania_clc2006_label2.reset_index(inplace=True)\n",
    "campania_clc2006_label2.rename(columns={'label2': 'CORINE Land Cover - level 2'}, inplace=True)\n",
    "\n",
    "campania_clc2006_label3 = pd.DataFrame(clc2006_campania.groupby('label3')['surface_ha_2006'].sum())\n",
    "campania_clc2006_label3.reset_index(inplace=True)\n",
    "campania_clc2006_label3.rename(columns={'label3': 'CORINE Land Cover - level 3'}, inplace=True)"
   ]
  },
  {
   "cell_type": "markdown",
   "metadata": {},
   "source": [
    "### 2.1.4 Stato al 2012"
   ]
  },
  {
   "cell_type": "code",
   "execution_count": null,
   "metadata": {
    "ExecuteTime": {
     "start_time": "2023-08-19T09:51:34.548508548Z"
    }
   },
   "outputs": [],
   "source": [
    "campania_clc2012_label1 = pd.DataFrame(clc2012_campania.groupby('label1')['surface_ha_2012'].sum())\n",
    "campania_clc2012_label1.reset_index(inplace=True)\n",
    "campania_clc2012_label1.rename(columns={'label1': 'CORINE Land Cover - level 1'}, inplace=True)\n",
    "\n",
    "campania_clc2012_label2 = pd.DataFrame(clc2012_campania.groupby('label2')['surface_ha_2012'].sum())\n",
    "campania_clc2012_label2.reset_index(inplace=True)\n",
    "campania_clc2012_label2.rename(columns={'label2': 'CORINE Land Cover - level 2'}, inplace=True)\n",
    "\n",
    "campania_clc2012_label3 = pd.DataFrame(clc2012_campania.groupby('label3')['surface_ha_2012'].sum())\n",
    "campania_clc2012_label3.reset_index(inplace=True)\n",
    "campania_clc2012_label3.rename(columns={'label3': 'CORINE Land Cover - level 3'}, inplace=True)"
   ]
  },
  {
   "cell_type": "markdown",
   "metadata": {},
   "source": [
    "### 2.1.5 Stato al 2018"
   ]
  },
  {
   "cell_type": "code",
   "execution_count": null,
   "metadata": {
    "ExecuteTime": {
     "start_time": "2023-08-19T09:51:34.548684526Z"
    }
   },
   "outputs": [],
   "source": [
    "campania_clc2018_label1 = pd.DataFrame(clc2018_campania.groupby('label1')['surface_ha_2018'].sum())\n",
    "campania_clc2018_label1.reset_index(inplace=True)\n",
    "campania_clc2018_label1.rename(columns={'label1': 'CORINE Land Cover - level 1'}, inplace=True)\n",
    "\n",
    "campania_clc2018_label2 = pd.DataFrame(clc2018_campania.groupby('label2')['surface_ha_2018'].sum())\n",
    "campania_clc2018_label2.reset_index(inplace=True)\n",
    "campania_clc2018_label2.rename(columns={'label2': 'CORINE Land Cover - level 2'}, inplace=True)\n",
    "\n",
    "campania_clc2018_label3 = pd.DataFrame(clc2018_campania.groupby('label3')['surface_ha_2018'].sum())\n",
    "campania_clc2018_label3.reset_index(inplace=True)\n",
    "campania_clc2018_label3.rename(columns={'label3': 'CORINE Land Cover - level 3'}, inplace=True)"
   ]
  },
  {
   "cell_type": "markdown",
   "source": [
    "## 2.2 Grafici\n",
    "E' il momento di approfondire questi dati!\n",
    "Ho estratto grafici per tutte e tre le classi ed ho cercato di dare una interpretazione del perchè di alcuni fenomeni."
   ],
   "metadata": {
    "collapsed": false
   }
  },
  {
   "cell_type": "markdown",
   "source": [
    "### 2.2.1 Grafici per il livello 1"
   ],
   "metadata": {
    "collapsed": false
   }
  },
  {
   "cell_type": "code",
   "execution_count": null,
   "outputs": [],
   "source": [
    "lvl1 = [campania_clc1990_label1, campania_clc2000_label1, campania_clc2006_label1, campania_clc2012_label1, campania_clc2018_label1]\n",
    "lvl1_df = reduce(lambda  left,right: pd.merge(left,right,on=['CORINE Land Cover - level 1'], how='outer'), lvl1)\n",
    "lvl1_df.fillna(0, inplace=True)\n",
    "lvl1_df.insert(loc=6, column='Surf.Diff. | 2018-1990', value=(lvl1_df.surface_ha_2018 - lvl1_df.surface_ha_1990))\n",
    "lvl1_df.set_index('CORINE Land Cover - level 1', inplace=True)\n",
    "lvl1_df.rename(columns={'surface_ha_1990': '1990', 'surface_ha_2000': '2000', 'surface_ha_2006': '2006', 'surface_ha_2012': '2012', 'surface_ha_2018': '2018'}, inplace=True)\n",
    "lvl1_df.sort_index(ascending=True, inplace=True)\n",
    "lvl1_df"
   ],
   "metadata": {
    "collapsed": false,
    "ExecuteTime": {
     "start_time": "2023-08-19T09:51:34.548838759Z"
    }
   }
  },
  {
   "cell_type": "code",
   "execution_count": null,
   "outputs": [],
   "source": [
    "fig1 = plt.figure(figsize=(20, 10), dpi=100)\n",
    "sub_fig = GridSpec(nrows=1, ncols=1, figure=fig1, hspace=0.35)\n",
    "ax = fig1.add_subplot(sub_fig[0, 0])\n",
    "lvl1_df.plot.bar(ax=ax, rot=0)\n",
    "\n",
    "ax.yaxis.set_label_text('ha')\n",
    "ax.set_xlabel('')\n",
    "ax.grid(color='lightgrey', linestyle='dashdot')\n",
    "\n",
    "plt.legend(loc='best')"
   ],
   "metadata": {
    "collapsed": false,
    "ExecuteTime": {
     "start_time": "2023-08-19T09:51:34.548988177Z"
    }
   }
  },
  {
   "cell_type": "markdown",
   "source": [
    "E' visibile abbastanza chiaramente un netto aumento delle superfici artificiali con un conseguente arretramento di quelle forestate e di quelle agricole. Le aree forestate tra il 1990 ed il 2018 hanno subito un arretramento quasi doppio rispetto a quelle agricole e le superfici artificiali sono quelle che hanno maggiormente *\"beneficiato\"* di questo arretramento complessivo delle due classi di CLC. Si potrebbe dire che l'urbanizzato ha eroso foreste ed aree agricole in quasi 30 anni."
   ],
   "metadata": {
    "collapsed": false
   }
  },
  {
   "cell_type": "markdown",
   "source": [
    "### 2.2.2 Grafici per il livello 2"
   ],
   "metadata": {
    "collapsed": false
   }
  },
  {
   "cell_type": "code",
   "execution_count": null,
   "outputs": [],
   "source": [
    "lvl2 = [campania_clc1990_label2, campania_clc2000_label2, campania_clc2006_label2, campania_clc2012_label2, campania_clc2018_label2]\n",
    "lvl2_df = reduce(lambda  left,right: pd.merge(left,right,on=['CORINE Land Cover - level 2'], how='outer'), lvl2)\n",
    "lvl2_df.fillna(0, inplace=True)\n",
    "lvl2_df.insert(loc=6, column='Surf.Diff. | 2000-1990', value=(lvl2_df.surface_ha_2000 - lvl2_df.surface_ha_1990))\n",
    "lvl2_df.insert(loc=7, column='Surf.Diff. | 2006-2000', value=(lvl2_df.surface_ha_2006 - lvl2_df.surface_ha_2000))\n",
    "lvl2_df.insert(loc=8, column='Surf.Diff. | 2012-2006', value=(lvl2_df.surface_ha_2012 - lvl2_df.surface_ha_2006))\n",
    "lvl2_df.insert(loc=9, column='Surf.Diff. | 2018-2012', value=(lvl2_df.surface_ha_2018 - lvl2_df.surface_ha_2012))\n",
    "lvl2_df.insert(loc=9, column='Surf.Diff. | 2018-1990', value=(lvl2_df.surface_ha_2018 - lvl2_df.surface_ha_1990))\n",
    "lvl2_df.set_index('CORINE Land Cover - level 2', inplace=True)\n",
    "lvl2_df = lvl2_df[['Surf.Diff. | 2000-1990', 'Surf.Diff. | 2006-2000', 'Surf.Diff. | 2012-2006', 'Surf.Diff. | 2018-2012', 'Surf.Diff. | 2018-1990']]\n",
    "lvl2_df.sort_index(ascending=True, inplace=True)\n",
    "lvl2_df"
   ],
   "metadata": {
    "collapsed": false,
    "ExecuteTime": {
     "start_time": "2023-08-19T09:51:34.549375695Z"
    }
   }
  },
  {
   "cell_type": "code",
   "execution_count": null,
   "outputs": [],
   "source": [
    "fig2 = plt.figure(figsize=(20, 10), dpi=100)\n",
    "sub_fig = GridSpec(nrows=1, ncols=1, figure=fig2, hspace=0.35)\n",
    "ax = fig2.add_subplot(sub_fig[0, 0])\n",
    "lvl2_df.plot.bar(ax=ax, rot=0)\n",
    "\n",
    "ax.yaxis.set_label_text('ha')\n",
    "ax.set_xlabel('')\n",
    "ax.grid(color='lightgrey', linestyle='dashdot')\n",
    "\n",
    "plt.xticks(rotation = 90)\n",
    "plt.legend(loc='best')"
   ],
   "metadata": {
    "collapsed": false,
    "ExecuteTime": {
     "start_time": "2023-08-19T09:51:34.549541469Z"
    }
   }
  },
  {
   "cell_type": "markdown",
   "source": [
    "Scendendo di un livello, quindi andando ad approfondire di più il dato passando al secondo livello CLC, possiamo verificare i trend negativi a quali specifiche superfici fanno riferimento.\n",
    "\n",
    "Le aree arbustive e con alberi radi hanno avuto la peggio, a seguire i terreni arabili, pascoli e foreste. Netto è invece l'aumento delle aree aperte, classe in cui nel terzo livello CLC ci sono le aree percorse dal fuoco(da tenere in mente per richiami successivi!). Seguono, nell'incremento, le aree urbanizzate, le aree per colture eterogenee e quelle per lo sviluppo di siti industriali e commerciali.\n",
    "\n"
   ],
   "metadata": {
    "collapsed": false
   }
  },
  {
   "cell_type": "markdown",
   "source": [
    "### 2.2.3 Grafici per il livello 3"
   ],
   "metadata": {
    "collapsed": false
   }
  },
  {
   "cell_type": "code",
   "execution_count": null,
   "outputs": [],
   "source": [
    "lvl3 = [campania_clc1990_label3, campania_clc2000_label3, campania_clc2006_label3, campania_clc2012_label3, campania_clc2018_label3]\n",
    "lvl3_df = reduce(lambda  left,right: pd.merge(left,right,on=['CORINE Land Cover - level 3'], how='outer'), lvl3)\n",
    "lvl3_df.fillna(0, inplace=True)\n",
    "lvl3_df.insert(loc=6, column='Surf.Diff. | 2000-1990', value=(lvl3_df.surface_ha_2000 - lvl3_df.surface_ha_1990))\n",
    "lvl3_df.insert(loc=7, column='Surf.Diff. | 2006-2000', value=(lvl3_df.surface_ha_2006 - lvl3_df.surface_ha_2000))\n",
    "lvl3_df.insert(loc=8, column='Surf.Diff. | 2012-2006', value=(lvl3_df.surface_ha_2012 - lvl3_df.surface_ha_2006))\n",
    "lvl3_df.insert(loc=9, column='Surf.Diff. | 2018-2012', value=(lvl3_df.surface_ha_2018 - lvl3_df.surface_ha_2012))\n",
    "lvl3_df.insert(loc=10, column='Surf.Diff. | 2018-1990', value=(lvl3_df.surface_ha_2018 - lvl3_df.surface_ha_1990))\n",
    "lvl3_df.set_index('CORINE Land Cover - level 3', inplace=True)\n",
    "\n",
    "lvl3_df.sort_index(ascending=True, inplace=True)\n",
    "lvl3_df"
   ],
   "metadata": {
    "collapsed": false,
    "ExecuteTime": {
     "start_time": "2023-08-19T09:51:34.549686069Z"
    }
   }
  },
  {
   "cell_type": "code",
   "execution_count": null,
   "outputs": [],
   "source": [
    "fig3 = plt.figure(figsize=(20, 10), dpi=100)\n",
    "sub_fig = GridSpec(nrows=1, ncols=1, figure=fig3, hspace=0.35)\n",
    "ax = fig3.add_subplot(sub_fig[0, 0])\n",
    "lvl3_df['Surf.Diff. | 2018-1990'].plot.bar(ax=ax, rot=0)\n",
    "\n",
    "ax.yaxis.set_label_text('ha')\n",
    "ax.set_xlabel('')\n",
    "ax.grid(color='lightgrey', linestyle='dashdot')\n",
    "\n",
    "plt.xticks(rotation = 90)\n",
    "plt.legend(loc='best')"
   ],
   "metadata": {
    "collapsed": false,
    "ExecuteTime": {
     "start_time": "2023-08-19T09:51:34.549843381Z"
    }
   }
  },
  {
   "cell_type": "markdown",
   "source": [
    "Passando al livello tre della CLC, ho voluto graficare la sola differenza tra 1990 e 2018 per motivi di leggibilità del grafico. In termini di aumento di copertura del suolo c'è l'avanzamento, quasi identico, delle piccole aree destinate a colture annuali e delle aree con vegetazione frammentata. A seguire ci sono le aree urbane discontinue e quelle occupate da orti, vigneti e alberi da frutto.\n",
    "\n",
    "**Una riflessione che mi sento di fare è che l'avanzamento del tessuto urbano discontinuo ha frazionato il territorio agricolo, generando aree a piccole colture agricole.**\n",
    "\n",
    "Significativo anche l'aumento di estensione delle aree percorse dal fuoco.\n",
    "\n",
    "I decrementi sono la cartina di tornasole degli incrementi che ho descritto poco fa e che potrebbero confermare la mia riflessione sul frazionamento del territorio naturale ed agricolo, portato avanti dall'avanzamento delle classi legati ai *suoli artificiali*."
   ],
   "metadata": {
    "collapsed": false
   }
  },
  {
   "cell_type": "markdown",
   "source": [
    "## 2.3 Focus sui Comuni\n",
    "L'analisi che segue tenta di rispondere alla domanda: ***\"quali sono i Comuni campani in cui i fenomeni esposti poco fa hanno avuto un maggior impatto?\"***\n",
    "\n",
    "Mi concentrerò sul terzo livello della CLC, in particolare sulle aree artificiali, aree agricole e foreste ma anche sulle discariche, le aree percorse dal fuoco ed il verde urbano.\n",
    "\n",
    "Visto che dal 2000 in poi l'accuratezza geometrica del dato CLC è aumentata considerevolmente, le analisi di dettaglio che seguono si concentreranno sulla differenza tra 2000 e 2018."
   ],
   "metadata": {
    "collapsed": false
   }
  },
  {
   "cell_type": "code",
   "execution_count": null,
   "outputs": [],
   "source": [
    "\n",
    "# Dati 1990\n",
    "focus_1990 = clc1990_campania[['pro_com', 'comune', 'provincia', 'sup_com_ha', 'label3', 'surface_ha_1990']]\n",
    "focus_1990.set_index('label3', inplace=True)\n",
    "focus_1990_group = pd.DataFrame(focus_1990.groupby(['pro_com', 'comune', 'sup_com_ha', 'label3'])['surface_ha_1990'].sum())\n",
    "focus_1990_group.reset_index(inplace=True)\n",
    "\n",
    "# Dati 2000\n",
    "focus_2000 = clc2000_campania[['pro_com', 'comune', 'provincia', 'sup_com_ha', 'label3', 'surface_ha_2000']]\n",
    "focus_2000.set_index('label3', inplace=True)\n",
    "focus_2000_group = pd.DataFrame(focus_2000.groupby(['pro_com', 'comune', 'sup_com_ha', 'label3'])['surface_ha_2000'].sum())\n",
    "focus_2000_group.reset_index(inplace=True)\n",
    "\n",
    "# Dati 2006\n",
    "focus_2006 = clc2006_campania[['pro_com', 'comune', 'provincia', 'sup_com_ha', 'label3', 'surface_ha_2006']]\n",
    "focus_2006.set_index('label3', inplace=True)\n",
    "focus_2006_group = pd.DataFrame(focus_2006.groupby(['pro_com', 'comune', 'sup_com_ha', 'label3'])['surface_ha_2006'].sum())\n",
    "focus_2006_group.reset_index(inplace=True)\n",
    "\n",
    "# Dati 2012\n",
    "focus_2012 = clc2012_campania[['pro_com', 'comune', 'provincia', 'sup_com_ha', 'label3', 'surface_ha_2012']]\n",
    "focus_2012.set_index('label3', inplace=True)\n",
    "focus_2012_group = pd.DataFrame(focus_2012.groupby(['pro_com', 'comune', 'sup_com_ha', 'label3'])['surface_ha_2012'].sum())\n",
    "focus_2012_group.reset_index(inplace=True)\n",
    "\n",
    "# Dati 2018\n",
    "focus_2018 = clc2018_campania[['pro_com', 'comune', 'provincia', 'sup_com_ha', 'label3', 'surface_ha_2018']]\n",
    "focus_2018.set_index('label3', inplace=True)\n",
    "focus_2018_group = pd.DataFrame(focus_2018.groupby(['pro_com', 'comune', 'sup_com_ha', 'label3'])['surface_ha_2018'].sum())\n",
    "focus_2018_group.reset_index(inplace=True)"
   ],
   "metadata": {
    "collapsed": false,
    "ExecuteTime": {
     "start_time": "2023-08-19T09:51:34.549994913Z"
    }
   }
  },
  {
   "cell_type": "code",
   "execution_count": null,
   "outputs": [],
   "source": [
    "focus_1990_group"
   ],
   "metadata": {
    "collapsed": false,
    "ExecuteTime": {
     "start_time": "2023-08-19T09:51:34.550142747Z"
    }
   }
  },
  {
   "cell_type": "markdown",
   "source": [
    "### 2.3.1 Aree artificiali\n",
    "I gruppi 1.1 ed 1.2 della CLC"
   ],
   "metadata": {
    "collapsed": false
   }
  },
  {
   "cell_type": "code",
   "execution_count": null,
   "outputs": [],
   "source": [
    "\n",
    "# Dati 1990\n",
    "artificial_surface_1990 = focus_1990_group[focus_1990_group['label3'].isin(['Continuous urban fabric', 'Discontinuous urban fabric', 'Industrial or commercial units', 'Road and rail networks and associated land', 'Port areas', 'Airports'])]\n",
    "artificial_surface_1990_group = pd.DataFrame(artificial_surface_1990.groupby(['pro_com'])['surface_ha_1990'].sum())\n",
    "artificial_surface_1990_group.reset_index(inplace=True)\n",
    "\n",
    "# Dati 2000\n",
    "artificial_surface_2000 = focus_2000_group[focus_2000_group['label3'].isin(['Continuous urban fabric', 'Discontinuous urban fabric', 'Industrial or commercial units', 'Road and rail networks and associated land', 'Port areas', 'Airports'])]\n",
    "artificial_surface_2000_group = pd.DataFrame(artificial_surface_2000.groupby(['pro_com'])['surface_ha_2000'].sum())\n",
    "artificial_surface_2000_group.reset_index(inplace=True)\n",
    "\n",
    "# Dati 2006\n",
    "artificial_surface_2006 = focus_2006_group[focus_2006_group['label3'].isin(['Continuous urban fabric', 'Discontinuous urban fabric', 'Industrial or commercial units', 'Road and rail networks and associated land', 'Port areas', 'Airports'])]\n",
    "artificial_surface_2006_group = pd.DataFrame(artificial_surface_2006.groupby(['pro_com'])['surface_ha_2006'].sum())\n",
    "artificial_surface_2006_group.reset_index(inplace=True)\n",
    "\n",
    "# Dati 2012\n",
    "artificial_surface_2012 = focus_2012_group[focus_2012_group['label3'].isin(['Continuous urban fabric', 'Discontinuous urban fabric', 'Industrial or commercial units', 'Road and rail networks and associated land', 'Port areas', 'Airports'])]\n",
    "artificial_surface_2012_group = pd.DataFrame(artificial_surface_2012.groupby(['pro_com'])['surface_ha_2012'].sum())\n",
    "artificial_surface_2012_group.reset_index(inplace=True)\n",
    "\n",
    "# Dati 2018\n",
    "artificial_surface_2018 = focus_2018_group[focus_2018_group['label3'].isin(['Continuous urban fabric', 'Discontinuous urban fabric', 'Industrial or commercial units', 'Road and rail networks and associated land', 'Port areas', 'Airports'])]\n",
    "artificial_surface_2018_group = pd.DataFrame(artificial_surface_2018.groupby(['pro_com', 'comune', 'sup_com_ha'])['surface_ha_2018'].sum())\n",
    "artificial_surface_2018_group.reset_index(inplace=True)\n",
    "\n",
    "# Dati aggregati\n",
    "focus_artificial = [artificial_surface_2018_group, artificial_surface_2012_group, artificial_surface_2006_group, artificial_surface_2000_group, artificial_surface_1990_group]\n",
    "focus_artificial_df = reduce(lambda  left,right: pd.merge(left,right,on=['pro_com'], how='outer'), focus_artificial)\n",
    "focus_artificial_df = focus_artificial_df[focus_artificial_df['sup_com_ha'] > 0]\n",
    "focus_artificial_df.fillna(0, inplace=True)\n",
    "focus_artificial_df.insert(loc=3, column='perc_1990', value=round(focus_artificial_df.surface_ha_1990 / focus_artificial_df.sup_com_ha, 4) * 100)\n",
    "focus_artificial_df.insert(loc=4, column='perc_2000', value=round(focus_artificial_df.surface_ha_2000 / focus_artificial_df.sup_com_ha, 4) * 100)\n",
    "focus_artificial_df.insert(loc=5, column='perc_2006', value=round(focus_artificial_df.surface_ha_2006 / focus_artificial_df.sup_com_ha, 4) * 100)\n",
    "focus_artificial_df.insert(loc=6, column='perc_2012', value=round(focus_artificial_df.surface_ha_2012 / focus_artificial_df.sup_com_ha, 4) * 100)\n",
    "focus_artificial_df.insert(loc=7, column='perc_2018', value=round(focus_artificial_df.surface_ha_2018 / focus_artificial_df.sup_com_ha, 4) * 100)\n",
    "focus_artificial_df.insert(loc=8, column='Perc.Diff. | 2018-2000', value=(focus_artificial_df.perc_2018 - focus_artificial_df.perc_2000))\n",
    "focus_artificial_df.sort_values(by=['Perc.Diff. | 2018-2000'], ascending=True, inplace=True)\n",
    "focus_artificial_df"
   ],
   "metadata": {
    "collapsed": false,
    "ExecuteTime": {
     "start_time": "2023-08-19T09:51:34.579691527Z"
    }
   }
  },
  {
   "cell_type": "code",
   "execution_count": null,
   "outputs": [],
   "source": [
    "# Superfici in arretramento\n",
    "reduction_artificial_area = focus_artificial_df.iloc[0:10]\n",
    "reduction_artificial_area"
   ],
   "metadata": {
    "collapsed": false,
    "ExecuteTime": {
     "start_time": "2023-08-19T09:51:34.579933570Z"
    }
   }
  },
  {
   "cell_type": "code",
   "execution_count": null,
   "outputs": [],
   "source": [
    "# Superfici in avanzamento\n",
    "increase_artificial_area = focus_artificial_df.iloc[-10:]\n",
    "increase_artificial_area.sort_values(by=['Perc.Diff. | 2018-2000'], ascending=False, inplace=True)\n",
    "increase_artificial_area"
   ],
   "metadata": {
    "collapsed": false,
    "ExecuteTime": {
     "start_time": "2023-08-19T09:51:34.580108312Z"
    }
   }
  },
  {
   "cell_type": "code",
   "execution_count": null,
   "outputs": [],
   "source": [
    "artificial_df = pd.concat([reduction_artificial_area, increase_artificial_area])\n",
    "artificial_df.sort_values(by=['Perc.Diff. | 2018-2000'], ascending=True, inplace=True)\n",
    "artificial_df = artificial_df[['comune', 'Perc.Diff. | 2018-2000']]\n",
    "artificial_df['Perc.Diff. | 2018-2000'] = artificial_df['Perc.Diff. | 2018-2000']\n",
    "artificial_df.set_index('comune', inplace=True)\n",
    "\n",
    "fig_artificial = plt.figure(figsize=(20, 10), dpi=100)\n",
    "sub_fig_artificial = GridSpec(nrows=1, ncols=1, figure=fig_artificial, hspace=0.35)\n",
    "ax_artificial = fig_artificial.add_subplot(sub_fig_artificial[0, 0])\n",
    "artificial_df.plot.bar(ax=ax_artificial, rot=0)\n",
    "\n",
    "ax_artificial.yaxis.set_label_text('%')\n",
    "ax_artificial.set_xlabel('')\n",
    "ax_artificial.grid(color='lightgrey', linestyle='dashdot')\n",
    "\n",
    "plt.xticks(rotation = 90)\n",
    "plt.legend(loc='best')"
   ],
   "metadata": {
    "collapsed": false,
    "ExecuteTime": {
     "start_time": "2023-08-19T09:51:34.580248922Z"
    }
   }
  },
  {
   "cell_type": "markdown",
   "source": [
    "Onestamente non so come interpretare l'arretramento delle aree artificiali, andrebbe fatta una ulteriore analisi per valutare se sono Comuni che si sono spopolati in quasi trenta anni.\n",
    "\n",
    "L'aumento è abbastanza facile da indagare per me che sono del posto. Napoli ha una popolazione di quasi un milione di abitanti che triplica nei giorni feriali, per non parlare poi dei turisti. E' un'area molto congestionata con possibilità di nuova edilizia prossime allo zero; risulta normale quindi che Comuni più prossimi al Capoluogo di Regione stiano accogliendo \"l'esubero\" di popolazione. Faccio riferimento a Castello di Cisterna, Volla e Quarto.\n",
    "\n",
    "Il caso di [Atrani](https://it.wikipedia.org/wiki/Atrani) è particolare perchè è il Comune più piccolo d'Italia ed è posto in una zona abbastanza impervia della costiera amalfitana; è probabile che nel 2000 non si sia data molta importanza all'area."
   ],
   "metadata": {
    "collapsed": false
   }
  },
  {
   "cell_type": "markdown",
   "source": [
    "### 2.3.2 Aree forestate\n",
    "Il gruppo 3.1 della CLC"
   ],
   "metadata": {
    "collapsed": false
   }
  },
  {
   "cell_type": "code",
   "execution_count": null,
   "outputs": [],
   "source": [
    "\n",
    "# Dati 1990\n",
    "forest_surface_1990 = focus_1990_group[focus_1990_group['label3'].isin(['Broad-leaved forest', 'Coniferous forest', 'Mixed forest'])]\n",
    "forest_surface_1990_group = pd.DataFrame(forest_surface_1990.groupby(['pro_com'])['surface_ha_1990'].sum())\n",
    "forest_surface_1990_group.reset_index(inplace=True)\n",
    "\n",
    "# Dati 2000\n",
    "forest_surface_2000 = focus_2000_group[focus_2000_group['label3'].isin(['Broad-leaved forest', 'Coniferous forest', 'Mixed forest'])]\n",
    "forest_surface_2000_group = pd.DataFrame(forest_surface_2000.groupby(['pro_com'])['surface_ha_2000'].sum())\n",
    "forest_surface_2000_group.reset_index(inplace=True)\n",
    "\n",
    "# Dati 2006\n",
    "forest_surface_2006 = focus_2006_group[focus_2006_group['label3'].isin(['Broad-leaved forest', 'Coniferous forest', 'Mixed forest'])]\n",
    "forest_surface_2006_group = pd.DataFrame(forest_surface_2006.groupby(['pro_com'])['surface_ha_2006'].sum())\n",
    "forest_surface_2006_group.reset_index(inplace=True)\n",
    "\n",
    "# Dati 2012\n",
    "forest_surface_2012 = focus_2012_group[focus_2012_group['label3'].isin(['Broad-leaved forest', 'Coniferous forest', 'Mixed forest'])]\n",
    "forest_surface_2012_group = pd.DataFrame(forest_surface_2012.groupby(['pro_com'])['surface_ha_2012'].sum())\n",
    "forest_surface_2012_group.reset_index(inplace=True)\n",
    "\n",
    "# Dati 2018\n",
    "forest_surface_2018 = focus_2018_group[focus_2018_group['label3'].isin(['Broad-leaved forest', 'Coniferous forest', 'Mixed forest'])]\n",
    "forest_surface_2018_group = pd.DataFrame(forest_surface_2018.groupby(['pro_com', 'comune', 'sup_com_ha'])['surface_ha_2018'].sum())\n",
    "forest_surface_2018_group.reset_index(inplace=True)\n",
    "\n",
    "# Dati aggregati\n",
    "focus_forest = [forest_surface_2018_group, forest_surface_2012_group, forest_surface_2006_group, forest_surface_2000_group, forest_surface_1990_group]\n",
    "focus_forest_df = reduce(lambda  left,right: pd.merge(left,right,on=['pro_com'], how='outer'), focus_forest)\n",
    "focus_forest_df = focus_forest_df[focus_forest_df['sup_com_ha'] > 0]\n",
    "focus_forest_df.fillna(0, inplace=True)\n",
    "focus_forest_df.insert(loc=3, column='perc_1990', value=round(focus_forest_df.surface_ha_1990 / focus_forest_df.sup_com_ha, 4) * 100)\n",
    "focus_forest_df.insert(loc=4, column='perc_2000', value=round(focus_forest_df.surface_ha_2000 / focus_forest_df.sup_com_ha, 4) * 100)\n",
    "focus_forest_df.insert(loc=5, column='perc_2006', value=round(focus_forest_df.surface_ha_2006 / focus_forest_df.sup_com_ha, 4) * 100)\n",
    "focus_forest_df.insert(loc=6, column='perc_2012', value=round(focus_forest_df.surface_ha_2012 / focus_forest_df.sup_com_ha, 4) * 100)\n",
    "focus_forest_df.insert(loc=7, column='perc_2018', value=round(focus_forest_df.surface_ha_2018 / focus_forest_df.sup_com_ha, 4) * 100)\n",
    "focus_forest_df.insert(loc=8, column='Perc.Diff. | 2018-2000', value=(focus_forest_df.perc_2018 - focus_forest_df.perc_2000))\n",
    "focus_forest_df.sort_values(by=['Perc.Diff. | 2018-2000'], ascending=True, inplace=True)\n",
    "focus_forest_df"
   ],
   "metadata": {
    "collapsed": false,
    "ExecuteTime": {
     "start_time": "2023-08-19T09:51:34.580389004Z"
    }
   }
  },
  {
   "cell_type": "code",
   "execution_count": null,
   "outputs": [],
   "source": [
    "# Superfici in arretramento\n",
    "reduction_forest_area = focus_forest_df.iloc[0:10]\n",
    "reduction_forest_area"
   ],
   "metadata": {
    "collapsed": false,
    "ExecuteTime": {
     "start_time": "2023-08-19T09:51:34.580535447Z"
    }
   }
  },
  {
   "cell_type": "code",
   "execution_count": null,
   "outputs": [],
   "source": [
    "# Superfici in avanzamento\n",
    "increase_forest_area = focus_forest_df.iloc[-10:]\n",
    "increase_forest_area.sort_values(by=['Perc.Diff. | 2018-2000'], ascending=False, inplace=True)\n",
    "increase_forest_area"
   ],
   "metadata": {
    "collapsed": false,
    "ExecuteTime": {
     "start_time": "2023-08-19T09:51:34.580838809Z"
    }
   }
  },
  {
   "cell_type": "code",
   "execution_count": null,
   "outputs": [],
   "source": [
    "forest_df = pd.concat([reduction_forest_area, increase_forest_area])\n",
    "forest_df.sort_values(by=['Perc.Diff. | 2018-2000'], ascending=True, inplace=True)\n",
    "forest_df = forest_df[['comune', 'Perc.Diff. | 2018-2000']]\n",
    "forest_df['Perc.Diff. | 2018-2000'] = forest_df['Perc.Diff. | 2018-2000']\n",
    "forest_df.set_index('comune', inplace=True)\n",
    "\n",
    "fig_forest = plt.figure(figsize=(20, 10), dpi=100)\n",
    "sub_fig_forest = GridSpec(nrows=1, ncols=1, figure=fig_forest, hspace=0.35)\n",
    "ax_forest = fig_forest.add_subplot(sub_fig_forest[0, 0])\n",
    "forest_df.plot.bar(ax=ax_forest, rot=0)\n",
    "\n",
    "ax_forest.yaxis.set_label_text('%')\n",
    "ax_forest.set_xlabel('')\n",
    "ax_forest.grid(color='lightgrey', linestyle='dashdot')\n",
    "\n",
    "plt.xticks(rotation = 90)\n",
    "plt.legend(loc='best')"
   ],
   "metadata": {
    "collapsed": false,
    "ExecuteTime": {
     "start_time": "2023-08-19T09:51:34.581048230Z"
    }
   }
  },
  {
   "cell_type": "markdown",
   "source": [
    "E' significativo per me che nella top 10 del decremento di aree forestate ci siano Terzigno, Ercolano e Trecase. Lo è perchè sono tra i Comuni ricadenti nell'area del Parco Nazionale del Vesuvio che hanno subito danni al patrimonio boschivo a causa dell'[incendio che ci fu nel 2017](https://massimilianomoraca.it/blog/gis/analisi-temporale-sullarea-degli-incendi-del-vesuvio/).\n",
    "\n",
    "Le aree in cui i boschi avanzano sono perlopiu aree rurali, a vocazione agricola, che pian piano si stanno spopolando."
   ],
   "metadata": {
    "collapsed": false
   }
  },
  {
   "cell_type": "markdown",
   "source": [
    "### 2.3.3 Aree agricole\n",
    "Il gruppo 2.1 della CLC"
   ],
   "metadata": {
    "collapsed": false
   }
  },
  {
   "cell_type": "code",
   "execution_count": null,
   "outputs": [],
   "source": [
    "\n",
    "# Dati 1990\n",
    "arable_lands_surface_1990 = focus_1990_group[focus_1990_group['label3'].isin(['Non-irrigated arable land', 'Permanently irrigated land'])]\n",
    "arable_lands_surface_1990_group = pd.DataFrame(arable_lands_surface_1990.groupby(['pro_com'])['surface_ha_1990'].sum())\n",
    "arable_lands_surface_1990_group.reset_index(inplace=True)\n",
    "\n",
    "# Dati 2000\n",
    "arable_lands_surface_2000 = focus_2000_group[focus_2000_group['label3'].isin(['Non-irrigated arable land', 'Permanently irrigated land'])]\n",
    "arable_lands_surface_2000_group = pd.DataFrame(arable_lands_surface_2000.groupby(['pro_com'])['surface_ha_2000'].sum())\n",
    "arable_lands_surface_2000_group.reset_index(inplace=True)\n",
    "\n",
    "# Dati 2006\n",
    "arable_lands_surface_2006 = focus_2006_group[focus_2006_group['label3'].isin(['Non-irrigated arable land', 'Permanently irrigated land'])]\n",
    "arable_lands_surface_2006_group = pd.DataFrame(arable_lands_surface_2006.groupby(['pro_com'])['surface_ha_2006'].sum())\n",
    "arable_lands_surface_2006_group.reset_index(inplace=True)\n",
    "\n",
    "# Dati 2012\n",
    "arable_lands_surface_2012 = focus_2012_group[focus_2012_group['label3'].isin(['Non-irrigated arable land', 'Permanently irrigated land'])]\n",
    "arable_lands_surface_2012_group = pd.DataFrame(arable_lands_surface_2012.groupby(['pro_com'])['surface_ha_2012'].sum())\n",
    "arable_lands_surface_2012_group.reset_index(inplace=True)\n",
    "\n",
    "# Dati 2018\n",
    "arable_lands_surface_2018 = focus_2018_group[focus_2018_group['label3'].isin(['Non-irrigated arable land', 'Permanently irrigated land'])]\n",
    "arable_lands_surface_2018_group = pd.DataFrame(arable_lands_surface_2018.groupby(['pro_com', 'comune', 'sup_com_ha'])['surface_ha_2018'].sum())\n",
    "arable_lands_surface_2018_group.reset_index(inplace=True)\n",
    "\n",
    "# Dati aggregati\n",
    "focus_arable_lands = [arable_lands_surface_2018_group, arable_lands_surface_2012_group, arable_lands_surface_2006_group, arable_lands_surface_2000_group, arable_lands_surface_1990_group]\n",
    "focus_arable_lands_df = reduce(lambda  left,right: pd.merge(left,right,on=['pro_com'], how='outer'), focus_arable_lands)\n",
    "focus_arable_lands_df = focus_arable_lands_df[focus_arable_lands_df['sup_com_ha'] > 0]\n",
    "focus_arable_lands_df.fillna(0, inplace=True)\n",
    "focus_arable_lands_df.insert(loc=3, column='perc_1990', value=round(focus_arable_lands_df.surface_ha_1990 / focus_arable_lands_df.sup_com_ha, 4) * 100)\n",
    "focus_arable_lands_df.insert(loc=4, column='perc_2000', value=round(focus_arable_lands_df.surface_ha_2000 / focus_arable_lands_df.sup_com_ha, 4) * 100)\n",
    "focus_arable_lands_df.insert(loc=5, column='perc_2006', value=round(focus_arable_lands_df.surface_ha_2006 / focus_arable_lands_df.sup_com_ha, 4) * 100)\n",
    "focus_arable_lands_df.insert(loc=6, column='perc_2012', value=round(focus_arable_lands_df.surface_ha_2012 / focus_arable_lands_df.sup_com_ha, 4) * 100)\n",
    "focus_arable_lands_df.insert(loc=7, column='perc_2018', value=round(focus_arable_lands_df.surface_ha_2018 / focus_arable_lands_df.sup_com_ha, 4) * 100)\n",
    "focus_arable_lands_df.insert(loc=8, column='Perc.Diff. | 2018-2000', value=(focus_arable_lands_df.perc_2018 - focus_arable_lands_df.perc_2000))\n",
    "focus_arable_lands_df.sort_values(by=['Perc.Diff. | 2018-2000'], ascending=True, inplace=True)\n",
    "focus_arable_lands_df"
   ],
   "metadata": {
    "collapsed": false,
    "ExecuteTime": {
     "start_time": "2023-08-19T09:51:34.581343428Z"
    }
   }
  },
  {
   "cell_type": "code",
   "execution_count": null,
   "outputs": [],
   "source": [
    "\n",
    "# Superfici in arretramento\n",
    "reduction_arable_lands_area = focus_arable_lands_df.iloc[0:10]\n",
    "reduction_arable_lands_area"
   ],
   "metadata": {
    "collapsed": false,
    "ExecuteTime": {
     "start_time": "2023-08-19T09:51:34.581497532Z"
    }
   }
  },
  {
   "cell_type": "code",
   "execution_count": null,
   "outputs": [],
   "source": [
    "\n",
    "# Superfici in avanzamento\n",
    "increase_arable_lands_area = focus_arable_lands_df.iloc[-10:]\n",
    "increase_arable_lands_area.sort_values(by=['Perc.Diff. | 2018-2000'], ascending=False, inplace=True)\n",
    "increase_arable_lands_area"
   ],
   "metadata": {
    "collapsed": false,
    "ExecuteTime": {
     "start_time": "2023-08-19T09:51:34.581678738Z"
    }
   }
  },
  {
   "cell_type": "code",
   "execution_count": null,
   "outputs": [],
   "source": [
    "arable_lands_df = pd.concat([reduction_arable_lands_area, increase_arable_lands_area])\n",
    "arable_lands_df.sort_values(by=['Perc.Diff. | 2018-2000'], ascending=True, inplace=True)\n",
    "arable_lands_df = arable_lands_df[['comune', 'Perc.Diff. | 2018-2000']]\n",
    "arable_lands_df['Perc.Diff. | 2018-2000'] = arable_lands_df['Perc.Diff. | 2018-2000']\n",
    "arable_lands_df.set_index('comune', inplace=True)\n",
    "\n",
    "fig_arable_lands = plt.figure(figsize=(20, 10), dpi=100)\n",
    "sub_fig_arable_lands = GridSpec(nrows=1, ncols=1, figure=fig_arable_lands, hspace=0.35)\n",
    "ax_arable_lands = fig_arable_lands.add_subplot(sub_fig_arable_lands[0, 0])\n",
    "arable_lands_df.plot.bar(ax=ax_arable_lands, rot=0)\n",
    "\n",
    "ax_arable_lands.yaxis.set_label_text('%')\n",
    "ax_arable_lands.set_xlabel('')\n",
    "ax_arable_lands.grid(color='lightgrey', linestyle='dashdot')\n",
    "\n",
    "plt.xticks(rotation = 90)\n",
    "plt.legend(loc='best')"
   ],
   "metadata": {
    "collapsed": false,
    "ExecuteTime": {
     "start_time": "2023-08-19T09:51:34.581815278Z"
    }
   }
  },
  {
   "cell_type": "markdown",
   "source": [
    "Tra i Comuni con maggior aumento della aree articifiali abbiamo visto che c'è Volla che è tra i Comuni con maggior decremento delle aree agricole. Poco sopra ho fatto una riflessione sul perchè della redistribuzione del livello 1 della CLC. **Due indizi non fanno una prova, ma tre?**"
   ],
   "metadata": {
    "collapsed": false
   }
  },
  {
   "cell_type": "markdown",
   "source": [
    "### 2.3.4 Aree bruciate\n"
   ],
   "metadata": {
    "collapsed": false
   }
  },
  {
   "cell_type": "code",
   "execution_count": null,
   "outputs": [],
   "source": [
    "\n",
    "# Dati 1990\n",
    "burnt_surface_1990 = focus_1990_group[focus_1990_group['label3'].isin(['Burnt areas'])]\n",
    "burnt_surface_1990_group = pd.DataFrame(burnt_surface_1990.groupby(['pro_com'])['surface_ha_1990'].sum())\n",
    "burnt_surface_1990_group.reset_index(inplace=True)\n",
    "\n",
    "# Dati 2000\n",
    "burnt_surface_2000 = focus_2000_group[focus_2000_group['label3'].isin(['Burnt areas'])]\n",
    "burnt_surface_2000_group = pd.DataFrame(burnt_surface_2000.groupby(['pro_com'])['surface_ha_2000'].sum())\n",
    "burnt_surface_2000_group.reset_index(inplace=True)\n",
    "\n",
    "# Dati 2006\n",
    "burnt_surface_2006 = focus_2006_group[focus_2006_group['label3'].isin(['Burnt areas'])]\n",
    "burnt_surface_2006_group = pd.DataFrame(burnt_surface_2006.groupby(['pro_com'])['surface_ha_2006'].sum())\n",
    "burnt_surface_2006_group.reset_index(inplace=True)\n",
    "\n",
    "# Dati 2012\n",
    "burnt_surface_2012 = focus_2012_group[focus_2012_group['label3'].isin(['Burnt areas'])]\n",
    "burnt_surface_2012_group = pd.DataFrame(burnt_surface_2012.groupby(['pro_com'])['surface_ha_2012'].sum())\n",
    "burnt_surface_2012_group.reset_index(inplace=True)\n",
    "\n",
    "# Dati 2018\n",
    "burnt_surface_2018 = focus_2018_group[focus_2018_group['label3'].isin(['Burnt areas'])]\n",
    "burnt_surface_2018_group = pd.DataFrame(burnt_surface_2018.groupby(['pro_com', 'comune', 'sup_com_ha'])['surface_ha_2018'].sum())\n",
    "burnt_surface_2018_group.reset_index(inplace=True)\n",
    "\n",
    "# Dati aggregati\n",
    "focus_arable_lands = [burnt_surface_2018_group, burnt_surface_2012_group, burnt_surface_2006_group, burnt_surface_2000_group, burnt_surface_1990_group]\n",
    "focus_burnt_df = reduce(lambda  left,right: pd.merge(left,right,on=['pro_com'], how='outer'), focus_arable_lands)\n",
    "focus_burnt_df = focus_burnt_df[focus_burnt_df['sup_com_ha'] > 0]\n",
    "focus_burnt_df.fillna(0, inplace=True)\n",
    "focus_burnt_df.insert(loc=3, column='perc_1990', value=round(focus_burnt_df.surface_ha_1990 / focus_burnt_df.sup_com_ha, 4) * 100)\n",
    "focus_burnt_df.insert(loc=4, column='perc_2000', value=round(focus_burnt_df.surface_ha_2000 / focus_burnt_df.sup_com_ha, 4) * 100)\n",
    "focus_burnt_df.insert(loc=5, column='perc_2006', value=round(focus_burnt_df.surface_ha_2006 / focus_burnt_df.sup_com_ha, 4) * 100)\n",
    "focus_burnt_df.insert(loc=6, column='perc_2012', value=round(focus_burnt_df.surface_ha_2012 / focus_burnt_df.sup_com_ha, 4) * 100)\n",
    "focus_burnt_df.insert(loc=7, column='perc_2018', value=round(focus_burnt_df.surface_ha_2018 / focus_burnt_df.sup_com_ha, 4) * 100)\n",
    "focus_burnt_df.insert(loc=8, column='Perc.Diff. | 2018-2000', value=(focus_burnt_df.perc_2018 - focus_burnt_df.perc_2000))\n",
    "focus_burnt_df.sort_values(by=['Perc.Diff. | 2018-2000'], ascending=False, inplace=True)\n",
    "focus_burnt_df"
   ],
   "metadata": {
    "collapsed": false,
    "ExecuteTime": {
     "start_time": "2023-08-19T09:51:34.582032831Z"
    }
   }
  },
  {
   "cell_type": "markdown",
   "source": [
    "In questa analisi ci sono in 6 delle prime 10 posizioni alcuni dei Comuni interessati dall'incendio del 2017."
   ],
   "metadata": {
    "collapsed": false
   }
  },
  {
   "cell_type": "markdown",
   "source": [
    "### 2.3.5 Aree adibite a discarica"
   ],
   "metadata": {
    "collapsed": false
   }
  },
  {
   "cell_type": "code",
   "execution_count": null,
   "outputs": [],
   "source": [
    "\n",
    "# Dati 1990\n",
    "dump_surface_1990 = focus_1990_group[focus_1990_group['label3'].isin(['Dump sites'])]\n",
    "dump_surface_1990_group = pd.DataFrame(dump_surface_1990.groupby(['pro_com'])['surface_ha_1990'].sum())\n",
    "dump_surface_1990_group.reset_index(inplace=True)\n",
    "\n",
    "# Dati 2000\n",
    "dump_surface_2000 = focus_2000_group[focus_2000_group['label3'].isin(['Dump sites'])]\n",
    "dump_surface_2000_group = pd.DataFrame(dump_surface_2000.groupby(['pro_com'])['surface_ha_2000'].sum())\n",
    "dump_surface_2000_group.reset_index(inplace=True)\n",
    "\n",
    "# Dati 2006\n",
    "dump_surface_2006 = focus_2006_group[focus_2006_group['label3'].isin(['Dump sites'])]\n",
    "dump_surface_2006_group = pd.DataFrame(dump_surface_2006.groupby(['pro_com'])['surface_ha_2006'].sum())\n",
    "dump_surface_2006_group.reset_index(inplace=True)\n",
    "\n",
    "# Dati 2012\n",
    "dump_surface_2012 = focus_2012_group[focus_2012_group['label3'].isin(['Dump sites'])]\n",
    "dump_surface_2012_group = pd.DataFrame(dump_surface_2012.groupby(['pro_com'])['surface_ha_2012'].sum())\n",
    "dump_surface_2012_group.reset_index(inplace=True)\n",
    "\n",
    "# Dati 2018\n",
    "dump_surface_2018 = focus_2018_group[focus_2018_group['label3'].isin(['Dump sites'])]\n",
    "dump_surface_2018_group = pd.DataFrame(dump_surface_2018.groupby(['pro_com', 'comune', 'sup_com_ha'])['surface_ha_2018'].sum())\n",
    "dump_surface_2018_group.reset_index(inplace=True)\n",
    "\n",
    "# Dati aggregati\n",
    "focus_arable_lands = [dump_surface_2018_group, dump_surface_2012_group, dump_surface_2006_group, dump_surface_2000_group, dump_surface_1990_group]\n",
    "focus_dump_df = reduce(lambda  left,right: pd.merge(left,right,on=['pro_com'], how='outer'), focus_arable_lands)\n",
    "focus_dump_df = focus_dump_df[focus_dump_df['sup_com_ha'] > 0]\n",
    "focus_dump_df.fillna(0, inplace=True)\n",
    "focus_dump_df.insert(loc=3, column='perc_1990', value=round(focus_dump_df.surface_ha_1990 / focus_dump_df.sup_com_ha, 4) * 100)\n",
    "focus_dump_df.insert(loc=4, column='perc_2000', value=round(focus_dump_df.surface_ha_2000 / focus_dump_df.sup_com_ha, 4) * 100)\n",
    "focus_dump_df.insert(loc=5, column='perc_2006', value=round(focus_dump_df.surface_ha_2006 / focus_dump_df.sup_com_ha, 4) * 100)\n",
    "focus_dump_df.insert(loc=6, column='perc_2012', value=round(focus_dump_df.surface_ha_2012 / focus_dump_df.sup_com_ha, 4) * 100)\n",
    "focus_dump_df.insert(loc=7, column='perc_2018', value=round(focus_dump_df.surface_ha_2018 / focus_dump_df.sup_com_ha, 4) * 100)\n",
    "focus_dump_df.insert(loc=8, column='Perc.Diff. | 2018-2000', value=(focus_dump_df.perc_2018 - focus_dump_df.perc_2000))\n",
    "focus_dump_df.sort_values(by=['Perc.Diff. | 2018-2000'], ascending=False, inplace=True)\n",
    "focus_dump_df"
   ],
   "metadata": {
    "collapsed": false,
    "ExecuteTime": {
     "start_time": "2023-08-19T09:51:34.582156997Z"
    }
   }
  },
  {
   "cell_type": "markdown",
   "source": [
    "Qui abbiamo le più grandi discariche campane, cresciute con la crisi dei rifiuti di inizio anni 2000."
   ],
   "metadata": {
    "collapsed": false
   }
  },
  {
   "cell_type": "markdown",
   "source": [
    "### 2.3.6 Aree verdi urbane"
   ],
   "metadata": {
    "collapsed": false
   }
  },
  {
   "cell_type": "code",
   "execution_count": null,
   "outputs": [],
   "source": [
    "# Dati 1990\n",
    "green_urban_surface_1990 = focus_1990_group[focus_1990_group['label3'].isin(['Green urban areas'])]\n",
    "green_urban_surface_1990_group = pd.DataFrame(green_urban_surface_1990.groupby(['pro_com'])['surface_ha_1990'].sum())\n",
    "green_urban_surface_1990_group.reset_index(inplace=True)\n",
    "\n",
    "# Dati 2000\n",
    "green_urban_surface_2000 = focus_2000_group[focus_2000_group['label3'].isin(['Green urban areas'])]\n",
    "green_urban_surface_2000_group = pd.DataFrame(green_urban_surface_2000.groupby(['pro_com'])['surface_ha_2000'].sum())\n",
    "green_urban_surface_2000_group.reset_index(inplace=True)\n",
    "\n",
    "# Dati 2006\n",
    "green_urban_surface_2006 = focus_2006_group[focus_2006_group['label3'].isin(['Green urban areas'])]\n",
    "green_urban_surface_2006_group = pd.DataFrame(green_urban_surface_2006.groupby(['pro_com'])['surface_ha_2006'].sum())\n",
    "green_urban_surface_2006_group.reset_index(inplace=True)\n",
    "\n",
    "# Dati 2012\n",
    "green_urban_surface_2012 = focus_2012_group[focus_2012_group['label3'].isin(['Green urban areas'])]\n",
    "green_urban_surface_2012_group = pd.DataFrame(green_urban_surface_2012.groupby(['pro_com'])['surface_ha_2012'].sum())\n",
    "green_urban_surface_2012_group.reset_index(inplace=True)\n",
    "\n",
    "# Dati 2018\n",
    "green_urban_surface_2018 = focus_2018_group[focus_2018_group['label3'].isin(['Green urban areas'])]\n",
    "green_urban_surface_2018_group = pd.DataFrame(green_urban_surface_2018.groupby(['pro_com', 'comune', 'sup_com_ha'])['surface_ha_2018'].sum())\n",
    "green_urban_surface_2018_group.reset_index(inplace=True)\n",
    "\n",
    "# Dati aggregati\n",
    "focus_green_urban = [green_urban_surface_2018_group, green_urban_surface_2012_group, green_urban_surface_2006_group, green_urban_surface_2000_group, green_urban_surface_1990_group]\n",
    "focus_green_urban_df = reduce(lambda  left,right: pd.merge(left,right,on=['pro_com'], how='outer'), focus_green_urban)\n",
    "focus_green_urban_df = focus_green_urban_df[focus_green_urban_df['sup_com_ha'] > 0]\n",
    "focus_green_urban_df.fillna(0, inplace=True)\n",
    "focus_green_urban_df.insert(loc=3, column='perc_1990', value=round(focus_green_urban_df.surface_ha_1990 / focus_green_urban_df.sup_com_ha, 4) * 100)\n",
    "focus_green_urban_df.insert(loc=4, column='perc_2000', value=round(focus_green_urban_df.surface_ha_2000 / focus_green_urban_df.sup_com_ha, 4) * 100)\n",
    "focus_green_urban_df.insert(loc=5, column='perc_2006', value=round(focus_green_urban_df.surface_ha_2006 / focus_green_urban_df.sup_com_ha, 4) * 100)\n",
    "focus_green_urban_df.insert(loc=6, column='perc_2012', value=round(focus_green_urban_df.surface_ha_2012 / focus_green_urban_df.sup_com_ha, 4) * 100)\n",
    "focus_green_urban_df.insert(loc=7, column='perc_2018', value=round(focus_green_urban_df.surface_ha_2018 / focus_green_urban_df.sup_com_ha, 4) * 100)\n",
    "focus_green_urban_df.insert(loc=8, column='Perc.Diff. | 2018-2000', value=(focus_green_urban_df.perc_2018 - focus_green_urban_df.perc_2000))\n",
    "focus_green_urban_df.sort_values(by=['Perc.Diff. | 2018-2000'], ascending=False, inplace=True)\n",
    "focus_green_urban_df"
   ],
   "metadata": {
    "collapsed": false,
    "ExecuteTime": {
     "start_time": "2023-08-19T09:51:34.582300226Z"
    }
   }
  },
  {
   "cell_type": "markdown",
   "source": [
    "# 3. Analisi a scala nazionale\n",
    "Fino a qui abbiamo visto una analisi focalizzata sulla Campania. Di seguito ripeterò tutte le analisi ma a scala nazionale.\n"
   ],
   "metadata": {
    "collapsed": false
   }
  },
  {
   "cell_type": "markdown",
   "source": [
    "### 3.1.1 Stato al 1990"
   ],
   "metadata": {
    "collapsed": false
   }
  },
  {
   "cell_type": "code",
   "execution_count": null,
   "outputs": [],
   "source": [
    "clc1990_label1 = pd.DataFrame(clc1990.groupby('label1')['surface_ha_1990'].sum())\n",
    "clc1990_label1.reset_index(inplace=True)\n",
    "clc1990_label1.rename(columns={'label1': 'CORINE Land Cover - level 1'}, inplace=True)\n",
    "clc1990_label1"
   ],
   "metadata": {
    "collapsed": false,
    "ExecuteTime": {
     "end_time": "2023-08-19T09:51:34.631800471Z",
     "start_time": "2023-08-19T09:51:34.621685654Z"
    }
   }
  },
  {
   "cell_type": "code",
   "execution_count": null,
   "outputs": [],
   "source": [
    "clc1990_label2 = pd.DataFrame(clc1990.groupby('label2')['surface_ha_1990'].sum())\n",
    "clc1990_label2.reset_index(inplace=True)\n",
    "clc1990_label2.rename(columns={'label2': 'CORINE Land Cover - level 2'}, inplace=True)\n",
    "clc1990_label2"
   ],
   "metadata": {
    "collapsed": false,
    "ExecuteTime": {
     "start_time": "2023-08-19T09:51:34.621953795Z"
    }
   }
  },
  {
   "cell_type": "code",
   "execution_count": null,
   "outputs": [],
   "source": [
    "clc1990_label3 = pd.DataFrame(clc1990.groupby('label3')['surface_ha_1990'].sum())\n",
    "clc1990_label3.reset_index(inplace=True)\n",
    "clc1990_label3.rename(columns={'label3': 'CORINE Land Cover - level 3'}, inplace=True)\n",
    "clc1990_label3"
   ],
   "metadata": {
    "collapsed": false,
    "ExecuteTime": {
     "start_time": "2023-08-19T09:51:34.622087934Z"
    }
   }
  },
  {
   "cell_type": "markdown",
   "source": [
    "### 3.1.2 Stato al 2000"
   ],
   "metadata": {
    "collapsed": false
   }
  },
  {
   "cell_type": "code",
   "execution_count": null,
   "outputs": [],
   "source": [
    "clc2000_label1 = pd.DataFrame(clc2000.groupby('label1')['surface_ha_2000'].sum())\n",
    "clc2000_label1.reset_index(inplace=True)\n",
    "clc2000_label1.rename(columns={'label1': 'CORINE Land Cover - level 1'}, inplace=True)\n",
    "\n",
    "clc2000_label2 = pd.DataFrame(clc2000.groupby('label2')['surface_ha_2000'].sum())\n",
    "clc2000_label2.reset_index(inplace=True)\n",
    "clc2000_label2.rename(columns={'label2': 'CORINE Land Cover - level 2'}, inplace=True)\n",
    "\n",
    "clc2000_label3 = pd.DataFrame(clc2000.groupby('label3')['surface_ha_2000'].sum())\n",
    "clc2000_label3.reset_index(inplace=True)\n",
    "clc2000_label3.rename(columns={'label3': 'CORINE Land Cover - level 3'}, inplace=True)"
   ],
   "metadata": {
    "collapsed": false,
    "ExecuteTime": {
     "start_time": "2023-08-19T09:51:34.622208436Z"
    }
   }
  },
  {
   "cell_type": "markdown",
   "source": [
    "### 3.1.3 Stato al 2006"
   ],
   "metadata": {
    "collapsed": false
   }
  },
  {
   "cell_type": "code",
   "execution_count": null,
   "outputs": [],
   "source": [
    "clc2006_label1 = pd.DataFrame(clc2006.groupby('label1')['surface_ha_2006'].sum())\n",
    "clc2006_label1.reset_index(inplace=True)\n",
    "clc2006_label1.rename(columns={'label1': 'CORINE Land Cover - level 1'}, inplace=True)\n",
    "\n",
    "clc2006_label2 = pd.DataFrame(clc2006.groupby('label2')['surface_ha_2006'].sum())\n",
    "clc2006_label2.reset_index(inplace=True)\n",
    "clc2006_label2.rename(columns={'label2': 'CORINE Land Cover - level 2'}, inplace=True)\n",
    "\n",
    "clc2006_label3 = pd.DataFrame(clc2006.groupby('label3')['surface_ha_2006'].sum())\n",
    "clc2006_label3.reset_index(inplace=True)\n",
    "clc2006_label3.rename(columns={'label3': 'CORINE Land Cover - level 3'}, inplace=True)"
   ],
   "metadata": {
    "collapsed": false,
    "ExecuteTime": {
     "start_time": "2023-08-19T09:51:34.622547598Z"
    }
   }
  },
  {
   "cell_type": "markdown",
   "source": [
    "### 3.1.4 Stato al 2012"
   ],
   "metadata": {
    "collapsed": false
   }
  },
  {
   "cell_type": "code",
   "execution_count": null,
   "outputs": [],
   "source": [
    "clc2012_label1 = pd.DataFrame(clc2012.groupby('label1')['surface_ha_2012'].sum())\n",
    "clc2012_label1.reset_index(inplace=True)\n",
    "clc2012_label1.rename(columns={'label1': 'CORINE Land Cover - level 1'}, inplace=True)\n",
    "\n",
    "clc2012_label2 = pd.DataFrame(clc2012.groupby('label2')['surface_ha_2012'].sum())\n",
    "clc2012_label2.reset_index(inplace=True)\n",
    "clc2012_label2.rename(columns={'label2': 'CORINE Land Cover - level 2'}, inplace=True)\n",
    "\n",
    "clc2012_label3 = pd.DataFrame(clc2012.groupby('label3')['surface_ha_2012'].sum())\n",
    "clc2012_label3.reset_index(inplace=True)\n",
    "clc2012_label3.rename(columns={'label3': 'CORINE Land Cover - level 3'}, inplace=True)"
   ],
   "metadata": {
    "collapsed": false,
    "ExecuteTime": {
     "start_time": "2023-08-19T09:51:34.622681509Z"
    }
   }
  },
  {
   "cell_type": "markdown",
   "source": [
    "### 3.1.5 Stato al 2018"
   ],
   "metadata": {
    "collapsed": false
   }
  },
  {
   "cell_type": "code",
   "execution_count": null,
   "outputs": [],
   "source": [
    "clc2018_label1 = pd.DataFrame(clc2018.groupby('label1')['surface_ha_2018'].sum())\n",
    "clc2018_label1.reset_index(inplace=True)\n",
    "clc2018_label1.rename(columns={'label1': 'CORINE Land Cover - level 1'}, inplace=True)\n",
    "\n",
    "clc2018_label2 = pd.DataFrame(clc2018.groupby('label2')['surface_ha_2018'].sum())\n",
    "clc2018_label2.reset_index(inplace=True)\n",
    "clc2018_label2.rename(columns={'label2': 'CORINE Land Cover - level 2'}, inplace=True)\n",
    "\n",
    "clc2018_label3 = pd.DataFrame(clc2018.groupby('label3')['surface_ha_2018'].sum())\n",
    "clc2018_label3.reset_index(inplace=True)\n",
    "clc2018_label3.rename(columns={'label3': 'CORINE Land Cover - level 3'}, inplace=True)"
   ],
   "metadata": {
    "collapsed": false,
    "ExecuteTime": {
     "start_time": "2023-08-19T09:51:34.622800049Z"
    }
   }
  },
  {
   "cell_type": "markdown",
   "source": [
    "## 3.2 Grafici\n",
    "Mi limiterò a commentare solo la analisi a scala nazionale perchè quelle a scala comunale hanno risultati che, sebbene intuibili dal punto di vista delle variazioni, hanno una valenza territoriale molto forte(come lo è stato per la Campania) e non conoscendo tutti quei territori preferisco lasciare a chi è del posto le considerazioni del caso.\n"
   ],
   "metadata": {
    "collapsed": false
   }
  },
  {
   "cell_type": "markdown",
   "source": [
    "### 3.2.1 Grafici per il livello 1"
   ],
   "metadata": {
    "collapsed": false
   }
  },
  {
   "cell_type": "code",
   "execution_count": null,
   "outputs": [],
   "source": [
    "lvl1_naz = [clc1990_label1, clc2000_label1, clc2006_label1, clc2012_label1, clc2018_label1]\n",
    "lvl1_naz_df = reduce(lambda  left,right: pd.merge(left,right,on=['CORINE Land Cover - level 1'], how='outer'), lvl1_naz)\n",
    "lvl1_naz_df.insert(loc=6, column='Surf.Diff. | 2018-1990', value=(lvl1_naz_df.surface_ha_2018 - lvl1_naz_df.surface_ha_1990))\n",
    "lvl1_naz_df.fillna(0, inplace=True)\n",
    "lvl1_naz_df.set_index('CORINE Land Cover - level 1', inplace=True)\n",
    "lvl1_naz_df.rename(columns={'surface_ha_1990': '1990', 'surface_ha_2000': '2000', 'surface_ha_2006': '2006', 'surface_ha_2012': '2012', 'surface_ha_2018': '2018'}, inplace=True)\n",
    "lvl1_naz_df"
   ],
   "metadata": {
    "collapsed": false,
    "ExecuteTime": {
     "start_time": "2023-08-19T09:51:34.622899797Z"
    }
   }
  },
  {
   "cell_type": "code",
   "execution_count": null,
   "outputs": [],
   "source": [
    "fig1_naz = plt.figure(figsize=(20, 10), dpi=100)\n",
    "sub_fig_naz = GridSpec(nrows=1, ncols=1, figure=fig1_naz, hspace=0.35)\n",
    "ax_naz = fig1_naz.add_subplot(sub_fig_naz[0, 0])\n",
    "lvl1_naz_df.plot.bar(ax=ax_naz, rot=0)\n",
    "\n",
    "ax_naz.yaxis.set_label_text('ha')\n",
    "ax_naz.set_xlabel('')\n",
    "\n",
    "plt.legend(loc='best')"
   ],
   "metadata": {
    "collapsed": false,
    "ExecuteTime": {
     "start_time": "2023-08-19T09:51:34.622990252Z"
    }
   }
  },
  {
   "cell_type": "markdown",
   "source": [
    "\n",
    "In questo livello di CLC si nota una certa somiglianza con ciò che abbiamo visto per la Campania: aree artificiali in aumento, aree forestate ed agricole in regressione."
   ],
   "metadata": {
    "collapsed": false
   }
  },
  {
   "cell_type": "markdown",
   "source": [
    "### 3.2.2 Grafici per il livello 2"
   ],
   "metadata": {
    "collapsed": false
   }
  },
  {
   "cell_type": "code",
   "execution_count": null,
   "outputs": [],
   "source": [
    "lvl2_naz = [clc1990_label2, clc2000_label2, clc2006_label2, clc2012_label2, clc2018_label2]\n",
    "lvl2_naz_df = reduce(lambda  left,right: pd.merge(left,right,on=['CORINE Land Cover - level 2'], how='outer'), lvl2_naz)\n",
    "lvl2_naz_df.insert(loc=6, column='Surf.Diff. | 2000-1990', value=(lvl2_naz_df.surface_ha_2000 - lvl2_naz_df.surface_ha_1990))\n",
    "lvl2_naz_df.insert(loc=7, column='Surf.Diff. | 2006-2000', value=(lvl2_naz_df.surface_ha_2006 - lvl2_naz_df.surface_ha_2000))\n",
    "lvl2_naz_df.insert(loc=8, column='Surf.Diff. | 2012-2006', value=(lvl2_naz_df.surface_ha_2012 - lvl2_naz_df.surface_ha_2006))\n",
    "lvl2_naz_df.insert(loc=9, column='Surf.Diff. | 2018-2012', value=(lvl2_naz_df.surface_ha_2018 - lvl2_naz_df.surface_ha_2012))\n",
    "lvl2_naz_df.insert(loc=9, column='Surf.Diff. | 2018-1990', value=(lvl2_naz_df.surface_ha_2018 - lvl2_naz_df.surface_ha_1990))\n",
    "lvl2_naz_df.fillna(0, inplace=True)\n",
    "lvl2_naz_df.set_index('CORINE Land Cover - level 2', inplace=True)\n",
    "lvl2_naz_df = lvl2_naz_df[['Surf.Diff. | 2000-1990', 'Surf.Diff. | 2006-2000', 'Surf.Diff. | 2012-2006', 'Surf.Diff. | 2018-2012', 'Surf.Diff. | 2018-1990']]\n",
    "lvl2_naz_df"
   ],
   "metadata": {
    "collapsed": false,
    "ExecuteTime": {
     "start_time": "2023-08-19T09:51:34.623081292Z"
    }
   }
  },
  {
   "cell_type": "code",
   "execution_count": null,
   "outputs": [],
   "source": [
    "fig2_naz = plt.figure(figsize=(20, 10), dpi=100)\n",
    "sub_fig_naz = GridSpec(nrows=1, ncols=1, figure=fig2_naz, hspace=0.35)\n",
    "ax_naz = fig2_naz.add_subplot(sub_fig_naz[0, 0])\n",
    "lvl2_naz_df.plot.bar(ax=ax_naz, rot=0)\n",
    "\n",
    "ax_naz.yaxis.set_label_text('ha')\n",
    "ax_naz.set_xlabel('')\n",
    "\n",
    "plt.xticks(rotation = 90)\n",
    "plt.legend(loc='best')"
   ],
   "metadata": {
    "collapsed": false,
    "ExecuteTime": {
     "start_time": "2023-08-19T09:51:34.623172710Z"
    }
   }
  },
  {
   "cell_type": "markdown",
   "source": [
    "Anche qui c'è una certa somiglianza con ciò che accade in Campania."
   ],
   "metadata": {
    "collapsed": false
   }
  },
  {
   "cell_type": "markdown",
   "source": [
    "### 3.2.3 Grafici per il livello 3"
   ],
   "metadata": {
    "collapsed": false
   }
  },
  {
   "cell_type": "code",
   "execution_count": null,
   "outputs": [],
   "source": [
    "lvl3_naz = [clc1990_label3, clc2000_label3, clc2006_label3, clc2012_label3, clc2018_label3]\n",
    "lvl3_naz_df = reduce(lambda  left,right: pd.merge(left,right,on=['CORINE Land Cover - level 3'], how='outer'), lvl3_naz)\n",
    "lvl3_naz_df.insert(loc=6, column='Surf.Diff. | 2000-1990', value=(lvl3_naz_df.surface_ha_2000 - lvl3_naz_df.surface_ha_1990))\n",
    "lvl3_naz_df.insert(loc=7, column='Surf.Diff. | 2006-2000', value=(lvl3_naz_df.surface_ha_2006 - lvl3_naz_df.surface_ha_2000))\n",
    "lvl3_naz_df.insert(loc=8, column='Surf.Diff. | 2012-2006', value=(lvl3_naz_df.surface_ha_2012 - lvl3_naz_df.surface_ha_2006))\n",
    "lvl3_naz_df.insert(loc=9, column='Surf.Diff. | 2018-2012', value=(lvl3_naz_df.surface_ha_2018 - lvl3_naz_df.surface_ha_2012))\n",
    "lvl3_naz_df.insert(loc=9, column='Surf.Diff. | 2018-1990', value=(lvl3_naz_df.surface_ha_2018 - lvl3_naz_df.surface_ha_1990))\n",
    "lvl3_naz_df.set_index('CORINE Land Cover - level 3', inplace=True)\n",
    "lvl3_naz_df.fillna(0, inplace=True)\n",
    "lvl3_naz_df"
   ],
   "metadata": {
    "collapsed": false,
    "ExecuteTime": {
     "start_time": "2023-08-19T09:51:34.623268854Z"
    }
   }
  },
  {
   "cell_type": "code",
   "execution_count": null,
   "outputs": [],
   "source": [
    "fig3_naz = plt.figure(figsize=(20, 10), dpi=100)\n",
    "sub_fig_naz = GridSpec(nrows=1, ncols=1, figure=fig3_naz, hspace=0.35)\n",
    "ax_naz = fig3_naz.add_subplot(sub_fig_naz[0, 0])\n",
    "lvl3_df['Surf.Diff. | 2018-1990'].plot.bar(ax=ax_naz, rot=0)\n",
    "\n",
    "ax_naz.yaxis.set_label_text('ha')\n",
    "ax_naz.set_xlabel('')\n",
    "\n",
    "plt.xticks(rotation = 90)\n",
    "plt.legend(loc='best')"
   ],
   "metadata": {
    "collapsed": false,
    "ExecuteTime": {
     "start_time": "2023-08-19T09:51:34.623395362Z"
    }
   }
  },
  {
   "cell_type": "markdown",
   "source": [
    "Purtroppo il *\"trend campano\"* è visibile anche qui. Il fatto è che ciò che accade a scala nazionale si ripete a scala regionale e scommetto anche provinciale in un po' tutto il territorio italiano."
   ],
   "metadata": {
    "collapsed": false
   }
  },
  {
   "cell_type": "markdown",
   "source": [
    "## 3.3 Focus sui Comuni"
   ],
   "metadata": {
    "collapsed": false
   }
  },
  {
   "cell_type": "code",
   "execution_count": null,
   "outputs": [],
   "source": [
    "# Dati 1990\n",
    "focus_1990_naz = clc1990[['pro_com', 'comune', 'provincia', 'regione', 'sup_com_ha', 'label3', 'surface_ha_1990']]\n",
    "focus_1990_naz.set_index('label3', inplace=True)\n",
    "focus_naz_1990_group = pd.DataFrame(focus_1990_naz.groupby(['pro_com', 'comune', 'provincia', 'regione', 'sup_com_ha', 'label3'])['surface_ha_1990'].sum())\n",
    "focus_naz_1990_group.reset_index(inplace=True)\n",
    "\n",
    "# Dati 2000\n",
    "focus_2000_naz = clc2000[['pro_com', 'comune', 'provincia', 'regione', 'sup_com_ha', 'label3', 'surface_ha_2000']]\n",
    "focus_2000_naz.set_index('label3', inplace=True)\n",
    "focus_naz_2000_group = pd.DataFrame(focus_2000_naz.groupby(['pro_com', 'comune', 'provincia', 'regione', 'sup_com_ha', 'label3'])['surface_ha_2000'].sum())\n",
    "focus_naz_2000_group.reset_index(inplace=True)\n",
    "\n",
    "# Dati 2006\n",
    "focus_2006_naz = clc2006[['pro_com', 'comune', 'provincia', 'regione', 'sup_com_ha', 'label3', 'surface_ha_2006']]\n",
    "focus_2006_naz.set_index('label3', inplace=True)\n",
    "focus_naz_2006_group = pd.DataFrame(focus_2006_naz.groupby(['pro_com', 'comune', 'provincia', 'regione', 'sup_com_ha', 'label3'])['surface_ha_2006'].sum())\n",
    "focus_naz_2006_group.reset_index(inplace=True)\n",
    "\n",
    "# Dati 2012\n",
    "focus_2012_naz = clc2012[['pro_com', 'comune', 'provincia', 'regione', 'sup_com_ha', 'label3', 'surface_ha_2012']]\n",
    "focus_2012_naz.set_index('label3', inplace=True)\n",
    "focus_naz_2012_group = pd.DataFrame(focus_2012_naz.groupby(['pro_com', 'comune', 'provincia', 'regione', 'sup_com_ha', 'label3'])['surface_ha_2012'].sum())\n",
    "focus_naz_2012_group.reset_index(inplace=True)\n",
    "\n",
    "# Dati 2018\n",
    "focus_2018_naz = clc2018[['pro_com', 'comune', 'provincia', 'regione', 'sup_com_ha', 'label3', 'surface_ha_2018']]\n",
    "focus_2018_naz.set_index('label3', inplace=True)\n",
    "focus_naz_2018_group = pd.DataFrame(focus_2018_naz.groupby(['pro_com', 'comune', 'provincia', 'regione', 'sup_com_ha', 'label3'])['surface_ha_2018'].sum())\n",
    "focus_naz_2018_group.reset_index(inplace=True)"
   ],
   "metadata": {
    "collapsed": false,
    "ExecuteTime": {
     "start_time": "2023-08-19T09:51:34.623729034Z"
    }
   }
  },
  {
   "cell_type": "code",
   "execution_count": null,
   "outputs": [],
   "source": [
    "focus_naz_2018_group"
   ],
   "metadata": {
    "collapsed": false,
    "ExecuteTime": {
     "start_time": "2023-08-19T09:51:34.623843185Z"
    }
   }
  },
  {
   "cell_type": "markdown",
   "source": [
    "### 3.3.1 Aree artificiali\n",
    "I gruppi 1.1 ed 1.2 della CLC"
   ],
   "metadata": {
    "collapsed": false
   }
  },
  {
   "cell_type": "code",
   "execution_count": null,
   "outputs": [],
   "source": [
    "# Dati 1990\n",
    "artificial_surface_naz_1990 = focus_naz_1990_group[focus_naz_1990_group['label3'].isin(['Continuous urban fabric', 'Discontinuous urban fabric', 'Industrial or commercial units', 'Road and rail networks and associated land', 'Port areas', 'Airports'])]\n",
    "artificial_surface_naz_1990_group = pd.DataFrame(artificial_surface_naz_1990.groupby(['pro_com'])['surface_ha_1990'].sum())\n",
    "artificial_surface_naz_1990_group.reset_index(inplace=True)\n",
    "\n",
    "# Dati 2000\n",
    "artificial_surface_naz_2000 = focus_naz_2000_group[focus_naz_2000_group['label3'].isin(['Continuous urban fabric', 'Discontinuous urban fabric', 'Industrial or commercial units', 'Road and rail networks and associated land', 'Port areas', 'Airports'])]\n",
    "artificial_surface_naz_2000_group = pd.DataFrame(artificial_surface_naz_2000.groupby(['pro_com'])['surface_ha_2000'].sum())\n",
    "artificial_surface_naz_2000_group.reset_index(inplace=True)\n",
    "\n",
    "# Dati 2006\n",
    "artificial_surface_naz_2006 = focus_naz_2006_group[focus_naz_2006_group['label3'].isin(['Continuous urban fabric', 'Discontinuous urban fabric', 'Industrial or commercial units', 'Road and rail networks and associated land', 'Port areas', 'Airports'])]\n",
    "artificial_surface_naz_2006_group = pd.DataFrame(artificial_surface_naz_2006.groupby(['pro_com'])['surface_ha_2006'].sum())\n",
    "artificial_surface_naz_2006_group.reset_index(inplace=True)\n",
    "\n",
    "# Dati 2012\n",
    "artificial_surface_naz_2012 = focus_naz_2012_group[focus_naz_2012_group['label3'].isin(['Continuous urban fabric', 'Discontinuous urban fabric', 'Industrial or commercial units', 'Road and rail networks and associated land', 'Port areas', 'Airports'])]\n",
    "artificial_surface_naz_2012_group = pd.DataFrame(artificial_surface_naz_2012.groupby(['pro_com'])['surface_ha_2012'].sum())\n",
    "artificial_surface_naz_2012_group.reset_index(inplace=True)\n",
    "\n",
    "# Dati 2018\n",
    "artificial_surface_naz_2018 = focus_naz_2018_group[focus_naz_2018_group['label3'].isin(['Continuous urban fabric', 'Discontinuous urban fabric', 'Industrial or commercial units', 'Road and rail networks and associated land', 'Port areas', 'Airports'])]\n",
    "artificial_surface_naz_2018_group = pd.DataFrame(artificial_surface_naz_2018.groupby(['pro_com', 'comune', 'provincia', 'regione', 'sup_com_ha'])['surface_ha_2018'].sum())\n",
    "artificial_surface_naz_2018_group.reset_index(inplace=True)\n",
    "\n",
    "# Dati aggregati\n",
    "focus_artificial_naz = [artificial_surface_naz_2018_group, artificial_surface_naz_2012_group, artificial_surface_naz_2006_group, artificial_surface_naz_2000_group, artificial_surface_naz_1990_group]\n",
    "focus_artificial_naz_df = reduce(lambda  left,right: pd.merge(left,right,on=['pro_com'], how='outer'), focus_artificial_naz)\n",
    "focus_artificial_naz_df = focus_artificial_naz_df[focus_artificial_naz_df['sup_com_ha'] > 0]\n",
    "focus_artificial_naz_df.fillna(0, inplace=True)\n",
    "focus_artificial_naz_df.insert(loc=5, column='perc_1990', value=round(focus_artificial_naz_df.surface_ha_1990 / focus_artificial_naz_df.sup_com_ha, 4) * 100)\n",
    "focus_artificial_naz_df.insert(loc=6, column='perc_2000', value=round(focus_artificial_naz_df.surface_ha_2000 / focus_artificial_naz_df.sup_com_ha, 4) * 100)\n",
    "focus_artificial_naz_df.insert(loc=7, column='perc_2006', value=round(focus_artificial_naz_df.surface_ha_2006 / focus_artificial_naz_df.sup_com_ha, 4) * 100)\n",
    "focus_artificial_naz_df.insert(loc=8, column='perc_2012', value=round(focus_artificial_naz_df.surface_ha_2012 / focus_artificial_naz_df.sup_com_ha, 4) * 100)\n",
    "focus_artificial_naz_df.insert(loc=9, column='perc_2018', value=round(focus_artificial_naz_df.surface_ha_2018 / focus_artificial_naz_df.sup_com_ha, 4) * 100)\n",
    "focus_artificial_naz_df.insert(loc=10, column='Perc.Diff. | 2018-2000', value=(focus_artificial_naz_df.perc_2018 - focus_artificial_naz_df.perc_2000))\n",
    "focus_artificial_naz_df.sort_values(by=['Perc.Diff. | 2018-2000'], ascending=True, inplace=True)\n",
    "focus_artificial_naz_df"
   ],
   "metadata": {
    "collapsed": false,
    "ExecuteTime": {
     "start_time": "2023-08-19T09:51:34.623941121Z"
    }
   }
  },
  {
   "cell_type": "code",
   "execution_count": null,
   "outputs": [],
   "source": [
    "# Superfici in arretramento\n",
    "naz_reduction_artificial_area = focus_artificial_naz_df.iloc[0:10]\n",
    "naz_reduction_artificial_area"
   ],
   "metadata": {
    "collapsed": false,
    "ExecuteTime": {
     "start_time": "2023-08-19T09:51:34.624035129Z"
    }
   }
  },
  {
   "cell_type": "code",
   "execution_count": null,
   "outputs": [],
   "source": [
    "# Superfici in avanzamento\n",
    "naz_increase_artificial_area = focus_artificial_naz_df.iloc[-10:]\n",
    "naz_increase_artificial_area.sort_values(by=['Perc.Diff. | 2018-2000'], ascending=False, inplace=True)\n",
    "naz_increase_artificial_area"
   ],
   "metadata": {
    "collapsed": false,
    "ExecuteTime": {
     "start_time": "2023-08-19T09:51:34.624129198Z"
    }
   }
  },
  {
   "cell_type": "markdown",
   "source": [
    "### 3.3.2 Aree forestate\n",
    "Il gruppo 3.1 della CLC"
   ],
   "metadata": {
    "collapsed": false
   }
  },
  {
   "cell_type": "code",
   "execution_count": null,
   "outputs": [],
   "source": [
    "# Dati 1990\n",
    "forest_surface_naz_1990 = focus_naz_1990_group[focus_naz_1990_group['label3'].isin(['Broad-leaved forest', 'Coniferous forest', 'Mixed forest'])]\n",
    "forest_surface_naz_1990_group = pd.DataFrame(forest_surface_naz_1990.groupby(['pro_com'])['surface_ha_1990'].sum())\n",
    "forest_surface_naz_1990_group.reset_index(inplace=True)\n",
    "\n",
    "# Dati 2000\n",
    "forest_surface_naz_2000 = focus_naz_2000_group[focus_naz_2000_group['label3'].isin(['Broad-leaved forest', 'Coniferous forest', 'Mixed forest'])]\n",
    "forest_surface_naz_2000_group = pd.DataFrame(forest_surface_naz_2000.groupby(['pro_com'])['surface_ha_2000'].sum())\n",
    "forest_surface_naz_2000_group.reset_index(inplace=True)\n",
    "\n",
    "# Dati 2006\n",
    "forest_surface_naz_2006 = focus_naz_2006_group[focus_naz_2006_group['label3'].isin(['Broad-leaved forest', 'Coniferous forest', 'Mixed forest'])]\n",
    "forest_surface_naz_2006_group = pd.DataFrame(forest_surface_naz_2006.groupby(['pro_com'])['surface_ha_2006'].sum())\n",
    "forest_surface_naz_2006_group.reset_index(inplace=True)\n",
    "\n",
    "# Dati 2012\n",
    "forest_surface_naz_2012 = focus_naz_2012_group[focus_naz_2012_group['label3'].isin(['Broad-leaved forest', 'Coniferous forest', 'Mixed forest'])]\n",
    "forest_surface_naz_2012_group = pd.DataFrame(forest_surface_naz_2012.groupby(['pro_com'])['surface_ha_2012'].sum())\n",
    "forest_surface_naz_2012_group.reset_index(inplace=True)\n",
    "\n",
    "# Dati 2018\n",
    "forest_surface_naz_2018 = focus_naz_2018_group[focus_naz_2018_group['label3'].isin(['Broad-leaved forest', 'Coniferous forest', 'Mixed forest'])]\n",
    "forest_surface_naz_2018_group = pd.DataFrame(forest_surface_naz_2018.groupby(['pro_com', 'comune', 'provincia', 'regione', 'sup_com_ha'])['surface_ha_2018'].sum())\n",
    "forest_surface_naz_2018_group.reset_index(inplace=True)\n",
    "\n",
    "# Dati aggregati\n",
    "focus_forest_naz = [forest_surface_naz_2018_group, forest_surface_naz_2012_group, forest_surface_naz_2006_group, forest_surface_naz_2000_group, forest_surface_naz_1990_group]\n",
    "focus_forest_naz_df = reduce(lambda  left,right: pd.merge(left,right,on=['pro_com'], how='outer'), focus_forest_naz)\n",
    "focus_forest_naz_df = focus_forest_naz_df[focus_forest_naz_df['sup_com_ha'] > 0]\n",
    "focus_forest_naz_df.fillna(0, inplace=True)\n",
    "focus_forest_naz_df.insert(loc=5, column='perc_1990', value=round(focus_forest_naz_df.surface_ha_1990 / focus_forest_naz_df.sup_com_ha, 4) * 100)\n",
    "focus_forest_naz_df.insert(loc=6, column='perc_2000', value=round(focus_forest_naz_df.surface_ha_2000 / focus_forest_naz_df.sup_com_ha, 4) * 100)\n",
    "focus_forest_naz_df.insert(loc=7, column='perc_2006', value=round(focus_forest_naz_df.surface_ha_2006 / focus_forest_naz_df.sup_com_ha, 4) * 100)\n",
    "focus_forest_naz_df.insert(loc=8, column='perc_2012', value=round(focus_forest_naz_df.surface_ha_2012 / focus_forest_naz_df.sup_com_ha, 4) * 100)\n",
    "focus_forest_naz_df.insert(loc=9, column='perc_2018', value=round(focus_forest_naz_df.surface_ha_2018 / focus_forest_naz_df.sup_com_ha, 4) * 100)\n",
    "focus_forest_naz_df.insert(loc=10, column='Perc.Diff. | 2018-2000', value=(focus_forest_naz_df.perc_2018 - focus_forest_naz_df.perc_2000))\n",
    "focus_forest_naz_df.sort_values(by=['Perc.Diff. | 2018-2000'], ascending=True, inplace=True)\n",
    "focus_forest_naz_df"
   ],
   "metadata": {
    "collapsed": false,
    "ExecuteTime": {
     "start_time": "2023-08-19T09:51:34.624231785Z"
    }
   }
  },
  {
   "cell_type": "code",
   "execution_count": null,
   "outputs": [],
   "source": [
    "# Superfici in arretramento\n",
    "naz_reduction_forest_area = focus_forest_naz_df.iloc[0:10]\n",
    "naz_reduction_forest_area"
   ],
   "metadata": {
    "collapsed": false,
    "ExecuteTime": {
     "start_time": "2023-08-19T09:51:34.624326014Z"
    }
   }
  },
  {
   "cell_type": "code",
   "execution_count": null,
   "outputs": [],
   "source": [
    "# Superfici in avanzamento\n",
    "naz_increase_forest_area = focus_forest_naz_df.iloc[-10:]\n",
    "naz_increase_forest_area.sort_values(by=['Perc.Diff. | 2018-2000'], ascending=False, inplace=True)\n",
    "naz_increase_forest_area"
   ],
   "metadata": {
    "collapsed": false,
    "ExecuteTime": {
     "start_time": "2023-08-19T09:51:34.624441779Z"
    }
   }
  },
  {
   "cell_type": "markdown",
   "source": [
    "### 3.3.3 Aree agricole\n",
    "Il gruppo 2.1 della CLC"
   ],
   "metadata": {
    "collapsed": false
   }
  },
  {
   "cell_type": "code",
   "execution_count": null,
   "outputs": [],
   "source": [
    "# Dati 1990\n",
    "arable_lands_surface_naz_1990 = focus_naz_1990_group[focus_naz_1990_group['label3'].isin(['Non-irrigated arable land', 'Permanently irrigated land'])]\n",
    "arable_lands_surface_naz_1990_group = pd.DataFrame(arable_lands_surface_naz_1990.groupby(['pro_com'])['surface_ha_1990'].sum())\n",
    "arable_lands_surface_naz_1990_group.reset_index(inplace=True)\n",
    "\n",
    "# Dati 2000\n",
    "arable_lands_surface_naz_2000 = focus_naz_2000_group[focus_naz_2000_group['label3'].isin(['Non-irrigated arable land', 'Permanently irrigated land'])]\n",
    "arable_lands_surface_naz_2000_group = pd.DataFrame(arable_lands_surface_naz_2000.groupby(['pro_com'])['surface_ha_2000'].sum())\n",
    "arable_lands_surface_naz_2000_group.reset_index(inplace=True)\n",
    "\n",
    "# Dati 2006\n",
    "arable_lands_surface_naz_2006 = focus_naz_2006_group[focus_naz_2006_group['label3'].isin(['Non-irrigated arable land', 'Permanently irrigated land'])]\n",
    "arable_lands_surface_naz_2006_group = pd.DataFrame(arable_lands_surface_naz_2006.groupby(['pro_com'])['surface_ha_2006'].sum())\n",
    "arable_lands_surface_naz_2006_group.reset_index(inplace=True)\n",
    "\n",
    "# Dati 2012\n",
    "arable_lands_surface_naz_2012 = focus_naz_2012_group[focus_naz_2012_group['label3'].isin(['Non-irrigated arable land', 'Permanently irrigated land'])]\n",
    "arable_lands_surface_naz_2012_group = pd.DataFrame(arable_lands_surface_naz_2012.groupby(['pro_com'])['surface_ha_2012'].sum())\n",
    "arable_lands_surface_naz_2012_group.reset_index(inplace=True)\n",
    "\n",
    "# Dati 2018\n",
    "arable_lands_surface_naz_2018 = focus_naz_2018_group[focus_naz_2018_group['label3'].isin(['Non-irrigated arable land', 'Permanently irrigated land'])]\n",
    "arable_lands_surface_naz_2018_group = pd.DataFrame(arable_lands_surface_naz_2018.groupby(['pro_com', 'comune', 'provincia', 'regione', 'sup_com_ha'])['surface_ha_2018'].sum())\n",
    "arable_lands_surface_naz_2018_group.reset_index(inplace=True)\n",
    "\n",
    "# Dati aggregati\n",
    "focus_arable_lands_naz = [arable_lands_surface_naz_2018_group, arable_lands_surface_naz_2012_group, arable_lands_surface_naz_2006_group, arable_lands_surface_naz_2000_group, arable_lands_surface_naz_1990_group]\n",
    "focus_arable_lands_naz_df = reduce(lambda  left,right: pd.merge(left,right,on=['pro_com'], how='outer'), focus_arable_lands_naz)\n",
    "focus_arable_lands_naz_df = focus_arable_lands_naz_df[focus_arable_lands_naz_df['sup_com_ha'] > 0]\n",
    "focus_arable_lands_naz_df.fillna(0, inplace=True)\n",
    "focus_arable_lands_naz_df.insert(loc=5, column='perc_1990', value=round(focus_arable_lands_naz_df.surface_ha_1990 / focus_arable_lands_naz_df.sup_com_ha, 4) * 100)\n",
    "focus_arable_lands_naz_df.insert(loc=6, column='perc_2000', value=round(focus_arable_lands_naz_df.surface_ha_2000 / focus_arable_lands_naz_df.sup_com_ha, 4) * 100)\n",
    "focus_arable_lands_naz_df.insert(loc=7, column='perc_2006', value=round(focus_arable_lands_naz_df.surface_ha_2006 / focus_arable_lands_naz_df.sup_com_ha, 4) * 100)\n",
    "focus_arable_lands_naz_df.insert(loc=8, column='perc_2012', value=round(focus_arable_lands_naz_df.surface_ha_2012 / focus_arable_lands_naz_df.sup_com_ha, 4) * 100)\n",
    "focus_arable_lands_naz_df.insert(loc=9, column='perc_2018', value=round(focus_arable_lands_naz_df.surface_ha_2018 / focus_arable_lands_naz_df.sup_com_ha, 4) * 100)\n",
    "focus_arable_lands_naz_df.insert(loc=10, column='Perc.Diff. | 2018-2000', value=(focus_arable_lands_naz_df.perc_2018 - focus_arable_lands_naz_df.perc_2000))\n",
    "focus_arable_lands_naz_df.sort_values(by=['Perc.Diff. | 2018-2000'], ascending=True, inplace=True)\n",
    "focus_arable_lands_naz_df"
   ],
   "metadata": {
    "collapsed": false,
    "ExecuteTime": {
     "start_time": "2023-08-19T09:51:34.624537223Z"
    }
   }
  },
  {
   "cell_type": "code",
   "execution_count": null,
   "outputs": [],
   "source": [
    "# Superfici in arretramento\n",
    "naz_reduction_arable_lands_area = focus_arable_lands_naz_df.iloc[0:10]\n",
    "naz_reduction_arable_lands_area"
   ],
   "metadata": {
    "collapsed": false,
    "ExecuteTime": {
     "start_time": "2023-08-19T09:51:34.624631693Z"
    }
   }
  },
  {
   "cell_type": "code",
   "execution_count": null,
   "outputs": [],
   "source": [
    "# Superfici in avanzamento\n",
    "naz_increase_arable_lands_area = focus_arable_lands_naz_df.iloc[-10:]\n",
    "naz_increase_arable_lands_area.sort_values(by=['Perc.Diff. | 2018-2000'], ascending=False, inplace=True)\n",
    "naz_increase_arable_lands_area"
   ],
   "metadata": {
    "collapsed": false,
    "ExecuteTime": {
     "start_time": "2023-08-19T09:51:34.624732806Z"
    }
   }
  },
  {
   "cell_type": "markdown",
   "source": [
    "### 3.3.4 Aree bruciate"
   ],
   "metadata": {
    "collapsed": false
   }
  },
  {
   "cell_type": "code",
   "execution_count": null,
   "outputs": [],
   "source": [
    "# Dati 1990\n",
    "burnt_surface_naz_1990 = focus_naz_1990_group[focus_naz_1990_group['label3'].isin(['Burnt areas'])]\n",
    "burnt_surface_naz_1990_group = pd.DataFrame(burnt_surface_naz_1990.groupby(['pro_com'])['surface_ha_1990'].sum())\n",
    "burnt_surface_naz_1990_group.reset_index(inplace=True)\n",
    "\n",
    "# Dati 2000\n",
    "burnt_surface_naz_2000 = focus_naz_2000_group[focus_naz_2000_group['label3'].isin(['Burnt areas'])]\n",
    "burnt_surface_naz_2000_group = pd.DataFrame(burnt_surface_naz_2000.groupby(['pro_com'])['surface_ha_2000'].sum())\n",
    "burnt_surface_naz_2000_group.reset_index(inplace=True)\n",
    "\n",
    "# Dati 2006\n",
    "burnt_surface_naz_2006 = focus_naz_2006_group[focus_naz_2006_group['label3'].isin(['Burnt areas'])]\n",
    "burnt_surface_naz_2006_group = pd.DataFrame(burnt_surface_naz_2006.groupby(['pro_com'])['surface_ha_2006'].sum())\n",
    "burnt_surface_naz_2006_group.reset_index(inplace=True)\n",
    "\n",
    "# Dati 2012\n",
    "burnt_surface_naz_2012 = focus_naz_2012_group[focus_naz_2012_group['label3'].isin(['Burnt areas'])]\n",
    "burnt_surface_naz_2012_group = pd.DataFrame(burnt_surface_naz_2012.groupby(['pro_com'])['surface_ha_2012'].sum())\n",
    "burnt_surface_naz_2012_group.reset_index(inplace=True)\n",
    "\n",
    "# Dati 2018\n",
    "burnt_surface_naz_2018 = focus_naz_2018_group[focus_naz_2018_group['label3'].isin(['Burnt areas'])]\n",
    "burnt_surface_naz_2018_group = pd.DataFrame(burnt_surface_naz_2018.groupby(['pro_com', 'comune', 'provincia', 'regione', 'sup_com_ha'])['surface_ha_2018'].sum())\n",
    "burnt_surface_naz_2018_group.reset_index(inplace=True)\n",
    "\n",
    "# Dati aggregati\n",
    "focus_burnt_naz = [burnt_surface_naz_2018_group, burnt_surface_naz_2012_group, burnt_surface_naz_2006_group, burnt_surface_naz_2000_group, burnt_surface_naz_1990_group]\n",
    "focus_burnt_naz_df = reduce(lambda  left,right: pd.merge(left,right,on=['pro_com'], how='outer'), focus_burnt_naz)\n",
    "focus_burnt_naz_df = focus_burnt_naz_df[focus_burnt_naz_df['sup_com_ha'] > 0]\n",
    "focus_burnt_naz_df.fillna(0, inplace=True)\n",
    "focus_burnt_naz_df.insert(loc=5, column='perc_1990', value=round(focus_burnt_naz_df.surface_ha_1990 / focus_burnt_naz_df.sup_com_ha, 4) * 100)\n",
    "focus_burnt_naz_df.insert(loc=6, column='perc_2000', value=round(focus_burnt_naz_df.surface_ha_2000 / focus_burnt_naz_df.sup_com_ha, 4) * 100)\n",
    "focus_burnt_naz_df.insert(loc=7, column='perc_2006', value=round(focus_burnt_naz_df.surface_ha_2006 / focus_burnt_naz_df.sup_com_ha, 4) * 100)\n",
    "focus_burnt_naz_df.insert(loc=8, column='perc_2012', value=round(focus_burnt_naz_df.surface_ha_2012 / focus_burnt_naz_df.sup_com_ha, 4) * 100)\n",
    "focus_burnt_naz_df.insert(loc=9, column='perc_2018', value=round(focus_burnt_naz_df.surface_ha_2018 / focus_burnt_naz_df.sup_com_ha, 4) * 100)\n",
    "focus_burnt_naz_df.insert(loc=10, column='Perc.Diff. | 2018-2000', value=(focus_burnt_naz_df.perc_2018 - focus_burnt_naz_df.perc_2000))\n",
    "focus_burnt_naz_df.sort_values(by=['Perc.Diff. | 2018-2000'], ascending=False, inplace=True)\n",
    "focus_burnt_naz_df"
   ],
   "metadata": {
    "collapsed": false,
    "ExecuteTime": {
     "start_time": "2023-08-19T09:51:34.624829740Z"
    }
   }
  },
  {
   "cell_type": "markdown",
   "source": [
    "### 3.3.5 Aree adibite a discarica"
   ],
   "metadata": {
    "collapsed": false
   }
  },
  {
   "cell_type": "code",
   "execution_count": null,
   "outputs": [],
   "source": [
    "# Dati 1990\n",
    "dump_surface_naz_1990 = focus_naz_1990_group[focus_naz_1990_group['label3'].isin(['Dump sites'])]\n",
    "dump_surface_naz_1990_group = pd.DataFrame(dump_surface_naz_1990.groupby(['pro_com'])['surface_ha_1990'].sum())\n",
    "dump_surface_naz_1990_group.reset_index(inplace=True)\n",
    "\n",
    "# Dati 2000\n",
    "dump_surface_naz_2000 = focus_naz_2000_group[focus_naz_2000_group['label3'].isin(['Dump sites'])]\n",
    "dump_surface_naz_2000_group = pd.DataFrame(dump_surface_naz_2000.groupby(['pro_com'])['surface_ha_2000'].sum())\n",
    "dump_surface_naz_2000_group.reset_index(inplace=True)\n",
    "\n",
    "# Dati 2006\n",
    "dump_surface_naz_2006 = focus_naz_2006_group[focus_naz_2006_group['label3'].isin(['Dump sites'])]\n",
    "dump_surface_naz_2006_group = pd.DataFrame(dump_surface_naz_2006.groupby(['pro_com'])['surface_ha_2006'].sum())\n",
    "dump_surface_naz_2006_group.reset_index(inplace=True)\n",
    "\n",
    "# Dati 2012\n",
    "dump_surface_naz_2012 = focus_naz_2012_group[focus_naz_2012_group['label3'].isin(['Dump sites'])]\n",
    "dump_surface_naz_2012_group = pd.DataFrame(dump_surface_naz_2012.groupby(['pro_com'])['surface_ha_2012'].sum())\n",
    "dump_surface_naz_2012_group.reset_index(inplace=True)\n",
    "\n",
    "# Dati 2018\n",
    "dump_surface_naz_2018 = focus_naz_2018_group[focus_naz_2018_group['label3'].isin(['Dump sites'])]\n",
    "dump_surface_naz_2018_group = pd.DataFrame(dump_surface_naz_2018.groupby(['pro_com', 'comune', 'provincia', 'regione', 'sup_com_ha'])['surface_ha_2018'].sum())\n",
    "dump_surface_naz_2018_group.reset_index(inplace=True)\n",
    "\n",
    "# Dati aggregati\n",
    "focus_dump_naz = [dump_surface_naz_2018_group, dump_surface_naz_2012_group, dump_surface_naz_2006_group, dump_surface_naz_2000_group, dump_surface_naz_1990_group]\n",
    "focus_dump_naz_df = reduce(lambda  left,right: pd.merge(left,right,on=['pro_com'], how='outer'), focus_dump_naz)\n",
    "focus_dump_naz_df = focus_dump_naz_df[focus_dump_naz_df['sup_com_ha'] > 0]\n",
    "focus_dump_naz_df.fillna(0, inplace=True)\n",
    "focus_dump_naz_df.insert(loc=5, column='perc_1990', value=round(focus_dump_naz_df.surface_ha_1990 / focus_dump_naz_df.sup_com_ha, 4) * 100)\n",
    "focus_dump_naz_df.insert(loc=6, column='perc_2000', value=round(focus_dump_naz_df.surface_ha_2000 / focus_dump_naz_df.sup_com_ha, 4) * 100)\n",
    "focus_dump_naz_df.insert(loc=7, column='perc_2006', value=round(focus_dump_naz_df.surface_ha_2006 / focus_dump_naz_df.sup_com_ha, 4) * 100)\n",
    "focus_dump_naz_df.insert(loc=8, column='perc_2012', value=round(focus_dump_naz_df.surface_ha_2012 / focus_dump_naz_df.sup_com_ha, 4) * 100)\n",
    "focus_dump_naz_df.insert(loc=9, column='perc_2018', value=round(focus_dump_naz_df.surface_ha_2018 / focus_dump_naz_df.sup_com_ha, 4) * 100)\n",
    "focus_dump_naz_df.insert(loc=10, column='Perc.Diff. | 2018-2000', value=(focus_dump_naz_df.perc_2018 - focus_dump_naz_df.perc_2000))\n",
    "focus_dump_naz_df.sort_values(by=['Perc.Diff. | 2018-2000'], ascending=False, inplace=True)\n",
    "focus_dump_naz_df"
   ],
   "metadata": {
    "collapsed": false,
    "ExecuteTime": {
     "start_time": "2023-08-19T09:51:34.624924174Z"
    }
   }
  },
  {
   "cell_type": "code",
   "execution_count": null,
   "outputs": [],
   "source": [
    "# Dati 1990\n",
    "green_urban_surface_surface_naz_1990 = focus_naz_1990_group[focus_naz_1990_group['label3'].isin(['Green urban areas'])]\n",
    "green_urban_surface_surface_naz_1990_group = pd.DataFrame(green_urban_surface_surface_naz_1990.groupby(['pro_com'])['surface_ha_1990'].sum())\n",
    "green_urban_surface_surface_naz_1990_group.reset_index(inplace=True)\n",
    "\n",
    "# Dati 2000\n",
    "green_urban_surface_surface_naz_2000 = focus_naz_2000_group[focus_naz_2000_group['label3'].isin(['Green urban areas'])]\n",
    "green_urban_surface_surface_naz_2000_group = pd.DataFrame(green_urban_surface_surface_naz_2000.groupby(['pro_com'])['surface_ha_2000'].sum())\n",
    "green_urban_surface_surface_naz_2000_group.reset_index(inplace=True)\n",
    "\n",
    "# Dati 2006\n",
    "green_urban_surface_surface_naz_2006 = focus_naz_2006_group[focus_naz_2006_group['label3'].isin(['Green urban areas'])]\n",
    "green_urban_surface_surface_naz_2006_group = pd.DataFrame(green_urban_surface_surface_naz_2006.groupby(['pro_com'])['surface_ha_2006'].sum())\n",
    "green_urban_surface_surface_naz_2006_group.reset_index(inplace=True)\n",
    "\n",
    "# Dati 2012\n",
    "green_urban_surface_surface_naz_2012 = focus_naz_2012_group[focus_naz_2012_group['label3'].isin(['Green urban areas'])]\n",
    "green_urban_surface_surface_naz_2012_group = pd.DataFrame(green_urban_surface_surface_naz_2012.groupby(['pro_com'])['surface_ha_2012'].sum())\n",
    "green_urban_surface_surface_naz_2012_group.reset_index(inplace=True)\n",
    "\n",
    "# Dati 2018\n",
    "green_urban_surface_surface_naz_2018 = focus_naz_2018_group[focus_naz_2018_group['label3'].isin(['Green urban areas'])]\n",
    "green_urban_surface_surface_naz_2018_group = pd.DataFrame(green_urban_surface_surface_naz_2018.groupby(['pro_com', 'comune', 'provincia', 'regione', 'sup_com_ha'])['surface_ha_2018'].sum())\n",
    "green_urban_surface_surface_naz_2018_group.reset_index(inplace=True)\n",
    "\n",
    "# Dati aggregati\n",
    "focus_green_urban_surface_naz = [green_urban_surface_surface_naz_2018_group, green_urban_surface_surface_naz_2012_group, green_urban_surface_surface_naz_2006_group, green_urban_surface_surface_naz_2000_group, green_urban_surface_surface_naz_1990_group]\n",
    "focus_green_urban_surface_naz_df = reduce(lambda  left,right: pd.merge(left,right,on=['pro_com'], how='outer'), focus_green_urban_surface_naz)\n",
    "focus_green_urban_surface_naz_df = focus_green_urban_surface_naz_df[focus_green_urban_surface_naz_df['sup_com_ha'] > 0]\n",
    "focus_green_urban_surface_naz_df.fillna(0, inplace=True)\n",
    "focus_green_urban_surface_naz_df.insert(loc=5, column='perc_1990', value=round(focus_green_urban_surface_naz_df.surface_ha_1990 / focus_green_urban_surface_naz_df.sup_com_ha, 4) * 100)\n",
    "focus_green_urban_surface_naz_df.insert(loc=6, column='perc_2000', value=round(focus_green_urban_surface_naz_df.surface_ha_2000 / focus_green_urban_surface_naz_df.sup_com_ha, 4) * 100)\n",
    "focus_green_urban_surface_naz_df.insert(loc=7, column='perc_2006', value=round(focus_green_urban_surface_naz_df.surface_ha_2006 / focus_green_urban_surface_naz_df.sup_com_ha, 4) * 100)\n",
    "focus_green_urban_surface_naz_df.insert(loc=8, column='perc_2012', value=round(focus_green_urban_surface_naz_df.surface_ha_2012 / focus_green_urban_surface_naz_df.sup_com_ha, 4) * 100)\n",
    "focus_green_urban_surface_naz_df.insert(loc=9, column='perc_2018', value=round(focus_green_urban_surface_naz_df.surface_ha_2018 / focus_green_urban_surface_naz_df.sup_com_ha, 4) * 100)\n",
    "focus_green_urban_surface_naz_df.insert(loc=10, column='Perc.Diff. | 2018-2000', value=(focus_green_urban_surface_naz_df.perc_2018 - focus_green_urban_surface_naz_df.perc_2000))\n",
    "focus_green_urban_surface_naz_df.sort_values(by=['Perc.Diff. | 2018-2000'], ascending=False, inplace=True)\n",
    "focus_green_urban_surface_naz_df"
   ],
   "metadata": {
    "collapsed": false,
    "ExecuteTime": {
     "start_time": "2023-08-19T09:51:34.625019898Z"
    }
   }
  },
  {
   "cell_type": "markdown",
   "metadata": {},
   "source": [
    "# Conclusione"
   ]
  },
  {
   "cell_type": "markdown",
   "metadata": {},
   "source": [
    "Sembra abbastanza chiaro che in Italia negli ultimi trenta anni circa si sia preferito sacrificare il paesaggio agricolo e forestale in favore di quello urbano. Si parla molto di [Urban Heat Island](https://www.epa.gov/green-infrastructure/reduce-urban-heat-island-effect#:~:text=%22Urban%20heat%20islands%22%20occur%20when,heat%2Drelated%20illness%20and%20mortality.) e della [riduzione di questi fenomeni](https://www.sciencedirect.com/science/article/pii/S2210670721008301) tipici delle aree urbane. Magari, se si fosse riammodernato il costruito negli ultimi trenta anni al posto di edificare in nuovi luoghi, il fenomeno delle isole urbane di calore ci avrebbe colpito in maniera molto minore di quanto non ci colpisca adesso(e nei prossimi anni!). Avremmo così preservato il nostro patrimonio boschivo ed agricolo rendendo il *Bel Paese* ancora più bello."
   ]
  }
 ],
 "metadata": {
  "kernelspec": {
   "display_name": "Python 3 (ipykernel)",
   "language": "python",
   "name": "python3"
  },
  "language_info": {
   "codemirror_mode": {
    "name": "ipython",
    "version": 3
   },
   "file_extension": ".py",
   "mimetype": "text/x-python",
   "name": "python",
   "nbconvert_exporter": "python",
   "pygments_lexer": "ipython3",
   "version": "3.8.10"
  }
 },
 "nbformat": 4,
 "nbformat_minor": 1
}
